{
 "cells": [
  {
   "cell_type": "markdown",
   "id": "981e3661",
   "metadata": {},
   "source": [
    "# 1 Pakete importieren"
   ]
  },
  {
   "cell_type": "code",
   "execution_count": 1,
   "id": "5578b033",
   "metadata": {},
   "outputs": [],
   "source": [
    "import pandas as pd\n",
    "import numpy as np\n",
    "import matplotlib.pyplot as plt\n",
    "import seaborn as sns\n",
    "from stargazer.stargazer import Stargazer\n",
    "import statsmodels.formula.api as smf \n",
    "import statsmodels.api as sm\n",
    "%matplotlib inline\n",
    "import warnings\n",
    "from scipy.stats import linregress\n",
    "from scipy import stats\n"
   ]
  },
  {
   "cell_type": "markdown",
   "id": "c06fead8",
   "metadata": {},
   "source": [
    "# 2 CSV-Dateien einlesen"
   ]
  },
  {
   "cell_type": "code",
   "execution_count": 2,
   "id": "71da4252",
   "metadata": {},
   "outputs": [],
   "source": [
    "csv_1 = \"data/kunden.csv\"\n",
    "csv_2 = \"data/besucher.csv\""
   ]
  },
  {
   "cell_type": "code",
   "execution_count": 3,
   "id": "a2fba40b",
   "metadata": {},
   "outputs": [],
   "source": [
    "df_1 = pd.read_csv(csv_1, sep = \";\")\n",
    "df_2 = pd.read_csv(csv_2, sep = \";\")"
   ]
  },
  {
   "cell_type": "code",
   "execution_count": 4,
   "id": "241862e0",
   "metadata": {},
   "outputs": [
    {
     "data": {
      "text/html": [
       "<div>\n",
       "<style scoped>\n",
       "    .dataframe tbody tr th:only-of-type {\n",
       "        vertical-align: middle;\n",
       "    }\n",
       "\n",
       "    .dataframe tbody tr th {\n",
       "        vertical-align: top;\n",
       "    }\n",
       "\n",
       "    .dataframe thead th {\n",
       "        text-align: right;\n",
       "    }\n",
       "</style>\n",
       "<table border=\"1\" class=\"dataframe\">\n",
       "  <thead>\n",
       "    <tr style=\"text-align: right;\">\n",
       "      <th></th>\n",
       "      <th>Alter</th>\n",
       "      <th>Einkommen</th>\n",
       "      <th>Preis</th>\n",
       "      <th>Geschlecht</th>\n",
       "      <th>Zeit</th>\n",
       "      <th>KundeNr</th>\n",
       "    </tr>\n",
       "  </thead>\n",
       "  <tbody>\n",
       "    <tr>\n",
       "      <th>0</th>\n",
       "      <td>64</td>\n",
       "      <td>66894.0</td>\n",
       "      <td>88160.31</td>\n",
       "      <td>1.0</td>\n",
       "      <td>43.0</td>\n",
       "      <td>K0310</td>\n",
       "    </tr>\n",
       "    <tr>\n",
       "      <th>1</th>\n",
       "      <td>54</td>\n",
       "      <td>77644.0</td>\n",
       "      <td>103145.70</td>\n",
       "      <td>1.0</td>\n",
       "      <td>40.0</td>\n",
       "      <td>K1042</td>\n",
       "    </tr>\n",
       "    <tr>\n",
       "      <th>2</th>\n",
       "      <td>55</td>\n",
       "      <td>44341.0</td>\n",
       "      <td>80565.16</td>\n",
       "      <td>0.0</td>\n",
       "      <td>37.0</td>\n",
       "      <td>K0382</td>\n",
       "    </tr>\n",
       "    <tr>\n",
       "      <th>3</th>\n",
       "      <td>49</td>\n",
       "      <td>67271.0</td>\n",
       "      <td>83949.89</td>\n",
       "      <td>0.0</td>\n",
       "      <td>42.0</td>\n",
       "      <td>K0498</td>\n",
       "    </tr>\n",
       "    <tr>\n",
       "      <th>4</th>\n",
       "      <td>46</td>\n",
       "      <td>49832.0</td>\n",
       "      <td>93781.58</td>\n",
       "      <td>0.0</td>\n",
       "      <td>41.0</td>\n",
       "      <td>K0552</td>\n",
       "    </tr>\n",
       "    <tr>\n",
       "      <th>...</th>\n",
       "      <td>...</td>\n",
       "      <td>...</td>\n",
       "      <td>...</td>\n",
       "      <td>...</td>\n",
       "      <td>...</td>\n",
       "      <td>...</td>\n",
       "    </tr>\n",
       "    <tr>\n",
       "      <th>1099</th>\n",
       "      <td>70</td>\n",
       "      <td>69581.0</td>\n",
       "      <td>103751.58</td>\n",
       "      <td>1.0</td>\n",
       "      <td>51.0</td>\n",
       "      <td>K0467</td>\n",
       "    </tr>\n",
       "    <tr>\n",
       "      <th>1100</th>\n",
       "      <td>38</td>\n",
       "      <td>48301.0</td>\n",
       "      <td>64230.98</td>\n",
       "      <td>1.0</td>\n",
       "      <td>33.0</td>\n",
       "      <td>K0122</td>\n",
       "    </tr>\n",
       "    <tr>\n",
       "      <th>1101</th>\n",
       "      <td>67</td>\n",
       "      <td>63547.0</td>\n",
       "      <td>103123.57</td>\n",
       "      <td>1.0</td>\n",
       "      <td>41.0</td>\n",
       "      <td>K1045</td>\n",
       "    </tr>\n",
       "    <tr>\n",
       "      <th>1102</th>\n",
       "      <td>37</td>\n",
       "      <td>32686.0</td>\n",
       "      <td>49215.87</td>\n",
       "      <td>1.0</td>\n",
       "      <td>36.0</td>\n",
       "      <td>K1096</td>\n",
       "    </tr>\n",
       "    <tr>\n",
       "      <th>1103</th>\n",
       "      <td>55</td>\n",
       "      <td>71240.0</td>\n",
       "      <td>106132.59</td>\n",
       "      <td>1.0</td>\n",
       "      <td>49.0</td>\n",
       "      <td>K0861</td>\n",
       "    </tr>\n",
       "  </tbody>\n",
       "</table>\n",
       "<p>1104 rows × 6 columns</p>\n",
       "</div>"
      ],
      "text/plain": [
       "      Alter  Einkommen      Preis  Geschlecht  Zeit KundeNr\n",
       "0        64    66894.0   88160.31         1.0  43.0   K0310\n",
       "1        54    77644.0  103145.70         1.0  40.0   K1042\n",
       "2        55    44341.0   80565.16         0.0  37.0   K0382\n",
       "3        49    67271.0   83949.89         0.0  42.0   K0498\n",
       "4        46    49832.0   93781.58         0.0  41.0   K0552\n",
       "...     ...        ...        ...         ...   ...     ...\n",
       "1099     70    69581.0  103751.58         1.0  51.0   K0467\n",
       "1100     38    48301.0   64230.98         1.0  33.0   K0122\n",
       "1101     67    63547.0  103123.57         1.0  41.0   K1045\n",
       "1102     37    32686.0   49215.87         1.0  36.0   K1096\n",
       "1103     55    71240.0  106132.59         1.0  49.0   K0861\n",
       "\n",
       "[1104 rows x 6 columns]"
      ]
     },
     "execution_count": 4,
     "metadata": {},
     "output_type": "execute_result"
    }
   ],
   "source": [
    "df_1"
   ]
  },
  {
   "cell_type": "code",
   "execution_count": 5,
   "id": "2235cc48",
   "metadata": {},
   "outputs": [
    {
     "data": {
      "text/html": [
       "<div>\n",
       "<style scoped>\n",
       "    .dataframe tbody tr th:only-of-type {\n",
       "        vertical-align: middle;\n",
       "    }\n",
       "\n",
       "    .dataframe tbody tr th {\n",
       "        vertical-align: top;\n",
       "    }\n",
       "\n",
       "    .dataframe thead th {\n",
       "        text-align: right;\n",
       "    }\n",
       "</style>\n",
       "<table border=\"1\" class=\"dataframe\">\n",
       "  <thead>\n",
       "    <tr style=\"text-align: right;\">\n",
       "      <th></th>\n",
       "      <th>Alter</th>\n",
       "      <th>Einkommen</th>\n",
       "      <th>Geschlecht</th>\n",
       "      <th>Zeit</th>\n",
       "      <th>KundeNr</th>\n",
       "    </tr>\n",
       "  </thead>\n",
       "  <tbody>\n",
       "    <tr>\n",
       "      <th>0</th>\n",
       "      <td>30</td>\n",
       "      <td>39919,0953348874</td>\n",
       "      <td>0</td>\n",
       "      <td>29,0</td>\n",
       "      <td>K1814</td>\n",
       "    </tr>\n",
       "    <tr>\n",
       "      <th>1</th>\n",
       "      <td>41</td>\n",
       "      <td>53430,67308587748</td>\n",
       "      <td>0</td>\n",
       "      <td>27,0</td>\n",
       "      <td>K1544</td>\n",
       "    </tr>\n",
       "    <tr>\n",
       "      <th>2</th>\n",
       "      <td>64</td>\n",
       "      <td>73163,2169267002</td>\n",
       "      <td>0</td>\n",
       "      <td>32,0</td>\n",
       "      <td>K1945</td>\n",
       "    </tr>\n",
       "    <tr>\n",
       "      <th>3</th>\n",
       "      <td>41</td>\n",
       "      <td>36761,482581315344</td>\n",
       "      <td>0</td>\n",
       "      <td>44,0</td>\n",
       "      <td>K1825</td>\n",
       "    </tr>\n",
       "    <tr>\n",
       "      <th>4</th>\n",
       "      <td>35</td>\n",
       "      <td>42684,33163178136</td>\n",
       "      <td>1</td>\n",
       "      <td>33,0</td>\n",
       "      <td>K1144</td>\n",
       "    </tr>\n",
       "    <tr>\n",
       "      <th>...</th>\n",
       "      <td>...</td>\n",
       "      <td>...</td>\n",
       "      <td>...</td>\n",
       "      <td>...</td>\n",
       "      <td>...</td>\n",
       "    </tr>\n",
       "    <tr>\n",
       "      <th>886</th>\n",
       "      <td>32</td>\n",
       "      <td>34391,82496545645</td>\n",
       "      <td>1</td>\n",
       "      <td>48,0</td>\n",
       "      <td>K1211</td>\n",
       "    </tr>\n",
       "    <tr>\n",
       "      <th>887</th>\n",
       "      <td>41</td>\n",
       "      <td>68516,49543941053</td>\n",
       "      <td>0</td>\n",
       "      <td>34,0</td>\n",
       "      <td>K1375</td>\n",
       "    </tr>\n",
       "    <tr>\n",
       "      <th>888</th>\n",
       "      <td>65</td>\n",
       "      <td>89685,33344089528</td>\n",
       "      <td>0</td>\n",
       "      <td>23,0</td>\n",
       "      <td>K1965</td>\n",
       "    </tr>\n",
       "    <tr>\n",
       "      <th>889</th>\n",
       "      <td>68</td>\n",
       "      <td>95714,30526812703</td>\n",
       "      <td>0</td>\n",
       "      <td>32,0</td>\n",
       "      <td>K1540</td>\n",
       "    </tr>\n",
       "    <tr>\n",
       "      <th>890</th>\n",
       "      <td>49</td>\n",
       "      <td>73319,1870845747</td>\n",
       "      <td>0</td>\n",
       "      <td>27,0</td>\n",
       "      <td>K1207</td>\n",
       "    </tr>\n",
       "  </tbody>\n",
       "</table>\n",
       "<p>891 rows × 5 columns</p>\n",
       "</div>"
      ],
      "text/plain": [
       "     Alter           Einkommen  Geschlecht  Zeit KundeNr\n",
       "0       30    39919,0953348874           0  29,0   K1814\n",
       "1       41   53430,67308587748           0  27,0   K1544\n",
       "2       64    73163,2169267002           0  32,0   K1945\n",
       "3       41  36761,482581315344           0  44,0   K1825\n",
       "4       35   42684,33163178136           1  33,0   K1144\n",
       "..     ...                 ...         ...   ...     ...\n",
       "886     32   34391,82496545645           1  48,0   K1211\n",
       "887     41   68516,49543941053           0  34,0   K1375\n",
       "888     65   89685,33344089528           0  23,0   K1965\n",
       "889     68   95714,30526812703           0  32,0   K1540\n",
       "890     49    73319,1870845747           0  27,0   K1207\n",
       "\n",
       "[891 rows x 5 columns]"
      ]
     },
     "execution_count": 5,
     "metadata": {},
     "output_type": "execute_result"
    }
   ],
   "source": [
    "df_2"
   ]
  },
  {
   "cell_type": "markdown",
   "id": "fbe57797",
   "metadata": {},
   "source": [
    "# 3 Überblick über die Datentypen verschaffen"
   ]
  },
  {
   "cell_type": "code",
   "execution_count": 6,
   "id": "eead2976",
   "metadata": {},
   "outputs": [
    {
     "data": {
      "text/plain": [
       "Alter           int64\n",
       "Einkommen     float64\n",
       "Preis         float64\n",
       "Geschlecht    float64\n",
       "Zeit          float64\n",
       "KundeNr        object\n",
       "dtype: object"
      ]
     },
     "execution_count": 6,
     "metadata": {},
     "output_type": "execute_result"
    }
   ],
   "source": [
    "df_1.dtypes"
   ]
  },
  {
   "cell_type": "code",
   "execution_count": 7,
   "id": "e50527a2",
   "metadata": {
    "scrolled": false
   },
   "outputs": [
    {
     "data": {
      "text/plain": [
       "Alter          int64\n",
       "Einkommen     object\n",
       "Geschlecht     int64\n",
       "Zeit          object\n",
       "KundeNr       object\n",
       "dtype: object"
      ]
     },
     "execution_count": 7,
     "metadata": {},
     "output_type": "execute_result"
    }
   ],
   "source": [
    "df_2.dtypes"
   ]
  },
  {
   "cell_type": "markdown",
   "id": "723cf1b2",
   "metadata": {},
   "source": [
    "Zu ändern sind später: Einkommen --> float; Geschlecht --> int; Zeit --> float"
   ]
  },
  {
   "cell_type": "markdown",
   "id": "78056d60",
   "metadata": {},
   "source": [
    "# 4.1 df_1 Geschlecht"
   ]
  },
  {
   "cell_type": "code",
   "execution_count": 8,
   "id": "b9bd8ad5",
   "metadata": {},
   "outputs": [
    {
     "data": {
      "text/plain": [
       "Alter         0\n",
       "Einkommen     0\n",
       "Preis         0\n",
       "Geschlecht    5\n",
       "Zeit          0\n",
       "KundeNr       0\n",
       "dtype: int64"
      ]
     },
     "execution_count": 8,
     "metadata": {},
     "output_type": "execute_result"
    }
   ],
   "source": [
    "df_1.isnull().sum()"
   ]
  },
  {
   "cell_type": "code",
   "execution_count": 9,
   "id": "480c0546",
   "metadata": {
    "scrolled": true
   },
   "outputs": [
    {
     "data": {
      "text/plain": [
       "Alter         0\n",
       "Einkommen     0\n",
       "Preis         0\n",
       "Geschlecht    0\n",
       "Zeit          0\n",
       "KundeNr       0\n",
       "dtype: int64"
      ]
     },
     "execution_count": 9,
     "metadata": {},
     "output_type": "execute_result"
    }
   ],
   "source": [
    "df_1[\"Geschlecht\"] = df_1[\"Geschlecht\"].fillna(1) # Für 1 (Männlich) entschieden, da die meisten Ausprägungen 1 waren\n",
    "df_1.isna().sum()"
   ]
  },
  {
   "cell_type": "markdown",
   "id": "f9205e77",
   "metadata": {},
   "source": [
    "# df_1 Einkommen"
   ]
  },
  {
   "cell_type": "code",
   "execution_count": 10,
   "id": "b0542bfb",
   "metadata": {},
   "outputs": [
    {
     "data": {
      "text/plain": [
       "964474.8175955408"
      ]
     },
     "execution_count": 10,
     "metadata": {},
     "output_type": "execute_result"
    }
   ],
   "source": [
    "df_1[\"Einkommen\"].mean()"
   ]
  },
  {
   "cell_type": "code",
   "execution_count": 11,
   "id": "5225483f",
   "metadata": {},
   "outputs": [],
   "source": [
    "Q1 = df_1[\"Einkommen\"].quantile(0.25)\n",
    "Q3 = df_1[\"Einkommen\"].quantile(0.75)\n",
    "IQR = Q3 - Q1"
   ]
  },
  {
   "cell_type": "code",
   "execution_count": 12,
   "id": "91dd6b79",
   "metadata": {},
   "outputs": [
    {
     "data": {
      "text/plain": [
       "46638.5"
      ]
     },
     "execution_count": 12,
     "metadata": {},
     "output_type": "execute_result"
    }
   ],
   "source": [
    "Q1"
   ]
  },
  {
   "cell_type": "code",
   "execution_count": 13,
   "id": "10a41c83",
   "metadata": {},
   "outputs": [
    {
     "data": {
      "text/plain": [
       "70298.0"
      ]
     },
     "execution_count": 13,
     "metadata": {},
     "output_type": "execute_result"
    }
   ],
   "source": [
    "Q3"
   ]
  },
  {
   "cell_type": "code",
   "execution_count": 14,
   "id": "18c50c1c",
   "metadata": {},
   "outputs": [
    {
     "data": {
      "text/plain": [
       "23659.5"
      ]
     },
     "execution_count": 14,
     "metadata": {},
     "output_type": "execute_result"
    }
   ],
   "source": [
    "IQR"
   ]
  },
  {
   "cell_type": "code",
   "execution_count": 15,
   "id": "92d1c473",
   "metadata": {},
   "outputs": [
    {
     "data": {
      "text/plain": [
       "59013.0"
      ]
     },
     "execution_count": 15,
     "metadata": {},
     "output_type": "execute_result"
    }
   ],
   "source": [
    "median_einkommen = df_1[\"Einkommen\"].median()\n",
    "median_einkommen"
   ]
  },
  {
   "cell_type": "code",
   "execution_count": 16,
   "id": "0968ba8e",
   "metadata": {},
   "outputs": [],
   "source": [
    "df_1[\"Einkommen\"] = df_1[\"Einkommen\"].apply(lambda x: median_einkommen if x <= 0 or x >= 1000000 else x)"
   ]
  },
  {
   "cell_type": "code",
   "execution_count": 17,
   "id": "474a004e",
   "metadata": {},
   "outputs": [
    {
     "data": {
      "text/html": [
       "<div>\n",
       "<style scoped>\n",
       "    .dataframe tbody tr th:only-of-type {\n",
       "        vertical-align: middle;\n",
       "    }\n",
       "\n",
       "    .dataframe tbody tr th {\n",
       "        vertical-align: top;\n",
       "    }\n",
       "\n",
       "    .dataframe thead th {\n",
       "        text-align: right;\n",
       "    }\n",
       "</style>\n",
       "<table border=\"1\" class=\"dataframe\">\n",
       "  <thead>\n",
       "    <tr style=\"text-align: right;\">\n",
       "      <th></th>\n",
       "      <th>Alter</th>\n",
       "      <th>Einkommen</th>\n",
       "      <th>Preis</th>\n",
       "      <th>Geschlecht</th>\n",
       "      <th>Zeit</th>\n",
       "    </tr>\n",
       "  </thead>\n",
       "  <tbody>\n",
       "    <tr>\n",
       "      <th>count</th>\n",
       "      <td>1104.000000</td>\n",
       "      <td>1104.000000</td>\n",
       "      <td>1104.000000</td>\n",
       "      <td>1104.000000</td>\n",
       "      <td>1104.000000</td>\n",
       "    </tr>\n",
       "    <tr>\n",
       "      <th>mean</th>\n",
       "      <td>50.481884</td>\n",
       "      <td>58894.998188</td>\n",
       "      <td>88975.198714</td>\n",
       "      <td>0.639493</td>\n",
       "      <td>44.375906</td>\n",
       "    </tr>\n",
       "    <tr>\n",
       "      <th>std</th>\n",
       "      <td>12.225059</td>\n",
       "      <td>16509.072600</td>\n",
       "      <td>24464.067781</td>\n",
       "      <td>0.480365</td>\n",
       "      <td>10.848040</td>\n",
       "    </tr>\n",
       "    <tr>\n",
       "      <th>min</th>\n",
       "      <td>30.000000</td>\n",
       "      <td>14547.000000</td>\n",
       "      <td>21471.650000</td>\n",
       "      <td>0.000000</td>\n",
       "      <td>12.000000</td>\n",
       "    </tr>\n",
       "    <tr>\n",
       "      <th>25%</th>\n",
       "      <td>40.000000</td>\n",
       "      <td>46697.000000</td>\n",
       "      <td>70609.422500</td>\n",
       "      <td>0.000000</td>\n",
       "      <td>37.000000</td>\n",
       "    </tr>\n",
       "    <tr>\n",
       "      <th>50%</th>\n",
       "      <td>51.000000</td>\n",
       "      <td>59013.000000</td>\n",
       "      <td>88931.455000</td>\n",
       "      <td>1.000000</td>\n",
       "      <td>44.000000</td>\n",
       "    </tr>\n",
       "    <tr>\n",
       "      <th>75%</th>\n",
       "      <td>61.000000</td>\n",
       "      <td>70281.750000</td>\n",
       "      <td>107093.375000</td>\n",
       "      <td>1.000000</td>\n",
       "      <td>52.000000</td>\n",
       "    </tr>\n",
       "    <tr>\n",
       "      <th>max</th>\n",
       "      <td>120.000000</td>\n",
       "      <td>107689.000000</td>\n",
       "      <td>165482.310000</td>\n",
       "      <td>1.000000</td>\n",
       "      <td>80.000000</td>\n",
       "    </tr>\n",
       "  </tbody>\n",
       "</table>\n",
       "</div>"
      ],
      "text/plain": [
       "             Alter      Einkommen          Preis   Geschlecht         Zeit\n",
       "count  1104.000000    1104.000000    1104.000000  1104.000000  1104.000000\n",
       "mean     50.481884   58894.998188   88975.198714     0.639493    44.375906\n",
       "std      12.225059   16509.072600   24464.067781     0.480365    10.848040\n",
       "min      30.000000   14547.000000   21471.650000     0.000000    12.000000\n",
       "25%      40.000000   46697.000000   70609.422500     0.000000    37.000000\n",
       "50%      51.000000   59013.000000   88931.455000     1.000000    44.000000\n",
       "75%      61.000000   70281.750000  107093.375000     1.000000    52.000000\n",
       "max     120.000000  107689.000000  165482.310000     1.000000    80.000000"
      ]
     },
     "execution_count": 17,
     "metadata": {},
     "output_type": "execute_result"
    }
   ],
   "source": [
    "df_1.describe()"
   ]
  },
  {
   "cell_type": "markdown",
   "id": "4a148621",
   "metadata": {},
   "source": [
    "# df_1 Alter "
   ]
  },
  {
   "cell_type": "code",
   "execution_count": 18,
   "id": "f6b190d9",
   "metadata": {},
   "outputs": [
    {
     "data": {
      "text/plain": [
       "Alter\n",
       "55     41\n",
       "62     39\n",
       "57     34\n",
       "66     33\n",
       "64     32\n",
       "30     32\n",
       "34     31\n",
       "69     30\n",
       "37     30\n",
       "31     30\n",
       "52     29\n",
       "54     29\n",
       "58     29\n",
       "65     29\n",
       "53     29\n",
       "61     29\n",
       "68     29\n",
       "59     28\n",
       "35     27\n",
       "51     27\n",
       "41     26\n",
       "40     26\n",
       "43     26\n",
       "32     26\n",
       "46     26\n",
       "39     24\n",
       "48     24\n",
       "38     24\n",
       "33     24\n",
       "44     23\n",
       "50     23\n",
       "67     23\n",
       "42     22\n",
       "70     22\n",
       "56     22\n",
       "45     22\n",
       "49     22\n",
       "63     21\n",
       "60     20\n",
       "47     20\n",
       "36     19\n",
       "100     1\n",
       "120     1\n",
       "Name: count, dtype: int64"
      ]
     },
     "execution_count": 18,
     "metadata": {},
     "output_type": "execute_result"
    }
   ],
   "source": [
    "df_1[\"Alter\"].value_counts()"
   ]
  },
  {
   "cell_type": "code",
   "execution_count": 19,
   "id": "fb645240",
   "metadata": {},
   "outputs": [
    {
     "data": {
      "text/plain": [
       "55"
      ]
     },
     "execution_count": 19,
     "metadata": {},
     "output_type": "execute_result"
    }
   ],
   "source": [
    "modalwert_alter = df_1[\"Alter\"].mode()[0]\n",
    "modalwert_alter"
   ]
  },
  {
   "cell_type": "code",
   "execution_count": 20,
   "id": "89e8a58d",
   "metadata": {},
   "outputs": [],
   "source": [
    "anzahl_personen_ueber_70 = len(df_1[df_1[\"Alter\"] > 70])"
   ]
  },
  {
   "cell_type": "code",
   "execution_count": 21,
   "id": "edeca467",
   "metadata": {},
   "outputs": [
    {
     "data": {
      "text/plain": [
       "2"
      ]
     },
     "execution_count": 21,
     "metadata": {},
     "output_type": "execute_result"
    }
   ],
   "source": [
    "anzahl_personen_ueber_70"
   ]
  },
  {
   "cell_type": "code",
   "execution_count": 22,
   "id": "71602204",
   "metadata": {},
   "outputs": [],
   "source": [
    "df_1[\"Alter\"] = df_1[\"Alter\"].apply(lambda x: modalwert_alter if x >= 100 else x)"
   ]
  },
  {
   "cell_type": "code",
   "execution_count": 23,
   "id": "aedd4ca3",
   "metadata": {},
   "outputs": [
    {
     "data": {
      "text/html": [
       "<div>\n",
       "<style scoped>\n",
       "    .dataframe tbody tr th:only-of-type {\n",
       "        vertical-align: middle;\n",
       "    }\n",
       "\n",
       "    .dataframe tbody tr th {\n",
       "        vertical-align: top;\n",
       "    }\n",
       "\n",
       "    .dataframe thead th {\n",
       "        text-align: right;\n",
       "    }\n",
       "</style>\n",
       "<table border=\"1\" class=\"dataframe\">\n",
       "  <thead>\n",
       "    <tr style=\"text-align: right;\">\n",
       "      <th></th>\n",
       "      <th>Alter</th>\n",
       "      <th>Einkommen</th>\n",
       "      <th>Preis</th>\n",
       "      <th>Geschlecht</th>\n",
       "      <th>Zeit</th>\n",
       "    </tr>\n",
       "  </thead>\n",
       "  <tbody>\n",
       "    <tr>\n",
       "      <th>count</th>\n",
       "      <td>1104.000000</td>\n",
       "      <td>1104.000000</td>\n",
       "      <td>1104.000000</td>\n",
       "      <td>1104.000000</td>\n",
       "      <td>1104.000000</td>\n",
       "    </tr>\n",
       "    <tr>\n",
       "      <th>mean</th>\n",
       "      <td>50.382246</td>\n",
       "      <td>58894.998188</td>\n",
       "      <td>88975.198714</td>\n",
       "      <td>0.639493</td>\n",
       "      <td>44.375906</td>\n",
       "    </tr>\n",
       "    <tr>\n",
       "      <th>std</th>\n",
       "      <td>11.953017</td>\n",
       "      <td>16509.072600</td>\n",
       "      <td>24464.067781</td>\n",
       "      <td>0.480365</td>\n",
       "      <td>10.848040</td>\n",
       "    </tr>\n",
       "    <tr>\n",
       "      <th>min</th>\n",
       "      <td>30.000000</td>\n",
       "      <td>14547.000000</td>\n",
       "      <td>21471.650000</td>\n",
       "      <td>0.000000</td>\n",
       "      <td>12.000000</td>\n",
       "    </tr>\n",
       "    <tr>\n",
       "      <th>25%</th>\n",
       "      <td>40.000000</td>\n",
       "      <td>46697.000000</td>\n",
       "      <td>70609.422500</td>\n",
       "      <td>0.000000</td>\n",
       "      <td>37.000000</td>\n",
       "    </tr>\n",
       "    <tr>\n",
       "      <th>50%</th>\n",
       "      <td>51.000000</td>\n",
       "      <td>59013.000000</td>\n",
       "      <td>88931.455000</td>\n",
       "      <td>1.000000</td>\n",
       "      <td>44.000000</td>\n",
       "    </tr>\n",
       "    <tr>\n",
       "      <th>75%</th>\n",
       "      <td>61.000000</td>\n",
       "      <td>70281.750000</td>\n",
       "      <td>107093.375000</td>\n",
       "      <td>1.000000</td>\n",
       "      <td>52.000000</td>\n",
       "    </tr>\n",
       "    <tr>\n",
       "      <th>max</th>\n",
       "      <td>70.000000</td>\n",
       "      <td>107689.000000</td>\n",
       "      <td>165482.310000</td>\n",
       "      <td>1.000000</td>\n",
       "      <td>80.000000</td>\n",
       "    </tr>\n",
       "  </tbody>\n",
       "</table>\n",
       "</div>"
      ],
      "text/plain": [
       "             Alter      Einkommen          Preis   Geschlecht         Zeit\n",
       "count  1104.000000    1104.000000    1104.000000  1104.000000  1104.000000\n",
       "mean     50.382246   58894.998188   88975.198714     0.639493    44.375906\n",
       "std      11.953017   16509.072600   24464.067781     0.480365    10.848040\n",
       "min      30.000000   14547.000000   21471.650000     0.000000    12.000000\n",
       "25%      40.000000   46697.000000   70609.422500     0.000000    37.000000\n",
       "50%      51.000000   59013.000000   88931.455000     1.000000    44.000000\n",
       "75%      61.000000   70281.750000  107093.375000     1.000000    52.000000\n",
       "max      70.000000  107689.000000  165482.310000     1.000000    80.000000"
      ]
     },
     "execution_count": 23,
     "metadata": {},
     "output_type": "execute_result"
    }
   ],
   "source": [
    "df_1.describe()"
   ]
  },
  {
   "cell_type": "markdown",
   "id": "0b32ce0c",
   "metadata": {},
   "source": [
    "# 4.2 df_1 Daten umformen"
   ]
  },
  {
   "cell_type": "code",
   "execution_count": 24,
   "id": "1be29996",
   "metadata": {},
   "outputs": [],
   "source": [
    "df_1[\"Geschlecht\"] = df_1[\"Geschlecht\"].astype(\"int64\")"
   ]
  },
  {
   "cell_type": "code",
   "execution_count": 25,
   "id": "474e682e",
   "metadata": {},
   "outputs": [
    {
     "data": {
      "text/plain": [
       "Alter           int64\n",
       "Einkommen     float64\n",
       "Preis         float64\n",
       "Geschlecht      int64\n",
       "Zeit          float64\n",
       "KundeNr        object\n",
       "dtype: object"
      ]
     },
     "execution_count": 25,
     "metadata": {},
     "output_type": "execute_result"
    }
   ],
   "source": [
    "df_1.dtypes"
   ]
  },
  {
   "cell_type": "code",
   "execution_count": 26,
   "id": "249c648a",
   "metadata": {},
   "outputs": [
    {
     "data": {
      "text/html": [
       "<div>\n",
       "<style scoped>\n",
       "    .dataframe tbody tr th:only-of-type {\n",
       "        vertical-align: middle;\n",
       "    }\n",
       "\n",
       "    .dataframe tbody tr th {\n",
       "        vertical-align: top;\n",
       "    }\n",
       "\n",
       "    .dataframe thead th {\n",
       "        text-align: right;\n",
       "    }\n",
       "</style>\n",
       "<table border=\"1\" class=\"dataframe\">\n",
       "  <thead>\n",
       "    <tr style=\"text-align: right;\">\n",
       "      <th></th>\n",
       "      <th>Alter</th>\n",
       "      <th>Einkommen</th>\n",
       "      <th>Preis</th>\n",
       "      <th>Geschlecht</th>\n",
       "      <th>Zeit</th>\n",
       "    </tr>\n",
       "  </thead>\n",
       "  <tbody>\n",
       "    <tr>\n",
       "      <th>count</th>\n",
       "      <td>1104.000000</td>\n",
       "      <td>1104.000000</td>\n",
       "      <td>1104.000000</td>\n",
       "      <td>1104.000000</td>\n",
       "      <td>1104.000000</td>\n",
       "    </tr>\n",
       "    <tr>\n",
       "      <th>mean</th>\n",
       "      <td>50.382246</td>\n",
       "      <td>58894.998188</td>\n",
       "      <td>88975.198714</td>\n",
       "      <td>0.639493</td>\n",
       "      <td>44.375906</td>\n",
       "    </tr>\n",
       "    <tr>\n",
       "      <th>std</th>\n",
       "      <td>11.953017</td>\n",
       "      <td>16509.072600</td>\n",
       "      <td>24464.067781</td>\n",
       "      <td>0.480365</td>\n",
       "      <td>10.848040</td>\n",
       "    </tr>\n",
       "    <tr>\n",
       "      <th>min</th>\n",
       "      <td>30.000000</td>\n",
       "      <td>14547.000000</td>\n",
       "      <td>21471.650000</td>\n",
       "      <td>0.000000</td>\n",
       "      <td>12.000000</td>\n",
       "    </tr>\n",
       "    <tr>\n",
       "      <th>25%</th>\n",
       "      <td>40.000000</td>\n",
       "      <td>46697.000000</td>\n",
       "      <td>70609.422500</td>\n",
       "      <td>0.000000</td>\n",
       "      <td>37.000000</td>\n",
       "    </tr>\n",
       "    <tr>\n",
       "      <th>50%</th>\n",
       "      <td>51.000000</td>\n",
       "      <td>59013.000000</td>\n",
       "      <td>88931.455000</td>\n",
       "      <td>1.000000</td>\n",
       "      <td>44.000000</td>\n",
       "    </tr>\n",
       "    <tr>\n",
       "      <th>75%</th>\n",
       "      <td>61.000000</td>\n",
       "      <td>70281.750000</td>\n",
       "      <td>107093.375000</td>\n",
       "      <td>1.000000</td>\n",
       "      <td>52.000000</td>\n",
       "    </tr>\n",
       "    <tr>\n",
       "      <th>max</th>\n",
       "      <td>70.000000</td>\n",
       "      <td>107689.000000</td>\n",
       "      <td>165482.310000</td>\n",
       "      <td>1.000000</td>\n",
       "      <td>80.000000</td>\n",
       "    </tr>\n",
       "  </tbody>\n",
       "</table>\n",
       "</div>"
      ],
      "text/plain": [
       "             Alter      Einkommen          Preis   Geschlecht         Zeit\n",
       "count  1104.000000    1104.000000    1104.000000  1104.000000  1104.000000\n",
       "mean     50.382246   58894.998188   88975.198714     0.639493    44.375906\n",
       "std      11.953017   16509.072600   24464.067781     0.480365    10.848040\n",
       "min      30.000000   14547.000000   21471.650000     0.000000    12.000000\n",
       "25%      40.000000   46697.000000   70609.422500     0.000000    37.000000\n",
       "50%      51.000000   59013.000000   88931.455000     1.000000    44.000000\n",
       "75%      61.000000   70281.750000  107093.375000     1.000000    52.000000\n",
       "max      70.000000  107689.000000  165482.310000     1.000000    80.000000"
      ]
     },
     "execution_count": 26,
     "metadata": {},
     "output_type": "execute_result"
    }
   ],
   "source": [
    "df_1.describe()"
   ]
  },
  {
   "cell_type": "markdown",
   "id": "c8e61406",
   "metadata": {},
   "source": [
    "# 5  df_2 Daten umformen"
   ]
  },
  {
   "cell_type": "code",
   "execution_count": 27,
   "id": "a1b8227b",
   "metadata": {},
   "outputs": [],
   "source": [
    "df_2[\"Einkommen\"] = pd.to_numeric(df_2[\"Einkommen\"].str.replace(',', '.'), errors=\"coerce\")"
   ]
  },
  {
   "cell_type": "code",
   "execution_count": 28,
   "id": "cbdfcd2e",
   "metadata": {},
   "outputs": [],
   "source": [
    "df_2[\"Zeit\"] = pd.to_numeric(df_2[\"Zeit\"].str.replace(',', '.'), errors=\"coerce\")"
   ]
  },
  {
   "cell_type": "code",
   "execution_count": 29,
   "id": "90832348",
   "metadata": {},
   "outputs": [
    {
     "data": {
      "text/plain": [
       "Alter           int64\n",
       "Einkommen     float64\n",
       "Geschlecht      int64\n",
       "Zeit          float64\n",
       "KundeNr        object\n",
       "dtype: object"
      ]
     },
     "execution_count": 29,
     "metadata": {},
     "output_type": "execute_result"
    }
   ],
   "source": [
    "df_2.dtypes"
   ]
  },
  {
   "cell_type": "code",
   "execution_count": 30,
   "id": "346f0604",
   "metadata": {},
   "outputs": [
    {
     "data": {
      "text/html": [
       "<div>\n",
       "<style scoped>\n",
       "    .dataframe tbody tr th:only-of-type {\n",
       "        vertical-align: middle;\n",
       "    }\n",
       "\n",
       "    .dataframe tbody tr th {\n",
       "        vertical-align: top;\n",
       "    }\n",
       "\n",
       "    .dataframe thead th {\n",
       "        text-align: right;\n",
       "    }\n",
       "</style>\n",
       "<table border=\"1\" class=\"dataframe\">\n",
       "  <thead>\n",
       "    <tr style=\"text-align: right;\">\n",
       "      <th></th>\n",
       "      <th>Alter</th>\n",
       "      <th>Einkommen</th>\n",
       "      <th>Geschlecht</th>\n",
       "      <th>Zeit</th>\n",
       "    </tr>\n",
       "  </thead>\n",
       "  <tbody>\n",
       "    <tr>\n",
       "      <th>count</th>\n",
       "      <td>891.000000</td>\n",
       "      <td>891.000000</td>\n",
       "      <td>891.000000</td>\n",
       "      <td>891.000000</td>\n",
       "    </tr>\n",
       "    <tr>\n",
       "      <th>mean</th>\n",
       "      <td>49.881033</td>\n",
       "      <td>59367.936188</td>\n",
       "      <td>0.578002</td>\n",
       "      <td>35.166105</td>\n",
       "    </tr>\n",
       "    <tr>\n",
       "      <th>std</th>\n",
       "      <td>11.865889</td>\n",
       "      <td>16164.358221</td>\n",
       "      <td>0.494156</td>\n",
       "      <td>10.476802</td>\n",
       "    </tr>\n",
       "    <tr>\n",
       "      <th>min</th>\n",
       "      <td>30.000000</td>\n",
       "      <td>10802.033307</td>\n",
       "      <td>0.000000</td>\n",
       "      <td>3.000000</td>\n",
       "    </tr>\n",
       "    <tr>\n",
       "      <th>25%</th>\n",
       "      <td>40.000000</td>\n",
       "      <td>47816.611417</td>\n",
       "      <td>0.000000</td>\n",
       "      <td>28.000000</td>\n",
       "    </tr>\n",
       "    <tr>\n",
       "      <th>50%</th>\n",
       "      <td>49.000000</td>\n",
       "      <td>59163.823681</td>\n",
       "      <td>1.000000</td>\n",
       "      <td>35.000000</td>\n",
       "    </tr>\n",
       "    <tr>\n",
       "      <th>75%</th>\n",
       "      <td>60.000000</td>\n",
       "      <td>71001.378839</td>\n",
       "      <td>1.000000</td>\n",
       "      <td>43.000000</td>\n",
       "    </tr>\n",
       "    <tr>\n",
       "      <th>max</th>\n",
       "      <td>70.000000</td>\n",
       "      <td>108569.087021</td>\n",
       "      <td>1.000000</td>\n",
       "      <td>68.000000</td>\n",
       "    </tr>\n",
       "  </tbody>\n",
       "</table>\n",
       "</div>"
      ],
      "text/plain": [
       "            Alter      Einkommen  Geschlecht        Zeit\n",
       "count  891.000000     891.000000  891.000000  891.000000\n",
       "mean    49.881033   59367.936188    0.578002   35.166105\n",
       "std     11.865889   16164.358221    0.494156   10.476802\n",
       "min     30.000000   10802.033307    0.000000    3.000000\n",
       "25%     40.000000   47816.611417    0.000000   28.000000\n",
       "50%     49.000000   59163.823681    1.000000   35.000000\n",
       "75%     60.000000   71001.378839    1.000000   43.000000\n",
       "max     70.000000  108569.087021    1.000000   68.000000"
      ]
     },
     "execution_count": 30,
     "metadata": {},
     "output_type": "execute_result"
    }
   ],
   "source": [
    "df_2.describe()"
   ]
  },
  {
   "cell_type": "markdown",
   "id": "8b988faf",
   "metadata": {},
   "source": [
    "# 6 Zusammenfügen von df_1 und df_2 zu df_3"
   ]
  },
  {
   "cell_type": "code",
   "execution_count": 31,
   "id": "6d376fbf",
   "metadata": {},
   "outputs": [],
   "source": [
    "df_3 = pd.concat([df_1, df_2],\n",
    "                axis = 0, # Über die Zeilen zusammenfügen\n",
    "                ignore_index = True)"
   ]
  },
  {
   "cell_type": "code",
   "execution_count": 32,
   "id": "493fca54",
   "metadata": {},
   "outputs": [
    {
     "data": {
      "text/html": [
       "<div>\n",
       "<style scoped>\n",
       "    .dataframe tbody tr th:only-of-type {\n",
       "        vertical-align: middle;\n",
       "    }\n",
       "\n",
       "    .dataframe tbody tr th {\n",
       "        vertical-align: top;\n",
       "    }\n",
       "\n",
       "    .dataframe thead th {\n",
       "        text-align: right;\n",
       "    }\n",
       "</style>\n",
       "<table border=\"1\" class=\"dataframe\">\n",
       "  <thead>\n",
       "    <tr style=\"text-align: right;\">\n",
       "      <th></th>\n",
       "      <th>Alter</th>\n",
       "      <th>Einkommen</th>\n",
       "      <th>Preis</th>\n",
       "      <th>Geschlecht</th>\n",
       "      <th>Zeit</th>\n",
       "      <th>KundeNr</th>\n",
       "    </tr>\n",
       "  </thead>\n",
       "  <tbody>\n",
       "    <tr>\n",
       "      <th>0</th>\n",
       "      <td>64</td>\n",
       "      <td>66894.000000</td>\n",
       "      <td>88160.31</td>\n",
       "      <td>1</td>\n",
       "      <td>43.0</td>\n",
       "      <td>K0310</td>\n",
       "    </tr>\n",
       "    <tr>\n",
       "      <th>1</th>\n",
       "      <td>54</td>\n",
       "      <td>77644.000000</td>\n",
       "      <td>103145.70</td>\n",
       "      <td>1</td>\n",
       "      <td>40.0</td>\n",
       "      <td>K1042</td>\n",
       "    </tr>\n",
       "    <tr>\n",
       "      <th>2</th>\n",
       "      <td>55</td>\n",
       "      <td>44341.000000</td>\n",
       "      <td>80565.16</td>\n",
       "      <td>0</td>\n",
       "      <td>37.0</td>\n",
       "      <td>K0382</td>\n",
       "    </tr>\n",
       "    <tr>\n",
       "      <th>3</th>\n",
       "      <td>49</td>\n",
       "      <td>67271.000000</td>\n",
       "      <td>83949.89</td>\n",
       "      <td>0</td>\n",
       "      <td>42.0</td>\n",
       "      <td>K0498</td>\n",
       "    </tr>\n",
       "    <tr>\n",
       "      <th>4</th>\n",
       "      <td>46</td>\n",
       "      <td>49832.000000</td>\n",
       "      <td>93781.58</td>\n",
       "      <td>0</td>\n",
       "      <td>41.0</td>\n",
       "      <td>K0552</td>\n",
       "    </tr>\n",
       "    <tr>\n",
       "      <th>...</th>\n",
       "      <td>...</td>\n",
       "      <td>...</td>\n",
       "      <td>...</td>\n",
       "      <td>...</td>\n",
       "      <td>...</td>\n",
       "      <td>...</td>\n",
       "    </tr>\n",
       "    <tr>\n",
       "      <th>1990</th>\n",
       "      <td>32</td>\n",
       "      <td>34391.824965</td>\n",
       "      <td>NaN</td>\n",
       "      <td>1</td>\n",
       "      <td>48.0</td>\n",
       "      <td>K1211</td>\n",
       "    </tr>\n",
       "    <tr>\n",
       "      <th>1991</th>\n",
       "      <td>41</td>\n",
       "      <td>68516.495439</td>\n",
       "      <td>NaN</td>\n",
       "      <td>0</td>\n",
       "      <td>34.0</td>\n",
       "      <td>K1375</td>\n",
       "    </tr>\n",
       "    <tr>\n",
       "      <th>1992</th>\n",
       "      <td>65</td>\n",
       "      <td>89685.333441</td>\n",
       "      <td>NaN</td>\n",
       "      <td>0</td>\n",
       "      <td>23.0</td>\n",
       "      <td>K1965</td>\n",
       "    </tr>\n",
       "    <tr>\n",
       "      <th>1993</th>\n",
       "      <td>68</td>\n",
       "      <td>95714.305268</td>\n",
       "      <td>NaN</td>\n",
       "      <td>0</td>\n",
       "      <td>32.0</td>\n",
       "      <td>K1540</td>\n",
       "    </tr>\n",
       "    <tr>\n",
       "      <th>1994</th>\n",
       "      <td>49</td>\n",
       "      <td>73319.187085</td>\n",
       "      <td>NaN</td>\n",
       "      <td>0</td>\n",
       "      <td>27.0</td>\n",
       "      <td>K1207</td>\n",
       "    </tr>\n",
       "  </tbody>\n",
       "</table>\n",
       "<p>1995 rows × 6 columns</p>\n",
       "</div>"
      ],
      "text/plain": [
       "      Alter     Einkommen      Preis  Geschlecht  Zeit KundeNr\n",
       "0        64  66894.000000   88160.31           1  43.0   K0310\n",
       "1        54  77644.000000  103145.70           1  40.0   K1042\n",
       "2        55  44341.000000   80565.16           0  37.0   K0382\n",
       "3        49  67271.000000   83949.89           0  42.0   K0498\n",
       "4        46  49832.000000   93781.58           0  41.0   K0552\n",
       "...     ...           ...        ...         ...   ...     ...\n",
       "1990     32  34391.824965        NaN           1  48.0   K1211\n",
       "1991     41  68516.495439        NaN           0  34.0   K1375\n",
       "1992     65  89685.333441        NaN           0  23.0   K1965\n",
       "1993     68  95714.305268        NaN           0  32.0   K1540\n",
       "1994     49  73319.187085        NaN           0  27.0   K1207\n",
       "\n",
       "[1995 rows x 6 columns]"
      ]
     },
     "execution_count": 32,
     "metadata": {},
     "output_type": "execute_result"
    }
   ],
   "source": [
    "df_3"
   ]
  },
  {
   "cell_type": "markdown",
   "id": "8104e689",
   "metadata": {},
   "source": [
    "# 7 Einkommen runden"
   ]
  },
  {
   "cell_type": "code",
   "execution_count": 33,
   "id": "c6d6f9dd",
   "metadata": {},
   "outputs": [
    {
     "data": {
      "text/html": [
       "<div>\n",
       "<style scoped>\n",
       "    .dataframe tbody tr th:only-of-type {\n",
       "        vertical-align: middle;\n",
       "    }\n",
       "\n",
       "    .dataframe tbody tr th {\n",
       "        vertical-align: top;\n",
       "    }\n",
       "\n",
       "    .dataframe thead th {\n",
       "        text-align: right;\n",
       "    }\n",
       "</style>\n",
       "<table border=\"1\" class=\"dataframe\">\n",
       "  <thead>\n",
       "    <tr style=\"text-align: right;\">\n",
       "      <th></th>\n",
       "      <th>Alter</th>\n",
       "      <th>Einkommen</th>\n",
       "      <th>Preis</th>\n",
       "      <th>Geschlecht</th>\n",
       "      <th>Zeit</th>\n",
       "      <th>KundeNr</th>\n",
       "    </tr>\n",
       "  </thead>\n",
       "  <tbody>\n",
       "    <tr>\n",
       "      <th>0</th>\n",
       "      <td>64</td>\n",
       "      <td>66894.00</td>\n",
       "      <td>88160.31</td>\n",
       "      <td>1</td>\n",
       "      <td>43.0</td>\n",
       "      <td>K0310</td>\n",
       "    </tr>\n",
       "    <tr>\n",
       "      <th>1</th>\n",
       "      <td>54</td>\n",
       "      <td>77644.00</td>\n",
       "      <td>103145.70</td>\n",
       "      <td>1</td>\n",
       "      <td>40.0</td>\n",
       "      <td>K1042</td>\n",
       "    </tr>\n",
       "    <tr>\n",
       "      <th>2</th>\n",
       "      <td>55</td>\n",
       "      <td>44341.00</td>\n",
       "      <td>80565.16</td>\n",
       "      <td>0</td>\n",
       "      <td>37.0</td>\n",
       "      <td>K0382</td>\n",
       "    </tr>\n",
       "    <tr>\n",
       "      <th>3</th>\n",
       "      <td>49</td>\n",
       "      <td>67271.00</td>\n",
       "      <td>83949.89</td>\n",
       "      <td>0</td>\n",
       "      <td>42.0</td>\n",
       "      <td>K0498</td>\n",
       "    </tr>\n",
       "    <tr>\n",
       "      <th>4</th>\n",
       "      <td>46</td>\n",
       "      <td>49832.00</td>\n",
       "      <td>93781.58</td>\n",
       "      <td>0</td>\n",
       "      <td>41.0</td>\n",
       "      <td>K0552</td>\n",
       "    </tr>\n",
       "    <tr>\n",
       "      <th>...</th>\n",
       "      <td>...</td>\n",
       "      <td>...</td>\n",
       "      <td>...</td>\n",
       "      <td>...</td>\n",
       "      <td>...</td>\n",
       "      <td>...</td>\n",
       "    </tr>\n",
       "    <tr>\n",
       "      <th>1990</th>\n",
       "      <td>32</td>\n",
       "      <td>34391.82</td>\n",
       "      <td>NaN</td>\n",
       "      <td>1</td>\n",
       "      <td>48.0</td>\n",
       "      <td>K1211</td>\n",
       "    </tr>\n",
       "    <tr>\n",
       "      <th>1991</th>\n",
       "      <td>41</td>\n",
       "      <td>68516.50</td>\n",
       "      <td>NaN</td>\n",
       "      <td>0</td>\n",
       "      <td>34.0</td>\n",
       "      <td>K1375</td>\n",
       "    </tr>\n",
       "    <tr>\n",
       "      <th>1992</th>\n",
       "      <td>65</td>\n",
       "      <td>89685.33</td>\n",
       "      <td>NaN</td>\n",
       "      <td>0</td>\n",
       "      <td>23.0</td>\n",
       "      <td>K1965</td>\n",
       "    </tr>\n",
       "    <tr>\n",
       "      <th>1993</th>\n",
       "      <td>68</td>\n",
       "      <td>95714.31</td>\n",
       "      <td>NaN</td>\n",
       "      <td>0</td>\n",
       "      <td>32.0</td>\n",
       "      <td>K1540</td>\n",
       "    </tr>\n",
       "    <tr>\n",
       "      <th>1994</th>\n",
       "      <td>49</td>\n",
       "      <td>73319.19</td>\n",
       "      <td>NaN</td>\n",
       "      <td>0</td>\n",
       "      <td>27.0</td>\n",
       "      <td>K1207</td>\n",
       "    </tr>\n",
       "  </tbody>\n",
       "</table>\n",
       "<p>1995 rows × 6 columns</p>\n",
       "</div>"
      ],
      "text/plain": [
       "      Alter  Einkommen      Preis  Geschlecht  Zeit KundeNr\n",
       "0        64   66894.00   88160.31           1  43.0   K0310\n",
       "1        54   77644.00  103145.70           1  40.0   K1042\n",
       "2        55   44341.00   80565.16           0  37.0   K0382\n",
       "3        49   67271.00   83949.89           0  42.0   K0498\n",
       "4        46   49832.00   93781.58           0  41.0   K0552\n",
       "...     ...        ...        ...         ...   ...     ...\n",
       "1990     32   34391.82        NaN           1  48.0   K1211\n",
       "1991     41   68516.50        NaN           0  34.0   K1375\n",
       "1992     65   89685.33        NaN           0  23.0   K1965\n",
       "1993     68   95714.31        NaN           0  32.0   K1540\n",
       "1994     49   73319.19        NaN           0  27.0   K1207\n",
       "\n",
       "[1995 rows x 6 columns]"
      ]
     },
     "execution_count": 33,
     "metadata": {},
     "output_type": "execute_result"
    }
   ],
   "source": [
    "df_3[\"Einkommen\"] = df_3[\"Einkommen\"].round(2)\n",
    "df_3"
   ]
  },
  {
   "cell_type": "markdown",
   "id": "8a70e8ba",
   "metadata": {},
   "source": [
    "# 8.1 Textdatei einlesen"
   ]
  },
  {
   "cell_type": "code",
   "execution_count": 34,
   "id": "bfe04628",
   "metadata": {},
   "outputs": [
    {
     "data": {
      "text/html": [
       "<div>\n",
       "<style scoped>\n",
       "    .dataframe tbody tr th:only-of-type {\n",
       "        vertical-align: middle;\n",
       "    }\n",
       "\n",
       "    .dataframe tbody tr th {\n",
       "        vertical-align: top;\n",
       "    }\n",
       "\n",
       "    .dataframe thead th {\n",
       "        text-align: right;\n",
       "    }\n",
       "</style>\n",
       "<table border=\"1\" class=\"dataframe\">\n",
       "  <thead>\n",
       "    <tr style=\"text-align: right;\">\n",
       "      <th></th>\n",
       "      <th>Platzhalter</th>\n",
       "    </tr>\n",
       "  </thead>\n",
       "  <tbody>\n",
       "    <tr>\n",
       "      <th>0</th>\n",
       "      <td>KundeNr\\tNiederlassung</td>\n",
       "    </tr>\n",
       "    <tr>\n",
       "      <th>1</th>\n",
       "      <td>K0001\\tSachsen</td>\n",
       "    </tr>\n",
       "    <tr>\n",
       "      <th>2</th>\n",
       "      <td>K0002\\tNRW</td>\n",
       "    </tr>\n",
       "    <tr>\n",
       "      <th>3</th>\n",
       "      <td>K0003\\tHessen</td>\n",
       "    </tr>\n",
       "    <tr>\n",
       "      <th>4</th>\n",
       "      <td>K0004\\tBayern</td>\n",
       "    </tr>\n",
       "    <tr>\n",
       "      <th>...</th>\n",
       "      <td>...</td>\n",
       "    </tr>\n",
       "    <tr>\n",
       "      <th>1991</th>\n",
       "      <td>K1991\\tHessen</td>\n",
       "    </tr>\n",
       "    <tr>\n",
       "      <th>1992</th>\n",
       "      <td>K1992\\tBaden-Württemberg</td>\n",
       "    </tr>\n",
       "    <tr>\n",
       "      <th>1993</th>\n",
       "      <td>K1993\\tNordrhein-Westfalen</td>\n",
       "    </tr>\n",
       "    <tr>\n",
       "      <th>1994</th>\n",
       "      <td>K1994\\tBerlin</td>\n",
       "    </tr>\n",
       "    <tr>\n",
       "      <th>1995</th>\n",
       "      <td>K1995\\tBerlin-Charlottenburg</td>\n",
       "    </tr>\n",
       "  </tbody>\n",
       "</table>\n",
       "<p>1996 rows × 1 columns</p>\n",
       "</div>"
      ],
      "text/plain": [
       "                       Platzhalter\n",
       "0           KundeNr\\tNiederlassung\n",
       "1                   K0001\\tSachsen\n",
       "2                       K0002\\tNRW\n",
       "3                    K0003\\tHessen\n",
       "4                    K0004\\tBayern\n",
       "...                            ...\n",
       "1991                 K1991\\tHessen\n",
       "1992      K1992\\tBaden-Württemberg\n",
       "1993    K1993\\tNordrhein-Westfalen\n",
       "1994                 K1994\\tBerlin\n",
       "1995  K1995\\tBerlin-Charlottenburg\n",
       "\n",
       "[1996 rows x 1 columns]"
      ]
     },
     "execution_count": 34,
     "metadata": {},
     "output_type": "execute_result"
    }
   ],
   "source": [
    "text_datei = \"data/geo.txt\"\n",
    "df_text = pd.read_csv(text_datei, header=None, names=[\"Platzhalter\"])\n",
    "df_text"
   ]
  },
  {
   "cell_type": "markdown",
   "id": "2269944c",
   "metadata": {},
   "source": [
    "# 8.2 Überschriften "
   ]
  },
  {
   "cell_type": "code",
   "execution_count": 35,
   "id": "2270a66d",
   "metadata": {},
   "outputs": [
    {
     "data": {
      "text/html": [
       "<div>\n",
       "<style scoped>\n",
       "    .dataframe tbody tr th:only-of-type {\n",
       "        vertical-align: middle;\n",
       "    }\n",
       "\n",
       "    .dataframe tbody tr th {\n",
       "        vertical-align: top;\n",
       "    }\n",
       "\n",
       "    .dataframe thead th {\n",
       "        text-align: right;\n",
       "    }\n",
       "</style>\n",
       "<table border=\"1\" class=\"dataframe\">\n",
       "  <thead>\n",
       "    <tr style=\"text-align: right;\">\n",
       "      <th></th>\n",
       "      <th>Platzhalter</th>\n",
       "      <th>KundeNR</th>\n",
       "      <th>Niederlassung</th>\n",
       "    </tr>\n",
       "  </thead>\n",
       "  <tbody>\n",
       "    <tr>\n",
       "      <th>0</th>\n",
       "      <td>KundeNr\\tNiederlassung</td>\n",
       "      <td>KundeNr</td>\n",
       "      <td>Niederlassung</td>\n",
       "    </tr>\n",
       "    <tr>\n",
       "      <th>1</th>\n",
       "      <td>K0001\\tSachsen</td>\n",
       "      <td>K0001</td>\n",
       "      <td>Sachsen</td>\n",
       "    </tr>\n",
       "    <tr>\n",
       "      <th>2</th>\n",
       "      <td>K0002\\tNRW</td>\n",
       "      <td>K0002</td>\n",
       "      <td>NRW</td>\n",
       "    </tr>\n",
       "    <tr>\n",
       "      <th>3</th>\n",
       "      <td>K0003\\tHessen</td>\n",
       "      <td>K0003</td>\n",
       "      <td>Hessen</td>\n",
       "    </tr>\n",
       "    <tr>\n",
       "      <th>4</th>\n",
       "      <td>K0004\\tBayern</td>\n",
       "      <td>K0004</td>\n",
       "      <td>Bayern</td>\n",
       "    </tr>\n",
       "    <tr>\n",
       "      <th>...</th>\n",
       "      <td>...</td>\n",
       "      <td>...</td>\n",
       "      <td>...</td>\n",
       "    </tr>\n",
       "    <tr>\n",
       "      <th>1991</th>\n",
       "      <td>K1991\\tHessen</td>\n",
       "      <td>K1991</td>\n",
       "      <td>Hessen</td>\n",
       "    </tr>\n",
       "    <tr>\n",
       "      <th>1992</th>\n",
       "      <td>K1992\\tBaden-Württemberg</td>\n",
       "      <td>K1992</td>\n",
       "      <td>Baden-Württemberg</td>\n",
       "    </tr>\n",
       "    <tr>\n",
       "      <th>1993</th>\n",
       "      <td>K1993\\tNordrhein-Westfalen</td>\n",
       "      <td>K1993</td>\n",
       "      <td>Nordrhein-Westfalen</td>\n",
       "    </tr>\n",
       "    <tr>\n",
       "      <th>1994</th>\n",
       "      <td>K1994\\tBerlin</td>\n",
       "      <td>K1994</td>\n",
       "      <td>Berlin</td>\n",
       "    </tr>\n",
       "    <tr>\n",
       "      <th>1995</th>\n",
       "      <td>K1995\\tBerlin-Charlottenburg</td>\n",
       "      <td>K1995</td>\n",
       "      <td>Berlin-Charlottenburg</td>\n",
       "    </tr>\n",
       "  </tbody>\n",
       "</table>\n",
       "<p>1996 rows × 3 columns</p>\n",
       "</div>"
      ],
      "text/plain": [
       "                       Platzhalter  KundeNR          Niederlassung\n",
       "0           KundeNr\\tNiederlassung  KundeNr          Niederlassung\n",
       "1                   K0001\\tSachsen    K0001                Sachsen\n",
       "2                       K0002\\tNRW    K0002                    NRW\n",
       "3                    K0003\\tHessen    K0003                 Hessen\n",
       "4                    K0004\\tBayern    K0004                 Bayern\n",
       "...                            ...      ...                    ...\n",
       "1991                 K1991\\tHessen    K1991                 Hessen\n",
       "1992      K1992\\tBaden-Württemberg    K1992      Baden-Württemberg\n",
       "1993    K1993\\tNordrhein-Westfalen    K1993    Nordrhein-Westfalen\n",
       "1994                 K1994\\tBerlin    K1994                 Berlin\n",
       "1995  K1995\\tBerlin-Charlottenburg    K1995  Berlin-Charlottenburg\n",
       "\n",
       "[1996 rows x 3 columns]"
      ]
     },
     "execution_count": 35,
     "metadata": {},
     "output_type": "execute_result"
    }
   ],
   "source": [
    "df_text[[\"KundeNR\", \"Niederlassung\"]] = df_text[\"Platzhalter\"].str.split(expand=True)\n",
    "df_text"
   ]
  },
  {
   "cell_type": "code",
   "execution_count": 36,
   "id": "8785a788",
   "metadata": {},
   "outputs": [
    {
     "data": {
      "text/html": [
       "<div>\n",
       "<style scoped>\n",
       "    .dataframe tbody tr th:only-of-type {\n",
       "        vertical-align: middle;\n",
       "    }\n",
       "\n",
       "    .dataframe tbody tr th {\n",
       "        vertical-align: top;\n",
       "    }\n",
       "\n",
       "    .dataframe thead th {\n",
       "        text-align: right;\n",
       "    }\n",
       "</style>\n",
       "<table border=\"1\" class=\"dataframe\">\n",
       "  <thead>\n",
       "    <tr style=\"text-align: right;\">\n",
       "      <th></th>\n",
       "      <th>Platzhalter</th>\n",
       "      <th>KundeNR</th>\n",
       "      <th>Niederlassung</th>\n",
       "    </tr>\n",
       "  </thead>\n",
       "  <tbody>\n",
       "    <tr>\n",
       "      <th>0</th>\n",
       "      <td>KundeNr\\tNiederlassung</td>\n",
       "      <td>KundeNr</td>\n",
       "      <td>Niederlassung</td>\n",
       "    </tr>\n",
       "    <tr>\n",
       "      <th>1</th>\n",
       "      <td>K0001\\tSachsen</td>\n",
       "      <td>K0001</td>\n",
       "      <td>Sachsen</td>\n",
       "    </tr>\n",
       "    <tr>\n",
       "      <th>2</th>\n",
       "      <td>K0002\\tNRW</td>\n",
       "      <td>K0002</td>\n",
       "      <td>NRW</td>\n",
       "    </tr>\n",
       "    <tr>\n",
       "      <th>3</th>\n",
       "      <td>K0003\\tHessen</td>\n",
       "      <td>K0003</td>\n",
       "      <td>Hessen</td>\n",
       "    </tr>\n",
       "    <tr>\n",
       "      <th>4</th>\n",
       "      <td>K0004\\tBayern</td>\n",
       "      <td>K0004</td>\n",
       "      <td>Bayern</td>\n",
       "    </tr>\n",
       "    <tr>\n",
       "      <th>...</th>\n",
       "      <td>...</td>\n",
       "      <td>...</td>\n",
       "      <td>...</td>\n",
       "    </tr>\n",
       "    <tr>\n",
       "      <th>1991</th>\n",
       "      <td>K1991\\tHessen</td>\n",
       "      <td>K1991</td>\n",
       "      <td>Hessen</td>\n",
       "    </tr>\n",
       "    <tr>\n",
       "      <th>1992</th>\n",
       "      <td>K1992\\tBaden-Württemberg</td>\n",
       "      <td>K1992</td>\n",
       "      <td>Baden-Württemberg</td>\n",
       "    </tr>\n",
       "    <tr>\n",
       "      <th>1993</th>\n",
       "      <td>K1993\\tNordrhein-Westfalen</td>\n",
       "      <td>K1993</td>\n",
       "      <td>Nordrhein-Westfalen</td>\n",
       "    </tr>\n",
       "    <tr>\n",
       "      <th>1994</th>\n",
       "      <td>K1994\\tBerlin</td>\n",
       "      <td>K1994</td>\n",
       "      <td>Berlin</td>\n",
       "    </tr>\n",
       "    <tr>\n",
       "      <th>1995</th>\n",
       "      <td>K1995\\tBerlin-Charlottenburg</td>\n",
       "      <td>K1995</td>\n",
       "      <td>Berlin-Charlottenburg</td>\n",
       "    </tr>\n",
       "  </tbody>\n",
       "</table>\n",
       "<p>1996 rows × 3 columns</p>\n",
       "</div>"
      ],
      "text/plain": [
       "                       Platzhalter  KundeNR          Niederlassung\n",
       "0           KundeNr\\tNiederlassung  KundeNr          Niederlassung\n",
       "1                   K0001\\tSachsen    K0001                Sachsen\n",
       "2                       K0002\\tNRW    K0002                    NRW\n",
       "3                    K0003\\tHessen    K0003                 Hessen\n",
       "4                    K0004\\tBayern    K0004                 Bayern\n",
       "...                            ...      ...                    ...\n",
       "1991                 K1991\\tHessen    K1991                 Hessen\n",
       "1992      K1992\\tBaden-Württemberg    K1992      Baden-Württemberg\n",
       "1993    K1993\\tNordrhein-Westfalen    K1993    Nordrhein-Westfalen\n",
       "1994                 K1994\\tBerlin    K1994                 Berlin\n",
       "1995  K1995\\tBerlin-Charlottenburg    K1995  Berlin-Charlottenburg\n",
       "\n",
       "[1996 rows x 3 columns]"
      ]
     },
     "execution_count": 36,
     "metadata": {},
     "output_type": "execute_result"
    }
   ],
   "source": [
    "df_text"
   ]
  },
  {
   "cell_type": "code",
   "execution_count": 37,
   "id": "e36f518d",
   "metadata": {},
   "outputs": [
    {
     "data": {
      "text/plain": [
       "Index(['Platzhalter', 'KundeNR', 'Niederlassung'], dtype='object')"
      ]
     },
     "execution_count": 37,
     "metadata": {},
     "output_type": "execute_result"
    }
   ],
   "source": [
    "df_text.columns"
   ]
  },
  {
   "cell_type": "code",
   "execution_count": 38,
   "id": "b0fc9ac1",
   "metadata": {},
   "outputs": [],
   "source": [
    "df_text = df_text.drop(\"Platzhalter\", axis=1)\n"
   ]
  },
  {
   "cell_type": "markdown",
   "id": "f112facd",
   "metadata": {},
   "source": [
    "df_text.columns"
   ]
  },
  {
   "cell_type": "markdown",
   "id": "23a0977f",
   "metadata": {},
   "source": [
    "# 9 Im df_3 neue Spalte erstellen"
   ]
  },
  {
   "cell_type": "code",
   "execution_count": 39,
   "id": "5a48af61",
   "metadata": {},
   "outputs": [
    {
     "data": {
      "text/html": [
       "<div>\n",
       "<style scoped>\n",
       "    .dataframe tbody tr th:only-of-type {\n",
       "        vertical-align: middle;\n",
       "    }\n",
       "\n",
       "    .dataframe tbody tr th {\n",
       "        vertical-align: top;\n",
       "    }\n",
       "\n",
       "    .dataframe thead th {\n",
       "        text-align: right;\n",
       "    }\n",
       "</style>\n",
       "<table border=\"1\" class=\"dataframe\">\n",
       "  <thead>\n",
       "    <tr style=\"text-align: right;\">\n",
       "      <th></th>\n",
       "      <th>Alter</th>\n",
       "      <th>Einkommen</th>\n",
       "      <th>Preis</th>\n",
       "      <th>Geschlecht</th>\n",
       "      <th>Zeit</th>\n",
       "      <th>KundeNr</th>\n",
       "      <th>Niederlassung</th>\n",
       "    </tr>\n",
       "  </thead>\n",
       "  <tbody>\n",
       "    <tr>\n",
       "      <th>0</th>\n",
       "      <td>64</td>\n",
       "      <td>66894.00</td>\n",
       "      <td>88160.31</td>\n",
       "      <td>1</td>\n",
       "      <td>43.0</td>\n",
       "      <td>K0310</td>\n",
       "      <td>None</td>\n",
       "    </tr>\n",
       "    <tr>\n",
       "      <th>1</th>\n",
       "      <td>54</td>\n",
       "      <td>77644.00</td>\n",
       "      <td>103145.70</td>\n",
       "      <td>1</td>\n",
       "      <td>40.0</td>\n",
       "      <td>K1042</td>\n",
       "      <td>None</td>\n",
       "    </tr>\n",
       "    <tr>\n",
       "      <th>2</th>\n",
       "      <td>55</td>\n",
       "      <td>44341.00</td>\n",
       "      <td>80565.16</td>\n",
       "      <td>0</td>\n",
       "      <td>37.0</td>\n",
       "      <td>K0382</td>\n",
       "      <td>None</td>\n",
       "    </tr>\n",
       "    <tr>\n",
       "      <th>3</th>\n",
       "      <td>49</td>\n",
       "      <td>67271.00</td>\n",
       "      <td>83949.89</td>\n",
       "      <td>0</td>\n",
       "      <td>42.0</td>\n",
       "      <td>K0498</td>\n",
       "      <td>None</td>\n",
       "    </tr>\n",
       "    <tr>\n",
       "      <th>4</th>\n",
       "      <td>46</td>\n",
       "      <td>49832.00</td>\n",
       "      <td>93781.58</td>\n",
       "      <td>0</td>\n",
       "      <td>41.0</td>\n",
       "      <td>K0552</td>\n",
       "      <td>None</td>\n",
       "    </tr>\n",
       "    <tr>\n",
       "      <th>...</th>\n",
       "      <td>...</td>\n",
       "      <td>...</td>\n",
       "      <td>...</td>\n",
       "      <td>...</td>\n",
       "      <td>...</td>\n",
       "      <td>...</td>\n",
       "      <td>...</td>\n",
       "    </tr>\n",
       "    <tr>\n",
       "      <th>1990</th>\n",
       "      <td>32</td>\n",
       "      <td>34391.82</td>\n",
       "      <td>NaN</td>\n",
       "      <td>1</td>\n",
       "      <td>48.0</td>\n",
       "      <td>K1211</td>\n",
       "      <td>None</td>\n",
       "    </tr>\n",
       "    <tr>\n",
       "      <th>1991</th>\n",
       "      <td>41</td>\n",
       "      <td>68516.50</td>\n",
       "      <td>NaN</td>\n",
       "      <td>0</td>\n",
       "      <td>34.0</td>\n",
       "      <td>K1375</td>\n",
       "      <td>None</td>\n",
       "    </tr>\n",
       "    <tr>\n",
       "      <th>1992</th>\n",
       "      <td>65</td>\n",
       "      <td>89685.33</td>\n",
       "      <td>NaN</td>\n",
       "      <td>0</td>\n",
       "      <td>23.0</td>\n",
       "      <td>K1965</td>\n",
       "      <td>None</td>\n",
       "    </tr>\n",
       "    <tr>\n",
       "      <th>1993</th>\n",
       "      <td>68</td>\n",
       "      <td>95714.31</td>\n",
       "      <td>NaN</td>\n",
       "      <td>0</td>\n",
       "      <td>32.0</td>\n",
       "      <td>K1540</td>\n",
       "      <td>None</td>\n",
       "    </tr>\n",
       "    <tr>\n",
       "      <th>1994</th>\n",
       "      <td>49</td>\n",
       "      <td>73319.19</td>\n",
       "      <td>NaN</td>\n",
       "      <td>0</td>\n",
       "      <td>27.0</td>\n",
       "      <td>K1207</td>\n",
       "      <td>None</td>\n",
       "    </tr>\n",
       "  </tbody>\n",
       "</table>\n",
       "<p>1995 rows × 7 columns</p>\n",
       "</div>"
      ],
      "text/plain": [
       "      Alter  Einkommen      Preis  Geschlecht  Zeit KundeNr Niederlassung\n",
       "0        64   66894.00   88160.31           1  43.0   K0310          None\n",
       "1        54   77644.00  103145.70           1  40.0   K1042          None\n",
       "2        55   44341.00   80565.16           0  37.0   K0382          None\n",
       "3        49   67271.00   83949.89           0  42.0   K0498          None\n",
       "4        46   49832.00   93781.58           0  41.0   K0552          None\n",
       "...     ...        ...        ...         ...   ...     ...           ...\n",
       "1990     32   34391.82        NaN           1  48.0   K1211          None\n",
       "1991     41   68516.50        NaN           0  34.0   K1375          None\n",
       "1992     65   89685.33        NaN           0  23.0   K1965          None\n",
       "1993     68   95714.31        NaN           0  32.0   K1540          None\n",
       "1994     49   73319.19        NaN           0  27.0   K1207          None\n",
       "\n",
       "[1995 rows x 7 columns]"
      ]
     },
     "execution_count": 39,
     "metadata": {},
     "output_type": "execute_result"
    }
   ],
   "source": [
    "df_3 = df_3.copy()\n",
    "df_3[\"Niederlassung\"] = None\n",
    "df_3"
   ]
  },
  {
   "cell_type": "markdown",
   "id": "f29aa1bc",
   "metadata": {},
   "source": [
    "# 10 Spalte umbenennen "
   ]
  },
  {
   "cell_type": "code",
   "execution_count": 40,
   "id": "8eb53ce9",
   "metadata": {},
   "outputs": [
    {
     "data": {
      "text/plain": [
       "Alter              int64\n",
       "Einkommen        float64\n",
       "Preis            float64\n",
       "Geschlecht         int64\n",
       "Zeit             float64\n",
       "KundeNR           object\n",
       "Niederlassung     object\n",
       "dtype: object"
      ]
     },
     "execution_count": 40,
     "metadata": {},
     "output_type": "execute_result"
    }
   ],
   "source": [
    "df_3 = df_3.rename(columns={\"KundeNr\": \"KundeNR\"})\n",
    "df_3.dtypes"
   ]
  },
  {
   "cell_type": "markdown",
   "id": "39e48ad3",
   "metadata": {},
   "source": [
    "# 11 Text-Datei mit CSV mergen"
   ]
  },
  {
   "cell_type": "code",
   "execution_count": 41,
   "id": "f5643add",
   "metadata": {},
   "outputs": [
    {
     "data": {
      "text/html": [
       "<div>\n",
       "<style scoped>\n",
       "    .dataframe tbody tr th:only-of-type {\n",
       "        vertical-align: middle;\n",
       "    }\n",
       "\n",
       "    .dataframe tbody tr th {\n",
       "        vertical-align: top;\n",
       "    }\n",
       "\n",
       "    .dataframe thead th {\n",
       "        text-align: right;\n",
       "    }\n",
       "</style>\n",
       "<table border=\"1\" class=\"dataframe\">\n",
       "  <thead>\n",
       "    <tr style=\"text-align: right;\">\n",
       "      <th></th>\n",
       "      <th>Alter</th>\n",
       "      <th>Einkommen</th>\n",
       "      <th>Preis</th>\n",
       "      <th>Geschlecht</th>\n",
       "      <th>Zeit</th>\n",
       "      <th>KundeNR</th>\n",
       "      <th>Niederlassung_x</th>\n",
       "      <th>Niederlassung_y</th>\n",
       "    </tr>\n",
       "  </thead>\n",
       "  <tbody>\n",
       "    <tr>\n",
       "      <th>0</th>\n",
       "      <td>64</td>\n",
       "      <td>66894.00</td>\n",
       "      <td>88160.31</td>\n",
       "      <td>1</td>\n",
       "      <td>43.0</td>\n",
       "      <td>K0310</td>\n",
       "      <td>None</td>\n",
       "      <td>Bayern</td>\n",
       "    </tr>\n",
       "    <tr>\n",
       "      <th>1</th>\n",
       "      <td>54</td>\n",
       "      <td>77644.00</td>\n",
       "      <td>103145.70</td>\n",
       "      <td>1</td>\n",
       "      <td>40.0</td>\n",
       "      <td>K1042</td>\n",
       "      <td>None</td>\n",
       "      <td>Berlin</td>\n",
       "    </tr>\n",
       "    <tr>\n",
       "      <th>2</th>\n",
       "      <td>55</td>\n",
       "      <td>44341.00</td>\n",
       "      <td>80565.16</td>\n",
       "      <td>0</td>\n",
       "      <td>37.0</td>\n",
       "      <td>K0382</td>\n",
       "      <td>None</td>\n",
       "      <td>Baden-Württemberg</td>\n",
       "    </tr>\n",
       "    <tr>\n",
       "      <th>3</th>\n",
       "      <td>49</td>\n",
       "      <td>67271.00</td>\n",
       "      <td>83949.89</td>\n",
       "      <td>0</td>\n",
       "      <td>42.0</td>\n",
       "      <td>K0498</td>\n",
       "      <td>None</td>\n",
       "      <td>Bayern</td>\n",
       "    </tr>\n",
       "    <tr>\n",
       "      <th>4</th>\n",
       "      <td>46</td>\n",
       "      <td>49832.00</td>\n",
       "      <td>93781.58</td>\n",
       "      <td>0</td>\n",
       "      <td>41.0</td>\n",
       "      <td>K0552</td>\n",
       "      <td>None</td>\n",
       "      <td>Hessen</td>\n",
       "    </tr>\n",
       "    <tr>\n",
       "      <th>...</th>\n",
       "      <td>...</td>\n",
       "      <td>...</td>\n",
       "      <td>...</td>\n",
       "      <td>...</td>\n",
       "      <td>...</td>\n",
       "      <td>...</td>\n",
       "      <td>...</td>\n",
       "      <td>...</td>\n",
       "    </tr>\n",
       "    <tr>\n",
       "      <th>1990</th>\n",
       "      <td>32</td>\n",
       "      <td>34391.82</td>\n",
       "      <td>NaN</td>\n",
       "      <td>1</td>\n",
       "      <td>48.0</td>\n",
       "      <td>K1211</td>\n",
       "      <td>None</td>\n",
       "      <td>Hessen</td>\n",
       "    </tr>\n",
       "    <tr>\n",
       "      <th>1991</th>\n",
       "      <td>41</td>\n",
       "      <td>68516.50</td>\n",
       "      <td>NaN</td>\n",
       "      <td>0</td>\n",
       "      <td>34.0</td>\n",
       "      <td>K1375</td>\n",
       "      <td>None</td>\n",
       "      <td>Sachsen</td>\n",
       "    </tr>\n",
       "    <tr>\n",
       "      <th>1992</th>\n",
       "      <td>65</td>\n",
       "      <td>89685.33</td>\n",
       "      <td>NaN</td>\n",
       "      <td>0</td>\n",
       "      <td>23.0</td>\n",
       "      <td>K1965</td>\n",
       "      <td>None</td>\n",
       "      <td>Bayern</td>\n",
       "    </tr>\n",
       "    <tr>\n",
       "      <th>1993</th>\n",
       "      <td>68</td>\n",
       "      <td>95714.31</td>\n",
       "      <td>NaN</td>\n",
       "      <td>0</td>\n",
       "      <td>32.0</td>\n",
       "      <td>K1540</td>\n",
       "      <td>None</td>\n",
       "      <td>Bayern</td>\n",
       "    </tr>\n",
       "    <tr>\n",
       "      <th>1994</th>\n",
       "      <td>49</td>\n",
       "      <td>73319.19</td>\n",
       "      <td>NaN</td>\n",
       "      <td>0</td>\n",
       "      <td>27.0</td>\n",
       "      <td>K1207</td>\n",
       "      <td>None</td>\n",
       "      <td>Niedersachsen</td>\n",
       "    </tr>\n",
       "  </tbody>\n",
       "</table>\n",
       "<p>1995 rows × 8 columns</p>\n",
       "</div>"
      ],
      "text/plain": [
       "      Alter  Einkommen      Preis  Geschlecht  Zeit KundeNR Niederlassung_x  \\\n",
       "0        64   66894.00   88160.31           1  43.0   K0310            None   \n",
       "1        54   77644.00  103145.70           1  40.0   K1042            None   \n",
       "2        55   44341.00   80565.16           0  37.0   K0382            None   \n",
       "3        49   67271.00   83949.89           0  42.0   K0498            None   \n",
       "4        46   49832.00   93781.58           0  41.0   K0552            None   \n",
       "...     ...        ...        ...         ...   ...     ...             ...   \n",
       "1990     32   34391.82        NaN           1  48.0   K1211            None   \n",
       "1991     41   68516.50        NaN           0  34.0   K1375            None   \n",
       "1992     65   89685.33        NaN           0  23.0   K1965            None   \n",
       "1993     68   95714.31        NaN           0  32.0   K1540            None   \n",
       "1994     49   73319.19        NaN           0  27.0   K1207            None   \n",
       "\n",
       "        Niederlassung_y  \n",
       "0                Bayern  \n",
       "1                Berlin  \n",
       "2     Baden-Württemberg  \n",
       "3                Bayern  \n",
       "4                Hessen  \n",
       "...                 ...  \n",
       "1990             Hessen  \n",
       "1991            Sachsen  \n",
       "1992             Bayern  \n",
       "1993             Bayern  \n",
       "1994      Niedersachsen  \n",
       "\n",
       "[1995 rows x 8 columns]"
      ]
     },
     "execution_count": 41,
     "metadata": {},
     "output_type": "execute_result"
    }
   ],
   "source": [
    "merged_df = pd.merge(df_3, df_text[[\"KundeNR\", \"Niederlassung\"]], on=\"KundeNR\", how=\"left\")\n",
    "merged_df"
   ]
  },
  {
   "cell_type": "markdown",
   "id": "2ceb02a7",
   "metadata": {},
   "source": [
    "# 12 Spalte umbennen"
   ]
  },
  {
   "cell_type": "code",
   "execution_count": 42,
   "id": "91f0fabc",
   "metadata": {},
   "outputs": [
    {
     "data": {
      "text/html": [
       "<div>\n",
       "<style scoped>\n",
       "    .dataframe tbody tr th:only-of-type {\n",
       "        vertical-align: middle;\n",
       "    }\n",
       "\n",
       "    .dataframe tbody tr th {\n",
       "        vertical-align: top;\n",
       "    }\n",
       "\n",
       "    .dataframe thead th {\n",
       "        text-align: right;\n",
       "    }\n",
       "</style>\n",
       "<table border=\"1\" class=\"dataframe\">\n",
       "  <thead>\n",
       "    <tr style=\"text-align: right;\">\n",
       "      <th></th>\n",
       "      <th>Alter</th>\n",
       "      <th>Einkommen</th>\n",
       "      <th>Preis</th>\n",
       "      <th>Geschlecht</th>\n",
       "      <th>Zeit</th>\n",
       "      <th>KundeNR</th>\n",
       "      <th>Niederlassung</th>\n",
       "    </tr>\n",
       "  </thead>\n",
       "  <tbody>\n",
       "    <tr>\n",
       "      <th>0</th>\n",
       "      <td>64</td>\n",
       "      <td>66894.00</td>\n",
       "      <td>88160.31</td>\n",
       "      <td>1</td>\n",
       "      <td>43.0</td>\n",
       "      <td>K0310</td>\n",
       "      <td>Bayern</td>\n",
       "    </tr>\n",
       "    <tr>\n",
       "      <th>1</th>\n",
       "      <td>54</td>\n",
       "      <td>77644.00</td>\n",
       "      <td>103145.70</td>\n",
       "      <td>1</td>\n",
       "      <td>40.0</td>\n",
       "      <td>K1042</td>\n",
       "      <td>Berlin</td>\n",
       "    </tr>\n",
       "    <tr>\n",
       "      <th>2</th>\n",
       "      <td>55</td>\n",
       "      <td>44341.00</td>\n",
       "      <td>80565.16</td>\n",
       "      <td>0</td>\n",
       "      <td>37.0</td>\n",
       "      <td>K0382</td>\n",
       "      <td>Baden-Württemberg</td>\n",
       "    </tr>\n",
       "    <tr>\n",
       "      <th>3</th>\n",
       "      <td>49</td>\n",
       "      <td>67271.00</td>\n",
       "      <td>83949.89</td>\n",
       "      <td>0</td>\n",
       "      <td>42.0</td>\n",
       "      <td>K0498</td>\n",
       "      <td>Bayern</td>\n",
       "    </tr>\n",
       "    <tr>\n",
       "      <th>4</th>\n",
       "      <td>46</td>\n",
       "      <td>49832.00</td>\n",
       "      <td>93781.58</td>\n",
       "      <td>0</td>\n",
       "      <td>41.0</td>\n",
       "      <td>K0552</td>\n",
       "      <td>Hessen</td>\n",
       "    </tr>\n",
       "    <tr>\n",
       "      <th>...</th>\n",
       "      <td>...</td>\n",
       "      <td>...</td>\n",
       "      <td>...</td>\n",
       "      <td>...</td>\n",
       "      <td>...</td>\n",
       "      <td>...</td>\n",
       "      <td>...</td>\n",
       "    </tr>\n",
       "    <tr>\n",
       "      <th>1990</th>\n",
       "      <td>32</td>\n",
       "      <td>34391.82</td>\n",
       "      <td>NaN</td>\n",
       "      <td>1</td>\n",
       "      <td>48.0</td>\n",
       "      <td>K1211</td>\n",
       "      <td>Hessen</td>\n",
       "    </tr>\n",
       "    <tr>\n",
       "      <th>1991</th>\n",
       "      <td>41</td>\n",
       "      <td>68516.50</td>\n",
       "      <td>NaN</td>\n",
       "      <td>0</td>\n",
       "      <td>34.0</td>\n",
       "      <td>K1375</td>\n",
       "      <td>Sachsen</td>\n",
       "    </tr>\n",
       "    <tr>\n",
       "      <th>1992</th>\n",
       "      <td>65</td>\n",
       "      <td>89685.33</td>\n",
       "      <td>NaN</td>\n",
       "      <td>0</td>\n",
       "      <td>23.0</td>\n",
       "      <td>K1965</td>\n",
       "      <td>Bayern</td>\n",
       "    </tr>\n",
       "    <tr>\n",
       "      <th>1993</th>\n",
       "      <td>68</td>\n",
       "      <td>95714.31</td>\n",
       "      <td>NaN</td>\n",
       "      <td>0</td>\n",
       "      <td>32.0</td>\n",
       "      <td>K1540</td>\n",
       "      <td>Bayern</td>\n",
       "    </tr>\n",
       "    <tr>\n",
       "      <th>1994</th>\n",
       "      <td>49</td>\n",
       "      <td>73319.19</td>\n",
       "      <td>NaN</td>\n",
       "      <td>0</td>\n",
       "      <td>27.0</td>\n",
       "      <td>K1207</td>\n",
       "      <td>Niedersachsen</td>\n",
       "    </tr>\n",
       "  </tbody>\n",
       "</table>\n",
       "<p>1995 rows × 7 columns</p>\n",
       "</div>"
      ],
      "text/plain": [
       "      Alter  Einkommen      Preis  Geschlecht  Zeit KundeNR      Niederlassung\n",
       "0        64   66894.00   88160.31           1  43.0   K0310             Bayern\n",
       "1        54   77644.00  103145.70           1  40.0   K1042             Berlin\n",
       "2        55   44341.00   80565.16           0  37.0   K0382  Baden-Württemberg\n",
       "3        49   67271.00   83949.89           0  42.0   K0498             Bayern\n",
       "4        46   49832.00   93781.58           0  41.0   K0552             Hessen\n",
       "...     ...        ...        ...         ...   ...     ...                ...\n",
       "1990     32   34391.82        NaN           1  48.0   K1211             Hessen\n",
       "1991     41   68516.50        NaN           0  34.0   K1375            Sachsen\n",
       "1992     65   89685.33        NaN           0  23.0   K1965             Bayern\n",
       "1993     68   95714.31        NaN           0  32.0   K1540             Bayern\n",
       "1994     49   73319.19        NaN           0  27.0   K1207      Niedersachsen\n",
       "\n",
       "[1995 rows x 7 columns]"
      ]
     },
     "execution_count": 42,
     "metadata": {},
     "output_type": "execute_result"
    }
   ],
   "source": [
    "merged_df = merged_df.rename(columns={\"Niederlassung_y\": \"Niederlassung\"})\n",
    "merged_df = merged_df.drop(\"Niederlassung_x\", axis = 1)\n",
    "merged_df"
   ]
  },
  {
   "cell_type": "markdown",
   "id": "a359f58f",
   "metadata": {},
   "source": [
    "# 13 Namen der Niederlassungen anzeigen"
   ]
  },
  {
   "cell_type": "code",
   "execution_count": 43,
   "id": "b320515b",
   "metadata": {},
   "outputs": [
    {
     "data": {
      "text/plain": [
       "array(['Bayern', 'Berlin', 'Baden-Württemberg', 'Hessen', 'Thüringen',\n",
       "       'Sachsen', 'Nordrhein-Westfalen', 'BERLIN', 'Niedersachsen',\n",
       "       'Hamburg', 'Brandenburg', 'Berlin-Mitte', 'Düsseldorf', 'NRW',\n",
       "       'Berlin-Charlottenburg'], dtype=object)"
      ]
     },
     "execution_count": 43,
     "metadata": {},
     "output_type": "execute_result"
    }
   ],
   "source": [
    "merged_df[\"Niederlassung\"].unique()"
   ]
  },
  {
   "cell_type": "markdown",
   "id": "7b5ba341",
   "metadata": {},
   "source": [
    "# 14 Namen der Bundesländer fixen"
   ]
  },
  {
   "cell_type": "code",
   "execution_count": 44,
   "id": "eef6ead9",
   "metadata": {},
   "outputs": [
    {
     "data": {
      "text/html": [
       "<div>\n",
       "<style scoped>\n",
       "    .dataframe tbody tr th:only-of-type {\n",
       "        vertical-align: middle;\n",
       "    }\n",
       "\n",
       "    .dataframe tbody tr th {\n",
       "        vertical-align: top;\n",
       "    }\n",
       "\n",
       "    .dataframe thead th {\n",
       "        text-align: right;\n",
       "    }\n",
       "</style>\n",
       "<table border=\"1\" class=\"dataframe\">\n",
       "  <thead>\n",
       "    <tr style=\"text-align: right;\">\n",
       "      <th></th>\n",
       "      <th>Alter</th>\n",
       "      <th>Einkommen</th>\n",
       "      <th>Preis</th>\n",
       "      <th>Geschlecht</th>\n",
       "      <th>Zeit</th>\n",
       "      <th>KundeNR</th>\n",
       "      <th>Niederlassung</th>\n",
       "    </tr>\n",
       "  </thead>\n",
       "  <tbody>\n",
       "    <tr>\n",
       "      <th>0</th>\n",
       "      <td>64</td>\n",
       "      <td>66894.00</td>\n",
       "      <td>88160.31</td>\n",
       "      <td>1</td>\n",
       "      <td>43.0</td>\n",
       "      <td>K0310</td>\n",
       "      <td>Bayern</td>\n",
       "    </tr>\n",
       "    <tr>\n",
       "      <th>1</th>\n",
       "      <td>54</td>\n",
       "      <td>77644.00</td>\n",
       "      <td>103145.70</td>\n",
       "      <td>1</td>\n",
       "      <td>40.0</td>\n",
       "      <td>K1042</td>\n",
       "      <td>Berlin</td>\n",
       "    </tr>\n",
       "    <tr>\n",
       "      <th>2</th>\n",
       "      <td>55</td>\n",
       "      <td>44341.00</td>\n",
       "      <td>80565.16</td>\n",
       "      <td>0</td>\n",
       "      <td>37.0</td>\n",
       "      <td>K0382</td>\n",
       "      <td>Baden-Württemberg</td>\n",
       "    </tr>\n",
       "    <tr>\n",
       "      <th>3</th>\n",
       "      <td>49</td>\n",
       "      <td>67271.00</td>\n",
       "      <td>83949.89</td>\n",
       "      <td>0</td>\n",
       "      <td>42.0</td>\n",
       "      <td>K0498</td>\n",
       "      <td>Bayern</td>\n",
       "    </tr>\n",
       "    <tr>\n",
       "      <th>4</th>\n",
       "      <td>46</td>\n",
       "      <td>49832.00</td>\n",
       "      <td>93781.58</td>\n",
       "      <td>0</td>\n",
       "      <td>41.0</td>\n",
       "      <td>K0552</td>\n",
       "      <td>Hessen</td>\n",
       "    </tr>\n",
       "    <tr>\n",
       "      <th>...</th>\n",
       "      <td>...</td>\n",
       "      <td>...</td>\n",
       "      <td>...</td>\n",
       "      <td>...</td>\n",
       "      <td>...</td>\n",
       "      <td>...</td>\n",
       "      <td>...</td>\n",
       "    </tr>\n",
       "    <tr>\n",
       "      <th>1990</th>\n",
       "      <td>32</td>\n",
       "      <td>34391.82</td>\n",
       "      <td>NaN</td>\n",
       "      <td>1</td>\n",
       "      <td>48.0</td>\n",
       "      <td>K1211</td>\n",
       "      <td>Hessen</td>\n",
       "    </tr>\n",
       "    <tr>\n",
       "      <th>1991</th>\n",
       "      <td>41</td>\n",
       "      <td>68516.50</td>\n",
       "      <td>NaN</td>\n",
       "      <td>0</td>\n",
       "      <td>34.0</td>\n",
       "      <td>K1375</td>\n",
       "      <td>Sachsen</td>\n",
       "    </tr>\n",
       "    <tr>\n",
       "      <th>1992</th>\n",
       "      <td>65</td>\n",
       "      <td>89685.33</td>\n",
       "      <td>NaN</td>\n",
       "      <td>0</td>\n",
       "      <td>23.0</td>\n",
       "      <td>K1965</td>\n",
       "      <td>Bayern</td>\n",
       "    </tr>\n",
       "    <tr>\n",
       "      <th>1993</th>\n",
       "      <td>68</td>\n",
       "      <td>95714.31</td>\n",
       "      <td>NaN</td>\n",
       "      <td>0</td>\n",
       "      <td>32.0</td>\n",
       "      <td>K1540</td>\n",
       "      <td>Bayern</td>\n",
       "    </tr>\n",
       "    <tr>\n",
       "      <th>1994</th>\n",
       "      <td>49</td>\n",
       "      <td>73319.19</td>\n",
       "      <td>NaN</td>\n",
       "      <td>0</td>\n",
       "      <td>27.0</td>\n",
       "      <td>K1207</td>\n",
       "      <td>Niedersachsen</td>\n",
       "    </tr>\n",
       "  </tbody>\n",
       "</table>\n",
       "<p>1995 rows × 7 columns</p>\n",
       "</div>"
      ],
      "text/plain": [
       "      Alter  Einkommen      Preis  Geschlecht  Zeit KundeNR      Niederlassung\n",
       "0        64   66894.00   88160.31           1  43.0   K0310             Bayern\n",
       "1        54   77644.00  103145.70           1  40.0   K1042             Berlin\n",
       "2        55   44341.00   80565.16           0  37.0   K0382  Baden-Württemberg\n",
       "3        49   67271.00   83949.89           0  42.0   K0498             Bayern\n",
       "4        46   49832.00   93781.58           0  41.0   K0552             Hessen\n",
       "...     ...        ...        ...         ...   ...     ...                ...\n",
       "1990     32   34391.82        NaN           1  48.0   K1211             Hessen\n",
       "1991     41   68516.50        NaN           0  34.0   K1375            Sachsen\n",
       "1992     65   89685.33        NaN           0  23.0   K1965             Bayern\n",
       "1993     68   95714.31        NaN           0  32.0   K1540             Bayern\n",
       "1994     49   73319.19        NaN           0  27.0   K1207      Niedersachsen\n",
       "\n",
       "[1995 rows x 7 columns]"
      ]
     },
     "execution_count": 44,
     "metadata": {},
     "output_type": "execute_result"
    }
   ],
   "source": [
    "merged_df[\"Niederlassung\"] = merged_df[\"Niederlassung\"].replace(\"BERLIN\", \"Berlin\")\n",
    "merged_df[\"Niederlassung\"] = merged_df[\"Niederlassung\"].replace(\"Berlin-Mitte\", \"Berlin\")\n",
    "merged_df[\"Niederlassung\"] = merged_df[\"Niederlassung\"].replace(\"Berlin-Charlottenburg\", \"Berlin\")\n",
    "merged_df[\"Niederlassung\"] = merged_df[\"Niederlassung\"].replace(\"Düsseldorf\", \"Nordrhein-Westfalen\")\n",
    "merged_df[\"Niederlassung\"] = merged_df[\"Niederlassung\"].replace(\"NRW\", \"Nordrhein-Westfalen\")\n",
    "merged_df"
   ]
  },
  {
   "cell_type": "code",
   "execution_count": 45,
   "id": "4a016606",
   "metadata": {},
   "outputs": [
    {
     "data": {
      "text/plain": [
       "array(['Bayern', 'Berlin', 'Baden-Württemberg', 'Hessen', 'Thüringen',\n",
       "       'Sachsen', 'Nordrhein-Westfalen', 'Niedersachsen', 'Hamburg',\n",
       "       'Brandenburg'], dtype=object)"
      ]
     },
     "execution_count": 45,
     "metadata": {},
     "output_type": "execute_result"
    }
   ],
   "source": [
    "merged_df[\"Niederlassung\"].unique()"
   ]
  },
  {
   "cell_type": "markdown",
   "id": "2d6178e4",
   "metadata": {},
   "source": [
    "Kunden stammen aus 10 Bundesländern"
   ]
  },
  {
   "cell_type": "markdown",
   "id": "6545b25d",
   "metadata": {},
   "source": [
    "# 16. 1 Neue Spalte namens \"Typ\" erstellen (Kunden oder Besucher)"
   ]
  },
  {
   "cell_type": "code",
   "execution_count": 46,
   "id": "1635035a",
   "metadata": {},
   "outputs": [],
   "source": [
    "merged_df[\"Typ\"] = merged_df[\"Preis\"].apply(lambda x: 'Kunde' if pd.notna(x) else 'Besucher')"
   ]
  },
  {
   "cell_type": "markdown",
   "id": "833d9cef",
   "metadata": {},
   "source": [
    "# 16.2 Spalte umpositionieren"
   ]
  },
  {
   "cell_type": "code",
   "execution_count": 47,
   "id": "daaf7faf",
   "metadata": {},
   "outputs": [
    {
     "data": {
      "text/html": [
       "<div>\n",
       "<style scoped>\n",
       "    .dataframe tbody tr th:only-of-type {\n",
       "        vertical-align: middle;\n",
       "    }\n",
       "\n",
       "    .dataframe tbody tr th {\n",
       "        vertical-align: top;\n",
       "    }\n",
       "\n",
       "    .dataframe thead th {\n",
       "        text-align: right;\n",
       "    }\n",
       "</style>\n",
       "<table border=\"1\" class=\"dataframe\">\n",
       "  <thead>\n",
       "    <tr style=\"text-align: right;\">\n",
       "      <th></th>\n",
       "      <th>Alter</th>\n",
       "      <th>Einkommen</th>\n",
       "      <th>Preis</th>\n",
       "      <th>Geschlecht</th>\n",
       "      <th>Zeit</th>\n",
       "    </tr>\n",
       "  </thead>\n",
       "  <tbody>\n",
       "    <tr>\n",
       "      <th>count</th>\n",
       "      <td>1995.000000</td>\n",
       "      <td>1995.000000</td>\n",
       "      <td>1104.000000</td>\n",
       "      <td>1995.00000</td>\n",
       "      <td>1995.000000</td>\n",
       "    </tr>\n",
       "    <tr>\n",
       "      <th>mean</th>\n",
       "      <td>50.158396</td>\n",
       "      <td>59106.220060</td>\n",
       "      <td>88975.198714</td>\n",
       "      <td>0.61203</td>\n",
       "      <td>40.262657</td>\n",
       "    </tr>\n",
       "    <tr>\n",
       "      <th>std</th>\n",
       "      <td>11.913807</td>\n",
       "      <td>16353.622987</td>\n",
       "      <td>24464.067781</td>\n",
       "      <td>0.48741</td>\n",
       "      <td>11.621591</td>\n",
       "    </tr>\n",
       "    <tr>\n",
       "      <th>min</th>\n",
       "      <td>30.000000</td>\n",
       "      <td>10802.030000</td>\n",
       "      <td>21471.650000</td>\n",
       "      <td>0.00000</td>\n",
       "      <td>3.000000</td>\n",
       "    </tr>\n",
       "    <tr>\n",
       "      <th>25%</th>\n",
       "      <td>40.000000</td>\n",
       "      <td>47052.705000</td>\n",
       "      <td>70609.422500</td>\n",
       "      <td>0.00000</td>\n",
       "      <td>32.000000</td>\n",
       "    </tr>\n",
       "    <tr>\n",
       "      <th>50%</th>\n",
       "      <td>51.000000</td>\n",
       "      <td>59102.580000</td>\n",
       "      <td>88931.455000</td>\n",
       "      <td>1.00000</td>\n",
       "      <td>40.000000</td>\n",
       "    </tr>\n",
       "    <tr>\n",
       "      <th>75%</th>\n",
       "      <td>61.000000</td>\n",
       "      <td>70677.950000</td>\n",
       "      <td>107093.375000</td>\n",
       "      <td>1.00000</td>\n",
       "      <td>48.000000</td>\n",
       "    </tr>\n",
       "    <tr>\n",
       "      <th>max</th>\n",
       "      <td>70.000000</td>\n",
       "      <td>108569.090000</td>\n",
       "      <td>165482.310000</td>\n",
       "      <td>1.00000</td>\n",
       "      <td>80.000000</td>\n",
       "    </tr>\n",
       "  </tbody>\n",
       "</table>\n",
       "</div>"
      ],
      "text/plain": [
       "             Alter      Einkommen          Preis  Geschlecht         Zeit\n",
       "count  1995.000000    1995.000000    1104.000000  1995.00000  1995.000000\n",
       "mean     50.158396   59106.220060   88975.198714     0.61203    40.262657\n",
       "std      11.913807   16353.622987   24464.067781     0.48741    11.621591\n",
       "min      30.000000   10802.030000   21471.650000     0.00000     3.000000\n",
       "25%      40.000000   47052.705000   70609.422500     0.00000    32.000000\n",
       "50%      51.000000   59102.580000   88931.455000     1.00000    40.000000\n",
       "75%      61.000000   70677.950000  107093.375000     1.00000    48.000000\n",
       "max      70.000000  108569.090000  165482.310000     1.00000    80.000000"
      ]
     },
     "execution_count": 47,
     "metadata": {},
     "output_type": "execute_result"
    }
   ],
   "source": [
    "merged_df.insert(0, \"Typ\", merged_df.pop(\"Typ\"))\n",
    "merged_df.describe()"
   ]
  },
  {
   "cell_type": "code",
   "execution_count": 48,
   "id": "cbecfca5",
   "metadata": {},
   "outputs": [
    {
     "data": {
      "text/plain": [
       "1104"
      ]
     },
     "execution_count": 48,
     "metadata": {},
     "output_type": "execute_result"
    }
   ],
   "source": [
    "merged_df[\"Typ\"].value_counts().get(\"Kunde\")"
   ]
  },
  {
   "cell_type": "code",
   "execution_count": 49,
   "id": "3526f704",
   "metadata": {},
   "outputs": [
    {
     "data": {
      "text/plain": [
       "891"
      ]
     },
     "execution_count": 49,
     "metadata": {},
     "output_type": "execute_result"
    }
   ],
   "source": [
    "merged_df[\"Typ\"].value_counts().get(\"Besucher\")"
   ]
  },
  {
   "cell_type": "markdown",
   "id": "20cc1c4b",
   "metadata": {},
   "source": [
    "# 17 CSV Speichern"
   ]
  },
  {
   "cell_type": "code",
   "execution_count": 50,
   "id": "ee62cb6e",
   "metadata": {},
   "outputs": [],
   "source": [
    "merged_df.to_csv(\"data/df_final.csv\", index = False)"
   ]
  },
  {
   "cell_type": "code",
   "execution_count": 51,
   "id": "bd3c0528",
   "metadata": {},
   "outputs": [],
   "source": [
    "df_1.to_csv(\"data/df_1.csv\", index = False)"
   ]
  },
  {
   "cell_type": "code",
   "execution_count": 52,
   "id": "fbe519a1",
   "metadata": {},
   "outputs": [],
   "source": [
    "df_2.to_csv(\"data/df_2.csv\", index = False)"
   ]
  },
  {
   "cell_type": "code",
   "execution_count": 53,
   "id": "5ae6c6fe",
   "metadata": {},
   "outputs": [],
   "source": [
    "df_3.to_csv(\"data/df_3.csv\", index = False)"
   ]
  },
  {
   "cell_type": "markdown",
   "id": "1dedb656",
   "metadata": {},
   "source": [
    "# 18 Kundennummer als Index"
   ]
  },
  {
   "cell_type": "code",
   "execution_count": 54,
   "id": "d303bc0d",
   "metadata": {},
   "outputs": [
    {
     "data": {
      "text/html": [
       "<div>\n",
       "<style scoped>\n",
       "    .dataframe tbody tr th:only-of-type {\n",
       "        vertical-align: middle;\n",
       "    }\n",
       "\n",
       "    .dataframe tbody tr th {\n",
       "        vertical-align: top;\n",
       "    }\n",
       "\n",
       "    .dataframe thead th {\n",
       "        text-align: right;\n",
       "    }\n",
       "</style>\n",
       "<table border=\"1\" class=\"dataframe\">\n",
       "  <thead>\n",
       "    <tr style=\"text-align: right;\">\n",
       "      <th></th>\n",
       "      <th>Typ</th>\n",
       "      <th>Alter</th>\n",
       "      <th>Einkommen</th>\n",
       "      <th>Preis</th>\n",
       "      <th>Geschlecht</th>\n",
       "      <th>Zeit</th>\n",
       "      <th>Niederlassung</th>\n",
       "    </tr>\n",
       "    <tr>\n",
       "      <th>KundeNR</th>\n",
       "      <th></th>\n",
       "      <th></th>\n",
       "      <th></th>\n",
       "      <th></th>\n",
       "      <th></th>\n",
       "      <th></th>\n",
       "      <th></th>\n",
       "    </tr>\n",
       "  </thead>\n",
       "  <tbody>\n",
       "    <tr>\n",
       "      <th>K0310</th>\n",
       "      <td>Kunde</td>\n",
       "      <td>64</td>\n",
       "      <td>66894.00</td>\n",
       "      <td>88160.31</td>\n",
       "      <td>1</td>\n",
       "      <td>43.0</td>\n",
       "      <td>Bayern</td>\n",
       "    </tr>\n",
       "    <tr>\n",
       "      <th>K1042</th>\n",
       "      <td>Kunde</td>\n",
       "      <td>54</td>\n",
       "      <td>77644.00</td>\n",
       "      <td>103145.70</td>\n",
       "      <td>1</td>\n",
       "      <td>40.0</td>\n",
       "      <td>Berlin</td>\n",
       "    </tr>\n",
       "    <tr>\n",
       "      <th>K0382</th>\n",
       "      <td>Kunde</td>\n",
       "      <td>55</td>\n",
       "      <td>44341.00</td>\n",
       "      <td>80565.16</td>\n",
       "      <td>0</td>\n",
       "      <td>37.0</td>\n",
       "      <td>Baden-Württemberg</td>\n",
       "    </tr>\n",
       "    <tr>\n",
       "      <th>K0498</th>\n",
       "      <td>Kunde</td>\n",
       "      <td>49</td>\n",
       "      <td>67271.00</td>\n",
       "      <td>83949.89</td>\n",
       "      <td>0</td>\n",
       "      <td>42.0</td>\n",
       "      <td>Bayern</td>\n",
       "    </tr>\n",
       "    <tr>\n",
       "      <th>K0552</th>\n",
       "      <td>Kunde</td>\n",
       "      <td>46</td>\n",
       "      <td>49832.00</td>\n",
       "      <td>93781.58</td>\n",
       "      <td>0</td>\n",
       "      <td>41.0</td>\n",
       "      <td>Hessen</td>\n",
       "    </tr>\n",
       "    <tr>\n",
       "      <th>...</th>\n",
       "      <td>...</td>\n",
       "      <td>...</td>\n",
       "      <td>...</td>\n",
       "      <td>...</td>\n",
       "      <td>...</td>\n",
       "      <td>...</td>\n",
       "      <td>...</td>\n",
       "    </tr>\n",
       "    <tr>\n",
       "      <th>K1211</th>\n",
       "      <td>Besucher</td>\n",
       "      <td>32</td>\n",
       "      <td>34391.82</td>\n",
       "      <td>NaN</td>\n",
       "      <td>1</td>\n",
       "      <td>48.0</td>\n",
       "      <td>Hessen</td>\n",
       "    </tr>\n",
       "    <tr>\n",
       "      <th>K1375</th>\n",
       "      <td>Besucher</td>\n",
       "      <td>41</td>\n",
       "      <td>68516.50</td>\n",
       "      <td>NaN</td>\n",
       "      <td>0</td>\n",
       "      <td>34.0</td>\n",
       "      <td>Sachsen</td>\n",
       "    </tr>\n",
       "    <tr>\n",
       "      <th>K1965</th>\n",
       "      <td>Besucher</td>\n",
       "      <td>65</td>\n",
       "      <td>89685.33</td>\n",
       "      <td>NaN</td>\n",
       "      <td>0</td>\n",
       "      <td>23.0</td>\n",
       "      <td>Bayern</td>\n",
       "    </tr>\n",
       "    <tr>\n",
       "      <th>K1540</th>\n",
       "      <td>Besucher</td>\n",
       "      <td>68</td>\n",
       "      <td>95714.31</td>\n",
       "      <td>NaN</td>\n",
       "      <td>0</td>\n",
       "      <td>32.0</td>\n",
       "      <td>Bayern</td>\n",
       "    </tr>\n",
       "    <tr>\n",
       "      <th>K1207</th>\n",
       "      <td>Besucher</td>\n",
       "      <td>49</td>\n",
       "      <td>73319.19</td>\n",
       "      <td>NaN</td>\n",
       "      <td>0</td>\n",
       "      <td>27.0</td>\n",
       "      <td>Niedersachsen</td>\n",
       "    </tr>\n",
       "  </tbody>\n",
       "</table>\n",
       "<p>1995 rows × 7 columns</p>\n",
       "</div>"
      ],
      "text/plain": [
       "              Typ  Alter  Einkommen      Preis  Geschlecht  Zeit  \\\n",
       "KundeNR                                                            \n",
       "K0310       Kunde     64   66894.00   88160.31           1  43.0   \n",
       "K1042       Kunde     54   77644.00  103145.70           1  40.0   \n",
       "K0382       Kunde     55   44341.00   80565.16           0  37.0   \n",
       "K0498       Kunde     49   67271.00   83949.89           0  42.0   \n",
       "K0552       Kunde     46   49832.00   93781.58           0  41.0   \n",
       "...           ...    ...        ...        ...         ...   ...   \n",
       "K1211    Besucher     32   34391.82        NaN           1  48.0   \n",
       "K1375    Besucher     41   68516.50        NaN           0  34.0   \n",
       "K1965    Besucher     65   89685.33        NaN           0  23.0   \n",
       "K1540    Besucher     68   95714.31        NaN           0  32.0   \n",
       "K1207    Besucher     49   73319.19        NaN           0  27.0   \n",
       "\n",
       "             Niederlassung  \n",
       "KundeNR                     \n",
       "K0310               Bayern  \n",
       "K1042               Berlin  \n",
       "K0382    Baden-Württemberg  \n",
       "K0498               Bayern  \n",
       "K0552               Hessen  \n",
       "...                    ...  \n",
       "K1211               Hessen  \n",
       "K1375              Sachsen  \n",
       "K1965               Bayern  \n",
       "K1540               Bayern  \n",
       "K1207        Niedersachsen  \n",
       "\n",
       "[1995 rows x 7 columns]"
      ]
     },
     "execution_count": 54,
     "metadata": {},
     "output_type": "execute_result"
    }
   ],
   "source": [
    "merged_df.set_index(\"KundeNR\", inplace=True)\n",
    "merged_df\n"
   ]
  },
  {
   "cell_type": "code",
   "execution_count": 55,
   "id": "b0bed847",
   "metadata": {
    "scrolled": true
   },
   "outputs": [
    {
     "data": {
      "image/png": "[encoded data removed]",
      "text/plain": [
       "<Figure size 1500x600 with 1 Axes>"
      ]
     },
     "metadata": {},
     "output_type": "display_data"
    },
    {
     "data": {
      "image/png": "[encoded data removed]",
      "text/plain": [
       "<Figure size 1500x600 with 1 Axes>"
      ]
     },
     "metadata": {},
     "output_type": "display_data"
    },
    {
     "data": {
      "image/png": "[encoded data removed]",
      "text/plain": [
       "<Figure size 1500x600 with 1 Axes>"
      ]
     },
     "metadata": {},
     "output_type": "display_data"
    },
    {
     "data": {
      "image/png": "[encoded data removed]",
      "text/plain": [
       "<Figure size 1500x600 with 1 Axes>"
      ]
     },
     "metadata": {},
     "output_type": "display_data"
    },
    {
     "data": {
      "image/png": "[encoded data removed]",
      "text/plain": [
       "<Figure size 1500x600 with 1 Axes>"
      ]
     },
     "metadata": {},
     "output_type": "display_data"
    }
   ],
   "source": [
    "for i in merged_df.select_dtypes(include = \"number\").columns:\n",
    "    plt.figure(figsize=(15,6))\n",
    "    sns.boxplot(data=merged_df, x = i)\n",
    "    plt.show()"
   ]
  },
  {
   "cell_type": "markdown",
   "id": "7f7e393e",
   "metadata": {},
   "source": [
    "# Frage 1: Wie viele Autos wurden verkauft?"
   ]
  },
  {
   "cell_type": "code",
   "execution_count": 56,
   "id": "b7c05a24",
   "metadata": {},
   "outputs": [
    {
     "data": {
      "text/plain": [
       "1104"
      ]
     },
     "execution_count": 56,
     "metadata": {},
     "output_type": "execute_result"
    }
   ],
   "source": [
    "# Zöhle die Anzahl der Preise und gebe die Summe wieder\n",
    "Sales = merged_df[\"Preis\"].count()\n",
    "Sales"
   ]
  },
  {
   "cell_type": "code",
   "execution_count": 57,
   "id": "964a809e",
   "metadata": {},
   "outputs": [
    {
     "data": {
      "text/plain": [
       "1104"
      ]
     },
     "execution_count": 57,
     "metadata": {},
     "output_type": "execute_result"
    }
   ],
   "source": [
    "Sales_1 = df_1[\"Preis\"].count()\n",
    "Sales_1"
   ]
  },
  {
   "cell_type": "markdown",
   "id": "8ed95185",
   "metadata": {},
   "source": [
    "# Frage 2:  Was ist der Höchst-, Mindest- und Durchschnittspreis der verkauften Autos?"
   ]
  },
  {
   "cell_type": "code",
   "execution_count": 58,
   "id": "2f96f173",
   "metadata": {},
   "outputs": [],
   "source": [
    "Hoechstpreis = df_1[\"Preis\"].max()\n",
    "Mindestpreis = df_1[\"Preis\"].min()\n",
    "Durchschnittspreis = df_1[\"Preis\"].mean().round(2)"
   ]
  },
  {
   "cell_type": "code",
   "execution_count": 59,
   "id": "fc9bf9a4",
   "metadata": {},
   "outputs": [
    {
     "data": {
      "text/plain": [
       "165482.31"
      ]
     },
     "execution_count": 59,
     "metadata": {},
     "output_type": "execute_result"
    }
   ],
   "source": [
    "Hoechstpreis"
   ]
  },
  {
   "cell_type": "code",
   "execution_count": 60,
   "id": "b2692a92",
   "metadata": {},
   "outputs": [
    {
     "data": {
      "text/plain": [
       "21471.65"
      ]
     },
     "execution_count": 60,
     "metadata": {},
     "output_type": "execute_result"
    }
   ],
   "source": [
    "Mindestpreis"
   ]
  },
  {
   "cell_type": "code",
   "execution_count": 61,
   "id": "aa69d26e",
   "metadata": {},
   "outputs": [
    {
     "data": {
      "text/plain": [
       "88975.2"
      ]
     },
     "execution_count": 61,
     "metadata": {},
     "output_type": "execute_result"
    }
   ],
   "source": [
    "Durchschnittspreis"
   ]
  },
  {
   "cell_type": "markdown",
   "id": "e2eeb7ea",
   "metadata": {},
   "source": [
    "# Frage 3:  Wie hoch war der Gesamtumsatz?\n"
   ]
  },
  {
   "cell_type": "code",
   "execution_count": 62,
   "id": "a13b0bb5",
   "metadata": {},
   "outputs": [
    {
     "data": {
      "text/plain": [
       "98228619.38000001"
      ]
     },
     "execution_count": 62,
     "metadata": {},
     "output_type": "execute_result"
    }
   ],
   "source": [
    "Gesamtumsatz = merged_df[\"Preis\"].sum()\n",
    "Gesamtumsatz"
   ]
  },
  {
   "cell_type": "code",
   "execution_count": 63,
   "id": "8ea7d9cf",
   "metadata": {},
   "outputs": [
    {
     "data": {
      "text/plain": [
       "98228619.38000001"
      ]
     },
     "execution_count": 63,
     "metadata": {},
     "output_type": "execute_result"
    }
   ],
   "source": [
    "Gesamtumsatz_1 = df_1[\"Preis\"].sum()\n",
    "Gesamtumsatz_1"
   ]
  },
  {
   "cell_type": "markdown",
   "id": "e59aed5f",
   "metadata": {},
   "source": [
    "# Frage 4: Wie viele Autos wurden pro Bundesland verkauft?"
   ]
  },
  {
   "cell_type": "code",
   "execution_count": 64,
   "id": "e898ccb6",
   "metadata": {},
   "outputs": [
    {
     "data": {
      "text/plain": [
       "Niederlassung\n",
       "Baden-Württemberg      205\n",
       "Bayern                 188\n",
       "Berlin                 126\n",
       "Brandenburg             37\n",
       "Hamburg                 43\n",
       "Hessen                  96\n",
       "Niedersachsen           96\n",
       "Nordrhein-Westfalen    175\n",
       "Sachsen                 89\n",
       "Thüringen               49\n",
       "Name: Preis, dtype: int64"
      ]
     },
     "execution_count": 64,
     "metadata": {},
     "output_type": "execute_result"
    }
   ],
   "source": [
    "# Methode groupby() verwendet, um das DataFrame nach der Spalte \"Niederlassung\" zu gruppieren\n",
    "Autos_pro_Bundesland = merged_df.groupby(\"Niederlassung\")[\"Preis\"].count()\n",
    "Autos_pro_Bundesland"
   ]
  },
  {
   "cell_type": "code",
   "execution_count": 65,
   "id": "a6f5440c",
   "metadata": {
    "scrolled": false
   },
   "outputs": [
    {
     "data": {
      "image/png": "[encoded data removed]",
      "text/plain": [
       "<Figure size 640x480 with 1 Axes>"
      ]
     },
     "metadata": {},
     "output_type": "display_data"
    },
    {
     "data": {
      "image/png": "[encoded data removed]",
      "text/plain": [
       "<Figure size 1000x600 with 1 Axes>"
      ]
     },
     "metadata": {},
     "output_type": "display_data"
    }
   ],
   "source": [
    "daten = {\"Bundesland\": [\"Baden-Württemberg\", \"Bayern\", \"Berlin\", \"Brandenburg\", \"Hessen\", \"Hamburg\", \"Niedersachsen\", \"Nordrhein-Westfalen\", \"Sachsen\", \"Thüringen\"],\n",
    "        \"Verkaufte_Autos\": [205, 188, 126, 37, 96, 43, 96, 175, 89, 49]}\n",
    "df_torte_daten = pd.DataFrame(daten)\n",
    "farben_palette = ['lightcoral', 'lightgreen', 'lightskyblue', 'gold', 'orange', 'lightpink', 'lightblue', 'mediumseagreen', 'lightcyan', 'plum']\n",
    "\n",
    "# Tortendiagramm erstellen\n",
    "plt.pie(df_torte_daten[\"Verkaufte_Autos\"], labels= None, autopct=\"%1.1f%%\", startangle=90, colors=farben_palette, pctdistance = 0.85)\n",
    "\n",
    "# Hinzufügen von Beschriftungen und Titel\n",
    "plt.axis(\"equal\")\n",
    "plt.title(\"Verkaufte Autos pro Bundesland\", fontsize = 16, fontweight= \"bold\")\n",
    "plt.legend(df_torte_daten[\"Bundesland\"], title=\"Bundesland\", bbox_to_anchor=(1, 0.5), loc=\"center left\")\n",
    "plt.show()\n",
    "\n",
    "#\n",
    "df_saeule_daten = pd.DataFrame(daten)\n",
    "\n",
    "# Säulendiagramm erstellen\n",
    "plt.figure(figsize=(10, 6))\n",
    "saeulen = plt.bar(df_saeule_daten[\"Bundesland\"], df_saeule_daten[\"Verkaufte_Autos\"], color='skyblue') \n",
    "\n",
    "# Absolute Werte über den Säulen anzeigen\n",
    "for saeule in saeulen:\n",
    "    height = saeule.get_height()\n",
    "    plt.text(saeule.get_x() + saeule.get_width() / 2, height, f\"{int(height)}\", ha=\"center\", va=\"top\", fontsize=10)\n",
    "#saeule.get_x() + saeule.get_width() / 2: Dieser Ausdruck gibt die x-Position in der Mitte der aktuellen Säule zurück.\n",
    "#height: Dies ist die Höhe der aktuellen Säule.\n",
    "# f\"{int(height)}\": Formatiert die Höhe der Säule als Ganzzahl und erstellt einen Textstring, der die absolute Zahl repräsentiert\n",
    "\n",
    "# Hinzufügen von Beschriftungen und Titel\n",
    "plt.xlabel(\"Bundesland\", fontsize=12)\n",
    "plt.ylabel(\"Verkaufte Autos\", fontsize=12)\n",
    "plt.title(\"Verkaufte Autos pro Bundesland\", fontsize=16, fontweight=\"bold\")\n",
    "plt.xticks(rotation=45, ha=\"right\")\n",
    "plt.show()"
   ]
  },
  {
   "cell_type": "markdown",
   "id": "46f6184c",
   "metadata": {},
   "source": [
    "# Frage 5:  Wie hoch war der durchschnittliche Umsatz pro Auto pro Bundesland?"
   ]
  },
  {
   "cell_type": "code",
   "execution_count": 66,
   "id": "9638ee5a",
   "metadata": {},
   "outputs": [
    {
     "data": {
      "text/plain": [
       "Niederlassung\n",
       "Baden-Württemberg      90969.560000\n",
       "Bayern                 89344.313245\n",
       "Berlin                 89584.984048\n",
       "Brandenburg            86673.640811\n",
       "Hamburg                85549.499070\n",
       "Hessen                 85864.929479\n",
       "Niedersachsen          87963.312500\n",
       "Nordrhein-Westfalen    88633.265200\n",
       "Sachsen                89455.080674\n",
       "Thüringen              90816.994082\n",
       "Name: Preis, dtype: float64"
      ]
     },
     "execution_count": 66,
     "metadata": {},
     "output_type": "execute_result"
    }
   ],
   "source": [
    "# Methode groupby() verwendet, um das DataFrame nach der Spalte \"Niederlassung\" zu gruppieren\n",
    "durchschnittsumsatz_pro_bundesland = merged_df.groupby('Niederlassung')['Preis'].mean()\n",
    "durchschnittsumsatz_pro_bundesland"
   ]
  },
  {
   "cell_type": "code",
   "execution_count": 67,
   "id": "52ea9618",
   "metadata": {},
   "outputs": [
    {
     "data": {
      "image/png": "[encoded data removed]",
      "text/plain": [
       "<Figure size 1000x600 with 1 Axes>"
      ]
     },
     "metadata": {},
     "output_type": "display_data"
    }
   ],
   "source": [
    "# Plot\n",
    "plt.figure(figsize=(10, 6))\n",
    "\n",
    "# Balkendiagramm für durchschnittlichen Umsatz pro Auto pro Bundesland\n",
    "bars = plt.bar(durchschnittsumsatz_pro_bundesland.index, durchschnittsumsatz_pro_bundesland, color='blue', label='Durchschnittsumsatz')\n",
    "\n",
    "# Zahlen auf den Säulen anzeigen\n",
    "for bar in bars:\n",
    "    yval = bar.get_height()\n",
    "    plt.text(bar.get_x() + bar.get_width()/2, yval, round(yval, 2), ha='center', va='bottom')\n",
    "\n",
    "# Achsentitel und Legende\n",
    "plt.title('Durchschnittsumsatz pro Auto pro Bundesland')\n",
    "plt.xlabel('Bundesland')\n",
    "plt.ylabel('Durchschnittsumsatz')\n",
    "\n",
    "# X-Achsenbeschriftungen senkrecht anzeigen lassen\n",
    "plt.xticks(rotation='vertical')\n",
    "\n",
    "plt.show()"
   ]
  },
  {
   "cell_type": "markdown",
   "id": "6123b4aa",
   "metadata": {},
   "source": [
    "# Frage 6: Haben mehr Frauen oder mehr Männer unsere Autos gekauft?"
   ]
  },
  {
   "cell_type": "code",
   "execution_count": 68,
   "id": "90b2f0e7",
   "metadata": {},
   "outputs": [
    {
     "name": "stdout",
     "output_type": "stream",
     "text": [
      "Männer machen die Mehrheit der Kunden aus.\n"
     ]
    }
   ],
   "source": [
    "Kunden_Verteilung = merged_df[merged_df[\"Typ\"] == \"Kunde\"].groupby(\"Geschlecht\").size()\n",
    "\n",
    "if Kunden_Verteilung.get(1, 0) > Kunden_Verteilung.get(0, 0):\n",
    "    print(\"Männer machen die Mehrheit der Kunden aus.\")\n",
    "elif Kunden_Verteilung.get(1, 0) > Kunden_Verteilung.get(0, 0):\n",
    "     print(\"Frauen machen die Mehrheit der Kunden aus.\")   \n",
    "else:\n",
    "    print(\"50 % Männer und 50 % Frauen.\")\n"
   ]
  },
  {
   "cell_type": "code",
   "execution_count": 69,
   "id": "8db1a973",
   "metadata": {},
   "outputs": [
    {
     "data": {
      "image/png": "[encoded data removed]",
      "text/plain": [
       "<Figure size 640x480 with 1 Axes>"
      ]
     },
     "metadata": {},
     "output_type": "display_data"
    }
   ],
   "source": [
    "verteilung_nach_geschlecht = merged_df[merged_df[\"Typ\"] == \"Kunde\"][\"Geschlecht\"].value_counts(normalize=True) * 100\n",
    "anzahl_nach_geschlecht = merged_df[merged_df[\"Typ\"] == \"Kunde\"][\"Geschlecht\"].value_counts()\n",
    "\n",
    "# Balkendiagramm erstellen\n",
    "colors = [\"blue\", \"pink\"]\n",
    "plt.bar([\"Männlich\"], [verteilung_nach_geschlecht[1]], color=\"blue\", label=f\"Männlich ({anzahl_nach_geschlecht[1]})\\n{verteilung_nach_geschlecht[1]:.2f}%\")\n",
    "plt.bar([\"Weiblich\"], [verteilung_nach_geschlecht[0]], color=\"pink\", label=f\"Weiblich ({anzahl_nach_geschlecht[0]})\\n{verteilung_nach_geschlecht[0]:.2f}%\")\n",
    "\n",
    "\n",
    "\n",
    "plt.title(\"Verteilung der Kunden nach Geschlecht\", fontsize = 16, fontweight= \"bold\")\n",
    "plt.ylabel(\"Anteil (%)\")\n",
    "plt.legend()\n",
    "plt.show()\n"
   ]
  },
  {
   "cell_type": "code",
   "execution_count": 70,
   "id": "56c6c8b1",
   "metadata": {},
   "outputs": [
    {
     "data": {
      "text/plain": [
       "Geschlecht\n",
       "1    706\n",
       "0    398\n",
       "Name: count, dtype: int64"
      ]
     },
     "execution_count": 70,
     "metadata": {},
     "output_type": "execute_result"
    }
   ],
   "source": [
    "Kunden_Verteilung_1 = df_1[\"Geschlecht\"].value_counts()\n",
    "Kunden_Verteilung_1"
   ]
  },
  {
   "cell_type": "markdown",
   "id": "92af46a7",
   "metadata": {},
   "source": [
    "# Frage 7: Wie hoch ist das Durchschnittsalter unserer Kunden?"
   ]
  },
  {
   "cell_type": "code",
   "execution_count": 71,
   "id": "fa73d43c",
   "metadata": {},
   "outputs": [
    {
     "data": {
      "text/plain": [
       "50.4"
      ]
     },
     "execution_count": 71,
     "metadata": {},
     "output_type": "execute_result"
    }
   ],
   "source": [
    "Durchschnittsalter_Kunden = merged_df.loc[merged_df[\"Typ\"] == \"Kunde\", \"Alter\"].mean().round(1)\n",
    "Durchschnittsalter_Kunden"
   ]
  },
  {
   "cell_type": "code",
   "execution_count": 72,
   "id": "9341aba7",
   "metadata": {},
   "outputs": [
    {
     "data": {
      "text/plain": [
       "50.4"
      ]
     },
     "execution_count": 72,
     "metadata": {},
     "output_type": "execute_result"
    }
   ],
   "source": [
    "Durchschnittsalter_Kunden_1 = df_1[\"Alter\"].mean().round(1)\n",
    "Durchschnittsalter_Kunden_1"
   ]
  },
  {
   "cell_type": "code",
   "execution_count": 73,
   "id": "580629cd",
   "metadata": {
    "scrolled": false
   },
   "outputs": [
    {
     "data": {
      "image/png": "[encoded data removed]",
      "text/plain": [
       "<Figure size 1200x600 with 1 Axes>"
      ]
     },
     "metadata": {},
     "output_type": "display_data"
    }
   ],
   "source": [
    "# Häufigkeiten zählen und von klein nach groß sortieren\n",
    "Haeufigkeiten_sortiert = df_1[\"Alter\"].value_counts().sort_index()\n",
    "\n",
    "# Diagramm erstellen mit Säulen\n",
    "plt.figure(figsize=(12, 6))\n",
    "plt.bar(Haeufigkeiten_sortiert.index, Haeufigkeiten_sortiert)\n",
    "\n",
    "# Diagramm beschriften\n",
    "plt.title(\"Alter unserer Kunden\")\n",
    "plt.xlabel(\"Alter\")\n",
    "plt.ylabel(\"Häufigkeit\")\n",
    "\n",
    "# Diagramm anzeigen\n",
    "plt.show()"
   ]
  },
  {
   "cell_type": "markdown",
   "id": "af60dcd4",
   "metadata": {},
   "source": [
    "# Frage 8:  Wie hoch ist das Durchschnittsalter der Besucher in unseren Showrooms?"
   ]
  },
  {
   "cell_type": "code",
   "execution_count": 74,
   "id": "b1dc025b",
   "metadata": {},
   "outputs": [
    {
     "data": {
      "text/plain": [
       "49.9"
      ]
     },
     "execution_count": 74,
     "metadata": {},
     "output_type": "execute_result"
    }
   ],
   "source": [
    "Durchschnittsalter_Kunden = merged_df.loc[merged_df[\"Typ\"] == \"Besucher\", \"Alter\"].mean().round(1)\n",
    "Durchschnittsalter_Kunden"
   ]
  },
  {
   "cell_type": "markdown",
   "id": "453df317",
   "metadata": {},
   "source": [
    "# Frage 9: Durchschnittsalter männliche Kunden"
   ]
  },
  {
   "cell_type": "code",
   "execution_count": 75,
   "id": "19108a95",
   "metadata": {},
   "outputs": [
    {
     "data": {
      "text/plain": [
       "50.47"
      ]
     },
     "execution_count": 75,
     "metadata": {},
     "output_type": "execute_result"
    }
   ],
   "source": [
    "Bedingung = (merged_df[\"Typ\"] == \"Kunde\") & (merged_df[\"Geschlecht\"] == 1)\n",
    "Durchschnittsalter_maennlich = merged_df.loc[Bedingung, \"Alter\"].mean().round(2)\n",
    "Durchschnittsalter_maennlich"
   ]
  },
  {
   "cell_type": "markdown",
   "id": "904f3679",
   "metadata": {},
   "source": [
    "# Frage 10: Wie hoch ist das Durchschnittseinkommen unserer Kunden?"
   ]
  },
  {
   "cell_type": "code",
   "execution_count": 76,
   "id": "fd467c91",
   "metadata": {},
   "outputs": [
    {
     "data": {
      "text/plain": [
       "58895.0"
      ]
     },
     "execution_count": 76,
     "metadata": {},
     "output_type": "execute_result"
    }
   ],
   "source": [
    "Durchschnittseinkommen_Kunden = merged_df.loc[merged_df[\"Typ\"] == \"Kunde\", \"Einkommen\"].mean().round(2)\n",
    "Durchschnittseinkommen_Kunden"
   ]
  },
  {
   "cell_type": "code",
   "execution_count": 77,
   "id": "036636a5",
   "metadata": {},
   "outputs": [
    {
     "data": {
      "text/plain": [
       "58895.0"
      ]
     },
     "execution_count": 77,
     "metadata": {},
     "output_type": "execute_result"
    }
   ],
   "source": [
    "Durchschnittseinkommen_Kunden = df_1[\"Einkommen\"].mean().round(2)\n",
    "Durchschnittseinkommen_Kunden"
   ]
  },
  {
   "cell_type": "markdown",
   "id": "a77ce6e3",
   "metadata": {},
   "source": [
    "# Frage 11: Wie hoch ist die Korrelation (Pearson-Korrelation) zwischen den Variablen Alter, Einkommen, Preis und Zeit? (nur für die Kunden)"
   ]
  },
  {
   "cell_type": "code",
   "execution_count": 78,
   "id": "f85b251e",
   "metadata": {},
   "outputs": [],
   "source": [
    "df_11 = df_1[[\"Alter\", \"Einkommen\", \"Preis\", \"Zeit\"]]"
   ]
  },
  {
   "cell_type": "code",
   "execution_count": 79,
   "id": "5f5ecafa",
   "metadata": {},
   "outputs": [
    {
     "data": {
      "text/html": [
       "<div>\n",
       "<style scoped>\n",
       "    .dataframe tbody tr th:only-of-type {\n",
       "        vertical-align: middle;\n",
       "    }\n",
       "\n",
       "    .dataframe tbody tr th {\n",
       "        vertical-align: top;\n",
       "    }\n",
       "\n",
       "    .dataframe thead th {\n",
       "        text-align: right;\n",
       "    }\n",
       "</style>\n",
       "<table border=\"1\" class=\"dataframe\">\n",
       "  <thead>\n",
       "    <tr style=\"text-align: right;\">\n",
       "      <th></th>\n",
       "      <th>Alter</th>\n",
       "      <th>Einkommen</th>\n",
       "      <th>Preis</th>\n",
       "      <th>Zeit</th>\n",
       "    </tr>\n",
       "  </thead>\n",
       "  <tbody>\n",
       "    <tr>\n",
       "      <th>Alter</th>\n",
       "      <td>1.000000</td>\n",
       "      <td>0.762055</td>\n",
       "      <td>0.780937</td>\n",
       "      <td>0.589595</td>\n",
       "    </tr>\n",
       "    <tr>\n",
       "      <th>Einkommen</th>\n",
       "      <td>0.762055</td>\n",
       "      <td>1.000000</td>\n",
       "      <td>0.896557</td>\n",
       "      <td>0.776198</td>\n",
       "    </tr>\n",
       "    <tr>\n",
       "      <th>Preis</th>\n",
       "      <td>0.780937</td>\n",
       "      <td>0.896557</td>\n",
       "      <td>1.000000</td>\n",
       "      <td>0.707778</td>\n",
       "    </tr>\n",
       "    <tr>\n",
       "      <th>Zeit</th>\n",
       "      <td>0.589595</td>\n",
       "      <td>0.776198</td>\n",
       "      <td>0.707778</td>\n",
       "      <td>1.000000</td>\n",
       "    </tr>\n",
       "  </tbody>\n",
       "</table>\n",
       "</div>"
      ],
      "text/plain": [
       "              Alter  Einkommen     Preis      Zeit\n",
       "Alter      1.000000   0.762055  0.780937  0.589595\n",
       "Einkommen  0.762055   1.000000  0.896557  0.776198\n",
       "Preis      0.780937   0.896557  1.000000  0.707778\n",
       "Zeit       0.589595   0.776198  0.707778  1.000000"
      ]
     },
     "execution_count": 79,
     "metadata": {},
     "output_type": "execute_result"
    }
   ],
   "source": [
    "df_11.corr()"
   ]
  },
  {
   "cell_type": "code",
   "execution_count": 80,
   "id": "673aaa1a",
   "metadata": {},
   "outputs": [
    {
     "data": {
      "image/png": "[encoded data removed]",
      "text/plain": [
       "<Figure size 640x480 with 2 Axes>"
      ]
     },
     "metadata": {},
     "output_type": "display_data"
    }
   ],
   "source": [
    "sns.heatmap(df_11.corr(), annot = True, cmap = \"coolwarm\", mask=np.triu(df_11.corr(),+1),linewidth=1.5)\n",
    "plt.title(\"Korrelation Heatmap\")\n",
    "plt.show()"
   ]
  },
  {
   "cell_type": "markdown",
   "id": "60592bda",
   "metadata": {},
   "source": [
    "# Frage 12:  Wie ist die Variable Zeit verteilt? (Kunden und Besucher zusammen)\n"
   ]
  },
  {
   "cell_type": "code",
   "execution_count": 81,
   "id": "6048cf3c",
   "metadata": {},
   "outputs": [
    {
     "name": "stdout",
     "output_type": "stream",
     "text": [
      "Statistische Informationen zur Variable 'Zeit':\n",
      "count    1995.000000\n",
      "mean       40.262657\n",
      "std        11.621591\n",
      "min         3.000000\n",
      "25%        32.000000\n",
      "50%        40.000000\n",
      "75%        48.000000\n",
      "max        80.000000\n",
      "Name: Zeit, dtype: float64\n"
     ]
    }
   ],
   "source": [
    "print(\"Statistische Informationen zur Variable 'Zeit':\")\n",
    "print(merged_df[\"Zeit\"].describe())"
   ]
  },
  {
   "cell_type": "code",
   "execution_count": 82,
   "id": "27c7a583",
   "metadata": {
    "scrolled": false
   },
   "outputs": [
    {
     "data": {
      "image/png": "[encoded data removed]",
      "text/plain": [
       "<Figure size 640x480 with 1 Axes>"
      ]
     },
     "metadata": {},
     "output_type": "display_data"
    }
   ],
   "source": [
    "x1 = plt.hist(merged_df[\"Zeit\"], bins=10, edgecolor=\"black\")\n",
    "plt.title(\"Verteilung der variablen Zeit\", fontsize = 16, fontweight= \"bold\")\n",
    "plt.ylabel(\"Anteil (%)\")\n",
    "plt.xlabel(\"Zeit (Minuten)\")\n",
    "plt.ylabel(\"Häufigkeit\")\n",
    "plt.show()\n"
   ]
  },
  {
   "cell_type": "code",
   "execution_count": 83,
   "id": "39478ea5",
   "metadata": {
    "scrolled": false
   },
   "outputs": [
    {
     "data": {
      "image/png": "[encoded data removed]",
      "text/plain": [
       "<Figure size 1500x600 with 1 Axes>"
      ]
     },
     "metadata": {},
     "output_type": "display_data"
    }
   ],
   "source": [
    "column_to_plot = \"Zeit\"\n",
    "\n",
    "plt.figure(figsize=(15, 6))\n",
    "sns.kdeplot(data=merged_df, x=column_to_plot)\n",
    "plt.show()"
   ]
  },
  {
   "cell_type": "markdown",
   "id": "ffd33e75",
   "metadata": {},
   "source": [
    "# Frage 13: Wie viele Kunden haben keinen Kredit bei der Bank genommen?"
   ]
  },
  {
   "cell_type": "code",
   "execution_count": 84,
   "id": "ce4f4a82",
   "metadata": {},
   "outputs": [
    {
     "data": {
      "text/plain": [
       "5"
      ]
     },
     "execution_count": 84,
     "metadata": {},
     "output_type": "execute_result"
    }
   ],
   "source": [
    "Kunden_ohne_Kredit_1 = df_1[df_1[\"Einkommen\"] > df_1[\"Preis\"]].shape[0]\n",
    "Kunden_ohne_Kredit_1"
   ]
  },
  {
   "cell_type": "code",
   "execution_count": 85,
   "id": "850300cd",
   "metadata": {},
   "outputs": [
    {
     "data": {
      "text/plain": [
       "5"
      ]
     },
     "execution_count": 85,
     "metadata": {},
     "output_type": "execute_result"
    }
   ],
   "source": [
    "# Kunden Jahreseinkommen > Autopreis = kein Bankkredit \n",
    "Kunden_ohne_Kredit = merged_df.loc[merged_df[\"Einkommen\"] > merged_df[\"Preis\"]].shape[0]\n",
    "Kunden_ohne_Kredit"
   ]
  },
  {
   "cell_type": "code",
   "execution_count": 86,
   "id": "34bbc3fb",
   "metadata": {},
   "outputs": [
    {
     "data": {
      "text/html": [
       "<div>\n",
       "<style scoped>\n",
       "    .dataframe tbody tr th:only-of-type {\n",
       "        vertical-align: middle;\n",
       "    }\n",
       "\n",
       "    .dataframe tbody tr th {\n",
       "        vertical-align: top;\n",
       "    }\n",
       "\n",
       "    .dataframe thead th {\n",
       "        text-align: right;\n",
       "    }\n",
       "</style>\n",
       "<table border=\"1\" class=\"dataframe\">\n",
       "  <thead>\n",
       "    <tr style=\"text-align: right;\">\n",
       "      <th></th>\n",
       "      <th>Typ</th>\n",
       "      <th>Alter</th>\n",
       "      <th>Einkommen</th>\n",
       "      <th>Preis</th>\n",
       "      <th>Geschlecht</th>\n",
       "      <th>Zeit</th>\n",
       "      <th>Niederlassung</th>\n",
       "    </tr>\n",
       "    <tr>\n",
       "      <th>KundeNR</th>\n",
       "      <th></th>\n",
       "      <th></th>\n",
       "      <th></th>\n",
       "      <th></th>\n",
       "      <th></th>\n",
       "      <th></th>\n",
       "      <th></th>\n",
       "    </tr>\n",
       "  </thead>\n",
       "  <tbody>\n",
       "    <tr>\n",
       "      <th>K0175</th>\n",
       "      <td>Kunde</td>\n",
       "      <td>32</td>\n",
       "      <td>50330.0</td>\n",
       "      <td>49540.28</td>\n",
       "      <td>1</td>\n",
       "      <td>27.0</td>\n",
       "      <td>Bayern</td>\n",
       "    </tr>\n",
       "    <tr>\n",
       "      <th>K0859</th>\n",
       "      <td>Kunde</td>\n",
       "      <td>34</td>\n",
       "      <td>24264.0</td>\n",
       "      <td>22580.44</td>\n",
       "      <td>1</td>\n",
       "      <td>19.0</td>\n",
       "      <td>Berlin</td>\n",
       "    </tr>\n",
       "    <tr>\n",
       "      <th>K0364</th>\n",
       "      <td>Kunde</td>\n",
       "      <td>37</td>\n",
       "      <td>54403.0</td>\n",
       "      <td>53690.36</td>\n",
       "      <td>0</td>\n",
       "      <td>47.0</td>\n",
       "      <td>Brandenburg</td>\n",
       "    </tr>\n",
       "    <tr>\n",
       "      <th>K0447</th>\n",
       "      <td>Kunde</td>\n",
       "      <td>32</td>\n",
       "      <td>30856.0</td>\n",
       "      <td>27934.83</td>\n",
       "      <td>1</td>\n",
       "      <td>18.0</td>\n",
       "      <td>Nordrhein-Westfalen</td>\n",
       "    </tr>\n",
       "    <tr>\n",
       "      <th>K0143</th>\n",
       "      <td>Kunde</td>\n",
       "      <td>31</td>\n",
       "      <td>36296.0</td>\n",
       "      <td>35482.61</td>\n",
       "      <td>0</td>\n",
       "      <td>31.0</td>\n",
       "      <td>Nordrhein-Westfalen</td>\n",
       "    </tr>\n",
       "  </tbody>\n",
       "</table>\n",
       "</div>"
      ],
      "text/plain": [
       "           Typ  Alter  Einkommen     Preis  Geschlecht  Zeit  \\\n",
       "KundeNR                                                        \n",
       "K0175    Kunde     32    50330.0  49540.28           1  27.0   \n",
       "K0859    Kunde     34    24264.0  22580.44           1  19.0   \n",
       "K0364    Kunde     37    54403.0  53690.36           0  47.0   \n",
       "K0447    Kunde     32    30856.0  27934.83           1  18.0   \n",
       "K0143    Kunde     31    36296.0  35482.61           0  31.0   \n",
       "\n",
       "               Niederlassung  \n",
       "KundeNR                       \n",
       "K0175                 Bayern  \n",
       "K0859                 Berlin  \n",
       "K0364            Brandenburg  \n",
       "K0447    Nordrhein-Westfalen  \n",
       "K0143    Nordrhein-Westfalen  "
      ]
     },
     "execution_count": 86,
     "metadata": {},
     "output_type": "execute_result"
    }
   ],
   "source": [
    "# Anzeigen der Kunden, die keinen Kredit genommen haben\n",
    "merged_df.loc[merged_df[\"Einkommen\"] > merged_df[\"Preis\"]]"
   ]
  },
  {
   "cell_type": "markdown",
   "id": "3b525e07",
   "metadata": {},
   "source": [
    "# Frage 14: Welches sind die sozioökonomischen Merkmale der Kunden, die den Kaufpreis beeinflussen? \n"
   ]
  },
  {
   "cell_type": "code",
   "execution_count": 87,
   "id": "f90f5604",
   "metadata": {},
   "outputs": [
    {
     "data": {
      "text/plain": [
       "Typ                0\n",
       "Alter              0\n",
       "Einkommen          0\n",
       "Preis            891\n",
       "Geschlecht         0\n",
       "Zeit               0\n",
       "Niederlassung      0\n",
       "dtype: int64"
      ]
     },
     "execution_count": 87,
     "metadata": {},
     "output_type": "execute_result"
    }
   ],
   "source": [
    "# Fehlende Werte überprüfen\n",
    "merged_df.isnull().sum()"
   ]
  },
  {
   "cell_type": "code",
   "execution_count": 94,
   "id": "49dcee2a",
   "metadata": {},
   "outputs": [],
   "source": [
    "# DataFrame mit relevanten Spalten\n",
    "df_selected = merged_df[['Preis', 'Alter', 'Einkommen', 'Geschlecht']]\n",
    "\n",
    "# Zeilen ohne Werte entfernen\n",
    "df_selected = df_selected.dropna()"
   ]
  },
  {
   "cell_type": "code",
   "execution_count": 101,
   "id": "b0002f75",
   "metadata": {},
   "outputs": [
    {
     "data": {
      "text/html": [
       "<table class=\"simpletable\">\n",
       "<caption>OLS Regression Results</caption>\n",
       "<tr>\n",
       "  <th>Dep. Variable:</th>          <td>Preis</td>      <th>  R-squared:         </th> <td>   0.463</td> \n",
       "</tr>\n",
       "<tr>\n",
       "  <th>Model:</th>                   <td>OLS</td>       <th>  Adj. R-squared:    </th> <td>   0.462</td> \n",
       "</tr>\n",
       "<tr>\n",
       "  <th>Method:</th>             <td>Least Squares</td>  <th>  F-statistic:       </th> <td>   571.7</td> \n",
       "</tr>\n",
       "<tr>\n",
       "  <th>Date:</th>             <td>Fri, 29 Dec 2023</td> <th>  Prob (F-statistic):</th> <td>5.71e-268</td>\n",
       "</tr>\n",
       "<tr>\n",
       "  <th>Time:</th>                 <td>13:42:55</td>     <th>  Log-Likelihood:    </th> <td> -21779.</td> \n",
       "</tr>\n",
       "<tr>\n",
       "  <th>No. Observations:</th>      <td>  1995</td>      <th>  AIC:               </th> <td>4.357e+04</td>\n",
       "</tr>\n",
       "<tr>\n",
       "  <th>Df Residuals:</th>          <td>  1991</td>      <th>  BIC:               </th> <td>4.359e+04</td>\n",
       "</tr>\n",
       "<tr>\n",
       "  <th>Df Model:</th>              <td>     3</td>      <th>                     </th>     <td> </td>    \n",
       "</tr>\n",
       "<tr>\n",
       "  <th>Covariance Type:</th>      <td>nonrobust</td>    <th>                     </th>     <td> </td>    \n",
       "</tr>\n",
       "</table>\n",
       "<table class=\"simpletable\">\n",
       "<tr>\n",
       "       <td></td>         <th>coef</th>     <th>std err</th>      <th>t</th>      <th>P>|t|</th>  <th>[0.025</th>    <th>0.975]</th>  \n",
       "</tr>\n",
       "<tr>\n",
       "  <th>const</th>      <td> 4.014e+04</td> <td> 1356.498</td> <td>   29.591</td> <td> 0.000</td> <td> 3.75e+04</td> <td> 4.28e+04</td>\n",
       "</tr>\n",
       "<tr>\n",
       "  <th>Alter</th>      <td>  210.6763</td> <td>   40.832</td> <td>    5.160</td> <td> 0.000</td> <td>  130.599</td> <td>  290.754</td>\n",
       "</tr>\n",
       "<tr>\n",
       "  <th>Einkommen</th>  <td>    0.6278</td> <td>    0.030</td> <td>   21.106</td> <td> 0.000</td> <td>    0.569</td> <td>    0.686</td>\n",
       "</tr>\n",
       "<tr>\n",
       "  <th>Geschlecht</th> <td> 1895.1066</td> <td>  613.261</td> <td>    3.090</td> <td> 0.002</td> <td>  692.406</td> <td> 3097.807</td>\n",
       "</tr>\n",
       "</table>\n",
       "<table class=\"simpletable\">\n",
       "<tr>\n",
       "  <th>Omnibus:</th>       <td>16.654</td> <th>  Durbin-Watson:     </th> <td>   2.048</td>\n",
       "</tr>\n",
       "<tr>\n",
       "  <th>Prob(Omnibus):</th> <td> 0.000</td> <th>  Jarque-Bera (JB):  </th> <td>  11.400</td>\n",
       "</tr>\n",
       "<tr>\n",
       "  <th>Skew:</th>          <td>-0.026</td> <th>  Prob(JB):          </th> <td> 0.00335</td>\n",
       "</tr>\n",
       "<tr>\n",
       "  <th>Kurtosis:</th>      <td> 2.633</td> <th>  Cond. No.          </th> <td>2.81e+05</td>\n",
       "</tr>\n",
       "</table><br/><br/>Notes:<br/>[1] Standard Errors assume that the covariance matrix of the errors is correctly specified.<br/>[2] The condition number is large, 2.81e+05. This might indicate that there are<br/>strong multicollinearity or other numerical problems."
      ],
      "text/latex": [
       "\\begin{center}\n",
       "\\begin{tabular}{lclc}\n",
       "\\toprule\n",
       "\\textbf{Dep. Variable:}    &      Preis       & \\textbf{  R-squared:         } &     0.463   \\\\\n",
       "\\textbf{Model:}            &       OLS        & \\textbf{  Adj. R-squared:    } &     0.462   \\\\\n",
       "\\textbf{Method:}           &  Least Squares   & \\textbf{  F-statistic:       } &     571.7   \\\\\n",
       "\\textbf{Date:}             & Fri, 29 Dec 2023 & \\textbf{  Prob (F-statistic):} & 5.71e-268   \\\\\n",
       "\\textbf{Time:}             &     13:42:55     & \\textbf{  Log-Likelihood:    } &   -21779.   \\\\\n",
       "\\textbf{No. Observations:} &        1995      & \\textbf{  AIC:               } & 4.357e+04   \\\\\n",
       "\\textbf{Df Residuals:}     &        1991      & \\textbf{  BIC:               } & 4.359e+04   \\\\\n",
       "\\textbf{Df Model:}         &           3      & \\textbf{                     } &             \\\\\n",
       "\\textbf{Covariance Type:}  &    nonrobust     & \\textbf{                     } &             \\\\\n",
       "\\bottomrule\n",
       "\\end{tabular}\n",
       "\\begin{tabular}{lcccccc}\n",
       "                    & \\textbf{coef} & \\textbf{std err} & \\textbf{t} & \\textbf{P$> |$t$|$} & \\textbf{[0.025} & \\textbf{0.975]}  \\\\\n",
       "\\midrule\n",
       "\\textbf{const}      &    4.014e+04  &     1356.498     &    29.591  &         0.000        &     3.75e+04    &     4.28e+04     \\\\\n",
       "\\textbf{Alter}      &     210.6763  &       40.832     &     5.160  &         0.000        &      130.599    &      290.754     \\\\\n",
       "\\textbf{Einkommen}  &       0.6278  &        0.030     &    21.106  &         0.000        &        0.569    &        0.686     \\\\\n",
       "\\textbf{Geschlecht} &    1895.1066  &      613.261     &     3.090  &         0.002        &      692.406    &     3097.807     \\\\\n",
       "\\bottomrule\n",
       "\\end{tabular}\n",
       "\\begin{tabular}{lclc}\n",
       "\\textbf{Omnibus:}       & 16.654 & \\textbf{  Durbin-Watson:     } &    2.048  \\\\\n",
       "\\textbf{Prob(Omnibus):} &  0.000 & \\textbf{  Jarque-Bera (JB):  } &   11.400  \\\\\n",
       "\\textbf{Skew:}          & -0.026 & \\textbf{  Prob(JB):          } &  0.00335  \\\\\n",
       "\\textbf{Kurtosis:}      &  2.633 & \\textbf{  Cond. No.          } & 2.81e+05  \\\\\n",
       "\\bottomrule\n",
       "\\end{tabular}\n",
       "%\\caption{OLS Regression Results}\n",
       "\\end{center}\n",
       "\n",
       "Notes: \\newline\n",
       " [1] Standard Errors assume that the covariance matrix of the errors is correctly specified. \\newline\n",
       " [2] The condition number is large, 2.81e+05. This might indicate that there are \\newline\n",
       " strong multicollinearity or other numerical problems."
      ],
      "text/plain": [
       "<class 'statsmodels.iolib.summary.Summary'>\n",
       "\"\"\"\n",
       "                            OLS Regression Results                            \n",
       "==============================================================================\n",
       "Dep. Variable:                  Preis   R-squared:                       0.463\n",
       "Model:                            OLS   Adj. R-squared:                  0.462\n",
       "Method:                 Least Squares   F-statistic:                     571.7\n",
       "Date:                Fri, 29 Dec 2023   Prob (F-statistic):          5.71e-268\n",
       "Time:                        13:42:55   Log-Likelihood:                -21779.\n",
       "No. Observations:                1995   AIC:                         4.357e+04\n",
       "Df Residuals:                    1991   BIC:                         4.359e+04\n",
       "Df Model:                           3                                         \n",
       "Covariance Type:            nonrobust                                         \n",
       "==============================================================================\n",
       "                 coef    std err          t      P>|t|      [0.025      0.975]\n",
       "------------------------------------------------------------------------------\n",
       "const       4.014e+04   1356.498     29.591      0.000    3.75e+04    4.28e+04\n",
       "Alter        210.6763     40.832      5.160      0.000     130.599     290.754\n",
       "Einkommen      0.6278      0.030     21.106      0.000       0.569       0.686\n",
       "Geschlecht  1895.1066    613.261      3.090      0.002     692.406    3097.807\n",
       "==============================================================================\n",
       "Omnibus:                       16.654   Durbin-Watson:                   2.048\n",
       "Prob(Omnibus):                  0.000   Jarque-Bera (JB):               11.400\n",
       "Skew:                          -0.026   Prob(JB):                      0.00335\n",
       "Kurtosis:                       2.633   Cond. No.                     2.81e+05\n",
       "==============================================================================\n",
       "\n",
       "Notes:\n",
       "[1] Standard Errors assume that the covariance matrix of the errors is correctly specified.\n",
       "[2] The condition number is large, 2.81e+05. This might indicate that there are\n",
       "strong multicollinearity or other numerical problems.\n",
       "\"\"\""
      ]
     },
     "execution_count": 101,
     "metadata": {},
     "output_type": "execute_result"
    }
   ],
   "source": [
    "# unabhängigen Variablen X und abhängige Variable y\n",
    "X = df_selected[['Alter', 'Einkommen', 'Geschlecht']]\n",
    "y = df_selected['Preis']\n",
    "\n",
    "# Konstanter Term (intercept)\n",
    "X = sm.add_constant(X)\n",
    "\n",
    "# Modell erstellen\n",
    "model = sm.OLS(y, X).fit()\n",
    "\n",
    "# Regressionsergebnisse\n",
    "model.summary()"
   ]
  },
  {
   "cell_type": "markdown",
   "id": "37e91ee3",
   "metadata": {},
   "source": [
    "Alter, Einkommen und Geschlecht sind die sozioökonomischen Merkmale"
   ]
  },
  {
   "cell_type": "markdown",
   "id": "63d56f97",
   "metadata": {},
   "source": [
    "# Frage 15: Prognostiziere den Kaufpreis für(m, 32, 30000) & (m, 51, 54000)"
   ]
  },
  {
   "cell_type": "markdown",
   "id": "5f16624e",
   "metadata": {},
   "source": [
    "# Frage 16: Welche Variable (Ursache) beeinflusst den Preis (Wirkung) des Autos am meisten?"
   ]
  },
  {
   "cell_type": "code",
   "execution_count": null,
   "id": "2e75bb4d",
   "metadata": {},
   "outputs": [],
   "source": [
    "df_16 = df_1[[\"Alter\", \"Einkommen\", \"Geschlecht\", \"Preis\"]]"
   ]
  },
  {
   "cell_type": "code",
   "execution_count": null,
   "id": "74d41e60",
   "metadata": {},
   "outputs": [],
   "source": [
    "# Standardisierung vornehmen \n",
    "df_z = df_16.select_dtypes(include=[np.number]).dropna().apply(stats.zscore)"
   ]
  },
  {
   "cell_type": "code",
   "execution_count": null,
   "id": "9cd3b396",
   "metadata": {},
   "outputs": [],
   "source": [
    "# Regression\n",
    "formel = 'Preis ~ Alter + Einkommen + Geschlecht' \n",
    "result = smf.ols(formel, data=df_z).fit()"
   ]
  },
  {
   "cell_type": "code",
   "execution_count": null,
   "id": "0971d84f",
   "metadata": {
    "scrolled": true
   },
   "outputs": [],
   "source": [
    "# Betas anzeigen lassen\n",
    "round(result.params, 6)"
   ]
  },
  {
   "cell_type": "code",
   "execution_count": null,
   "id": "a467773c",
   "metadata": {},
   "outputs": [],
   "source": [
    "result.summary()"
   ]
  },
  {
   "cell_type": "markdown",
   "id": "7d3b68a6",
   "metadata": {},
   "source": [
    "Einkommen hat das größte Beta [0;1] und beeinflusst daher den Preis des Autos am meisten"
   ]
  },
  {
   "cell_type": "markdown",
   "id": "cc28e189",
   "metadata": {},
   "source": [
    "# Frage 17: Schätzen Sie eine Regression, die die Wahrscheinlichkeit des Kaufs eines Autos ermittelt."
   ]
  },
  {
   "cell_type": "code",
   "execution_count": 107,
   "id": "2f70fd26",
   "metadata": {},
   "outputs": [
    {
     "data": {
      "text/html": [
       "<div>\n",
       "<style scoped>\n",
       "    .dataframe tbody tr th:only-of-type {\n",
       "        vertical-align: middle;\n",
       "    }\n",
       "\n",
       "    .dataframe tbody tr th {\n",
       "        vertical-align: top;\n",
       "    }\n",
       "\n",
       "    .dataframe thead th {\n",
       "        text-align: right;\n",
       "    }\n",
       "</style>\n",
       "<table border=\"1\" class=\"dataframe\">\n",
       "  <thead>\n",
       "    <tr style=\"text-align: right;\">\n",
       "      <th></th>\n",
       "      <th>Typ</th>\n",
       "      <th>Alter</th>\n",
       "      <th>Einkommen</th>\n",
       "      <th>Preis</th>\n",
       "      <th>Geschlecht</th>\n",
       "      <th>Zeit</th>\n",
       "      <th>Niederlassung</th>\n",
       "      <th>Kauf</th>\n",
       "    </tr>\n",
       "    <tr>\n",
       "      <th>KundeNR</th>\n",
       "      <th></th>\n",
       "      <th></th>\n",
       "      <th></th>\n",
       "      <th></th>\n",
       "      <th></th>\n",
       "      <th></th>\n",
       "      <th></th>\n",
       "      <th></th>\n",
       "    </tr>\n",
       "  </thead>\n",
       "  <tbody>\n",
       "    <tr>\n",
       "      <th>K0310</th>\n",
       "      <td>Kunde</td>\n",
       "      <td>64</td>\n",
       "      <td>66894.00</td>\n",
       "      <td>88160.310000</td>\n",
       "      <td>1</td>\n",
       "      <td>43.0</td>\n",
       "      <td>Bayern</td>\n",
       "      <td>True</td>\n",
       "    </tr>\n",
       "    <tr>\n",
       "      <th>K1042</th>\n",
       "      <td>Kunde</td>\n",
       "      <td>54</td>\n",
       "      <td>77644.00</td>\n",
       "      <td>103145.700000</td>\n",
       "      <td>1</td>\n",
       "      <td>40.0</td>\n",
       "      <td>Berlin</td>\n",
       "      <td>True</td>\n",
       "    </tr>\n",
       "    <tr>\n",
       "      <th>K0382</th>\n",
       "      <td>Kunde</td>\n",
       "      <td>55</td>\n",
       "      <td>44341.00</td>\n",
       "      <td>80565.160000</td>\n",
       "      <td>0</td>\n",
       "      <td>37.0</td>\n",
       "      <td>Baden-Württemberg</td>\n",
       "      <td>True</td>\n",
       "    </tr>\n",
       "    <tr>\n",
       "      <th>K0498</th>\n",
       "      <td>Kunde</td>\n",
       "      <td>49</td>\n",
       "      <td>67271.00</td>\n",
       "      <td>83949.890000</td>\n",
       "      <td>0</td>\n",
       "      <td>42.0</td>\n",
       "      <td>Bayern</td>\n",
       "      <td>True</td>\n",
       "    </tr>\n",
       "    <tr>\n",
       "      <th>K0552</th>\n",
       "      <td>Kunde</td>\n",
       "      <td>46</td>\n",
       "      <td>49832.00</td>\n",
       "      <td>93781.580000</td>\n",
       "      <td>0</td>\n",
       "      <td>41.0</td>\n",
       "      <td>Hessen</td>\n",
       "      <td>True</td>\n",
       "    </tr>\n",
       "    <tr>\n",
       "      <th>...</th>\n",
       "      <td>...</td>\n",
       "      <td>...</td>\n",
       "      <td>...</td>\n",
       "      <td>...</td>\n",
       "      <td>...</td>\n",
       "      <td>...</td>\n",
       "      <td>...</td>\n",
       "      <td>...</td>\n",
       "    </tr>\n",
       "    <tr>\n",
       "      <th>K1211</th>\n",
       "      <td>Besucher</td>\n",
       "      <td>32</td>\n",
       "      <td>34391.82</td>\n",
       "      <td>88975.198714</td>\n",
       "      <td>1</td>\n",
       "      <td>48.0</td>\n",
       "      <td>Hessen</td>\n",
       "      <td>False</td>\n",
       "    </tr>\n",
       "    <tr>\n",
       "      <th>K1375</th>\n",
       "      <td>Besucher</td>\n",
       "      <td>41</td>\n",
       "      <td>68516.50</td>\n",
       "      <td>88975.198714</td>\n",
       "      <td>0</td>\n",
       "      <td>34.0</td>\n",
       "      <td>Sachsen</td>\n",
       "      <td>False</td>\n",
       "    </tr>\n",
       "    <tr>\n",
       "      <th>K1965</th>\n",
       "      <td>Besucher</td>\n",
       "      <td>65</td>\n",
       "      <td>89685.33</td>\n",
       "      <td>88975.198714</td>\n",
       "      <td>0</td>\n",
       "      <td>23.0</td>\n",
       "      <td>Bayern</td>\n",
       "      <td>False</td>\n",
       "    </tr>\n",
       "    <tr>\n",
       "      <th>K1540</th>\n",
       "      <td>Besucher</td>\n",
       "      <td>68</td>\n",
       "      <td>95714.31</td>\n",
       "      <td>88975.198714</td>\n",
       "      <td>0</td>\n",
       "      <td>32.0</td>\n",
       "      <td>Bayern</td>\n",
       "      <td>False</td>\n",
       "    </tr>\n",
       "    <tr>\n",
       "      <th>K1207</th>\n",
       "      <td>Besucher</td>\n",
       "      <td>49</td>\n",
       "      <td>73319.19</td>\n",
       "      <td>88975.198714</td>\n",
       "      <td>0</td>\n",
       "      <td>27.0</td>\n",
       "      <td>Niedersachsen</td>\n",
       "      <td>False</td>\n",
       "    </tr>\n",
       "  </tbody>\n",
       "</table>\n",
       "<p>1995 rows × 8 columns</p>\n",
       "</div>"
      ],
      "text/plain": [
       "              Typ  Alter  Einkommen          Preis  Geschlecht  Zeit  \\\n",
       "KundeNR                                                                \n",
       "K0310       Kunde     64   66894.00   88160.310000           1  43.0   \n",
       "K1042       Kunde     54   77644.00  103145.700000           1  40.0   \n",
       "K0382       Kunde     55   44341.00   80565.160000           0  37.0   \n",
       "K0498       Kunde     49   67271.00   83949.890000           0  42.0   \n",
       "K0552       Kunde     46   49832.00   93781.580000           0  41.0   \n",
       "...           ...    ...        ...            ...         ...   ...   \n",
       "K1211    Besucher     32   34391.82   88975.198714           1  48.0   \n",
       "K1375    Besucher     41   68516.50   88975.198714           0  34.0   \n",
       "K1965    Besucher     65   89685.33   88975.198714           0  23.0   \n",
       "K1540    Besucher     68   95714.31   88975.198714           0  32.0   \n",
       "K1207    Besucher     49   73319.19   88975.198714           0  27.0   \n",
       "\n",
       "             Niederlassung   Kauf  \n",
       "KundeNR                            \n",
       "K0310               Bayern   True  \n",
       "K1042               Berlin   True  \n",
       "K0382    Baden-Württemberg   True  \n",
       "K0498               Bayern   True  \n",
       "K0552               Hessen   True  \n",
       "...                    ...    ...  \n",
       "K1211               Hessen  False  \n",
       "K1375              Sachsen  False  \n",
       "K1965               Bayern  False  \n",
       "K1540               Bayern  False  \n",
       "K1207        Niedersachsen  False  \n",
       "\n",
       "[1995 rows x 8 columns]"
      ]
     },
     "execution_count": 107,
     "metadata": {},
     "output_type": "execute_result"
    }
   ],
   "source": [
    "# Index 'Kauf' auf Basis des Index 'Typ'\n",
    "merged_df['Kauf'] = merged_df['Typ'].apply(lambda x: True if x == 'Kunde' else False)\n",
    "merged_df"
   ]
  },
  {
   "cell_type": "code",
   "execution_count": 112,
   "id": "f928ad50",
   "metadata": {},
   "outputs": [
    {
     "data": {
      "text/plain": [
       "Typ              0\n",
       "Alter            0\n",
       "Einkommen        0\n",
       "Preis            0\n",
       "Geschlecht       0\n",
       "Zeit             0\n",
       "Niederlassung    0\n",
       "Kauf             0\n",
       "dtype: int64"
      ]
     },
     "execution_count": 112,
     "metadata": {},
     "output_type": "execute_result"
    }
   ],
   "source": [
    "# Fehlende Werte überprüfen\n",
    "merged_df.isnull().sum()"
   ]
  },
  {
   "cell_type": "code",
   "execution_count": 121,
   "id": "bf401afe",
   "metadata": {},
   "outputs": [
    {
     "ename": "ValueError",
     "evalue": "Pandas data cast to numpy dtype of object. Check input data with np.asarray(data).",
     "output_type": "error",
     "traceback": [
      "\u001b[1;31m---------------------------------------------------------------------------\u001b[0m",
      "\u001b[1;31mValueError\u001b[0m                                Traceback (most recent call last)",
      "Cell \u001b[1;32mIn[121], line 12\u001b[0m\n\u001b[0;32m      9\u001b[0m X \u001b[38;5;241m=\u001b[39m sm\u001b[38;5;241m.\u001b[39madd_constant(X)\n\u001b[0;32m     11\u001b[0m \u001b[38;5;66;03m# Modell erstellen\u001b[39;00m\n\u001b[1;32m---> 12\u001b[0m model \u001b[38;5;241m=\u001b[39m sm\u001b[38;5;241m.\u001b[39mLogit(y, X)\u001b[38;5;241m.\u001b[39mfit()\n\u001b[0;32m     14\u001b[0m \u001b[38;5;66;03m# Regressionsergebnisse\u001b[39;00m\n\u001b[0;32m     15\u001b[0m model\u001b[38;5;241m.\u001b[39msummary()\n",
      "File \u001b[1;32mC:\\ProgramData\\anaconda3\\Lib\\site-packages\\statsmodels\\discrete\\discrete_model.py:475\u001b[0m, in \u001b[0;36mBinaryModel.__init__\u001b[1;34m(self, endog, exog, offset, check_rank, **kwargs)\u001b[0m\n\u001b[0;32m    472\u001b[0m \u001b[38;5;28;01mdef\u001b[39;00m \u001b[38;5;21m__init__\u001b[39m(\u001b[38;5;28mself\u001b[39m, endog, exog, offset\u001b[38;5;241m=\u001b[39m\u001b[38;5;28;01mNone\u001b[39;00m, check_rank\u001b[38;5;241m=\u001b[39m\u001b[38;5;28;01mTrue\u001b[39;00m, \u001b[38;5;241m*\u001b[39m\u001b[38;5;241m*\u001b[39mkwargs):\n\u001b[0;32m    473\u001b[0m     \u001b[38;5;66;03m# unconditional check, requires no extra kwargs added by subclasses\u001b[39;00m\n\u001b[0;32m    474\u001b[0m     \u001b[38;5;28mself\u001b[39m\u001b[38;5;241m.\u001b[39m_check_kwargs(kwargs)\n\u001b[1;32m--> 475\u001b[0m     \u001b[38;5;28msuper\u001b[39m()\u001b[38;5;241m.\u001b[39m\u001b[38;5;21m__init__\u001b[39m(endog, exog, offset\u001b[38;5;241m=\u001b[39moffset, check_rank\u001b[38;5;241m=\u001b[39mcheck_rank,\n\u001b[0;32m    476\u001b[0m                      \u001b[38;5;241m*\u001b[39m\u001b[38;5;241m*\u001b[39mkwargs)\n\u001b[0;32m    477\u001b[0m     \u001b[38;5;28;01mif\u001b[39;00m \u001b[38;5;129;01mnot\u001b[39;00m \u001b[38;5;28missubclass\u001b[39m(\u001b[38;5;28mself\u001b[39m\u001b[38;5;241m.\u001b[39m\u001b[38;5;18m__class__\u001b[39m, MultinomialModel):\n\u001b[0;32m    478\u001b[0m         \u001b[38;5;28;01mif\u001b[39;00m \u001b[38;5;129;01mnot\u001b[39;00m np\u001b[38;5;241m.\u001b[39mall((\u001b[38;5;28mself\u001b[39m\u001b[38;5;241m.\u001b[39mendog \u001b[38;5;241m>\u001b[39m\u001b[38;5;241m=\u001b[39m \u001b[38;5;241m0\u001b[39m) \u001b[38;5;241m&\u001b[39m (\u001b[38;5;28mself\u001b[39m\u001b[38;5;241m.\u001b[39mendog \u001b[38;5;241m<\u001b[39m\u001b[38;5;241m=\u001b[39m \u001b[38;5;241m1\u001b[39m)):\n",
      "File \u001b[1;32mC:\\ProgramData\\anaconda3\\Lib\\site-packages\\statsmodels\\discrete\\discrete_model.py:185\u001b[0m, in \u001b[0;36mDiscreteModel.__init__\u001b[1;34m(self, endog, exog, check_rank, **kwargs)\u001b[0m\n\u001b[0;32m    183\u001b[0m \u001b[38;5;28;01mdef\u001b[39;00m \u001b[38;5;21m__init__\u001b[39m(\u001b[38;5;28mself\u001b[39m, endog, exog, check_rank\u001b[38;5;241m=\u001b[39m\u001b[38;5;28;01mTrue\u001b[39;00m, \u001b[38;5;241m*\u001b[39m\u001b[38;5;241m*\u001b[39mkwargs):\n\u001b[0;32m    184\u001b[0m     \u001b[38;5;28mself\u001b[39m\u001b[38;5;241m.\u001b[39m_check_rank \u001b[38;5;241m=\u001b[39m check_rank\n\u001b[1;32m--> 185\u001b[0m     \u001b[38;5;28msuper\u001b[39m()\u001b[38;5;241m.\u001b[39m\u001b[38;5;21m__init__\u001b[39m(endog, exog, \u001b[38;5;241m*\u001b[39m\u001b[38;5;241m*\u001b[39mkwargs)\n\u001b[0;32m    186\u001b[0m     \u001b[38;5;28mself\u001b[39m\u001b[38;5;241m.\u001b[39mraise_on_perfect_prediction \u001b[38;5;241m=\u001b[39m \u001b[38;5;28;01mFalse\u001b[39;00m  \u001b[38;5;66;03m# keep for backwards compat\u001b[39;00m\n\u001b[0;32m    187\u001b[0m     \u001b[38;5;28mself\u001b[39m\u001b[38;5;241m.\u001b[39mk_extra \u001b[38;5;241m=\u001b[39m \u001b[38;5;241m0\u001b[39m\n",
      "File \u001b[1;32mC:\\ProgramData\\anaconda3\\Lib\\site-packages\\statsmodels\\base\\model.py:270\u001b[0m, in \u001b[0;36mLikelihoodModel.__init__\u001b[1;34m(self, endog, exog, **kwargs)\u001b[0m\n\u001b[0;32m    269\u001b[0m \u001b[38;5;28;01mdef\u001b[39;00m \u001b[38;5;21m__init__\u001b[39m(\u001b[38;5;28mself\u001b[39m, endog, exog\u001b[38;5;241m=\u001b[39m\u001b[38;5;28;01mNone\u001b[39;00m, \u001b[38;5;241m*\u001b[39m\u001b[38;5;241m*\u001b[39mkwargs):\n\u001b[1;32m--> 270\u001b[0m     \u001b[38;5;28msuper\u001b[39m()\u001b[38;5;241m.\u001b[39m\u001b[38;5;21m__init__\u001b[39m(endog, exog, \u001b[38;5;241m*\u001b[39m\u001b[38;5;241m*\u001b[39mkwargs)\n\u001b[0;32m    271\u001b[0m     \u001b[38;5;28mself\u001b[39m\u001b[38;5;241m.\u001b[39minitialize()\n",
      "File \u001b[1;32mC:\\ProgramData\\anaconda3\\Lib\\site-packages\\statsmodels\\base\\model.py:95\u001b[0m, in \u001b[0;36mModel.__init__\u001b[1;34m(self, endog, exog, **kwargs)\u001b[0m\n\u001b[0;32m     93\u001b[0m missing \u001b[38;5;241m=\u001b[39m kwargs\u001b[38;5;241m.\u001b[39mpop(\u001b[38;5;124m'\u001b[39m\u001b[38;5;124mmissing\u001b[39m\u001b[38;5;124m'\u001b[39m, \u001b[38;5;124m'\u001b[39m\u001b[38;5;124mnone\u001b[39m\u001b[38;5;124m'\u001b[39m)\n\u001b[0;32m     94\u001b[0m hasconst \u001b[38;5;241m=\u001b[39m kwargs\u001b[38;5;241m.\u001b[39mpop(\u001b[38;5;124m'\u001b[39m\u001b[38;5;124mhasconst\u001b[39m\u001b[38;5;124m'\u001b[39m, \u001b[38;5;28;01mNone\u001b[39;00m)\n\u001b[1;32m---> 95\u001b[0m \u001b[38;5;28mself\u001b[39m\u001b[38;5;241m.\u001b[39mdata \u001b[38;5;241m=\u001b[39m \u001b[38;5;28mself\u001b[39m\u001b[38;5;241m.\u001b[39m_handle_data(endog, exog, missing, hasconst,\n\u001b[0;32m     96\u001b[0m                               \u001b[38;5;241m*\u001b[39m\u001b[38;5;241m*\u001b[39mkwargs)\n\u001b[0;32m     97\u001b[0m \u001b[38;5;28mself\u001b[39m\u001b[38;5;241m.\u001b[39mk_constant \u001b[38;5;241m=\u001b[39m \u001b[38;5;28mself\u001b[39m\u001b[38;5;241m.\u001b[39mdata\u001b[38;5;241m.\u001b[39mk_constant\n\u001b[0;32m     98\u001b[0m \u001b[38;5;28mself\u001b[39m\u001b[38;5;241m.\u001b[39mexog \u001b[38;5;241m=\u001b[39m \u001b[38;5;28mself\u001b[39m\u001b[38;5;241m.\u001b[39mdata\u001b[38;5;241m.\u001b[39mexog\n",
      "File \u001b[1;32mC:\\ProgramData\\anaconda3\\Lib\\site-packages\\statsmodels\\base\\model.py:135\u001b[0m, in \u001b[0;36mModel._handle_data\u001b[1;34m(self, endog, exog, missing, hasconst, **kwargs)\u001b[0m\n\u001b[0;32m    134\u001b[0m \u001b[38;5;28;01mdef\u001b[39;00m \u001b[38;5;21m_handle_data\u001b[39m(\u001b[38;5;28mself\u001b[39m, endog, exog, missing, hasconst, \u001b[38;5;241m*\u001b[39m\u001b[38;5;241m*\u001b[39mkwargs):\n\u001b[1;32m--> 135\u001b[0m     data \u001b[38;5;241m=\u001b[39m handle_data(endog, exog, missing, hasconst, \u001b[38;5;241m*\u001b[39m\u001b[38;5;241m*\u001b[39mkwargs)\n\u001b[0;32m    136\u001b[0m     \u001b[38;5;66;03m# kwargs arrays could have changed, easier to just attach here\u001b[39;00m\n\u001b[0;32m    137\u001b[0m     \u001b[38;5;28;01mfor\u001b[39;00m key \u001b[38;5;129;01min\u001b[39;00m kwargs:\n",
      "File \u001b[1;32mC:\\ProgramData\\anaconda3\\Lib\\site-packages\\statsmodels\\base\\data.py:675\u001b[0m, in \u001b[0;36mhandle_data\u001b[1;34m(endog, exog, missing, hasconst, **kwargs)\u001b[0m\n\u001b[0;32m    672\u001b[0m     exog \u001b[38;5;241m=\u001b[39m np\u001b[38;5;241m.\u001b[39masarray(exog)\n\u001b[0;32m    674\u001b[0m klass \u001b[38;5;241m=\u001b[39m handle_data_class_factory(endog, exog)\n\u001b[1;32m--> 675\u001b[0m \u001b[38;5;28;01mreturn\u001b[39;00m klass(endog, exog\u001b[38;5;241m=\u001b[39mexog, missing\u001b[38;5;241m=\u001b[39mmissing, hasconst\u001b[38;5;241m=\u001b[39mhasconst,\n\u001b[0;32m    676\u001b[0m              \u001b[38;5;241m*\u001b[39m\u001b[38;5;241m*\u001b[39mkwargs)\n",
      "File \u001b[1;32mC:\\ProgramData\\anaconda3\\Lib\\site-packages\\statsmodels\\base\\data.py:84\u001b[0m, in \u001b[0;36mModelData.__init__\u001b[1;34m(self, endog, exog, missing, hasconst, **kwargs)\u001b[0m\n\u001b[0;32m     82\u001b[0m     \u001b[38;5;28mself\u001b[39m\u001b[38;5;241m.\u001b[39morig_endog \u001b[38;5;241m=\u001b[39m endog\n\u001b[0;32m     83\u001b[0m     \u001b[38;5;28mself\u001b[39m\u001b[38;5;241m.\u001b[39morig_exog \u001b[38;5;241m=\u001b[39m exog\n\u001b[1;32m---> 84\u001b[0m     \u001b[38;5;28mself\u001b[39m\u001b[38;5;241m.\u001b[39mendog, \u001b[38;5;28mself\u001b[39m\u001b[38;5;241m.\u001b[39mexog \u001b[38;5;241m=\u001b[39m \u001b[38;5;28mself\u001b[39m\u001b[38;5;241m.\u001b[39m_convert_endog_exog(endog, exog)\n\u001b[0;32m     86\u001b[0m \u001b[38;5;28mself\u001b[39m\u001b[38;5;241m.\u001b[39mconst_idx \u001b[38;5;241m=\u001b[39m \u001b[38;5;28;01mNone\u001b[39;00m\n\u001b[0;32m     87\u001b[0m \u001b[38;5;28mself\u001b[39m\u001b[38;5;241m.\u001b[39mk_constant \u001b[38;5;241m=\u001b[39m \u001b[38;5;241m0\u001b[39m\n",
      "File \u001b[1;32mC:\\ProgramData\\anaconda3\\Lib\\site-packages\\statsmodels\\base\\data.py:509\u001b[0m, in \u001b[0;36mPandasData._convert_endog_exog\u001b[1;34m(self, endog, exog)\u001b[0m\n\u001b[0;32m    507\u001b[0m exog \u001b[38;5;241m=\u001b[39m exog \u001b[38;5;28;01mif\u001b[39;00m exog \u001b[38;5;129;01mis\u001b[39;00m \u001b[38;5;28;01mNone\u001b[39;00m \u001b[38;5;28;01melse\u001b[39;00m np\u001b[38;5;241m.\u001b[39masarray(exog)\n\u001b[0;32m    508\u001b[0m \u001b[38;5;28;01mif\u001b[39;00m endog\u001b[38;5;241m.\u001b[39mdtype \u001b[38;5;241m==\u001b[39m \u001b[38;5;28mobject\u001b[39m \u001b[38;5;129;01mor\u001b[39;00m exog \u001b[38;5;129;01mis\u001b[39;00m \u001b[38;5;129;01mnot\u001b[39;00m \u001b[38;5;28;01mNone\u001b[39;00m \u001b[38;5;129;01mand\u001b[39;00m exog\u001b[38;5;241m.\u001b[39mdtype \u001b[38;5;241m==\u001b[39m \u001b[38;5;28mobject\u001b[39m:\n\u001b[1;32m--> 509\u001b[0m     \u001b[38;5;28;01mraise\u001b[39;00m \u001b[38;5;167;01mValueError\u001b[39;00m(\u001b[38;5;124m\"\u001b[39m\u001b[38;5;124mPandas data cast to numpy dtype of object. \u001b[39m\u001b[38;5;124m\"\u001b[39m\n\u001b[0;32m    510\u001b[0m                      \u001b[38;5;124m\"\u001b[39m\u001b[38;5;124mCheck input data with np.asarray(data).\u001b[39m\u001b[38;5;124m\"\u001b[39m)\n\u001b[0;32m    511\u001b[0m \u001b[38;5;28;01mreturn\u001b[39;00m \u001b[38;5;28msuper\u001b[39m(PandasData, \u001b[38;5;28mself\u001b[39m)\u001b[38;5;241m.\u001b[39m_convert_endog_exog(endog, exog)\n",
      "\u001b[1;31mValueError\u001b[0m: Pandas data cast to numpy dtype of object. Check input data with np.asarray(data)."
     ]
    }
   ],
   "source": [
    "# Relevante Spalten\n",
    "df_selected1 = merged_df[['Kauf', 'Typ', 'Alter', 'Einkommen', 'Preis', 'Geschlecht', 'Zeit', 'Niederlassung']]\n",
    "\n",
    "# unabhängigen Variablen X und abhängige Variable y\n",
    "X = df_selected1.drop('Kauf', axis=1)\n",
    "y = df_selected1['Kauf']\n",
    "\n",
    "# Konstanter Term (intercept)\n",
    "X = sm.add_constant(X)\n",
    "\n",
    "# Modell erstellen\n",
    "model = sm.Logit(y, X).fit()\n",
    "\n",
    "# Regressionsergebnisse\n",
    "model.summary()"
   ]
  },
  {
   "cell_type": "markdown",
   "id": "3c1aad69",
   "metadata": {},
   "source": [
    "# Frage 18: Wie hoch ist die Wahrscheinlichkeit, dass Autokauf zustande kommt bei: (m, 32y, 30000€, 30min) & (m, 51y, 54000€, 45min)"
   ]
  },
  {
   "cell_type": "markdown",
   "id": "a0edbadf",
   "metadata": {},
   "source": [
    "# Frage 19: Auf welche Probleme sind Sie bei der Zusammenführung des Datensatzes gestoßen?"
   ]
  },
  {
   "cell_type": "markdown",
   "id": "32caa14f",
   "metadata": {},
   "source": [
    "Problem 1: Es fehlen Daten"
   ]
  },
  {
   "cell_type": "code",
   "execution_count": null,
   "id": "3ad64b81",
   "metadata": {},
   "outputs": [],
   "source": [
    "#CSV Kunden\n",
    "\n",
    "#Alter         0\n",
    "#Einkommen     0\n",
    "#Preis         0\n",
    "#Geschlecht    5\n",
    "#Zeit          0\n",
    "#KundeNr       0"
   ]
  },
  {
   "cell_type": "markdown",
   "id": "4ad18956",
   "metadata": {},
   "source": [
    "Problem 2: Behandlung fehlender Daten und Ausreißern"
   ]
  },
  {
   "cell_type": "markdown",
   "id": "7fc45cd1",
   "metadata": {},
   "source": [
    "Spalte \"Geschlecht\" --> 5 fehlende Werte"
   ]
  },
  {
   "cell_type": "code",
   "execution_count": null,
   "id": "e484b644",
   "metadata": {},
   "outputs": [],
   "source": [
    "# df_1[\"Geschlecht\"] = df_1[\"Geschlecht\"].fillna(1) # Für 1 (Männlich) entschieden, da die meisten Ausprägungen 1 waren"
   ]
  },
  {
   "cell_type": "markdown",
   "id": "b9539b16",
   "metadata": {},
   "source": [
    "Spalte \"Einkommen\" --> Positive/Negative Ausreißer und Wert von 0"
   ]
  },
  {
   "cell_type": "code",
   "execution_count": null,
   "id": "3f6ed4ac",
   "metadata": {},
   "outputs": [],
   "source": [
    "#df_1[\"Einkommen\"].mean() --> 964474.8175955408 NICHT GEEIGNET; Mittelwert sehr empfindlich ggü. Ausreißern"
   ]
  },
  {
   "cell_type": "code",
   "execution_count": null,
   "id": "37524d2c",
   "metadata": {},
   "outputs": [],
   "source": [
    "#df_1[\"Einkommen\"].median() --> 59013; Median ist robuster ggü. Ausreißern"
   ]
  },
  {
   "cell_type": "code",
   "execution_count": null,
   "id": "4e0bd471",
   "metadata": {},
   "outputs": [],
   "source": [
    "#df_1[\"Einkommen\"] = df_1[\"Einkommen\"].apply(lambda x: median_einkommen if x <= 0 or x >= 1000000 else x)"
   ]
  },
  {
   "cell_type": "markdown",
   "id": "639d2433",
   "metadata": {},
   "source": [
    "Spalte \"Alter\" --> Werte von 100 und 120"
   ]
  },
  {
   "cell_type": "code",
   "execution_count": null,
   "id": "bc096898",
   "metadata": {},
   "outputs": [],
   "source": [
    "#df_1[\"Alter\"].value_counts()\n"
   ]
  },
  {
   "cell_type": "code",
   "execution_count": null,
   "id": "ad61a67b",
   "metadata": {},
   "outputs": [],
   "source": [
    "#Alter\n",
    "#55     41\n",
    "#62     39\n",
    "#57     34\n",
    "#66     33\n",
    "#64     32\n",
    "#30     32\n",
    "#34     31\n",
    "#69     30\n",
    "#37     30\n",
    "#31     30\n",
    "#52     29\n",
    "#54     29\n",
    "#58     29\n",
    "#65     29\n",
    "#53     29\n",
    "#61     29\n",
    "#68     29\n",
    "#59     28\n",
    "#35     27\n",
    "#51     27\n",
    "#41     26\n",
    "#40     26\n",
    "#43     26\n",
    "#32     26\n",
    "#46     26\n",
    "#39     24\n",
    "#48     24\n",
    "#38     24\n",
    "#33     24\n",
    "#44     23\n",
    "#50     23\n",
    "#67     23\n",
    "#42     22\n",
    "#70     22\n",
    "#56     22\n",
    "#45     22\n",
    "#49     22\n",
    "#63     21\n",
    "#60     20\n",
    "#47     20\n",
    "#36     19\n",
    "#100     1\n",
    "#120     1"
   ]
  },
  {
   "cell_type": "markdown",
   "id": "aee71e60",
   "metadata": {},
   "source": [
    "Klare Tendenz, dass bestimmte Altersgruppen besonders häufig auftreten --> deutliche Dominanz einer Altersgruppe erkennbar "
   ]
  },
  {
   "cell_type": "markdown",
   "id": "ea216b45",
   "metadata": {},
   "source": [
    "Daher Entschedung für Modus und gegen Median"
   ]
  },
  {
   "cell_type": "code",
   "execution_count": null,
   "id": "d066cd81",
   "metadata": {},
   "outputs": [],
   "source": [
    "#df_1[\"Alter\"].mode()[0]"
   ]
  },
  {
   "cell_type": "code",
   "execution_count": null,
   "id": "2dd0898a",
   "metadata": {},
   "outputs": [],
   "source": [
    "#df_1[\"Alter\"] = df_1[\"Alter\"].apply(lambda x: modalwert_alter if x >= 100 else x)"
   ]
  },
  {
   "cell_type": "markdown",
   "id": "f1344d0a",
   "metadata": {},
   "source": [
    "Problem 3: Die Datentypen sind unterschiedlich"
   ]
  },
  {
   "cell_type": "code",
   "execution_count": null,
   "id": "8049bc19",
   "metadata": {},
   "outputs": [],
   "source": [
    "#Datentyp CSV Kunden:\n",
    "\n",
    "#Alter           int64\n",
    "#Einkommen     float64\n",
    "#Preis         float64\n",
    "#Geschlecht    float64\n",
    "#Zeit          float64\n",
    "#KundeNr        object"
   ]
  },
  {
   "cell_type": "code",
   "execution_count": null,
   "id": "28193b5a",
   "metadata": {},
   "outputs": [],
   "source": [
    "#Datentyp CSV Besucher:\n",
    "\n",
    "#Alter          int64\n",
    "#Einkommen     object\n",
    "#Geschlecht     int64\n",
    "#Zeit          object\n",
    "#KundeNr       object"
   ]
  },
  {
   "cell_type": "markdown",
   "id": "46d90ba6",
   "metadata": {},
   "source": [
    "Probleme: Datenverlust, Unerwartetes Verhalten"
   ]
  },
  {
   "cell_type": "markdown",
   "id": "3062b970",
   "metadata": {},
   "source": [
    "Sicherstellen, dass die Datentypen in den gemeinsamen Spalten zwischen den beiden CSV-Dateien konsistent sind"
   ]
  },
  {
   "cell_type": "code",
   "execution_count": null,
   "id": "3560185b",
   "metadata": {},
   "outputs": [],
   "source": [
    "#df_1[\"Geschlecht\"] = df_1[\"Geschlecht\"].astype(\"int64\")"
   ]
  },
  {
   "cell_type": "code",
   "execution_count": null,
   "id": "c472dc65",
   "metadata": {},
   "outputs": [],
   "source": [
    "#Datentyp CSV Kunden:\n",
    "\n",
    "#Alter           int64\n",
    "#Einkommen     float64\n",
    "#Preis         float64\n",
    "#Geschlecht      int64\n",
    "#Zeit          float64\n",
    "#KundeNr        object"
   ]
  },
  {
   "cell_type": "code",
   "execution_count": null,
   "id": "84806cf5",
   "metadata": {},
   "outputs": [],
   "source": [
    "#df_2[\"Einkommen\"] = pd.to_numeric(df_2[\"Einkommen\"].str.replace(',', '.'), errors=\"coerce\")"
   ]
  },
  {
   "cell_type": "markdown",
   "id": "57fe8b24",
   "metadata": {},
   "source": [
    "\"coerce\": anstelle einer Fehlermeldung wird der Wert NaNfür diejenigen Elemente verwendet\n",
    "die nicht erfolgreich in numerische Werte umgewandelt werden können"
   ]
  },
  {
   "cell_type": "code",
   "execution_count": null,
   "id": "d1e64a9b",
   "metadata": {},
   "outputs": [],
   "source": [
    "#df_2[\"Zeit\"] = pd.to_numeric(df_2[\"Zeit\"].str.replace(',', '.'), errors=\"coerce\")"
   ]
  },
  {
   "cell_type": "code",
   "execution_count": null,
   "id": "5646fa97",
   "metadata": {},
   "outputs": [],
   "source": [
    "#Datentyp CSV Besucher:\n",
    "\n",
    "#Alter           int64\n",
    "#Einkommen     float64\n",
    "#Geschlecht      int64\n",
    "#Zeit          float64\n",
    "#KundeNr        object"
   ]
  },
  {
   "cell_type": "markdown",
   "id": "108e801d",
   "metadata": {},
   "source": [
    "Problem 4: Bundesländer nicht einheitlich --> falsche Schreibweise, Stadt, Bezirk"
   ]
  },
  {
   "cell_type": "code",
   "execution_count": null,
   "id": "99b435c6",
   "metadata": {},
   "outputs": [],
   "source": [
    "#merged_df[\"Niederlassung\"].unique()"
   ]
  },
  {
   "cell_type": "code",
   "execution_count": null,
   "id": "bd1ae2f3",
   "metadata": {},
   "outputs": [],
   "source": [
    "#array(['Bayern', 'Berlin', 'Baden-Württemberg', 'Hessen', 'Thüringen',\n",
    "#       'Sachsen', 'Nordrhein-Westfalen', 'BERLIN', 'Niedersachsen',\n",
    "#       'Hamburg', 'Brandenburg', 'Berlin-Mitte', 'Düsseldorf', 'NRW',\n",
    "#       'Berlin-Charlottenburg'], dtype=object)"
   ]
  },
  {
   "cell_type": "markdown",
   "id": "a4ff313a",
   "metadata": {},
   "source": [
    "Zu beheben sind: BERLIN,NRW, Düsseldorf, Berlin-Mitte, Berlin-Charlottenburg"
   ]
  },
  {
   "cell_type": "code",
   "execution_count": null,
   "id": "9c783d0f",
   "metadata": {},
   "outputs": [],
   "source": [
    "#merged_df[\"Niederlassung\"] = merged_df[\"Niederlassung\"].replace(\"BERLIN\", \"Berlin\")\n",
    "#merged_df[\"Niederlassung\"] = merged_df[\"Niederlassung\"].replace(\"Berlin-Mitte\", \"Berlin\")\n",
    "#merged_df[\"Niederlassung\"] = merged_df[\"Niederlassung\"].replace(\"Berlin-Charlottenburg\", \"Berlin\")\n",
    "#merged_df[\"Niederlassung\"] = merged_df[\"Niederlassung\"].replace(\"Düsseldorf\", \"Nordrhein-Westfalen\")\n",
    "#merged_df[\"Niederlassung\"] = merged_df[\"Niederlassung\"].replace(\"NRW\", \"Nordrhein-Westfalen\")"
   ]
  },
  {
   "cell_type": "code",
   "execution_count": null,
   "id": "18211a85",
   "metadata": {},
   "outputs": [],
   "source": [
    "#merged_df[\"Niederlassung\"].unique()"
   ]
  },
  {
   "cell_type": "code",
   "execution_count": null,
   "id": "39b33bb0",
   "metadata": {},
   "outputs": [],
   "source": [
    "#array(['Bayern', 'Berlin', 'Baden-Württemberg', 'Hessen', 'Thüringen',\n",
    "#       'Sachsen', 'Nordrhein-Westfalen', 'Niedersachsen', 'Hamburg',\n",
    "#      'Brandenburg'], dtype=object)"
   ]
  },
  {
   "cell_type": "markdown",
   "id": "6c0238e1",
   "metadata": {},
   "source": [
    "# Frage 20: Welche zusätzlichen Informationen sollten gesammelt werden?"
   ]
  },
  {
   "cell_type": "markdown",
   "id": "8116c9f8",
   "metadata": {},
   "source": [
    "Vorschlag 1:"
   ]
  },
  {
   "cell_type": "markdown",
   "id": "3dad42a4",
   "metadata": {},
   "source": [
    "Vorschlag 2:"
   ]
  }
 ],
 "metadata": {
  "kernelspec": {
   "display_name": "Python 3 (ipykernel)",
   "language": "python",
   "name": "python3"
  },
  "language_info": {
   "codemirror_mode": {
    "name": "ipython",
    "version": 3
   },
   "file_extension": ".py",
   "mimetype": "text/x-python",
   "name": "python",
   "nbconvert_exporter": "python",
   "pygments_lexer": "ipython3",
   "version": "3.11.5"
  }
 },
 "nbformat": 4,
 "nbformat_minor": 5
}
