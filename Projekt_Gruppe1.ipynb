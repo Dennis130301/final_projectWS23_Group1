{
 "cells": [
  {
   "cell_type": "markdown",
   "id": "981e3661",
   "metadata": {},
   "source": [
    "# 1 Pakete importieren"
   ]
  },
  {
   "cell_type": "code",
   "execution_count": 1,
   "id": "5578b033",
   "metadata": {},
   "outputs": [],
   "source": [
    "import pandas as pd\n",
    "import numpy as np\n",
    "import matplotlib.pyplot as plt\n",
    "import seaborn as sns\n",
    "from stargazer.stargazer import Stargazer\n",
    "import statsmodels.formula.api as smf \n",
    "import statsmodels.api as sm\n",
    "%matplotlib inline\n",
    "import warnings\n",
    "from scipy.stats import linregress\n",
    "from scipy import stats\n"
   ]
  },
  {
   "cell_type": "markdown",
   "id": "c06fead8",
   "metadata": {},
   "source": [
    "# 2 CSV-Dateien einlesen"
   ]
  },
  {
   "cell_type": "code",
   "execution_count": 2,
   "id": "71da4252",
   "metadata": {},
   "outputs": [],
   "source": [
    "csv_1 = \"data/kunden.csv\"\n",
    "csv_2 = \"data/besucher.csv\""
   ]
  },
  {
   "cell_type": "code",
   "execution_count": 3,
   "id": "a2fba40b",
   "metadata": {},
   "outputs": [],
   "source": [
    "df_1 = pd.read_csv(csv_1, sep = \";\")\n",
    "df_2 = pd.read_csv(csv_2, sep = \";\")"
   ]
  },
  {
   "cell_type": "code",
   "execution_count": 4,
   "id": "241862e0",
   "metadata": {},
   "outputs": [
    {
     "data": {
      "text/html": [
       "<div>\n",
       "<style scoped>\n",
       "    .dataframe tbody tr th:only-of-type {\n",
       "        vertical-align: middle;\n",
       "    }\n",
       "\n",
       "    .dataframe tbody tr th {\n",
       "        vertical-align: top;\n",
       "    }\n",
       "\n",
       "    .dataframe thead th {\n",
       "        text-align: right;\n",
       "    }\n",
       "</style>\n",
       "<table border=\"1\" class=\"dataframe\">\n",
       "  <thead>\n",
       "    <tr style=\"text-align: right;\">\n",
       "      <th></th>\n",
       "      <th>Alter</th>\n",
       "      <th>Einkommen</th>\n",
       "      <th>Preis</th>\n",
       "      <th>Geschlecht</th>\n",
       "      <th>Zeit</th>\n",
       "      <th>KundeNr</th>\n",
       "    </tr>\n",
       "  </thead>\n",
       "  <tbody>\n",
       "    <tr>\n",
       "      <th>0</th>\n",
       "      <td>64</td>\n",
       "      <td>66894.0</td>\n",
       "      <td>88160.31</td>\n",
       "      <td>1.0</td>\n",
       "      <td>43.0</td>\n",
       "      <td>K0310</td>\n",
       "    </tr>\n",
       "    <tr>\n",
       "      <th>1</th>\n",
       "      <td>54</td>\n",
       "      <td>77644.0</td>\n",
       "      <td>103145.70</td>\n",
       "      <td>1.0</td>\n",
       "      <td>40.0</td>\n",
       "      <td>K1042</td>\n",
       "    </tr>\n",
       "    <tr>\n",
       "      <th>2</th>\n",
       "      <td>55</td>\n",
       "      <td>44341.0</td>\n",
       "      <td>80565.16</td>\n",
       "      <td>0.0</td>\n",
       "      <td>37.0</td>\n",
       "      <td>K0382</td>\n",
       "    </tr>\n",
       "    <tr>\n",
       "      <th>3</th>\n",
       "      <td>49</td>\n",
       "      <td>67271.0</td>\n",
       "      <td>83949.89</td>\n",
       "      <td>0.0</td>\n",
       "      <td>42.0</td>\n",
       "      <td>K0498</td>\n",
       "    </tr>\n",
       "    <tr>\n",
       "      <th>4</th>\n",
       "      <td>46</td>\n",
       "      <td>49832.0</td>\n",
       "      <td>93781.58</td>\n",
       "      <td>0.0</td>\n",
       "      <td>41.0</td>\n",
       "      <td>K0552</td>\n",
       "    </tr>\n",
       "    <tr>\n",
       "      <th>...</th>\n",
       "      <td>...</td>\n",
       "      <td>...</td>\n",
       "      <td>...</td>\n",
       "      <td>...</td>\n",
       "      <td>...</td>\n",
       "      <td>...</td>\n",
       "    </tr>\n",
       "    <tr>\n",
       "      <th>1099</th>\n",
       "      <td>70</td>\n",
       "      <td>69581.0</td>\n",
       "      <td>103751.58</td>\n",
       "      <td>1.0</td>\n",
       "      <td>51.0</td>\n",
       "      <td>K0467</td>\n",
       "    </tr>\n",
       "    <tr>\n",
       "      <th>1100</th>\n",
       "      <td>38</td>\n",
       "      <td>48301.0</td>\n",
       "      <td>64230.98</td>\n",
       "      <td>1.0</td>\n",
       "      <td>33.0</td>\n",
       "      <td>K0122</td>\n",
       "    </tr>\n",
       "    <tr>\n",
       "      <th>1101</th>\n",
       "      <td>67</td>\n",
       "      <td>63547.0</td>\n",
       "      <td>103123.57</td>\n",
       "      <td>1.0</td>\n",
       "      <td>41.0</td>\n",
       "      <td>K1045</td>\n",
       "    </tr>\n",
       "    <tr>\n",
       "      <th>1102</th>\n",
       "      <td>37</td>\n",
       "      <td>32686.0</td>\n",
       "      <td>49215.87</td>\n",
       "      <td>1.0</td>\n",
       "      <td>36.0</td>\n",
       "      <td>K1096</td>\n",
       "    </tr>\n",
       "    <tr>\n",
       "      <th>1103</th>\n",
       "      <td>55</td>\n",
       "      <td>71240.0</td>\n",
       "      <td>106132.59</td>\n",
       "      <td>1.0</td>\n",
       "      <td>49.0</td>\n",
       "      <td>K0861</td>\n",
       "    </tr>\n",
       "  </tbody>\n",
       "</table>\n",
       "<p>1104 rows × 6 columns</p>\n",
       "</div>"
      ],
      "text/plain": [
       "      Alter  Einkommen      Preis  Geschlecht  Zeit KundeNr\n",
       "0        64    66894.0   88160.31         1.0  43.0   K0310\n",
       "1        54    77644.0  103145.70         1.0  40.0   K1042\n",
       "2        55    44341.0   80565.16         0.0  37.0   K0382\n",
       "3        49    67271.0   83949.89         0.0  42.0   K0498\n",
       "4        46    49832.0   93781.58         0.0  41.0   K0552\n",
       "...     ...        ...        ...         ...   ...     ...\n",
       "1099     70    69581.0  103751.58         1.0  51.0   K0467\n",
       "1100     38    48301.0   64230.98         1.0  33.0   K0122\n",
       "1101     67    63547.0  103123.57         1.0  41.0   K1045\n",
       "1102     37    32686.0   49215.87         1.0  36.0   K1096\n",
       "1103     55    71240.0  106132.59         1.0  49.0   K0861\n",
       "\n",
       "[1104 rows x 6 columns]"
      ]
     },
     "execution_count": 4,
     "metadata": {},
     "output_type": "execute_result"
    }
   ],
   "source": [
    "df_1"
   ]
  },
  {
   "cell_type": "code",
   "execution_count": 5,
   "id": "2235cc48",
   "metadata": {},
   "outputs": [
    {
     "data": {
      "text/html": [
       "<div>\n",
       "<style scoped>\n",
       "    .dataframe tbody tr th:only-of-type {\n",
       "        vertical-align: middle;\n",
       "    }\n",
       "\n",
       "    .dataframe tbody tr th {\n",
       "        vertical-align: top;\n",
       "    }\n",
       "\n",
       "    .dataframe thead th {\n",
       "        text-align: right;\n",
       "    }\n",
       "</style>\n",
       "<table border=\"1\" class=\"dataframe\">\n",
       "  <thead>\n",
       "    <tr style=\"text-align: right;\">\n",
       "      <th></th>\n",
       "      <th>Alter</th>\n",
       "      <th>Einkommen</th>\n",
       "      <th>Geschlecht</th>\n",
       "      <th>Zeit</th>\n",
       "      <th>KundeNr</th>\n",
       "    </tr>\n",
       "  </thead>\n",
       "  <tbody>\n",
       "    <tr>\n",
       "      <th>0</th>\n",
       "      <td>30</td>\n",
       "      <td>39919,0953348874</td>\n",
       "      <td>0</td>\n",
       "      <td>29,0</td>\n",
       "      <td>K1814</td>\n",
       "    </tr>\n",
       "    <tr>\n",
       "      <th>1</th>\n",
       "      <td>41</td>\n",
       "      <td>53430,67308587748</td>\n",
       "      <td>0</td>\n",
       "      <td>27,0</td>\n",
       "      <td>K1544</td>\n",
       "    </tr>\n",
       "    <tr>\n",
       "      <th>2</th>\n",
       "      <td>64</td>\n",
       "      <td>73163,2169267002</td>\n",
       "      <td>0</td>\n",
       "      <td>32,0</td>\n",
       "      <td>K1945</td>\n",
       "    </tr>\n",
       "    <tr>\n",
       "      <th>3</th>\n",
       "      <td>41</td>\n",
       "      <td>36761,482581315344</td>\n",
       "      <td>0</td>\n",
       "      <td>44,0</td>\n",
       "      <td>K1825</td>\n",
       "    </tr>\n",
       "    <tr>\n",
       "      <th>4</th>\n",
       "      <td>35</td>\n",
       "      <td>42684,33163178136</td>\n",
       "      <td>1</td>\n",
       "      <td>33,0</td>\n",
       "      <td>K1144</td>\n",
       "    </tr>\n",
       "    <tr>\n",
       "      <th>...</th>\n",
       "      <td>...</td>\n",
       "      <td>...</td>\n",
       "      <td>...</td>\n",
       "      <td>...</td>\n",
       "      <td>...</td>\n",
       "    </tr>\n",
       "    <tr>\n",
       "      <th>886</th>\n",
       "      <td>32</td>\n",
       "      <td>34391,82496545645</td>\n",
       "      <td>1</td>\n",
       "      <td>48,0</td>\n",
       "      <td>K1211</td>\n",
       "    </tr>\n",
       "    <tr>\n",
       "      <th>887</th>\n",
       "      <td>41</td>\n",
       "      <td>68516,49543941053</td>\n",
       "      <td>0</td>\n",
       "      <td>34,0</td>\n",
       "      <td>K1375</td>\n",
       "    </tr>\n",
       "    <tr>\n",
       "      <th>888</th>\n",
       "      <td>65</td>\n",
       "      <td>89685,33344089528</td>\n",
       "      <td>0</td>\n",
       "      <td>23,0</td>\n",
       "      <td>K1965</td>\n",
       "    </tr>\n",
       "    <tr>\n",
       "      <th>889</th>\n",
       "      <td>68</td>\n",
       "      <td>95714,30526812703</td>\n",
       "      <td>0</td>\n",
       "      <td>32,0</td>\n",
       "      <td>K1540</td>\n",
       "    </tr>\n",
       "    <tr>\n",
       "      <th>890</th>\n",
       "      <td>49</td>\n",
       "      <td>73319,1870845747</td>\n",
       "      <td>0</td>\n",
       "      <td>27,0</td>\n",
       "      <td>K1207</td>\n",
       "    </tr>\n",
       "  </tbody>\n",
       "</table>\n",
       "<p>891 rows × 5 columns</p>\n",
       "</div>"
      ],
      "text/plain": [
       "     Alter           Einkommen  Geschlecht  Zeit KundeNr\n",
       "0       30    39919,0953348874           0  29,0   K1814\n",
       "1       41   53430,67308587748           0  27,0   K1544\n",
       "2       64    73163,2169267002           0  32,0   K1945\n",
       "3       41  36761,482581315344           0  44,0   K1825\n",
       "4       35   42684,33163178136           1  33,0   K1144\n",
       "..     ...                 ...         ...   ...     ...\n",
       "886     32   34391,82496545645           1  48,0   K1211\n",
       "887     41   68516,49543941053           0  34,0   K1375\n",
       "888     65   89685,33344089528           0  23,0   K1965\n",
       "889     68   95714,30526812703           0  32,0   K1540\n",
       "890     49    73319,1870845747           0  27,0   K1207\n",
       "\n",
       "[891 rows x 5 columns]"
      ]
     },
     "execution_count": 5,
     "metadata": {},
     "output_type": "execute_result"
    }
   ],
   "source": [
    "df_2"
   ]
  },
  {
   "cell_type": "markdown",
   "id": "fbe57797",
   "metadata": {},
   "source": [
    "# 3 Überblick über die Datentypen verschaffen"
   ]
  },
  {
   "cell_type": "code",
   "execution_count": 6,
   "id": "eead2976",
   "metadata": {},
   "outputs": [
    {
     "data": {
      "text/plain": [
       "Alter           int64\n",
       "Einkommen     float64\n",
       "Preis         float64\n",
       "Geschlecht    float64\n",
       "Zeit          float64\n",
       "KundeNr        object\n",
       "dtype: object"
      ]
     },
     "execution_count": 6,
     "metadata": {},
     "output_type": "execute_result"
    }
   ],
   "source": [
    "df_1.dtypes"
   ]
  },
  {
   "cell_type": "code",
   "execution_count": 7,
   "id": "e50527a2",
   "metadata": {
    "scrolled": false
   },
   "outputs": [
    {
     "data": {
      "text/plain": [
       "Alter          int64\n",
       "Einkommen     object\n",
       "Geschlecht     int64\n",
       "Zeit          object\n",
       "KundeNr       object\n",
       "dtype: object"
      ]
     },
     "execution_count": 7,
     "metadata": {},
     "output_type": "execute_result"
    }
   ],
   "source": [
    "df_2.dtypes"
   ]
  },
  {
   "cell_type": "markdown",
   "id": "723cf1b2",
   "metadata": {},
   "source": [
    "Zu ändern sind später: Einkommen --> float; Geschlecht --> int; Zeit --> float"
   ]
  },
  {
   "cell_type": "markdown",
   "id": "78056d60",
   "metadata": {},
   "source": [
    "# 4.1 df_1 Geschlecht"
   ]
  },
  {
   "cell_type": "code",
   "execution_count": 8,
   "id": "b9bd8ad5",
   "metadata": {},
   "outputs": [
    {
     "data": {
      "text/plain": [
       "Alter         0\n",
       "Einkommen     0\n",
       "Preis         0\n",
       "Geschlecht    5\n",
       "Zeit          0\n",
       "KundeNr       0\n",
       "dtype: int64"
      ]
     },
     "execution_count": 8,
     "metadata": {},
     "output_type": "execute_result"
    }
   ],
   "source": [
    "df_1.isnull().sum()"
   ]
  },
  {
   "cell_type": "code",
   "execution_count": 9,
   "id": "480c0546",
   "metadata": {
    "scrolled": true
   },
   "outputs": [
    {
     "data": {
      "text/plain": [
       "Alter         0\n",
       "Einkommen     0\n",
       "Preis         0\n",
       "Geschlecht    0\n",
       "Zeit          0\n",
       "KundeNr       0\n",
       "dtype: int64"
      ]
     },
     "execution_count": 9,
     "metadata": {},
     "output_type": "execute_result"
    }
   ],
   "source": [
    "df_1[\"Geschlecht\"] = df_1[\"Geschlecht\"].fillna(1) # Für 1 (Männlich) entschieden, da die meisten Ausprägungen 1 waren\n",
    "df_1.isna().sum()"
   ]
  },
  {
   "cell_type": "code",
   "execution_count": 11,
   "id": "05c97b86",
   "metadata": {},
   "outputs": [
    {
     "data": {
      "text/html": [
       "<div>\n",
       "<style scoped>\n",
       "    .dataframe tbody tr th:only-of-type {\n",
       "        vertical-align: middle;\n",
       "    }\n",
       "\n",
       "    .dataframe tbody tr th {\n",
       "        vertical-align: top;\n",
       "    }\n",
       "\n",
       "    .dataframe thead th {\n",
       "        text-align: right;\n",
       "    }\n",
       "</style>\n",
       "<table border=\"1\" class=\"dataframe\">\n",
       "  <thead>\n",
       "    <tr style=\"text-align: right;\">\n",
       "      <th></th>\n",
       "      <th>count</th>\n",
       "      <th>mean</th>\n",
       "      <th>std</th>\n",
       "      <th>min</th>\n",
       "      <th>25%</th>\n",
       "      <th>50%</th>\n",
       "      <th>75%</th>\n",
       "      <th>max</th>\n",
       "    </tr>\n",
       "  </thead>\n",
       "  <tbody>\n",
       "    <tr>\n",
       "      <th>Alter</th>\n",
       "      <td>1104.0</td>\n",
       "      <td>50.481884</td>\n",
       "      <td>1.222506e+01</td>\n",
       "      <td>30.000000</td>\n",
       "      <td>40.0000</td>\n",
       "      <td>51.000</td>\n",
       "      <td>61.000</td>\n",
       "      <td>1.200000e+02</td>\n",
       "    </tr>\n",
       "    <tr>\n",
       "      <th>Einkommen</th>\n",
       "      <td>1104.0</td>\n",
       "      <td>964474.817596</td>\n",
       "      <td>3.009470e+07</td>\n",
       "      <td>-62840.374523</td>\n",
       "      <td>46638.5000</td>\n",
       "      <td>59013.000</td>\n",
       "      <td>70298.000</td>\n",
       "      <td>1.000000e+09</td>\n",
       "    </tr>\n",
       "    <tr>\n",
       "      <th>Preis</th>\n",
       "      <td>1104.0</td>\n",
       "      <td>88975.198714</td>\n",
       "      <td>2.446407e+04</td>\n",
       "      <td>21471.650000</td>\n",
       "      <td>70609.4225</td>\n",
       "      <td>88931.455</td>\n",
       "      <td>107093.375</td>\n",
       "      <td>1.654823e+05</td>\n",
       "    </tr>\n",
       "    <tr>\n",
       "      <th>Geschlecht</th>\n",
       "      <td>1104.0</td>\n",
       "      <td>0.639493</td>\n",
       "      <td>4.803653e-01</td>\n",
       "      <td>0.000000</td>\n",
       "      <td>0.0000</td>\n",
       "      <td>1.000</td>\n",
       "      <td>1.000</td>\n",
       "      <td>1.000000e+00</td>\n",
       "    </tr>\n",
       "    <tr>\n",
       "      <th>Zeit</th>\n",
       "      <td>1104.0</td>\n",
       "      <td>44.375906</td>\n",
       "      <td>1.084804e+01</td>\n",
       "      <td>12.000000</td>\n",
       "      <td>37.0000</td>\n",
       "      <td>44.000</td>\n",
       "      <td>52.000</td>\n",
       "      <td>8.000000e+01</td>\n",
       "    </tr>\n",
       "  </tbody>\n",
       "</table>\n",
       "</div>"
      ],
      "text/plain": [
       "             count           mean           std           min         25%  \\\n",
       "Alter       1104.0      50.481884  1.222506e+01     30.000000     40.0000   \n",
       "Einkommen   1104.0  964474.817596  3.009470e+07 -62840.374523  46638.5000   \n",
       "Preis       1104.0   88975.198714  2.446407e+04  21471.650000  70609.4225   \n",
       "Geschlecht  1104.0       0.639493  4.803653e-01      0.000000      0.0000   \n",
       "Zeit        1104.0      44.375906  1.084804e+01     12.000000     37.0000   \n",
       "\n",
       "                  50%         75%           max  \n",
       "Alter          51.000      61.000  1.200000e+02  \n",
       "Einkommen   59013.000   70298.000  1.000000e+09  \n",
       "Preis       88931.455  107093.375  1.654823e+05  \n",
       "Geschlecht      1.000       1.000  1.000000e+00  \n",
       "Zeit           44.000      52.000  8.000000e+01  "
      ]
     },
     "execution_count": 11,
     "metadata": {},
     "output_type": "execute_result"
    }
   ],
   "source": [
    "df_1.describe().T"
   ]
  },
  {
   "cell_type": "code",
   "execution_count": 12,
   "id": "409bda30",
   "metadata": {},
   "outputs": [
    {
     "data": {
      "text/html": [
       "<div>\n",
       "<style scoped>\n",
       "    .dataframe tbody tr th:only-of-type {\n",
       "        vertical-align: middle;\n",
       "    }\n",
       "\n",
       "    .dataframe tbody tr th {\n",
       "        vertical-align: top;\n",
       "    }\n",
       "\n",
       "    .dataframe thead th {\n",
       "        text-align: right;\n",
       "    }\n",
       "</style>\n",
       "<table border=\"1\" class=\"dataframe\">\n",
       "  <thead>\n",
       "    <tr style=\"text-align: right;\">\n",
       "      <th></th>\n",
       "      <th>count</th>\n",
       "      <th>mean</th>\n",
       "      <th>std</th>\n",
       "      <th>min</th>\n",
       "      <th>25%</th>\n",
       "      <th>50%</th>\n",
       "      <th>75%</th>\n",
       "      <th>max</th>\n",
       "    </tr>\n",
       "  </thead>\n",
       "  <tbody>\n",
       "    <tr>\n",
       "      <th>Alter</th>\n",
       "      <td>891.0</td>\n",
       "      <td>49.881033</td>\n",
       "      <td>11.865889</td>\n",
       "      <td>30.0</td>\n",
       "      <td>40.0</td>\n",
       "      <td>49.0</td>\n",
       "      <td>60.0</td>\n",
       "      <td>70.0</td>\n",
       "    </tr>\n",
       "    <tr>\n",
       "      <th>Geschlecht</th>\n",
       "      <td>891.0</td>\n",
       "      <td>0.578002</td>\n",
       "      <td>0.494156</td>\n",
       "      <td>0.0</td>\n",
       "      <td>0.0</td>\n",
       "      <td>1.0</td>\n",
       "      <td>1.0</td>\n",
       "      <td>1.0</td>\n",
       "    </tr>\n",
       "  </tbody>\n",
       "</table>\n",
       "</div>"
      ],
      "text/plain": [
       "            count       mean        std   min   25%   50%   75%   max\n",
       "Alter       891.0  49.881033  11.865889  30.0  40.0  49.0  60.0  70.0\n",
       "Geschlecht  891.0   0.578002   0.494156   0.0   0.0   1.0   1.0   1.0"
      ]
     },
     "execution_count": 12,
     "metadata": {},
     "output_type": "execute_result"
    }
   ],
   "source": [
    "df_2.describe().T"
   ]
  },
  {
   "cell_type": "markdown",
   "id": "f9205e77",
   "metadata": {},
   "source": [
    "# df_1 Einkommen"
   ]
  },
  {
   "cell_type": "code",
   "execution_count": null,
   "id": "b0542bfb",
   "metadata": {},
   "outputs": [],
   "source": [
    "df_1[\"Einkommen\"].mean()"
   ]
  },
  {
   "cell_type": "code",
   "execution_count": null,
   "id": "5225483f",
   "metadata": {},
   "outputs": [],
   "source": [
    "Q1 = df_1[\"Einkommen\"].quantile(0.25)\n",
    "Q3 = df_1[\"Einkommen\"].quantile(0.75)\n",
    "IQR = Q3 - Q1"
   ]
  },
  {
   "cell_type": "code",
   "execution_count": null,
   "id": "91dd6b79",
   "metadata": {},
   "outputs": [],
   "source": [
    "Q1"
   ]
  },
  {
   "cell_type": "code",
   "execution_count": null,
   "id": "10a41c83",
   "metadata": {},
   "outputs": [],
   "source": [
    "Q3"
   ]
  },
  {
   "cell_type": "code",
   "execution_count": null,
   "id": "18c50c1c",
   "metadata": {},
   "outputs": [],
   "source": [
    "IQR"
   ]
  },
  {
   "cell_type": "code",
   "execution_count": null,
   "id": "92d1c473",
   "metadata": {},
   "outputs": [],
   "source": [
    "median_einkommen = df_1[\"Einkommen\"].median()\n",
    "median_einkommen"
   ]
  },
  {
   "cell_type": "code",
   "execution_count": null,
   "id": "0968ba8e",
   "metadata": {},
   "outputs": [],
   "source": [
    "df_1[\"Einkommen\"] = df_1[\"Einkommen\"].apply(lambda x: median_einkommen if x <= 0 or x >= 1000000 else x)"
   ]
  },
  {
   "cell_type": "code",
   "execution_count": null,
   "id": "474a004e",
   "metadata": {},
   "outputs": [],
   "source": [
    "df_1.describe()"
   ]
  },
  {
   "cell_type": "markdown",
   "id": "4a148621",
   "metadata": {},
   "source": [
    "# df_1 Alter "
   ]
  },
  {
   "cell_type": "code",
   "execution_count": null,
   "id": "f6b190d9",
   "metadata": {},
   "outputs": [],
   "source": [
    "df_1[\"Alter\"].value_counts()"
   ]
  },
  {
   "cell_type": "code",
   "execution_count": null,
   "id": "fb645240",
   "metadata": {},
   "outputs": [],
   "source": [
    "modalwert_alter = df_1[\"Alter\"].mode()[0]\n",
    "modalwert_alter"
   ]
  },
  {
   "cell_type": "code",
   "execution_count": null,
   "id": "89e8a58d",
   "metadata": {},
   "outputs": [],
   "source": [
    "anzahl_personen_ueber_70 = len(df_1[df_1[\"Alter\"] > 70])"
   ]
  },
  {
   "cell_type": "code",
   "execution_count": null,
   "id": "edeca467",
   "metadata": {},
   "outputs": [],
   "source": [
    "anzahl_personen_ueber_70"
   ]
  },
  {
   "cell_type": "code",
   "execution_count": null,
   "id": "71602204",
   "metadata": {},
   "outputs": [],
   "source": [
    "df_1[\"Alter\"] = df_1[\"Alter\"].apply(lambda x: modalwert_alter if x >= 100 else x)"
   ]
  },
  {
   "cell_type": "code",
   "execution_count": null,
   "id": "aedd4ca3",
   "metadata": {},
   "outputs": [],
   "source": [
    "df_1.describe()"
   ]
  },
  {
   "cell_type": "markdown",
   "id": "0b32ce0c",
   "metadata": {},
   "source": [
    "# 4.2 df_1 Daten umformen"
   ]
  },
  {
   "cell_type": "code",
   "execution_count": null,
   "id": "1be29996",
   "metadata": {},
   "outputs": [],
   "source": [
    "df_1[\"Geschlecht\"] = df_1[\"Geschlecht\"].astype(\"int64\")"
   ]
  },
  {
   "cell_type": "code",
   "execution_count": null,
   "id": "474e682e",
   "metadata": {},
   "outputs": [],
   "source": [
    "df_1.dtypes"
   ]
  },
  {
   "cell_type": "code",
   "execution_count": null,
   "id": "249c648a",
   "metadata": {},
   "outputs": [],
   "source": [
    "df_1.describe()"
   ]
  },
  {
   "cell_type": "markdown",
   "id": "c8e61406",
   "metadata": {},
   "source": [
    "# 5  df_2 Daten umformen"
   ]
  },
  {
   "cell_type": "code",
   "execution_count": null,
   "id": "a1b8227b",
   "metadata": {},
   "outputs": [],
   "source": [
    "df_2[\"Einkommen\"] = pd.to_numeric(df_2[\"Einkommen\"].str.replace(',', '.'), errors=\"coerce\")"
   ]
  },
  {
   "cell_type": "code",
   "execution_count": null,
   "id": "cbdfcd2e",
   "metadata": {},
   "outputs": [],
   "source": [
    "df_2[\"Zeit\"] = pd.to_numeric(df_2[\"Zeit\"].str.replace(',', '.'), errors=\"coerce\")"
   ]
  },
  {
   "cell_type": "code",
   "execution_count": null,
   "id": "90832348",
   "metadata": {},
   "outputs": [],
   "source": [
    "df_2.dtypes"
   ]
  },
  {
   "cell_type": "code",
   "execution_count": null,
   "id": "346f0604",
   "metadata": {},
   "outputs": [],
   "source": [
    "df_2.describe()"
   ]
  },
  {
   "cell_type": "markdown",
   "id": "8b988faf",
   "metadata": {},
   "source": [
    "# 6 Zusammenfügen von df_1 und df_2 zu df_3"
   ]
  },
  {
   "cell_type": "code",
   "execution_count": null,
   "id": "6d376fbf",
   "metadata": {},
   "outputs": [],
   "source": [
    "df_3 = pd.concat([df_1, df_2],\n",
    "                axis = 0, # Über die Zeilen zusammenfügen\n",
    "                ignore_index = True)"
   ]
  },
  {
   "cell_type": "code",
   "execution_count": null,
   "id": "493fca54",
   "metadata": {
    "scrolled": true
   },
   "outputs": [],
   "source": [
    "df_3"
   ]
  },
  {
   "cell_type": "markdown",
   "id": "8104e689",
   "metadata": {},
   "source": [
    "# 7 Einkommen runden"
   ]
  },
  {
   "cell_type": "code",
   "execution_count": null,
   "id": "c6d6f9dd",
   "metadata": {},
   "outputs": [],
   "source": [
    "df_3[\"Einkommen\"] = df_3[\"Einkommen\"].round(2)\n",
    "df_3"
   ]
  },
  {
   "cell_type": "markdown",
   "id": "8a70e8ba",
   "metadata": {},
   "source": [
    "# 8.1 Textdatei einlesen"
   ]
  },
  {
   "cell_type": "code",
   "execution_count": null,
   "id": "bfe04628",
   "metadata": {},
   "outputs": [],
   "source": [
    "text_datei = \"data/geo.txt\"\n",
    "df_text = pd.read_csv(text_datei, header=None, names=[\"Platzhalter\"])\n",
    "df_text"
   ]
  },
  {
   "cell_type": "markdown",
   "id": "2269944c",
   "metadata": {},
   "source": [
    "# 8.2 Überschriften "
   ]
  },
  {
   "cell_type": "code",
   "execution_count": null,
   "id": "2270a66d",
   "metadata": {},
   "outputs": [],
   "source": [
    "df_text[[\"KundeNR\", \"Niederlassung\"]] = df_text[\"Platzhalter\"].str.split(expand=True)\n",
    "df_text"
   ]
  },
  {
   "cell_type": "code",
   "execution_count": null,
   "id": "8785a788",
   "metadata": {},
   "outputs": [],
   "source": [
    "df_text"
   ]
  },
  {
   "cell_type": "code",
   "execution_count": null,
   "id": "e36f518d",
   "metadata": {},
   "outputs": [],
   "source": [
    "df_text.columns"
   ]
  },
  {
   "cell_type": "code",
   "execution_count": null,
   "id": "b0fc9ac1",
   "metadata": {},
   "outputs": [],
   "source": [
    "df_text = df_text.drop(\"Platzhalter\", axis=1)\n"
   ]
  },
  {
   "cell_type": "markdown",
   "id": "f112facd",
   "metadata": {},
   "source": [
    "df_text.columns"
   ]
  },
  {
   "cell_type": "markdown",
   "id": "23a0977f",
   "metadata": {},
   "source": [
    "# 9 Im df_3 neue Spalte erstellen"
   ]
  },
  {
   "cell_type": "code",
   "execution_count": null,
   "id": "5a48af61",
   "metadata": {},
   "outputs": [],
   "source": [
    "df_3 = df_3.copy()\n",
    "df_3[\"Niederlassung\"] = None\n",
    "df_3"
   ]
  },
  {
   "cell_type": "markdown",
   "id": "f29aa1bc",
   "metadata": {},
   "source": [
    "# 10 Spalte umbenennen "
   ]
  },
  {
   "cell_type": "code",
   "execution_count": null,
   "id": "8eb53ce9",
   "metadata": {},
   "outputs": [],
   "source": [
    "df_3 = df_3.rename(columns={\"KundeNr\": \"KundeNR\"})\n",
    "df_3.dtypes"
   ]
  },
  {
   "cell_type": "markdown",
   "id": "39e48ad3",
   "metadata": {},
   "source": [
    "# 11 Text-Datei mit CSV mergen"
   ]
  },
  {
   "cell_type": "code",
   "execution_count": null,
   "id": "f5643add",
   "metadata": {},
   "outputs": [],
   "source": [
    "merged_df = pd.merge(df_3, df_text[[\"KundeNR\", \"Niederlassung\"]], on=\"KundeNR\", how=\"left\")\n",
    "merged_df"
   ]
  },
  {
   "cell_type": "markdown",
   "id": "2ceb02a7",
   "metadata": {},
   "source": [
    "# 12 Spalte umbennen"
   ]
  },
  {
   "cell_type": "code",
   "execution_count": null,
   "id": "91f0fabc",
   "metadata": {},
   "outputs": [],
   "source": [
    "merged_df = merged_df.rename(columns={\"Niederlassung_y\": \"Niederlassung\"})\n",
    "merged_df = merged_df.drop(\"Niederlassung_x\", axis = 1)\n",
    "merged_df"
   ]
  },
  {
   "cell_type": "markdown",
   "id": "a359f58f",
   "metadata": {},
   "source": [
    "# 13 Namen der Niederlassungen anzeigen"
   ]
  },
  {
   "cell_type": "code",
   "execution_count": null,
   "id": "b320515b",
   "metadata": {},
   "outputs": [],
   "source": [
    "merged_df[\"Niederlassung\"].unique()"
   ]
  },
  {
   "cell_type": "markdown",
   "id": "7b5ba341",
   "metadata": {},
   "source": [
    "# 14 Namen der Bundesländer fixen"
   ]
  },
  {
   "cell_type": "code",
   "execution_count": null,
   "id": "eef6ead9",
   "metadata": {
    "scrolled": true
   },
   "outputs": [],
   "source": [
    "merged_df[\"Niederlassung\"] = merged_df[\"Niederlassung\"].replace(\"BERLIN\", \"Berlin\")\n",
    "merged_df[\"Niederlassung\"] = merged_df[\"Niederlassung\"].replace(\"Berlin-Mitte\", \"Berlin\")\n",
    "merged_df[\"Niederlassung\"] = merged_df[\"Niederlassung\"].replace(\"Berlin-Charlottenburg\", \"Berlin\")\n",
    "merged_df[\"Niederlassung\"] = merged_df[\"Niederlassung\"].replace(\"Düsseldorf\", \"Nordrhein-Westfalen\")\n",
    "merged_df[\"Niederlassung\"] = merged_df[\"Niederlassung\"].replace(\"NRW\", \"Nordrhein-Westfalen\")"
   ]
  },
  {
   "cell_type": "code",
   "execution_count": null,
   "id": "4a016606",
   "metadata": {},
   "outputs": [],
   "source": [
    "merged_df[\"Niederlassung\"].unique()"
   ]
  },
  {
   "cell_type": "markdown",
   "id": "2d6178e4",
   "metadata": {},
   "source": [
    "Kunden stammen aus 10 Bundesländern"
   ]
  },
  {
   "cell_type": "markdown",
   "id": "6545b25d",
   "metadata": {},
   "source": [
    "# 15. 1 Neue Spalte namens \"Typ\" erstellen (Kunden oder Besucher)"
   ]
  },
  {
   "cell_type": "code",
   "execution_count": null,
   "id": "1635035a",
   "metadata": {},
   "outputs": [],
   "source": [
    "merged_df[\"Typ\"] = merged_df[\"Preis\"].apply(lambda x: 'Kunde' if pd.notna(x) else 'Besucher')"
   ]
  },
  {
   "cell_type": "markdown",
   "id": "833d9cef",
   "metadata": {},
   "source": [
    "# 15.2 Spalte umpositionieren"
   ]
  },
  {
   "cell_type": "code",
   "execution_count": null,
   "id": "daaf7faf",
   "metadata": {},
   "outputs": [],
   "source": [
    "merged_df.insert(0, \"Typ\", merged_df.pop(\"Typ\"))\n",
    "merged_df.describe()"
   ]
  },
  {
   "cell_type": "code",
   "execution_count": null,
   "id": "cbecfca5",
   "metadata": {},
   "outputs": [],
   "source": [
    "merged_df[\"Typ\"].value_counts().get(\"Kunde\")"
   ]
  },
  {
   "cell_type": "code",
   "execution_count": null,
   "id": "3526f704",
   "metadata": {},
   "outputs": [],
   "source": [
    "merged_df[\"Typ\"].value_counts().get(\"Besucher\")"
   ]
  },
  {
   "cell_type": "markdown",
   "id": "20cc1c4b",
   "metadata": {},
   "source": [
    "# 16 CSV Speichern"
   ]
  },
  {
   "cell_type": "code",
   "execution_count": null,
   "id": "ee62cb6e",
   "metadata": {},
   "outputs": [],
   "source": [
    "merged_df.to_csv(\"data/df_final.csv\", index = False)"
   ]
  },
  {
   "cell_type": "code",
   "execution_count": null,
   "id": "bd3c0528",
   "metadata": {},
   "outputs": [],
   "source": [
    "df_1.to_csv(\"data/df_1.csv\", index = False)"
   ]
  },
  {
   "cell_type": "code",
   "execution_count": null,
   "id": "fbe519a1",
   "metadata": {},
   "outputs": [],
   "source": [
    "df_2.to_csv(\"data/df_2.csv\", index = False)"
   ]
  },
  {
   "cell_type": "code",
   "execution_count": null,
   "id": "5ae6c6fe",
   "metadata": {},
   "outputs": [],
   "source": [
    "df_3.to_csv(\"data/df_3.csv\", index = False)"
   ]
  },
  {
   "cell_type": "markdown",
   "id": "1dedb656",
   "metadata": {},
   "source": [
    "# 17 Kundennummer als Index"
   ]
  },
  {
   "cell_type": "code",
   "execution_count": null,
   "id": "d303bc0d",
   "metadata": {},
   "outputs": [],
   "source": [
    "merged_df.set_index(\"KundeNR\", inplace=True)\n",
    "merged_df\n"
   ]
  },
  {
   "cell_type": "code",
   "execution_count": null,
   "id": "b0bed847",
   "metadata": {
    "scrolled": true
   },
   "outputs": [],
   "source": [
    "for i in merged_df.select_dtypes(include = \"number\").columns:\n",
    "    plt.figure(figsize=(15,6))\n",
    "    sns.boxplot(data=merged_df, x = i)\n",
    "    plt.show()"
   ]
  },
  {
   "cell_type": "markdown",
   "id": "7f7e393e",
   "metadata": {},
   "source": [
    "# Frage 1: Wie viele Autos wurden verkauft?"
   ]
  },
  {
   "cell_type": "code",
   "execution_count": null,
   "id": "b7c05a24",
   "metadata": {},
   "outputs": [],
   "source": [
    "# Zöhle die Anzahl der Preise und gebe die Summe wieder\n",
    "Sales = merged_df[\"Preis\"].count()\n",
    "Sales"
   ]
  },
  {
   "cell_type": "code",
   "execution_count": null,
   "id": "964a809e",
   "metadata": {},
   "outputs": [],
   "source": [
    "Sales_1 = df_1[\"Preis\"].count()\n",
    "Sales_1"
   ]
  },
  {
   "cell_type": "markdown",
   "id": "8ed95185",
   "metadata": {},
   "source": [
    "# Frage 2:  Was ist der Höchst-, Mindest- und Durchschnittspreis der verkauften Autos?"
   ]
  },
  {
   "cell_type": "code",
   "execution_count": null,
   "id": "2f96f173",
   "metadata": {},
   "outputs": [],
   "source": [
    "Hoechstpreis = df_1[\"Preis\"].max()\n",
    "Mindestpreis = df_1[\"Preis\"].min()\n",
    "Durchschnittspreis = df_1[\"Preis\"].mean().round(2)"
   ]
  },
  {
   "cell_type": "code",
   "execution_count": null,
   "id": "fc9bf9a4",
   "metadata": {},
   "outputs": [],
   "source": [
    "Hoechstpreis"
   ]
  },
  {
   "cell_type": "code",
   "execution_count": null,
   "id": "b2692a92",
   "metadata": {},
   "outputs": [],
   "source": [
    "Mindestpreis"
   ]
  },
  {
   "cell_type": "code",
   "execution_count": null,
   "id": "aa69d26e",
   "metadata": {},
   "outputs": [],
   "source": [
    "Durchschnittspreis"
   ]
  },
  {
   "cell_type": "code",
   "execution_count": null,
   "id": "b561f66f",
   "metadata": {},
   "outputs": [],
   "source": [
    "daten = {'': ['Mindestpreis', 'Hoechstpreis', 'Durchschnittspreis'],\n",
    "        'Preis': [Mindestpreis, Hoechstpreis, Durchschnittspreis]}\n",
    "\n",
    "df_F2 = pd.DataFrame(daten)\n"
   ]
  },
  {
   "cell_type": "code",
   "execution_count": null,
   "id": "173d09bf",
   "metadata": {},
   "outputs": [],
   "source": [
    "\n",
    "fig, ax = plt.subplots()\n",
    "ax.axis('tight')\n",
    "ax.axis('off')\n",
    "ax.table(cellText=df_F2.values, colLabels=df_F2.columns, cellLoc = 'center', loc='center')\n",
    "\n",
    "plt.show()"
   ]
  },
  {
   "cell_type": "markdown",
   "id": "e2eeb7ea",
   "metadata": {},
   "source": [
    "# Frage 3: Wie hoch war der Gesamtumsatz?\n"
   ]
  },
  {
   "cell_type": "code",
   "execution_count": null,
   "id": "8ea7d9cf",
   "metadata": {},
   "outputs": [],
   "source": [
    "Gesamtumsatz_1 = df_1[\"Preis\"].sum()\n",
    "Gesamtumsatz_1"
   ]
  },
  {
   "cell_type": "markdown",
   "id": "e59aed5f",
   "metadata": {},
   "source": [
    "# Frage 4: Wie viele Autos wurden pro Bundesland verkauft?"
   ]
  },
  {
   "cell_type": "code",
   "execution_count": null,
   "id": "e898ccb6",
   "metadata": {},
   "outputs": [],
   "source": [
    "# Methode groupby() verwendet, um das DataFrame nach der Spalte \"Niederlassung\" zu gruppieren\n",
    "Autos_pro_Bundesland = merged_df.groupby(\"Niederlassung\")[\"Preis\"].count()\n",
    "Autos_pro_Bundesland"
   ]
  },
  {
   "cell_type": "code",
   "execution_count": null,
   "id": "a6f5440c",
   "metadata": {
    "scrolled": false
   },
   "outputs": [],
   "source": [
    "daten = {\"Bundesland\": [\"Baden-Württemberg\", \"Bayern\", \"Berlin\", \"Brandenburg\", \"Hessen\", \"Hamburg\", \"Niedersachsen\", \"Nordrhein-Westfalen\", \"Sachsen\", \"Thüringen\"],\n",
    "        \"Verkaufte_Autos\": [205, 188, 126, 37, 96, 43, 96, 175, 89, 49]}\n",
    "df_torte_daten = pd.DataFrame(daten)\n",
    "farben_palette = ['lightcoral', 'lightgreen', 'lightskyblue', 'gold', 'orange', 'lightpink', 'lightblue', 'mediumseagreen', 'lightcyan', 'plum']\n",
    "\n",
    "# Tortendiagramm erstellen\n",
    "plt.pie(df_torte_daten[\"Verkaufte_Autos\"], labels= None, autopct=\"%1.1f%%\", startangle=90, colors=farben_palette, pctdistance = 0.85)\n",
    "\n",
    "# Hinzufügen von Beschriftungen und Titel\n",
    "plt.axis(\"equal\")\n",
    "plt.title(\"Verkaufte Autos pro Bundesland\", fontsize = 16, fontweight= \"bold\")\n",
    "plt.legend(df_torte_daten[\"Bundesland\"], title=\"Bundesland\", bbox_to_anchor=(1, 0.5), loc=\"center left\")\n",
    "plt.show()\n",
    "\n",
    "#\n",
    "df_saeule_daten = pd.DataFrame(daten)\n",
    "\n",
    "# Säulendiagramm erstellen\n",
    "plt.figure(figsize=(10, 6))\n",
    "saeulen = plt.bar(df_saeule_daten[\"Bundesland\"], df_saeule_daten[\"Verkaufte_Autos\"], color='skyblue') \n",
    "\n",
    "# Absolute Werte über den Säulen anzeigen\n",
    "for saeule in saeulen:\n",
    "    height = saeule.get_height()\n",
    "    plt.text(saeule.get_x() + saeule.get_width() / 2, height, f\"{int(height)}\", ha=\"center\", va=\"top\", fontsize=10)\n",
    "#saeule.get_x() + saeule.get_width() / 2: Dieser Ausdruck gibt die x-Position in der Mitte der aktuellen Säule zurück.\n",
    "#height: Dies ist die Höhe der aktuellen Säule.\n",
    "# f\"{int(height)}\": Formatiert die Höhe der Säule als Ganzzahl und erstellt einen Textstring, der die absolute Zahl repräsentiert\n",
    "\n",
    "# Hinzufügen von Beschriftungen und Titel\n",
    "plt.xlabel(\"Bundesland\", fontsize=12)\n",
    "plt.ylabel(\"Verkaufte Autos\", fontsize=12)\n",
    "plt.title(\"Verkaufte Autos pro Bundesland\", fontsize=16, fontweight=\"bold\")\n",
    "plt.xticks(rotation=45, ha=\"right\")\n",
    "plt.show()"
   ]
  },
  {
   "cell_type": "markdown",
   "id": "46f6184c",
   "metadata": {},
   "source": [
    "# Frage 5:  Wie hoch war der durchschnittliche Umsatz pro Bundesland?"
   ]
  },
  {
   "cell_type": "code",
   "execution_count": null,
   "id": "203388d7",
   "metadata": {
    "scrolled": true
   },
   "outputs": [],
   "source": [
    "# Methode groupby() verwendet, um das DataFrame nach der Spalte \"Niederlassung\" zu gruppieren\n",
    "durchschnittsumsatz_pro_bundesland = merged_df.groupby('Niederlassung')['Preis'].mean()\n",
    "durchschnittsumsatz_pro_bundesland"
   ]
  },
  {
   "cell_type": "code",
   "execution_count": null,
   "id": "79871d0f",
   "metadata": {},
   "outputs": [],
   "source": [
    "# Plot\n",
    "plt.figure(figsize=(10, 6))\n",
    "\n",
    "# Balkendiagramm für durchschnittlichen Umsatz pro Auto pro Bundesland\n",
    "bars = plt.bar(durchschnittsumsatz_pro_bundesland.index, durchschnittsumsatz_pro_bundesland, color='blue', label='Durchschnittsumsatz')\n",
    "\n",
    "# Zahlen auf den Säulen anzeigen\n",
    "for bar in bars:\n",
    "    yval = bar.get_height()\n",
    "    plt.text(bar.get_x() + bar.get_width()/2, yval, round(yval, 2), ha='center', va='bottom')\n",
    "\n",
    "# Achsentitel und Legende\n",
    "plt.title('Durchschnittsumsatz pro Auto pro Bundesland')\n",
    "plt.xlabel('Bundesland')\n",
    "plt.ylabel('Durchschnittsumsatz pro Auto')\n",
    "\n",
    "# X-Achsenbeschriftungen senkrecht anzeigen lassen\n",
    "plt.xticks(rotation='vertical')\n",
    "\n",
    "plt.show()"
   ]
  },
  {
   "cell_type": "markdown",
   "id": "6123b4aa",
   "metadata": {},
   "source": [
    "# Frage 6: Haben mehr Frauen oder mehr Männer unsere Autos gekauft?"
   ]
  },
  {
   "cell_type": "code",
   "execution_count": null,
   "id": "90b2f0e7",
   "metadata": {},
   "outputs": [],
   "source": [
    "Kunden_Verteilung = df_1.groupby(\"Geschlecht\").size()\n",
    "\n",
    "if Kunden_Verteilung.get(1, 0) > Kunden_Verteilung.get(0, 0):\n",
    "    print(\"Männer machen die Mehrheit der Kunden aus.\")\n",
    "elif Kunden_Verteilung.get(1, 0) > Kunden_Verteilung.get(0, 0):\n",
    "     print(\"Frauen machen die Mehrheit der Kunden aus.\")   \n",
    "else:\n",
    "    print(\"50 % Männer und 50 % Frauen.\")\n"
   ]
  },
  {
   "cell_type": "code",
   "execution_count": null,
   "id": "8db1a973",
   "metadata": {},
   "outputs": [],
   "source": [
    "verteilung_nach_geschlecht = df_1[\"Geschlecht\"].value_counts(normalize=True) * 100\n",
    "anzahl_nach_geschlecht = df_1[\"Geschlecht\"].value_counts()\n",
    "\n",
    "# Balkendiagramm erstellen\n",
    "colors = [\"blue\", \"pink\"]\n",
    "plt.bar([\"Männlich\"], [verteilung_nach_geschlecht[1]], color=\"blue\", label=f\"Männlich ({anzahl_nach_geschlecht[1]})\\n{verteilung_nach_geschlecht[1]:.2f}%\")\n",
    "plt.bar([\"Weiblich\"], [verteilung_nach_geschlecht[0]], color=\"pink\", label=f\"Weiblich ({anzahl_nach_geschlecht[0]})\\n{verteilung_nach_geschlecht[0]:.2f}%\")\n",
    "\n",
    "\n",
    "\n",
    "plt.title(\"Verteilung der Kunden nach Geschlecht\", fontsize = 16, fontweight= \"bold\")\n",
    "plt.ylabel(\"Anteil (%)\")\n",
    "plt.legend()\n",
    "plt.show()\n"
   ]
  },
  {
   "cell_type": "code",
   "execution_count": null,
   "id": "56c6c8b1",
   "metadata": {},
   "outputs": [],
   "source": [
    "Kunden_Verteilung"
   ]
  },
  {
   "cell_type": "markdown",
   "id": "92af46a7",
   "metadata": {},
   "source": [
    "# Frage 7: Wie hoch ist das Durchschnittsalter unserer Kunden?"
   ]
  },
  {
   "cell_type": "code",
   "execution_count": null,
   "id": "9341aba7",
   "metadata": {},
   "outputs": [],
   "source": [
    "Durchschnittsalter_Kunden_1 = df_1[\"Alter\"].mean().round(1)\n",
    "Durchschnittsalter_Kunden_1"
   ]
  },
  {
   "cell_type": "code",
   "execution_count": null,
   "id": "580629cd",
   "metadata": {
    "scrolled": false
   },
   "outputs": [],
   "source": [
    "# Häufigkeiten zählen und von klein nach groß sortieren\n",
    "Haeufigkeiten_sortiert = df_1[\"Alter\"].value_counts().sort_index()\n",
    "\n",
    "# Diagramm erstellen mit Säulen\n",
    "plt.figure(figsize=(12, 6))\n",
    "plt.bar(Haeufigkeiten_sortiert.index, Haeufigkeiten_sortiert)\n",
    "\n",
    "# Diagramm beschriften\n",
    "plt.title(\"Alter unserer Kunden\")\n",
    "plt.xlabel(\"Alter\")\n",
    "plt.ylabel(\"Häufigkeit\")\n",
    "\n",
    "# Diagramm anzeigen\n",
    "plt.show()"
   ]
  },
  {
   "cell_type": "markdown",
   "id": "af60dcd4",
   "metadata": {},
   "source": [
    "# Frage 8:  Wie hoch ist das Durchschnittsalter der Besucher in unseren Showrooms?"
   ]
  },
  {
   "cell_type": "code",
   "execution_count": null,
   "id": "4ea89fd1",
   "metadata": {},
   "outputs": [],
   "source": [
    "Durchschnittsalter_Besucher_1 = df_2[\"Alter\"].mean().round(1)\n",
    "Durchschnittsalter_Besucher_1 "
   ]
  },
  {
   "cell_type": "markdown",
   "id": "453df317",
   "metadata": {},
   "source": [
    "# Frage 9: Durchschnittsalter männliche Kunden"
   ]
  },
  {
   "cell_type": "code",
   "execution_count": null,
   "id": "19108a95",
   "metadata": {},
   "outputs": [],
   "source": [
    "Durchschnittsalter_maennlich_Kunden = df_1[df_1['Geschlecht'] == 1]['Alter'].mean().round(2)\n",
    "Durchschnittsalter_maennlich_Kunden"
   ]
  },
  {
   "cell_type": "markdown",
   "id": "904f3679",
   "metadata": {},
   "source": [
    "# Frage 10: Wie hoch ist das Durchschnittseinkommen unserer Kunden?"
   ]
  },
  {
   "cell_type": "code",
   "execution_count": null,
   "id": "fd467c91",
   "metadata": {},
   "outputs": [],
   "source": [
    "Durchschnittseinkommen_Kunden = df_1['Einkommen'].mean().round(2)\n",
    "Durchschnittseinkommen_Kunden"
   ]
  },
  {
   "cell_type": "markdown",
   "id": "a77ce6e3",
   "metadata": {},
   "source": [
    "# Frage 11: Wie hoch ist die Korrelation (Pearson-Korrelation) zwischen den Variablen Alter, Einkommen, Preis und Zeit? (nur für die Kunden)"
   ]
  },
  {
   "cell_type": "code",
   "execution_count": null,
   "id": "f85b251e",
   "metadata": {},
   "outputs": [],
   "source": [
    "df_11 = df_1[[\"Alter\", \"Einkommen\", \"Zeit\", \"Preis\"]]"
   ]
  },
  {
   "cell_type": "code",
   "execution_count": null,
   "id": "5f5ecafa",
   "metadata": {},
   "outputs": [],
   "source": [
    "df_11.corr()"
   ]
  },
  {
   "cell_type": "code",
   "execution_count": null,
   "id": "673aaa1a",
   "metadata": {},
   "outputs": [],
   "source": [
    "sns.heatmap(df_11.corr(), annot = True, cmap = \"coolwarm\", mask=np.triu(df_11.corr(),+1),linewidth=1.5)\n",
    "plt.title(\"Korrelation Heatmap\")\n",
    "plt.show()"
   ]
  },
  {
   "cell_type": "markdown",
   "id": "60592bda",
   "metadata": {},
   "source": [
    "# Frage 12:  Wie ist die Variable Zeit verteilt? (Kunden und Besucher zusammen)\n"
   ]
  },
  {
   "cell_type": "code",
   "execution_count": null,
   "id": "6048cf3c",
   "metadata": {},
   "outputs": [],
   "source": [
    "print(\"Statistische Informationen zur Variable 'Zeit':\")\n",
    "print(merged_df[\"Zeit\"].describe())"
   ]
  },
  {
   "cell_type": "code",
   "execution_count": null,
   "id": "27c7a583",
   "metadata": {
    "scrolled": false
   },
   "outputs": [],
   "source": [
    "x1 = plt.hist(merged_df[\"Zeit\"], bins=10, edgecolor=\"black\")\n",
    "plt.title(\"Verteilung der variablen Zeit\", fontsize = 16, fontweight= \"bold\")\n",
    "plt.ylabel(\"Anteil (%)\")\n",
    "plt.xlabel(\"Zeit (Minuten)\")\n",
    "plt.ylabel(\"Häufigkeit\")\n",
    "plt.show()\n"
   ]
  },
  {
   "cell_type": "code",
   "execution_count": null,
   "id": "39478ea5",
   "metadata": {
    "scrolled": false
   },
   "outputs": [],
   "source": [
    "column_to_plot = \"Zeit\"\n",
    "\n",
    "plt.figure(figsize=(15, 6))\n",
    "sns.kdeplot(data=merged_df, x=column_to_plot)\n",
    "plt.show()"
   ]
  },
  {
   "cell_type": "markdown",
   "id": "ffd33e75",
   "metadata": {},
   "source": [
    "# Frage 13: Wie viele Kunden haben keinen Kredit bei der Bank genommen?"
   ]
  },
  {
   "cell_type": "code",
   "execution_count": null,
   "id": "ce4f4a82",
   "metadata": {},
   "outputs": [],
   "source": [
    "# Kunden Jahreseinkommen > Autopreis = kein Bankkredit \n",
    "Kunden_ohne_Kredit = df_1[df_1[\"Einkommen\"] > df_1[\"Preis\"]].shape[0]\n",
    "Kunden_ohne_Kredit"
   ]
  },
  {
   "cell_type": "code",
   "execution_count": null,
   "id": "34bbc3fb",
   "metadata": {},
   "outputs": [],
   "source": [
    "# Anzeigen der Kunden, die keinen Kredit genommen haben\n",
    "merged_df.loc[merged_df[\"Einkommen\"] > merged_df[\"Preis\"]]"
   ]
  },
  {
   "cell_type": "markdown",
   "id": "3b525e07",
   "metadata": {},
   "source": [
    "# Frage 14: Welches sind die sozioökonomischen Merkmale der Kunden, die den Kaufpreis beeinflussen? \n"
   ]
  },
  {
   "cell_type": "code",
   "execution_count": null,
   "id": "8f33b614",
   "metadata": {},
   "outputs": [],
   "source": [
    "model1 = smf.ols('Preis ~ Alter + Einkommen + Geschlecht + Zeit', data = merged_df).fit()"
   ]
  },
  {
   "cell_type": "code",
   "execution_count": null,
   "id": "134c52e6",
   "metadata": {},
   "outputs": [],
   "source": [
    "Stargazer([model1])"
   ]
  },
  {
   "cell_type": "markdown",
   "id": "63d56f97",
   "metadata": {},
   "source": [
    "# Frage 15: Prognostiziere den Kaufpreis für(m, 32, 30000) & (m, 51, 54000) noch nicht richtig"
   ]
  },
  {
   "cell_type": "code",
   "execution_count": null,
   "id": "0e1d554b",
   "metadata": {
    "scrolled": true
   },
   "outputs": [],
   "source": [
    "# Daten vorbereiten\n",
    "data_for_model = merged_df.dropna(subset=['Preis'])\n",
    "\n",
    "# Features auswählen und aufbereiten\n",
    "features = ['Alter', 'Einkommen', 'Geschlecht']\n",
    "X = data_for_model[features]\n",
    "y = data_for_model['Preis']\n",
    "\n",
    "# Konstante zu den Features hinzufügen\n",
    "X = sm.add_constant(X)\n",
    "\n",
    "# Lineare Regression erstellen und trainieren\n",
    "model = sm.OLS(y, X)\n",
    "result = model.fit()\n",
    "\n",
    "# Szenarien vorbereiten\n",
    "szenario_1 = pd.DataFrame([[1, 32, 30000, 1]], columns=['const', 'Alter', 'Einkommen', 'Geschlecht'])\n",
    "szenario_2 = pd.DataFrame([[1, 51, 54000, 1]], columns=['const', 'Alter', 'Einkommen', 'Geschlecht'])\n",
    "\n",
    "# Vorhersagen für die Szenarien machen\n",
    "prediction_1 = result.predict(szenario_1)\n",
    "prediction_2 = result.predict(szenario_2)\n",
    "\n"
   ]
  },
  {
   "cell_type": "code",
   "execution_count": null,
   "id": "eaf888f0",
   "metadata": {},
   "outputs": [],
   "source": [
    "# Ergebnisse ausgeben\n",
    "\"Ergebnis für m, 32, 30000\", prediction_1\n"
   ]
  },
  {
   "cell_type": "code",
   "execution_count": null,
   "id": "7f2385c4",
   "metadata": {},
   "outputs": [],
   "source": [
    "\"Ergebnis für m, 51, 54000\", prediction_2"
   ]
  },
  {
   "cell_type": "markdown",
   "id": "5f16624e",
   "metadata": {},
   "source": [
    "# Frage 16: Welche Variable (Ursache) beeinflusst den Preis (Wirkung) des Autos am meisten?"
   ]
  },
  {
   "cell_type": "code",
   "execution_count": null,
   "id": "2e75bb4d",
   "metadata": {},
   "outputs": [],
   "source": [
    "df_16 = df_1[[\"Alter\", \"Einkommen\", \"Geschlecht\", \"Preis\"]]"
   ]
  },
  {
   "cell_type": "code",
   "execution_count": null,
   "id": "74d41e60",
   "metadata": {},
   "outputs": [],
   "source": [
    "# Standardisierung vornehmen \n",
    "df_z = df_16.select_dtypes(include=[np.number]).dropna().apply(stats.zscore)"
   ]
  },
  {
   "cell_type": "code",
   "execution_count": null,
   "id": "9cd3b396",
   "metadata": {},
   "outputs": [],
   "source": [
    "# Regression\n",
    "formel = 'Preis ~ Alter + Einkommen + Geschlecht' \n",
    "result = smf.ols(formel, data=df_z).fit()"
   ]
  },
  {
   "cell_type": "code",
   "execution_count": null,
   "id": "0971d84f",
   "metadata": {
    "scrolled": true
   },
   "outputs": [],
   "source": [
    "# Betas anzeigen lassen\n",
    "round(result.params, 6)"
   ]
  },
  {
   "cell_type": "code",
   "execution_count": null,
   "id": "a467773c",
   "metadata": {},
   "outputs": [],
   "source": [
    "result.summary()"
   ]
  },
  {
   "cell_type": "markdown",
   "id": "7d3b68a6",
   "metadata": {},
   "source": [
    "Einkommen hat das größte Beta [0;1] und beeinflusst daher den Preis des Autos am meisten"
   ]
  },
  {
   "cell_type": "markdown",
   "id": "cc28e189",
   "metadata": {},
   "source": [
    "# Frage 17: Schätzen Sie eine Regression, die die Wahrscheinlichkeit des Kaufs eines Autos ermittelt."
   ]
  },
  {
   "cell_type": "code",
   "execution_count": null,
   "id": "a8ba97cb",
   "metadata": {},
   "outputs": [],
   "source": [
    "# Daten vorbereiten\n",
    "merged_df['Kauf'] = (merged_df['Preis'] > merged_df['Preis'].mean()).astype(int)\n",
    "\n",
    "# Features auswählen und aufbereiten\n",
    "features = ['Alter', 'Einkommen', 'Geschlecht', 'Zeit']\n",
    "X = merged_df[features]\n",
    "y = merged_df['Kauf']\n",
    "\n",
    "# Konstante zu den Features hinzufügen\n",
    "X = sm.add_constant(X)\n",
    "\n",
    "# Logistische Regression erstellen und trainieren\n",
    "model = sm.Logit(y, X)\n",
    "result = model.fit()"
   ]
  },
  {
   "cell_type": "code",
   "execution_count": null,
   "id": "713ec888",
   "metadata": {},
   "outputs": [],
   "source": [
    "# Ergebnisse anzeigen\n",
    "result.summary()"
   ]
  },
  {
   "cell_type": "markdown",
   "id": "3c1aad69",
   "metadata": {},
   "source": [
    "# Frage 18: Wie hoch ist die Wahrscheinlichkeit, dass Autokauf zustande kommt bei: (m, 32y, 30000€, 30min) & (m, 51y, 54000€, 45min)"
   ]
  },
  {
   "cell_type": "code",
   "execution_count": null,
   "id": "cd76d79f",
   "metadata": {},
   "outputs": [],
   "source": [
    "from statsmodels.api import add_constant\n",
    "\n",
    "# Szenarien vorbereiten\n",
    "szenario_1 = pd.DataFrame({\n",
    "    'const': [1],\n",
    "    'Alter': [32],\n",
    "    'Einkommen': [30000],\n",
    "    'Geschlecht': [1],\n",
    "    'Zeit': [30]\n",
    "})\n",
    "\n",
    "szenario_2 = pd.DataFrame({\n",
    "    'const': [1],\n",
    "    'Alter': [51],\n",
    "    'Einkommen': [54000],\n",
    "    'Geschlecht': [1],\n",
    "    'Zeit': [45]\n",
    "})\n",
    "\n",
    "# Spalten im trainierten Modell\n",
    "model_columns = result.model.exog_names\n",
    "\n",
    "# Spalten in den Szenarien anpassen\n",
    "szenario_1 = szenario_1[model_columns]\n",
    "szenario_2 = szenario_2[model_columns]\n",
    "\n",
    "# Vorhersagen für die beiden Szenarien machen\n",
    "predicted_probabilities_1 = result.predict(szenario_1)\n",
    "predicted_probabilities_2 = result.predict(szenario_2)\n",
    "\n",
    "# Wahrscheinlichkeiten in Prozent umrechnen\n",
    "predicted_probabilities_1 *= 100\n",
    "predicted_probabilities_2 *= 100\n",
    "\n",
    "# Ergebnisse ausgeben\n",
    "print(\"Wahrscheinlichkeit für Szenario 1:\", predicted_probabilities_1)\n",
    "print(\"Wahrscheinlichkeit für Szenario 2:\", predicted_probabilities_2)"
   ]
  },
  {
   "cell_type": "markdown",
   "id": "a0edbadf",
   "metadata": {},
   "source": [
    "# Frage 19: Auf welche Probleme sind Sie bei der Zusammenführung des Datensatzes gestoßen?"
   ]
  },
  {
   "cell_type": "markdown",
   "id": "32caa14f",
   "metadata": {},
   "source": [
    "Problem 1: Es fehlen Daten"
   ]
  },
  {
   "cell_type": "code",
   "execution_count": null,
   "id": "3ad64b81",
   "metadata": {},
   "outputs": [],
   "source": [
    "#CSV Kunden\n",
    "\n",
    "#Alter         0\n",
    "#Einkommen     0\n",
    "#Preis         0\n",
    "#Geschlecht    5\n",
    "#Zeit          0\n",
    "#KundeNr       0"
   ]
  },
  {
   "cell_type": "markdown",
   "id": "4ad18956",
   "metadata": {},
   "source": [
    "Problem 2: Behandlung fehlender Daten und Ausreißern"
   ]
  },
  {
   "cell_type": "markdown",
   "id": "7fc45cd1",
   "metadata": {},
   "source": [
    "Spalte \"Geschlecht\" --> 5 fehlende Werte"
   ]
  },
  {
   "cell_type": "code",
   "execution_count": null,
   "id": "e484b644",
   "metadata": {},
   "outputs": [],
   "source": [
    "# df_1[\"Geschlecht\"] = df_1[\"Geschlecht\"].fillna(1) # Für 1 (Männlich) entschieden, da die meisten Ausprägungen 1 waren"
   ]
  },
  {
   "cell_type": "markdown",
   "id": "b9539b16",
   "metadata": {},
   "source": [
    "Spalte \"Einkommen\" --> Positive/Negative Ausreißer und Wert von 0"
   ]
  },
  {
   "cell_type": "code",
   "execution_count": null,
   "id": "3f6ed4ac",
   "metadata": {},
   "outputs": [],
   "source": [
    "#df_1[\"Einkommen\"].mean() --> 964474.8175955408 NICHT GEEIGNET; Mittelwert sehr empfindlich ggü. Ausreißern"
   ]
  },
  {
   "cell_type": "code",
   "execution_count": null,
   "id": "37524d2c",
   "metadata": {},
   "outputs": [],
   "source": [
    "#df_1[\"Einkommen\"].median() --> 59013; Median ist robuster ggü. Ausreißern"
   ]
  },
  {
   "cell_type": "code",
   "execution_count": null,
   "id": "4e0bd471",
   "metadata": {},
   "outputs": [],
   "source": [
    "#df_1[\"Einkommen\"] = df_1[\"Einkommen\"].apply(lambda x: median_einkommen if x <= 0 or x >= 1000000 else x)"
   ]
  },
  {
   "cell_type": "markdown",
   "id": "639d2433",
   "metadata": {},
   "source": [
    "Spalte \"Alter\" --> Werte von 100 und 120"
   ]
  },
  {
   "cell_type": "code",
   "execution_count": null,
   "id": "bc096898",
   "metadata": {},
   "outputs": [],
   "source": [
    "#df_1[\"Alter\"].value_counts()\n"
   ]
  },
  {
   "cell_type": "code",
   "execution_count": null,
   "id": "ad61a67b",
   "metadata": {},
   "outputs": [],
   "source": [
    "#Alter\n",
    "#55     41\n",
    "#62     39\n",
    "#57     34\n",
    "#66     33\n",
    "#64     32\n",
    "#30     32\n",
    "#34     31\n",
    "#69     30\n",
    "#37     30\n",
    "#31     30\n",
    "#52     29\n",
    "#54     29\n",
    "#58     29\n",
    "#65     29\n",
    "#53     29\n",
    "#61     29\n",
    "#68     29\n",
    "#59     28\n",
    "#35     27\n",
    "#51     27\n",
    "#41     26\n",
    "#40     26\n",
    "#43     26\n",
    "#32     26\n",
    "#46     26\n",
    "#39     24\n",
    "#48     24\n",
    "#38     24\n",
    "#33     24\n",
    "#44     23\n",
    "#50     23\n",
    "#67     23\n",
    "#42     22\n",
    "#70     22\n",
    "#56     22\n",
    "#45     22\n",
    "#49     22\n",
    "#63     21\n",
    "#60     20\n",
    "#47     20\n",
    "#36     19\n",
    "#100     1\n",
    "#120     1"
   ]
  },
  {
   "cell_type": "markdown",
   "id": "aee71e60",
   "metadata": {},
   "source": [
    "Klare Tendenz, dass bestimmte Altersgruppen besonders häufig auftreten --> deutliche Dominanz einer Altersgruppe erkennbar "
   ]
  },
  {
   "cell_type": "markdown",
   "id": "ea216b45",
   "metadata": {},
   "source": [
    "Daher Entschedung für Modus und gegen Median"
   ]
  },
  {
   "cell_type": "code",
   "execution_count": null,
   "id": "d066cd81",
   "metadata": {},
   "outputs": [],
   "source": [
    "#df_1[\"Alter\"].mode()[0]"
   ]
  },
  {
   "cell_type": "code",
   "execution_count": null,
   "id": "2dd0898a",
   "metadata": {},
   "outputs": [],
   "source": [
    "#df_1[\"Alter\"] = df_1[\"Alter\"].apply(lambda x: modalwert_alter if x >= 100 else x)"
   ]
  },
  {
   "cell_type": "markdown",
   "id": "f1344d0a",
   "metadata": {},
   "source": [
    "Problem 3: Die Datentypen sind unterschiedlich"
   ]
  },
  {
   "cell_type": "code",
   "execution_count": null,
   "id": "8049bc19",
   "metadata": {},
   "outputs": [],
   "source": [
    "#Datentyp CSV Kunden:\n",
    "\n",
    "#Alter           int64\n",
    "#Einkommen     float64\n",
    "#Preis         float64\n",
    "#Geschlecht    float64\n",
    "#Zeit          float64\n",
    "#KundeNr        object"
   ]
  },
  {
   "cell_type": "code",
   "execution_count": null,
   "id": "28193b5a",
   "metadata": {},
   "outputs": [],
   "source": [
    "#Datentyp CSV Besucher:\n",
    "\n",
    "#Alter          int64\n",
    "#Einkommen     object\n",
    "#Geschlecht     int64\n",
    "#Zeit          object\n",
    "#KundeNr       object"
   ]
  },
  {
   "cell_type": "markdown",
   "id": "46d90ba6",
   "metadata": {},
   "source": [
    "Probleme: Datenverlust, Unerwartetes Verhalten"
   ]
  },
  {
   "cell_type": "markdown",
   "id": "3062b970",
   "metadata": {},
   "source": [
    "Sicherstellen, dass die Datentypen in den gemeinsamen Spalten zwischen den beiden CSV-Dateien konsistent sind"
   ]
  },
  {
   "cell_type": "code",
   "execution_count": null,
   "id": "3560185b",
   "metadata": {},
   "outputs": [],
   "source": [
    "#df_1[\"Geschlecht\"] = df_1[\"Geschlecht\"].astype(\"int64\")"
   ]
  },
  {
   "cell_type": "code",
   "execution_count": null,
   "id": "c472dc65",
   "metadata": {},
   "outputs": [],
   "source": [
    "#Datentyp CSV Kunden:\n",
    "\n",
    "#Alter           int64\n",
    "#Einkommen     float64\n",
    "#Preis         float64\n",
    "#Geschlecht      int64\n",
    "#Zeit          float64\n",
    "#KundeNr        object"
   ]
  },
  {
   "cell_type": "code",
   "execution_count": null,
   "id": "84806cf5",
   "metadata": {},
   "outputs": [],
   "source": [
    "#df_2[\"Einkommen\"] = pd.to_numeric(df_2[\"Einkommen\"].str.replace(',', '.'), errors=\"coerce\")"
   ]
  },
  {
   "cell_type": "markdown",
   "id": "57fe8b24",
   "metadata": {},
   "source": [
    "\"coerce\": anstelle einer Fehlermeldung wird der Wert NaNfür diejenigen Elemente verwendet\n",
    "die nicht erfolgreich in numerische Werte umgewandelt werden können"
   ]
  },
  {
   "cell_type": "code",
   "execution_count": null,
   "id": "d1e64a9b",
   "metadata": {},
   "outputs": [],
   "source": [
    "#df_2[\"Zeit\"] = pd.to_numeric(df_2[\"Zeit\"].str.replace(',', '.'), errors=\"coerce\")"
   ]
  },
  {
   "cell_type": "code",
   "execution_count": null,
   "id": "5646fa97",
   "metadata": {},
   "outputs": [],
   "source": [
    "#Datentyp CSV Besucher:\n",
    "\n",
    "#Alter           int64\n",
    "#Einkommen     float64\n",
    "#Geschlecht      int64\n",
    "#Zeit          float64\n",
    "#KundeNr        object"
   ]
  },
  {
   "cell_type": "markdown",
   "id": "108e801d",
   "metadata": {},
   "source": [
    "Problem 4: Bundesländer nicht einheitlich --> falsche Schreibweise, Stadt, Bezirk"
   ]
  },
  {
   "cell_type": "code",
   "execution_count": null,
   "id": "99b435c6",
   "metadata": {},
   "outputs": [],
   "source": [
    "#merged_df[\"Niederlassung\"].unique()"
   ]
  },
  {
   "cell_type": "code",
   "execution_count": null,
   "id": "bd1ae2f3",
   "metadata": {},
   "outputs": [],
   "source": [
    "#array(['Bayern', 'Berlin', 'Baden-Württemberg', 'Hessen', 'Thüringen',\n",
    "#       'Sachsen', 'Nordrhein-Westfalen', 'BERLIN', 'Niedersachsen',\n",
    "#       'Hamburg', 'Brandenburg', 'Berlin-Mitte', 'Düsseldorf', 'NRW',\n",
    "#       'Berlin-Charlottenburg'], dtype=object)"
   ]
  },
  {
   "cell_type": "markdown",
   "id": "a4ff313a",
   "metadata": {},
   "source": [
    "Zu beheben sind: BERLIN,NRW, Düsseldorf, Berlin-Mitte, Berlin-Charlottenburg"
   ]
  },
  {
   "cell_type": "code",
   "execution_count": null,
   "id": "9c783d0f",
   "metadata": {},
   "outputs": [],
   "source": [
    "#merged_df[\"Niederlassung\"] = merged_df[\"Niederlassung\"].replace(\"BERLIN\", \"Berlin\")\n",
    "#merged_df[\"Niederlassung\"] = merged_df[\"Niederlassung\"].replace(\"Berlin-Mitte\", \"Berlin\")\n",
    "#merged_df[\"Niederlassung\"] = merged_df[\"Niederlassung\"].replace(\"Berlin-Charlottenburg\", \"Berlin\")\n",
    "#merged_df[\"Niederlassung\"] = merged_df[\"Niederlassung\"].replace(\"Düsseldorf\", \"Nordrhein-Westfalen\")\n",
    "#merged_df[\"Niederlassung\"] = merged_df[\"Niederlassung\"].replace(\"NRW\", \"Nordrhein-Westfalen\")"
   ]
  },
  {
   "cell_type": "code",
   "execution_count": null,
   "id": "18211a85",
   "metadata": {},
   "outputs": [],
   "source": [
    "#merged_df[\"Niederlassung\"].unique()"
   ]
  },
  {
   "cell_type": "code",
   "execution_count": null,
   "id": "39b33bb0",
   "metadata": {},
   "outputs": [],
   "source": [
    "#array(['Bayern', 'Berlin', 'Baden-Württemberg', 'Hessen', 'Thüringen',\n",
    "#       'Sachsen', 'Nordrhein-Westfalen', 'Niedersachsen', 'Hamburg',\n",
    "#      'Brandenburg'], dtype=object)"
   ]
  },
  {
   "cell_type": "markdown",
   "id": "6c0238e1",
   "metadata": {},
   "source": [
    "# Frage 20: Welche zusätzlichen Informationen sollten gesammelt werden?"
   ]
  },
  {
   "cell_type": "markdown",
   "id": "d341714c",
   "metadata": {},
   "source": [
    "Vorstand des Unternehmens ist daran interessiert,\n",
    "mehr zu erfahren, warum Kunden ihre Autos kaufen, die sozioökonomischen Merkmale \n",
    "seiner Kundschaft sowie die Faktoren, die zum Kauf des Autos geführt haben"
   ]
  },
  {
   "cell_type": "markdown",
   "id": "8116c9f8",
   "metadata": {},
   "source": [
    "Vorschlag 1:Kaufverhalten und Praeferenzen \n",
    "Welche Faktoren beeinflussen ihre Entscheidung beim Kauf?\n",
    "Wie wichtig sind bestimmte Produktmerkmale fuer sie?\n",
    "Welche Kriterien sind bei der Auswahl eines Produkts am entscheidendsten?"
   ]
  },
  {
   "cell_type": "markdown",
   "id": "3dad42a4",
   "metadata": {},
   "source": [
    "Vorschlag 2: Werbung und Marketingkommunikation\n",
    "Welche Werbekanaele sprechen sie am meisten an?\n",
    "Wie beeinflusst Werbung ihre Wahrnehmung und Kaufentscheidung?"
   ]
  },
  {
   "cell_type": "code",
   "execution_count": null,
   "id": "9942bd4e",
   "metadata": {},
   "outputs": [],
   "source": []
  }
 ],
 "metadata": {
  "kernelspec": {
   "display_name": "Python 3 (ipykernel)",
   "language": "python",
   "name": "python3"
  },
  "language_info": {
   "codemirror_mode": {
    "name": "ipython",
    "version": 3
   },
   "file_extension": ".py",
   "mimetype": "text/x-python",
   "name": "python",
   "nbconvert_exporter": "python",
   "pygments_lexer": "ipython3",
   "version": "3.11.5"
  }
 },
 "nbformat": 4,
 "nbformat_minor": 5
}
