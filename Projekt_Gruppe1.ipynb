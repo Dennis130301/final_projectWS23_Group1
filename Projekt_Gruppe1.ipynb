{
 "cells": [
  {
   "cell_type": "markdown",
   "id": "981e3661",
   "metadata": {},
   "source": [
    "# 1 Pakete importieren"
   ]
  },
  {
   "cell_type": "code",
   "execution_count": 750,
   "id": "5578b033",
   "metadata": {},
   "outputs": [],
   "source": [
    "import pandas as pd\n",
    "import numpy as np\n",
    "import matplotlib.pyplot as plt\n",
    "import seaborn as sns\n",
    "from sklearn.model_selection import train_test_split\n",
    "from sklearn.linear_model import LinearRegression\n",
    "from sklearn.metrics import mean_squared_error\n",
    "from sklearn.preprocessing import StandardScaler\n",
    "from stargazer.stargazer import Stargazer\n",
    "import statsmodels.formula.api as smf \n",
    "%matplotlib inline\n",
    "import warnings"
   ]
  },
  {
   "cell_type": "markdown",
   "id": "c06fead8",
   "metadata": {},
   "source": [
    "# 2 CSV-Dateien einlesen"
   ]
  },
  {
   "cell_type": "code",
   "execution_count": 751,
   "id": "71da4252",
   "metadata": {},
   "outputs": [],
   "source": [
    "csv_1 = \"data/kunden.csv\"\n",
    "csv_2 = \"data/besucher.csv\""
   ]
  },
  {
   "cell_type": "code",
   "execution_count": 752,
   "id": "a2fba40b",
   "metadata": {},
   "outputs": [],
   "source": [
    "df_1 = pd.read_csv(csv_1, sep = \";\")\n",
    "df_2 = pd.read_csv(csv_2, sep = \";\")"
   ]
  },
  {
   "cell_type": "code",
   "execution_count": 753,
   "id": "241862e0",
   "metadata": {},
   "outputs": [
    {
     "data": {
      "text/html": [
       "<div>\n",
       "<style scoped>\n",
       "    .dataframe tbody tr th:only-of-type {\n",
       "        vertical-align: middle;\n",
       "    }\n",
       "\n",
       "    .dataframe tbody tr th {\n",
       "        vertical-align: top;\n",
       "    }\n",
       "\n",
       "    .dataframe thead th {\n",
       "        text-align: right;\n",
       "    }\n",
       "</style>\n",
       "<table border=\"1\" class=\"dataframe\">\n",
       "  <thead>\n",
       "    <tr style=\"text-align: right;\">\n",
       "      <th></th>\n",
       "      <th>Alter</th>\n",
       "      <th>Einkommen</th>\n",
       "      <th>Preis</th>\n",
       "      <th>Geschlecht</th>\n",
       "      <th>Zeit</th>\n",
       "      <th>KundeNr</th>\n",
       "    </tr>\n",
       "  </thead>\n",
       "  <tbody>\n",
       "    <tr>\n",
       "      <th>0</th>\n",
       "      <td>64</td>\n",
       "      <td>66894.0</td>\n",
       "      <td>88160.31</td>\n",
       "      <td>1.0</td>\n",
       "      <td>43.0</td>\n",
       "      <td>K0310</td>\n",
       "    </tr>\n",
       "    <tr>\n",
       "      <th>1</th>\n",
       "      <td>54</td>\n",
       "      <td>77644.0</td>\n",
       "      <td>103145.70</td>\n",
       "      <td>1.0</td>\n",
       "      <td>40.0</td>\n",
       "      <td>K1042</td>\n",
       "    </tr>\n",
       "    <tr>\n",
       "      <th>2</th>\n",
       "      <td>55</td>\n",
       "      <td>44341.0</td>\n",
       "      <td>80565.16</td>\n",
       "      <td>0.0</td>\n",
       "      <td>37.0</td>\n",
       "      <td>K0382</td>\n",
       "    </tr>\n",
       "    <tr>\n",
       "      <th>3</th>\n",
       "      <td>49</td>\n",
       "      <td>67271.0</td>\n",
       "      <td>83949.89</td>\n",
       "      <td>0.0</td>\n",
       "      <td>42.0</td>\n",
       "      <td>K0498</td>\n",
       "    </tr>\n",
       "    <tr>\n",
       "      <th>4</th>\n",
       "      <td>46</td>\n",
       "      <td>49832.0</td>\n",
       "      <td>93781.58</td>\n",
       "      <td>0.0</td>\n",
       "      <td>41.0</td>\n",
       "      <td>K0552</td>\n",
       "    </tr>\n",
       "    <tr>\n",
       "      <th>...</th>\n",
       "      <td>...</td>\n",
       "      <td>...</td>\n",
       "      <td>...</td>\n",
       "      <td>...</td>\n",
       "      <td>...</td>\n",
       "      <td>...</td>\n",
       "    </tr>\n",
       "    <tr>\n",
       "      <th>1099</th>\n",
       "      <td>70</td>\n",
       "      <td>69581.0</td>\n",
       "      <td>103751.58</td>\n",
       "      <td>1.0</td>\n",
       "      <td>51.0</td>\n",
       "      <td>K0467</td>\n",
       "    </tr>\n",
       "    <tr>\n",
       "      <th>1100</th>\n",
       "      <td>38</td>\n",
       "      <td>48301.0</td>\n",
       "      <td>64230.98</td>\n",
       "      <td>1.0</td>\n",
       "      <td>33.0</td>\n",
       "      <td>K0122</td>\n",
       "    </tr>\n",
       "    <tr>\n",
       "      <th>1101</th>\n",
       "      <td>67</td>\n",
       "      <td>63547.0</td>\n",
       "      <td>103123.57</td>\n",
       "      <td>1.0</td>\n",
       "      <td>41.0</td>\n",
       "      <td>K1045</td>\n",
       "    </tr>\n",
       "    <tr>\n",
       "      <th>1102</th>\n",
       "      <td>37</td>\n",
       "      <td>32686.0</td>\n",
       "      <td>49215.87</td>\n",
       "      <td>1.0</td>\n",
       "      <td>36.0</td>\n",
       "      <td>K1096</td>\n",
       "    </tr>\n",
       "    <tr>\n",
       "      <th>1103</th>\n",
       "      <td>55</td>\n",
       "      <td>71240.0</td>\n",
       "      <td>106132.59</td>\n",
       "      <td>1.0</td>\n",
       "      <td>49.0</td>\n",
       "      <td>K0861</td>\n",
       "    </tr>\n",
       "  </tbody>\n",
       "</table>\n",
       "<p>1104 rows × 6 columns</p>\n",
       "</div>"
      ],
      "text/plain": [
       "      Alter  Einkommen      Preis  Geschlecht  Zeit KundeNr\n",
       "0        64    66894.0   88160.31         1.0  43.0   K0310\n",
       "1        54    77644.0  103145.70         1.0  40.0   K1042\n",
       "2        55    44341.0   80565.16         0.0  37.0   K0382\n",
       "3        49    67271.0   83949.89         0.0  42.0   K0498\n",
       "4        46    49832.0   93781.58         0.0  41.0   K0552\n",
       "...     ...        ...        ...         ...   ...     ...\n",
       "1099     70    69581.0  103751.58         1.0  51.0   K0467\n",
       "1100     38    48301.0   64230.98         1.0  33.0   K0122\n",
       "1101     67    63547.0  103123.57         1.0  41.0   K1045\n",
       "1102     37    32686.0   49215.87         1.0  36.0   K1096\n",
       "1103     55    71240.0  106132.59         1.0  49.0   K0861\n",
       "\n",
       "[1104 rows x 6 columns]"
      ]
     },
     "execution_count": 753,
     "metadata": {},
     "output_type": "execute_result"
    }
   ],
   "source": [
    "df_1"
   ]
  },
  {
   "cell_type": "code",
   "execution_count": 754,
   "id": "2235cc48",
   "metadata": {},
   "outputs": [
    {
     "data": {
      "text/html": [
       "<div>\n",
       "<style scoped>\n",
       "    .dataframe tbody tr th:only-of-type {\n",
       "        vertical-align: middle;\n",
       "    }\n",
       "\n",
       "    .dataframe tbody tr th {\n",
       "        vertical-align: top;\n",
       "    }\n",
       "\n",
       "    .dataframe thead th {\n",
       "        text-align: right;\n",
       "    }\n",
       "</style>\n",
       "<table border=\"1\" class=\"dataframe\">\n",
       "  <thead>\n",
       "    <tr style=\"text-align: right;\">\n",
       "      <th></th>\n",
       "      <th>Alter</th>\n",
       "      <th>Einkommen</th>\n",
       "      <th>Geschlecht</th>\n",
       "      <th>Zeit</th>\n",
       "      <th>KundeNr</th>\n",
       "    </tr>\n",
       "  </thead>\n",
       "  <tbody>\n",
       "    <tr>\n",
       "      <th>0</th>\n",
       "      <td>30</td>\n",
       "      <td>39919,0953348874</td>\n",
       "      <td>0</td>\n",
       "      <td>29,0</td>\n",
       "      <td>K1814</td>\n",
       "    </tr>\n",
       "    <tr>\n",
       "      <th>1</th>\n",
       "      <td>41</td>\n",
       "      <td>53430,67308587748</td>\n",
       "      <td>0</td>\n",
       "      <td>27,0</td>\n",
       "      <td>K1544</td>\n",
       "    </tr>\n",
       "    <tr>\n",
       "      <th>2</th>\n",
       "      <td>64</td>\n",
       "      <td>73163,2169267002</td>\n",
       "      <td>0</td>\n",
       "      <td>32,0</td>\n",
       "      <td>K1945</td>\n",
       "    </tr>\n",
       "    <tr>\n",
       "      <th>3</th>\n",
       "      <td>41</td>\n",
       "      <td>36761,482581315344</td>\n",
       "      <td>0</td>\n",
       "      <td>44,0</td>\n",
       "      <td>K1825</td>\n",
       "    </tr>\n",
       "    <tr>\n",
       "      <th>4</th>\n",
       "      <td>35</td>\n",
       "      <td>42684,33163178136</td>\n",
       "      <td>1</td>\n",
       "      <td>33,0</td>\n",
       "      <td>K1144</td>\n",
       "    </tr>\n",
       "    <tr>\n",
       "      <th>...</th>\n",
       "      <td>...</td>\n",
       "      <td>...</td>\n",
       "      <td>...</td>\n",
       "      <td>...</td>\n",
       "      <td>...</td>\n",
       "    </tr>\n",
       "    <tr>\n",
       "      <th>886</th>\n",
       "      <td>32</td>\n",
       "      <td>34391,82496545645</td>\n",
       "      <td>1</td>\n",
       "      <td>48,0</td>\n",
       "      <td>K1211</td>\n",
       "    </tr>\n",
       "    <tr>\n",
       "      <th>887</th>\n",
       "      <td>41</td>\n",
       "      <td>68516,49543941053</td>\n",
       "      <td>0</td>\n",
       "      <td>34,0</td>\n",
       "      <td>K1375</td>\n",
       "    </tr>\n",
       "    <tr>\n",
       "      <th>888</th>\n",
       "      <td>65</td>\n",
       "      <td>89685,33344089528</td>\n",
       "      <td>0</td>\n",
       "      <td>23,0</td>\n",
       "      <td>K1965</td>\n",
       "    </tr>\n",
       "    <tr>\n",
       "      <th>889</th>\n",
       "      <td>68</td>\n",
       "      <td>95714,30526812703</td>\n",
       "      <td>0</td>\n",
       "      <td>32,0</td>\n",
       "      <td>K1540</td>\n",
       "    </tr>\n",
       "    <tr>\n",
       "      <th>890</th>\n",
       "      <td>49</td>\n",
       "      <td>73319,1870845747</td>\n",
       "      <td>0</td>\n",
       "      <td>27,0</td>\n",
       "      <td>K1207</td>\n",
       "    </tr>\n",
       "  </tbody>\n",
       "</table>\n",
       "<p>891 rows × 5 columns</p>\n",
       "</div>"
      ],
      "text/plain": [
       "     Alter           Einkommen  Geschlecht  Zeit KundeNr\n",
       "0       30    39919,0953348874           0  29,0   K1814\n",
       "1       41   53430,67308587748           0  27,0   K1544\n",
       "2       64    73163,2169267002           0  32,0   K1945\n",
       "3       41  36761,482581315344           0  44,0   K1825\n",
       "4       35   42684,33163178136           1  33,0   K1144\n",
       "..     ...                 ...         ...   ...     ...\n",
       "886     32   34391,82496545645           1  48,0   K1211\n",
       "887     41   68516,49543941053           0  34,0   K1375\n",
       "888     65   89685,33344089528           0  23,0   K1965\n",
       "889     68   95714,30526812703           0  32,0   K1540\n",
       "890     49    73319,1870845747           0  27,0   K1207\n",
       "\n",
       "[891 rows x 5 columns]"
      ]
     },
     "execution_count": 754,
     "metadata": {},
     "output_type": "execute_result"
    }
   ],
   "source": [
    "df_2"
   ]
  },
  {
   "cell_type": "markdown",
   "id": "fbe57797",
   "metadata": {},
   "source": [
    "# 3 Überblick über die Datentypen verschaffen"
   ]
  },
  {
   "cell_type": "code",
   "execution_count": 755,
   "id": "eead2976",
   "metadata": {},
   "outputs": [
    {
     "data": {
      "text/plain": [
       "Alter           int64\n",
       "Einkommen     float64\n",
       "Preis         float64\n",
       "Geschlecht    float64\n",
       "Zeit          float64\n",
       "KundeNr        object\n",
       "dtype: object"
      ]
     },
     "execution_count": 755,
     "metadata": {},
     "output_type": "execute_result"
    }
   ],
   "source": [
    "df_1.dtypes"
   ]
  },
  {
   "cell_type": "code",
   "execution_count": 756,
   "id": "e50527a2",
   "metadata": {
    "scrolled": false
   },
   "outputs": [
    {
     "data": {
      "text/plain": [
       "Alter          int64\n",
       "Einkommen     object\n",
       "Geschlecht     int64\n",
       "Zeit          object\n",
       "KundeNr       object\n",
       "dtype: object"
      ]
     },
     "execution_count": 756,
     "metadata": {},
     "output_type": "execute_result"
    }
   ],
   "source": [
    "df_2.dtypes"
   ]
  },
  {
   "cell_type": "markdown",
   "id": "fcf7fc52",
   "metadata": {},
   "source": [
    "Zu ändern sind später: Einkommen --> float; Geschlecht --> int; Zeit --> float"
   ]
  },
  {
   "cell_type": "markdown",
   "id": "78056d60",
   "metadata": {},
   "source": [
    "# 4.1 df_1 Geschlecht mit fehlenden Werten"
   ]
  },
  {
   "cell_type": "code",
   "execution_count": 757,
   "id": "f8c8b743",
   "metadata": {},
   "outputs": [
    {
     "data": {
      "text/plain": [
       "Alter         0\n",
       "Einkommen     0\n",
       "Preis         0\n",
       "Geschlecht    5\n",
       "Zeit          0\n",
       "KundeNr       0\n",
       "dtype: int64"
      ]
     },
     "execution_count": 757,
     "metadata": {},
     "output_type": "execute_result"
    }
   ],
   "source": [
    "df_1.isnull().sum()"
   ]
  },
  {
   "cell_type": "code",
   "execution_count": 758,
   "id": "853da64c",
   "metadata": {
    "scrolled": true
   },
   "outputs": [
    {
     "data": {
      "text/plain": [
       "Alter         0\n",
       "Einkommen     0\n",
       "Preis         0\n",
       "Geschlecht    0\n",
       "Zeit          0\n",
       "KundeNr       0\n",
       "dtype: int64"
      ]
     },
     "execution_count": 758,
     "metadata": {},
     "output_type": "execute_result"
    }
   ],
   "source": [
    "df_1[\"Geschlecht\"] = df_1[\"Geschlecht\"].fillna(1) # Für 1 (Männlich) entschieden, da die meisten Ausprägungen 1 waren\n",
    "df_1.isna().sum()"
   ]
  },
  {
   "cell_type": "markdown",
   "id": "8fa4378b",
   "metadata": {},
   "source": [
    "# df_1 Einkommen"
   ]
  },
  {
   "cell_type": "code",
   "execution_count": 759,
   "id": "c20c7ed5",
   "metadata": {},
   "outputs": [
    {
     "data": {
      "text/plain": [
       "964474.8175955408"
      ]
     },
     "execution_count": 759,
     "metadata": {},
     "output_type": "execute_result"
    }
   ],
   "source": [
    "df_1[\"Einkommen\"].mean()"
   ]
  },
  {
   "cell_type": "code",
   "execution_count": 760,
   "id": "c2655367",
   "metadata": {},
   "outputs": [],
   "source": [
    "Q1 = df_1[\"Einkommen\"].quantile(0.25)\n",
    "Q3 = df_1[\"Einkommen\"].quantile(0.75)\n",
    "IQR = Q3 - Q1"
   ]
  },
  {
   "cell_type": "code",
   "execution_count": 761,
   "id": "3db06497",
   "metadata": {},
   "outputs": [
    {
     "data": {
      "text/plain": [
       "46638.5"
      ]
     },
     "execution_count": 761,
     "metadata": {},
     "output_type": "execute_result"
    }
   ],
   "source": [
    "Q1"
   ]
  },
  {
   "cell_type": "code",
   "execution_count": 762,
   "id": "109788fd",
   "metadata": {},
   "outputs": [
    {
     "data": {
      "text/plain": [
       "70298.0"
      ]
     },
     "execution_count": 762,
     "metadata": {},
     "output_type": "execute_result"
    }
   ],
   "source": [
    "Q3"
   ]
  },
  {
   "cell_type": "code",
   "execution_count": 763,
   "id": "f56851e2",
   "metadata": {},
   "outputs": [
    {
     "data": {
      "text/plain": [
       "23659.5"
      ]
     },
     "execution_count": 763,
     "metadata": {},
     "output_type": "execute_result"
    }
   ],
   "source": [
    "IQR"
   ]
  },
  {
   "cell_type": "code",
   "execution_count": 764,
   "id": "0a6e657d",
   "metadata": {},
   "outputs": [
    {
     "data": {
      "text/plain": [
       "59013.0"
      ]
     },
     "execution_count": 764,
     "metadata": {},
     "output_type": "execute_result"
    }
   ],
   "source": [
    "median_einkommen = df_1[\"Einkommen\"].median()\n",
    "median_einkommen"
   ]
  },
  {
   "cell_type": "code",
   "execution_count": 765,
   "id": "adfbd870",
   "metadata": {},
   "outputs": [],
   "source": [
    "df_1[\"Einkommen\"] = df_1[\"Einkommen\"].apply(lambda x: median_einkommen if x <= 0 or x >= 1000000 else x)"
   ]
  },
  {
   "cell_type": "code",
   "execution_count": 766,
   "id": "e98efdd5",
   "metadata": {},
   "outputs": [
    {
     "data": {
      "text/html": [
       "<div>\n",
       "<style scoped>\n",
       "    .dataframe tbody tr th:only-of-type {\n",
       "        vertical-align: middle;\n",
       "    }\n",
       "\n",
       "    .dataframe tbody tr th {\n",
       "        vertical-align: top;\n",
       "    }\n",
       "\n",
       "    .dataframe thead th {\n",
       "        text-align: right;\n",
       "    }\n",
       "</style>\n",
       "<table border=\"1\" class=\"dataframe\">\n",
       "  <thead>\n",
       "    <tr style=\"text-align: right;\">\n",
       "      <th></th>\n",
       "      <th>Alter</th>\n",
       "      <th>Einkommen</th>\n",
       "      <th>Preis</th>\n",
       "      <th>Geschlecht</th>\n",
       "      <th>Zeit</th>\n",
       "    </tr>\n",
       "  </thead>\n",
       "  <tbody>\n",
       "    <tr>\n",
       "      <th>count</th>\n",
       "      <td>1104.000000</td>\n",
       "      <td>1104.000000</td>\n",
       "      <td>1104.000000</td>\n",
       "      <td>1104.000000</td>\n",
       "      <td>1104.000000</td>\n",
       "    </tr>\n",
       "    <tr>\n",
       "      <th>mean</th>\n",
       "      <td>50.481884</td>\n",
       "      <td>58894.998188</td>\n",
       "      <td>88975.198714</td>\n",
       "      <td>0.639493</td>\n",
       "      <td>44.375906</td>\n",
       "    </tr>\n",
       "    <tr>\n",
       "      <th>std</th>\n",
       "      <td>12.225059</td>\n",
       "      <td>16509.072600</td>\n",
       "      <td>24464.067781</td>\n",
       "      <td>0.480365</td>\n",
       "      <td>10.848040</td>\n",
       "    </tr>\n",
       "    <tr>\n",
       "      <th>min</th>\n",
       "      <td>30.000000</td>\n",
       "      <td>14547.000000</td>\n",
       "      <td>21471.650000</td>\n",
       "      <td>0.000000</td>\n",
       "      <td>12.000000</td>\n",
       "    </tr>\n",
       "    <tr>\n",
       "      <th>25%</th>\n",
       "      <td>40.000000</td>\n",
       "      <td>46697.000000</td>\n",
       "      <td>70609.422500</td>\n",
       "      <td>0.000000</td>\n",
       "      <td>37.000000</td>\n",
       "    </tr>\n",
       "    <tr>\n",
       "      <th>50%</th>\n",
       "      <td>51.000000</td>\n",
       "      <td>59013.000000</td>\n",
       "      <td>88931.455000</td>\n",
       "      <td>1.000000</td>\n",
       "      <td>44.000000</td>\n",
       "    </tr>\n",
       "    <tr>\n",
       "      <th>75%</th>\n",
       "      <td>61.000000</td>\n",
       "      <td>70281.750000</td>\n",
       "      <td>107093.375000</td>\n",
       "      <td>1.000000</td>\n",
       "      <td>52.000000</td>\n",
       "    </tr>\n",
       "    <tr>\n",
       "      <th>max</th>\n",
       "      <td>120.000000</td>\n",
       "      <td>107689.000000</td>\n",
       "      <td>165482.310000</td>\n",
       "      <td>1.000000</td>\n",
       "      <td>80.000000</td>\n",
       "    </tr>\n",
       "  </tbody>\n",
       "</table>\n",
       "</div>"
      ],
      "text/plain": [
       "             Alter      Einkommen          Preis   Geschlecht         Zeit\n",
       "count  1104.000000    1104.000000    1104.000000  1104.000000  1104.000000\n",
       "mean     50.481884   58894.998188   88975.198714     0.639493    44.375906\n",
       "std      12.225059   16509.072600   24464.067781     0.480365    10.848040\n",
       "min      30.000000   14547.000000   21471.650000     0.000000    12.000000\n",
       "25%      40.000000   46697.000000   70609.422500     0.000000    37.000000\n",
       "50%      51.000000   59013.000000   88931.455000     1.000000    44.000000\n",
       "75%      61.000000   70281.750000  107093.375000     1.000000    52.000000\n",
       "max     120.000000  107689.000000  165482.310000     1.000000    80.000000"
      ]
     },
     "execution_count": 766,
     "metadata": {},
     "output_type": "execute_result"
    }
   ],
   "source": [
    "df_1.describe()"
   ]
  },
  {
   "cell_type": "markdown",
   "id": "e58ea3be",
   "metadata": {},
   "source": [
    "# df_1 Alter "
   ]
  },
  {
   "cell_type": "code",
   "execution_count": 767,
   "id": "710f916b",
   "metadata": {},
   "outputs": [
    {
     "data": {
      "text/plain": [
       "55"
      ]
     },
     "execution_count": 767,
     "metadata": {},
     "output_type": "execute_result"
    }
   ],
   "source": [
    "modalwert_alter = df_1[\"Alter\"].mode()[0]\n",
    "modalwert_alter"
   ]
  },
  {
   "cell_type": "code",
   "execution_count": 768,
   "id": "402a107e",
   "metadata": {},
   "outputs": [],
   "source": [
    "anzahl_personen_ueber_70 = len(df_1[df_1[\"Alter\"] > 70])"
   ]
  },
  {
   "cell_type": "code",
   "execution_count": 769,
   "id": "660ae558",
   "metadata": {},
   "outputs": [
    {
     "data": {
      "text/plain": [
       "2"
      ]
     },
     "execution_count": 769,
     "metadata": {},
     "output_type": "execute_result"
    }
   ],
   "source": [
    "anzahl_personen_ueber_70"
   ]
  },
  {
   "cell_type": "code",
   "execution_count": 770,
   "id": "fea3e90d",
   "metadata": {},
   "outputs": [],
   "source": [
    "df_1[\"Alter\"] = df_1[\"Alter\"].apply(lambda x: modalwert_alter if x >= 100 else x)"
   ]
  },
  {
   "cell_type": "code",
   "execution_count": 771,
   "id": "6cf3aab9",
   "metadata": {},
   "outputs": [
    {
     "data": {
      "text/html": [
       "<div>\n",
       "<style scoped>\n",
       "    .dataframe tbody tr th:only-of-type {\n",
       "        vertical-align: middle;\n",
       "    }\n",
       "\n",
       "    .dataframe tbody tr th {\n",
       "        vertical-align: top;\n",
       "    }\n",
       "\n",
       "    .dataframe thead th {\n",
       "        text-align: right;\n",
       "    }\n",
       "</style>\n",
       "<table border=\"1\" class=\"dataframe\">\n",
       "  <thead>\n",
       "    <tr style=\"text-align: right;\">\n",
       "      <th></th>\n",
       "      <th>Alter</th>\n",
       "      <th>Einkommen</th>\n",
       "      <th>Preis</th>\n",
       "      <th>Geschlecht</th>\n",
       "      <th>Zeit</th>\n",
       "    </tr>\n",
       "  </thead>\n",
       "  <tbody>\n",
       "    <tr>\n",
       "      <th>count</th>\n",
       "      <td>1104.000000</td>\n",
       "      <td>1104.000000</td>\n",
       "      <td>1104.000000</td>\n",
       "      <td>1104.000000</td>\n",
       "      <td>1104.000000</td>\n",
       "    </tr>\n",
       "    <tr>\n",
       "      <th>mean</th>\n",
       "      <td>50.382246</td>\n",
       "      <td>58894.998188</td>\n",
       "      <td>88975.198714</td>\n",
       "      <td>0.639493</td>\n",
       "      <td>44.375906</td>\n",
       "    </tr>\n",
       "    <tr>\n",
       "      <th>std</th>\n",
       "      <td>11.953017</td>\n",
       "      <td>16509.072600</td>\n",
       "      <td>24464.067781</td>\n",
       "      <td>0.480365</td>\n",
       "      <td>10.848040</td>\n",
       "    </tr>\n",
       "    <tr>\n",
       "      <th>min</th>\n",
       "      <td>30.000000</td>\n",
       "      <td>14547.000000</td>\n",
       "      <td>21471.650000</td>\n",
       "      <td>0.000000</td>\n",
       "      <td>12.000000</td>\n",
       "    </tr>\n",
       "    <tr>\n",
       "      <th>25%</th>\n",
       "      <td>40.000000</td>\n",
       "      <td>46697.000000</td>\n",
       "      <td>70609.422500</td>\n",
       "      <td>0.000000</td>\n",
       "      <td>37.000000</td>\n",
       "    </tr>\n",
       "    <tr>\n",
       "      <th>50%</th>\n",
       "      <td>51.000000</td>\n",
       "      <td>59013.000000</td>\n",
       "      <td>88931.455000</td>\n",
       "      <td>1.000000</td>\n",
       "      <td>44.000000</td>\n",
       "    </tr>\n",
       "    <tr>\n",
       "      <th>75%</th>\n",
       "      <td>61.000000</td>\n",
       "      <td>70281.750000</td>\n",
       "      <td>107093.375000</td>\n",
       "      <td>1.000000</td>\n",
       "      <td>52.000000</td>\n",
       "    </tr>\n",
       "    <tr>\n",
       "      <th>max</th>\n",
       "      <td>70.000000</td>\n",
       "      <td>107689.000000</td>\n",
       "      <td>165482.310000</td>\n",
       "      <td>1.000000</td>\n",
       "      <td>80.000000</td>\n",
       "    </tr>\n",
       "  </tbody>\n",
       "</table>\n",
       "</div>"
      ],
      "text/plain": [
       "             Alter      Einkommen          Preis   Geschlecht         Zeit\n",
       "count  1104.000000    1104.000000    1104.000000  1104.000000  1104.000000\n",
       "mean     50.382246   58894.998188   88975.198714     0.639493    44.375906\n",
       "std      11.953017   16509.072600   24464.067781     0.480365    10.848040\n",
       "min      30.000000   14547.000000   21471.650000     0.000000    12.000000\n",
       "25%      40.000000   46697.000000   70609.422500     0.000000    37.000000\n",
       "50%      51.000000   59013.000000   88931.455000     1.000000    44.000000\n",
       "75%      61.000000   70281.750000  107093.375000     1.000000    52.000000\n",
       "max      70.000000  107689.000000  165482.310000     1.000000    80.000000"
      ]
     },
     "execution_count": 771,
     "metadata": {},
     "output_type": "execute_result"
    }
   ],
   "source": [
    "df_1.describe()"
   ]
  },
  {
   "cell_type": "markdown",
   "id": "0b32ce0c",
   "metadata": {},
   "source": [
    "# 4.2 df_1 Daten umformen"
   ]
  },
  {
   "cell_type": "code",
   "execution_count": 772,
   "id": "1be29996",
   "metadata": {},
   "outputs": [],
   "source": [
    "df_1[\"Geschlecht\"] = df_1[\"Geschlecht\"].astype(\"int64\")"
   ]
  },
  {
   "cell_type": "code",
   "execution_count": 773,
   "id": "474e682e",
   "metadata": {},
   "outputs": [
    {
     "data": {
      "text/plain": [
       "Alter           int64\n",
       "Einkommen     float64\n",
       "Preis         float64\n",
       "Geschlecht      int64\n",
       "Zeit          float64\n",
       "KundeNr        object\n",
       "dtype: object"
      ]
     },
     "execution_count": 773,
     "metadata": {},
     "output_type": "execute_result"
    }
   ],
   "source": [
    "df_1.dtypes"
   ]
  },
  {
   "cell_type": "markdown",
   "id": "c8e61406",
   "metadata": {},
   "source": [
    "# 5.2  df_2 Daten umformen"
   ]
  },
  {
   "cell_type": "code",
   "execution_count": 774,
   "id": "a1b8227b",
   "metadata": {},
   "outputs": [],
   "source": [
    "df_2[\"Einkommen\"] = pd.to_numeric(df_2[\"Einkommen\"].str.replace(',', '.'), errors=\"coerce\")"
   ]
  },
  {
   "cell_type": "code",
   "execution_count": 775,
   "id": "cbdfcd2e",
   "metadata": {},
   "outputs": [],
   "source": [
    "df_2[\"Zeit\"] = pd.to_numeric(df_2[\"Zeit\"].str.replace(',', '.'), errors=\"coerce\")"
   ]
  },
  {
   "cell_type": "code",
   "execution_count": 776,
   "id": "90832348",
   "metadata": {},
   "outputs": [
    {
     "data": {
      "text/plain": [
       "Alter           int64\n",
       "Einkommen     float64\n",
       "Geschlecht      int64\n",
       "Zeit          float64\n",
       "KundeNr        object\n",
       "dtype: object"
      ]
     },
     "execution_count": 776,
     "metadata": {},
     "output_type": "execute_result"
    }
   ],
   "source": [
    "df_2.dtypes"
   ]
  },
  {
   "cell_type": "markdown",
   "id": "8b988faf",
   "metadata": {},
   "source": [
    "# 6 Zusammenfügen von df_1 und df_2 zu df_3"
   ]
  },
  {
   "cell_type": "code",
   "execution_count": 777,
   "id": "6d376fbf",
   "metadata": {},
   "outputs": [],
   "source": [
    "df_3 = pd.concat([df_1, df_2],\n",
    "                axis = 0, # Über die Zeilen zusammenfügen\n",
    "                ignore_index = True)"
   ]
  },
  {
   "cell_type": "code",
   "execution_count": 778,
   "id": "493fca54",
   "metadata": {},
   "outputs": [
    {
     "data": {
      "text/html": [
       "<div>\n",
       "<style scoped>\n",
       "    .dataframe tbody tr th:only-of-type {\n",
       "        vertical-align: middle;\n",
       "    }\n",
       "\n",
       "    .dataframe tbody tr th {\n",
       "        vertical-align: top;\n",
       "    }\n",
       "\n",
       "    .dataframe thead th {\n",
       "        text-align: right;\n",
       "    }\n",
       "</style>\n",
       "<table border=\"1\" class=\"dataframe\">\n",
       "  <thead>\n",
       "    <tr style=\"text-align: right;\">\n",
       "      <th></th>\n",
       "      <th>Alter</th>\n",
       "      <th>Einkommen</th>\n",
       "      <th>Preis</th>\n",
       "      <th>Geschlecht</th>\n",
       "      <th>Zeit</th>\n",
       "      <th>KundeNr</th>\n",
       "    </tr>\n",
       "  </thead>\n",
       "  <tbody>\n",
       "    <tr>\n",
       "      <th>0</th>\n",
       "      <td>64</td>\n",
       "      <td>66894.000000</td>\n",
       "      <td>88160.31</td>\n",
       "      <td>1</td>\n",
       "      <td>43.0</td>\n",
       "      <td>K0310</td>\n",
       "    </tr>\n",
       "    <tr>\n",
       "      <th>1</th>\n",
       "      <td>54</td>\n",
       "      <td>77644.000000</td>\n",
       "      <td>103145.70</td>\n",
       "      <td>1</td>\n",
       "      <td>40.0</td>\n",
       "      <td>K1042</td>\n",
       "    </tr>\n",
       "    <tr>\n",
       "      <th>2</th>\n",
       "      <td>55</td>\n",
       "      <td>44341.000000</td>\n",
       "      <td>80565.16</td>\n",
       "      <td>0</td>\n",
       "      <td>37.0</td>\n",
       "      <td>K0382</td>\n",
       "    </tr>\n",
       "    <tr>\n",
       "      <th>3</th>\n",
       "      <td>49</td>\n",
       "      <td>67271.000000</td>\n",
       "      <td>83949.89</td>\n",
       "      <td>0</td>\n",
       "      <td>42.0</td>\n",
       "      <td>K0498</td>\n",
       "    </tr>\n",
       "    <tr>\n",
       "      <th>4</th>\n",
       "      <td>46</td>\n",
       "      <td>49832.000000</td>\n",
       "      <td>93781.58</td>\n",
       "      <td>0</td>\n",
       "      <td>41.0</td>\n",
       "      <td>K0552</td>\n",
       "    </tr>\n",
       "    <tr>\n",
       "      <th>...</th>\n",
       "      <td>...</td>\n",
       "      <td>...</td>\n",
       "      <td>...</td>\n",
       "      <td>...</td>\n",
       "      <td>...</td>\n",
       "      <td>...</td>\n",
       "    </tr>\n",
       "    <tr>\n",
       "      <th>1990</th>\n",
       "      <td>32</td>\n",
       "      <td>34391.824965</td>\n",
       "      <td>NaN</td>\n",
       "      <td>1</td>\n",
       "      <td>48.0</td>\n",
       "      <td>K1211</td>\n",
       "    </tr>\n",
       "    <tr>\n",
       "      <th>1991</th>\n",
       "      <td>41</td>\n",
       "      <td>68516.495439</td>\n",
       "      <td>NaN</td>\n",
       "      <td>0</td>\n",
       "      <td>34.0</td>\n",
       "      <td>K1375</td>\n",
       "    </tr>\n",
       "    <tr>\n",
       "      <th>1992</th>\n",
       "      <td>65</td>\n",
       "      <td>89685.333441</td>\n",
       "      <td>NaN</td>\n",
       "      <td>0</td>\n",
       "      <td>23.0</td>\n",
       "      <td>K1965</td>\n",
       "    </tr>\n",
       "    <tr>\n",
       "      <th>1993</th>\n",
       "      <td>68</td>\n",
       "      <td>95714.305268</td>\n",
       "      <td>NaN</td>\n",
       "      <td>0</td>\n",
       "      <td>32.0</td>\n",
       "      <td>K1540</td>\n",
       "    </tr>\n",
       "    <tr>\n",
       "      <th>1994</th>\n",
       "      <td>49</td>\n",
       "      <td>73319.187085</td>\n",
       "      <td>NaN</td>\n",
       "      <td>0</td>\n",
       "      <td>27.0</td>\n",
       "      <td>K1207</td>\n",
       "    </tr>\n",
       "  </tbody>\n",
       "</table>\n",
       "<p>1995 rows × 6 columns</p>\n",
       "</div>"
      ],
      "text/plain": [
       "      Alter     Einkommen      Preis  Geschlecht  Zeit KundeNr\n",
       "0        64  66894.000000   88160.31           1  43.0   K0310\n",
       "1        54  77644.000000  103145.70           1  40.0   K1042\n",
       "2        55  44341.000000   80565.16           0  37.0   K0382\n",
       "3        49  67271.000000   83949.89           0  42.0   K0498\n",
       "4        46  49832.000000   93781.58           0  41.0   K0552\n",
       "...     ...           ...        ...         ...   ...     ...\n",
       "1990     32  34391.824965        NaN           1  48.0   K1211\n",
       "1991     41  68516.495439        NaN           0  34.0   K1375\n",
       "1992     65  89685.333441        NaN           0  23.0   K1965\n",
       "1993     68  95714.305268        NaN           0  32.0   K1540\n",
       "1994     49  73319.187085        NaN           0  27.0   K1207\n",
       "\n",
       "[1995 rows x 6 columns]"
      ]
     },
     "execution_count": 778,
     "metadata": {},
     "output_type": "execute_result"
    }
   ],
   "source": [
    "df_3"
   ]
  },
  {
   "cell_type": "markdown",
   "id": "8104e689",
   "metadata": {},
   "source": [
    "# 7 Einkommen runden"
   ]
  },
  {
   "cell_type": "code",
   "execution_count": 779,
   "id": "c6d6f9dd",
   "metadata": {},
   "outputs": [
    {
     "data": {
      "text/html": [
       "<div>\n",
       "<style scoped>\n",
       "    .dataframe tbody tr th:only-of-type {\n",
       "        vertical-align: middle;\n",
       "    }\n",
       "\n",
       "    .dataframe tbody tr th {\n",
       "        vertical-align: top;\n",
       "    }\n",
       "\n",
       "    .dataframe thead th {\n",
       "        text-align: right;\n",
       "    }\n",
       "</style>\n",
       "<table border=\"1\" class=\"dataframe\">\n",
       "  <thead>\n",
       "    <tr style=\"text-align: right;\">\n",
       "      <th></th>\n",
       "      <th>Alter</th>\n",
       "      <th>Einkommen</th>\n",
       "      <th>Preis</th>\n",
       "      <th>Geschlecht</th>\n",
       "      <th>Zeit</th>\n",
       "      <th>KundeNr</th>\n",
       "    </tr>\n",
       "  </thead>\n",
       "  <tbody>\n",
       "    <tr>\n",
       "      <th>0</th>\n",
       "      <td>64</td>\n",
       "      <td>66894.00</td>\n",
       "      <td>88160.31</td>\n",
       "      <td>1</td>\n",
       "      <td>43.0</td>\n",
       "      <td>K0310</td>\n",
       "    </tr>\n",
       "    <tr>\n",
       "      <th>1</th>\n",
       "      <td>54</td>\n",
       "      <td>77644.00</td>\n",
       "      <td>103145.70</td>\n",
       "      <td>1</td>\n",
       "      <td>40.0</td>\n",
       "      <td>K1042</td>\n",
       "    </tr>\n",
       "    <tr>\n",
       "      <th>2</th>\n",
       "      <td>55</td>\n",
       "      <td>44341.00</td>\n",
       "      <td>80565.16</td>\n",
       "      <td>0</td>\n",
       "      <td>37.0</td>\n",
       "      <td>K0382</td>\n",
       "    </tr>\n",
       "    <tr>\n",
       "      <th>3</th>\n",
       "      <td>49</td>\n",
       "      <td>67271.00</td>\n",
       "      <td>83949.89</td>\n",
       "      <td>0</td>\n",
       "      <td>42.0</td>\n",
       "      <td>K0498</td>\n",
       "    </tr>\n",
       "    <tr>\n",
       "      <th>4</th>\n",
       "      <td>46</td>\n",
       "      <td>49832.00</td>\n",
       "      <td>93781.58</td>\n",
       "      <td>0</td>\n",
       "      <td>41.0</td>\n",
       "      <td>K0552</td>\n",
       "    </tr>\n",
       "    <tr>\n",
       "      <th>...</th>\n",
       "      <td>...</td>\n",
       "      <td>...</td>\n",
       "      <td>...</td>\n",
       "      <td>...</td>\n",
       "      <td>...</td>\n",
       "      <td>...</td>\n",
       "    </tr>\n",
       "    <tr>\n",
       "      <th>1990</th>\n",
       "      <td>32</td>\n",
       "      <td>34391.82</td>\n",
       "      <td>NaN</td>\n",
       "      <td>1</td>\n",
       "      <td>48.0</td>\n",
       "      <td>K1211</td>\n",
       "    </tr>\n",
       "    <tr>\n",
       "      <th>1991</th>\n",
       "      <td>41</td>\n",
       "      <td>68516.50</td>\n",
       "      <td>NaN</td>\n",
       "      <td>0</td>\n",
       "      <td>34.0</td>\n",
       "      <td>K1375</td>\n",
       "    </tr>\n",
       "    <tr>\n",
       "      <th>1992</th>\n",
       "      <td>65</td>\n",
       "      <td>89685.33</td>\n",
       "      <td>NaN</td>\n",
       "      <td>0</td>\n",
       "      <td>23.0</td>\n",
       "      <td>K1965</td>\n",
       "    </tr>\n",
       "    <tr>\n",
       "      <th>1993</th>\n",
       "      <td>68</td>\n",
       "      <td>95714.31</td>\n",
       "      <td>NaN</td>\n",
       "      <td>0</td>\n",
       "      <td>32.0</td>\n",
       "      <td>K1540</td>\n",
       "    </tr>\n",
       "    <tr>\n",
       "      <th>1994</th>\n",
       "      <td>49</td>\n",
       "      <td>73319.19</td>\n",
       "      <td>NaN</td>\n",
       "      <td>0</td>\n",
       "      <td>27.0</td>\n",
       "      <td>K1207</td>\n",
       "    </tr>\n",
       "  </tbody>\n",
       "</table>\n",
       "<p>1995 rows × 6 columns</p>\n",
       "</div>"
      ],
      "text/plain": [
       "      Alter  Einkommen      Preis  Geschlecht  Zeit KundeNr\n",
       "0        64   66894.00   88160.31           1  43.0   K0310\n",
       "1        54   77644.00  103145.70           1  40.0   K1042\n",
       "2        55   44341.00   80565.16           0  37.0   K0382\n",
       "3        49   67271.00   83949.89           0  42.0   K0498\n",
       "4        46   49832.00   93781.58           0  41.0   K0552\n",
       "...     ...        ...        ...         ...   ...     ...\n",
       "1990     32   34391.82        NaN           1  48.0   K1211\n",
       "1991     41   68516.50        NaN           0  34.0   K1375\n",
       "1992     65   89685.33        NaN           0  23.0   K1965\n",
       "1993     68   95714.31        NaN           0  32.0   K1540\n",
       "1994     49   73319.19        NaN           0  27.0   K1207\n",
       "\n",
       "[1995 rows x 6 columns]"
      ]
     },
     "execution_count": 779,
     "metadata": {},
     "output_type": "execute_result"
    }
   ],
   "source": [
    "df_3[\"Einkommen\"] = df_3[\"Einkommen\"].round(2)\n",
    "df_3"
   ]
  },
  {
   "cell_type": "markdown",
   "id": "8a70e8ba",
   "metadata": {},
   "source": [
    "# 8.1 Textdatei einlesen"
   ]
  },
  {
   "cell_type": "code",
   "execution_count": 780,
   "id": "bfe04628",
   "metadata": {},
   "outputs": [
    {
     "data": {
      "text/html": [
       "<div>\n",
       "<style scoped>\n",
       "    .dataframe tbody tr th:only-of-type {\n",
       "        vertical-align: middle;\n",
       "    }\n",
       "\n",
       "    .dataframe tbody tr th {\n",
       "        vertical-align: top;\n",
       "    }\n",
       "\n",
       "    .dataframe thead th {\n",
       "        text-align: right;\n",
       "    }\n",
       "</style>\n",
       "<table border=\"1\" class=\"dataframe\">\n",
       "  <thead>\n",
       "    <tr style=\"text-align: right;\">\n",
       "      <th></th>\n",
       "      <th>Platzhalter</th>\n",
       "    </tr>\n",
       "  </thead>\n",
       "  <tbody>\n",
       "    <tr>\n",
       "      <th>0</th>\n",
       "      <td>KundeNr\\tNiederlassung</td>\n",
       "    </tr>\n",
       "    <tr>\n",
       "      <th>1</th>\n",
       "      <td>K0001\\tSachsen</td>\n",
       "    </tr>\n",
       "    <tr>\n",
       "      <th>2</th>\n",
       "      <td>K0002\\tNRW</td>\n",
       "    </tr>\n",
       "    <tr>\n",
       "      <th>3</th>\n",
       "      <td>K0003\\tHessen</td>\n",
       "    </tr>\n",
       "    <tr>\n",
       "      <th>4</th>\n",
       "      <td>K0004\\tBayern</td>\n",
       "    </tr>\n",
       "    <tr>\n",
       "      <th>...</th>\n",
       "      <td>...</td>\n",
       "    </tr>\n",
       "    <tr>\n",
       "      <th>1991</th>\n",
       "      <td>K1991\\tHessen</td>\n",
       "    </tr>\n",
       "    <tr>\n",
       "      <th>1992</th>\n",
       "      <td>K1992\\tBaden-Württemberg</td>\n",
       "    </tr>\n",
       "    <tr>\n",
       "      <th>1993</th>\n",
       "      <td>K1993\\tNordrhein-Westfalen</td>\n",
       "    </tr>\n",
       "    <tr>\n",
       "      <th>1994</th>\n",
       "      <td>K1994\\tBerlin</td>\n",
       "    </tr>\n",
       "    <tr>\n",
       "      <th>1995</th>\n",
       "      <td>K1995\\tBerlin-Charlottenburg</td>\n",
       "    </tr>\n",
       "  </tbody>\n",
       "</table>\n",
       "<p>1996 rows × 1 columns</p>\n",
       "</div>"
      ],
      "text/plain": [
       "                       Platzhalter\n",
       "0           KundeNr\\tNiederlassung\n",
       "1                   K0001\\tSachsen\n",
       "2                       K0002\\tNRW\n",
       "3                    K0003\\tHessen\n",
       "4                    K0004\\tBayern\n",
       "...                            ...\n",
       "1991                 K1991\\tHessen\n",
       "1992      K1992\\tBaden-Württemberg\n",
       "1993    K1993\\tNordrhein-Westfalen\n",
       "1994                 K1994\\tBerlin\n",
       "1995  K1995\\tBerlin-Charlottenburg\n",
       "\n",
       "[1996 rows x 1 columns]"
      ]
     },
     "execution_count": 780,
     "metadata": {},
     "output_type": "execute_result"
    }
   ],
   "source": [
    "text_datei = \"data/geo.txt\"\n",
    "df_text = pd.read_csv(text_datei, header=None, names=[\"Platzhalter\"])\n",
    "df_text"
   ]
  },
  {
   "cell_type": "markdown",
   "id": "2269944c",
   "metadata": {},
   "source": [
    "# 8.2 Überschriften "
   ]
  },
  {
   "cell_type": "code",
   "execution_count": 781,
   "id": "2270a66d",
   "metadata": {},
   "outputs": [
    {
     "data": {
      "text/html": [
       "<div>\n",
       "<style scoped>\n",
       "    .dataframe tbody tr th:only-of-type {\n",
       "        vertical-align: middle;\n",
       "    }\n",
       "\n",
       "    .dataframe tbody tr th {\n",
       "        vertical-align: top;\n",
       "    }\n",
       "\n",
       "    .dataframe thead th {\n",
       "        text-align: right;\n",
       "    }\n",
       "</style>\n",
       "<table border=\"1\" class=\"dataframe\">\n",
       "  <thead>\n",
       "    <tr style=\"text-align: right;\">\n",
       "      <th></th>\n",
       "      <th>Platzhalter</th>\n",
       "      <th>KundeNR</th>\n",
       "      <th>Niederlassung</th>\n",
       "    </tr>\n",
       "  </thead>\n",
       "  <tbody>\n",
       "    <tr>\n",
       "      <th>0</th>\n",
       "      <td>KundeNr\\tNiederlassung</td>\n",
       "      <td>KundeNr</td>\n",
       "      <td>Niederlassung</td>\n",
       "    </tr>\n",
       "    <tr>\n",
       "      <th>1</th>\n",
       "      <td>K0001\\tSachsen</td>\n",
       "      <td>K0001</td>\n",
       "      <td>Sachsen</td>\n",
       "    </tr>\n",
       "    <tr>\n",
       "      <th>2</th>\n",
       "      <td>K0002\\tNRW</td>\n",
       "      <td>K0002</td>\n",
       "      <td>NRW</td>\n",
       "    </tr>\n",
       "    <tr>\n",
       "      <th>3</th>\n",
       "      <td>K0003\\tHessen</td>\n",
       "      <td>K0003</td>\n",
       "      <td>Hessen</td>\n",
       "    </tr>\n",
       "    <tr>\n",
       "      <th>4</th>\n",
       "      <td>K0004\\tBayern</td>\n",
       "      <td>K0004</td>\n",
       "      <td>Bayern</td>\n",
       "    </tr>\n",
       "    <tr>\n",
       "      <th>...</th>\n",
       "      <td>...</td>\n",
       "      <td>...</td>\n",
       "      <td>...</td>\n",
       "    </tr>\n",
       "    <tr>\n",
       "      <th>1991</th>\n",
       "      <td>K1991\\tHessen</td>\n",
       "      <td>K1991</td>\n",
       "      <td>Hessen</td>\n",
       "    </tr>\n",
       "    <tr>\n",
       "      <th>1992</th>\n",
       "      <td>K1992\\tBaden-Württemberg</td>\n",
       "      <td>K1992</td>\n",
       "      <td>Baden-Württemberg</td>\n",
       "    </tr>\n",
       "    <tr>\n",
       "      <th>1993</th>\n",
       "      <td>K1993\\tNordrhein-Westfalen</td>\n",
       "      <td>K1993</td>\n",
       "      <td>Nordrhein-Westfalen</td>\n",
       "    </tr>\n",
       "    <tr>\n",
       "      <th>1994</th>\n",
       "      <td>K1994\\tBerlin</td>\n",
       "      <td>K1994</td>\n",
       "      <td>Berlin</td>\n",
       "    </tr>\n",
       "    <tr>\n",
       "      <th>1995</th>\n",
       "      <td>K1995\\tBerlin-Charlottenburg</td>\n",
       "      <td>K1995</td>\n",
       "      <td>Berlin-Charlottenburg</td>\n",
       "    </tr>\n",
       "  </tbody>\n",
       "</table>\n",
       "<p>1996 rows × 3 columns</p>\n",
       "</div>"
      ],
      "text/plain": [
       "                       Platzhalter  KundeNR          Niederlassung\n",
       "0           KundeNr\\tNiederlassung  KundeNr          Niederlassung\n",
       "1                   K0001\\tSachsen    K0001                Sachsen\n",
       "2                       K0002\\tNRW    K0002                    NRW\n",
       "3                    K0003\\tHessen    K0003                 Hessen\n",
       "4                    K0004\\tBayern    K0004                 Bayern\n",
       "...                            ...      ...                    ...\n",
       "1991                 K1991\\tHessen    K1991                 Hessen\n",
       "1992      K1992\\tBaden-Württemberg    K1992      Baden-Württemberg\n",
       "1993    K1993\\tNordrhein-Westfalen    K1993    Nordrhein-Westfalen\n",
       "1994                 K1994\\tBerlin    K1994                 Berlin\n",
       "1995  K1995\\tBerlin-Charlottenburg    K1995  Berlin-Charlottenburg\n",
       "\n",
       "[1996 rows x 3 columns]"
      ]
     },
     "execution_count": 781,
     "metadata": {},
     "output_type": "execute_result"
    }
   ],
   "source": [
    "df_text[[\"KundeNR\", \"Niederlassung\"]] = df_text[\"Platzhalter\"].str.split(expand=True)\n",
    "df_text"
   ]
  },
  {
   "cell_type": "code",
   "execution_count": 782,
   "id": "8785a788",
   "metadata": {},
   "outputs": [
    {
     "data": {
      "text/html": [
       "<div>\n",
       "<style scoped>\n",
       "    .dataframe tbody tr th:only-of-type {\n",
       "        vertical-align: middle;\n",
       "    }\n",
       "\n",
       "    .dataframe tbody tr th {\n",
       "        vertical-align: top;\n",
       "    }\n",
       "\n",
       "    .dataframe thead th {\n",
       "        text-align: right;\n",
       "    }\n",
       "</style>\n",
       "<table border=\"1\" class=\"dataframe\">\n",
       "  <thead>\n",
       "    <tr style=\"text-align: right;\">\n",
       "      <th></th>\n",
       "      <th>Platzhalter</th>\n",
       "      <th>KundeNR</th>\n",
       "      <th>Niederlassung</th>\n",
       "    </tr>\n",
       "  </thead>\n",
       "  <tbody>\n",
       "    <tr>\n",
       "      <th>0</th>\n",
       "      <td>KundeNr\\tNiederlassung</td>\n",
       "      <td>KundeNr</td>\n",
       "      <td>Niederlassung</td>\n",
       "    </tr>\n",
       "    <tr>\n",
       "      <th>1</th>\n",
       "      <td>K0001\\tSachsen</td>\n",
       "      <td>K0001</td>\n",
       "      <td>Sachsen</td>\n",
       "    </tr>\n",
       "    <tr>\n",
       "      <th>2</th>\n",
       "      <td>K0002\\tNRW</td>\n",
       "      <td>K0002</td>\n",
       "      <td>NRW</td>\n",
       "    </tr>\n",
       "    <tr>\n",
       "      <th>3</th>\n",
       "      <td>K0003\\tHessen</td>\n",
       "      <td>K0003</td>\n",
       "      <td>Hessen</td>\n",
       "    </tr>\n",
       "    <tr>\n",
       "      <th>4</th>\n",
       "      <td>K0004\\tBayern</td>\n",
       "      <td>K0004</td>\n",
       "      <td>Bayern</td>\n",
       "    </tr>\n",
       "    <tr>\n",
       "      <th>...</th>\n",
       "      <td>...</td>\n",
       "      <td>...</td>\n",
       "      <td>...</td>\n",
       "    </tr>\n",
       "    <tr>\n",
       "      <th>1991</th>\n",
       "      <td>K1991\\tHessen</td>\n",
       "      <td>K1991</td>\n",
       "      <td>Hessen</td>\n",
       "    </tr>\n",
       "    <tr>\n",
       "      <th>1992</th>\n",
       "      <td>K1992\\tBaden-Württemberg</td>\n",
       "      <td>K1992</td>\n",
       "      <td>Baden-Württemberg</td>\n",
       "    </tr>\n",
       "    <tr>\n",
       "      <th>1993</th>\n",
       "      <td>K1993\\tNordrhein-Westfalen</td>\n",
       "      <td>K1993</td>\n",
       "      <td>Nordrhein-Westfalen</td>\n",
       "    </tr>\n",
       "    <tr>\n",
       "      <th>1994</th>\n",
       "      <td>K1994\\tBerlin</td>\n",
       "      <td>K1994</td>\n",
       "      <td>Berlin</td>\n",
       "    </tr>\n",
       "    <tr>\n",
       "      <th>1995</th>\n",
       "      <td>K1995\\tBerlin-Charlottenburg</td>\n",
       "      <td>K1995</td>\n",
       "      <td>Berlin-Charlottenburg</td>\n",
       "    </tr>\n",
       "  </tbody>\n",
       "</table>\n",
       "<p>1996 rows × 3 columns</p>\n",
       "</div>"
      ],
      "text/plain": [
       "                       Platzhalter  KundeNR          Niederlassung\n",
       "0           KundeNr\\tNiederlassung  KundeNr          Niederlassung\n",
       "1                   K0001\\tSachsen    K0001                Sachsen\n",
       "2                       K0002\\tNRW    K0002                    NRW\n",
       "3                    K0003\\tHessen    K0003                 Hessen\n",
       "4                    K0004\\tBayern    K0004                 Bayern\n",
       "...                            ...      ...                    ...\n",
       "1991                 K1991\\tHessen    K1991                 Hessen\n",
       "1992      K1992\\tBaden-Württemberg    K1992      Baden-Württemberg\n",
       "1993    K1993\\tNordrhein-Westfalen    K1993    Nordrhein-Westfalen\n",
       "1994                 K1994\\tBerlin    K1994                 Berlin\n",
       "1995  K1995\\tBerlin-Charlottenburg    K1995  Berlin-Charlottenburg\n",
       "\n",
       "[1996 rows x 3 columns]"
      ]
     },
     "execution_count": 782,
     "metadata": {},
     "output_type": "execute_result"
    }
   ],
   "source": [
    "df_text"
   ]
  },
  {
   "cell_type": "code",
   "execution_count": 783,
   "id": "e36f518d",
   "metadata": {},
   "outputs": [
    {
     "data": {
      "text/plain": [
       "Index(['Platzhalter', 'KundeNR', 'Niederlassung'], dtype='object')"
      ]
     },
     "execution_count": 783,
     "metadata": {},
     "output_type": "execute_result"
    }
   ],
   "source": [
    "df_text.columns"
   ]
  },
  {
   "cell_type": "code",
   "execution_count": 784,
   "id": "b0fc9ac1",
   "metadata": {},
   "outputs": [],
   "source": [
    "df_text = df_text.drop(\"Platzhalter\", axis=1)\n"
   ]
  },
  {
   "cell_type": "markdown",
   "id": "f112facd",
   "metadata": {},
   "source": [
    "df_text.columns"
   ]
  },
  {
   "cell_type": "markdown",
   "id": "23a0977f",
   "metadata": {},
   "source": [
    "# 9 Im df_3 neue Spalte erstellen"
   ]
  },
  {
   "cell_type": "code",
   "execution_count": 785,
   "id": "5a48af61",
   "metadata": {},
   "outputs": [
    {
     "data": {
      "text/html": [
       "<div>\n",
       "<style scoped>\n",
       "    .dataframe tbody tr th:only-of-type {\n",
       "        vertical-align: middle;\n",
       "    }\n",
       "\n",
       "    .dataframe tbody tr th {\n",
       "        vertical-align: top;\n",
       "    }\n",
       "\n",
       "    .dataframe thead th {\n",
       "        text-align: right;\n",
       "    }\n",
       "</style>\n",
       "<table border=\"1\" class=\"dataframe\">\n",
       "  <thead>\n",
       "    <tr style=\"text-align: right;\">\n",
       "      <th></th>\n",
       "      <th>Alter</th>\n",
       "      <th>Einkommen</th>\n",
       "      <th>Preis</th>\n",
       "      <th>Geschlecht</th>\n",
       "      <th>Zeit</th>\n",
       "      <th>KundeNr</th>\n",
       "      <th>Niederlassung</th>\n",
       "    </tr>\n",
       "  </thead>\n",
       "  <tbody>\n",
       "    <tr>\n",
       "      <th>0</th>\n",
       "      <td>64</td>\n",
       "      <td>66894.00</td>\n",
       "      <td>88160.31</td>\n",
       "      <td>1</td>\n",
       "      <td>43.0</td>\n",
       "      <td>K0310</td>\n",
       "      <td>None</td>\n",
       "    </tr>\n",
       "    <tr>\n",
       "      <th>1</th>\n",
       "      <td>54</td>\n",
       "      <td>77644.00</td>\n",
       "      <td>103145.70</td>\n",
       "      <td>1</td>\n",
       "      <td>40.0</td>\n",
       "      <td>K1042</td>\n",
       "      <td>None</td>\n",
       "    </tr>\n",
       "    <tr>\n",
       "      <th>2</th>\n",
       "      <td>55</td>\n",
       "      <td>44341.00</td>\n",
       "      <td>80565.16</td>\n",
       "      <td>0</td>\n",
       "      <td>37.0</td>\n",
       "      <td>K0382</td>\n",
       "      <td>None</td>\n",
       "    </tr>\n",
       "    <tr>\n",
       "      <th>3</th>\n",
       "      <td>49</td>\n",
       "      <td>67271.00</td>\n",
       "      <td>83949.89</td>\n",
       "      <td>0</td>\n",
       "      <td>42.0</td>\n",
       "      <td>K0498</td>\n",
       "      <td>None</td>\n",
       "    </tr>\n",
       "    <tr>\n",
       "      <th>4</th>\n",
       "      <td>46</td>\n",
       "      <td>49832.00</td>\n",
       "      <td>93781.58</td>\n",
       "      <td>0</td>\n",
       "      <td>41.0</td>\n",
       "      <td>K0552</td>\n",
       "      <td>None</td>\n",
       "    </tr>\n",
       "    <tr>\n",
       "      <th>...</th>\n",
       "      <td>...</td>\n",
       "      <td>...</td>\n",
       "      <td>...</td>\n",
       "      <td>...</td>\n",
       "      <td>...</td>\n",
       "      <td>...</td>\n",
       "      <td>...</td>\n",
       "    </tr>\n",
       "    <tr>\n",
       "      <th>1990</th>\n",
       "      <td>32</td>\n",
       "      <td>34391.82</td>\n",
       "      <td>NaN</td>\n",
       "      <td>1</td>\n",
       "      <td>48.0</td>\n",
       "      <td>K1211</td>\n",
       "      <td>None</td>\n",
       "    </tr>\n",
       "    <tr>\n",
       "      <th>1991</th>\n",
       "      <td>41</td>\n",
       "      <td>68516.50</td>\n",
       "      <td>NaN</td>\n",
       "      <td>0</td>\n",
       "      <td>34.0</td>\n",
       "      <td>K1375</td>\n",
       "      <td>None</td>\n",
       "    </tr>\n",
       "    <tr>\n",
       "      <th>1992</th>\n",
       "      <td>65</td>\n",
       "      <td>89685.33</td>\n",
       "      <td>NaN</td>\n",
       "      <td>0</td>\n",
       "      <td>23.0</td>\n",
       "      <td>K1965</td>\n",
       "      <td>None</td>\n",
       "    </tr>\n",
       "    <tr>\n",
       "      <th>1993</th>\n",
       "      <td>68</td>\n",
       "      <td>95714.31</td>\n",
       "      <td>NaN</td>\n",
       "      <td>0</td>\n",
       "      <td>32.0</td>\n",
       "      <td>K1540</td>\n",
       "      <td>None</td>\n",
       "    </tr>\n",
       "    <tr>\n",
       "      <th>1994</th>\n",
       "      <td>49</td>\n",
       "      <td>73319.19</td>\n",
       "      <td>NaN</td>\n",
       "      <td>0</td>\n",
       "      <td>27.0</td>\n",
       "      <td>K1207</td>\n",
       "      <td>None</td>\n",
       "    </tr>\n",
       "  </tbody>\n",
       "</table>\n",
       "<p>1995 rows × 7 columns</p>\n",
       "</div>"
      ],
      "text/plain": [
       "      Alter  Einkommen      Preis  Geschlecht  Zeit KundeNr Niederlassung\n",
       "0        64   66894.00   88160.31           1  43.0   K0310          None\n",
       "1        54   77644.00  103145.70           1  40.0   K1042          None\n",
       "2        55   44341.00   80565.16           0  37.0   K0382          None\n",
       "3        49   67271.00   83949.89           0  42.0   K0498          None\n",
       "4        46   49832.00   93781.58           0  41.0   K0552          None\n",
       "...     ...        ...        ...         ...   ...     ...           ...\n",
       "1990     32   34391.82        NaN           1  48.0   K1211          None\n",
       "1991     41   68516.50        NaN           0  34.0   K1375          None\n",
       "1992     65   89685.33        NaN           0  23.0   K1965          None\n",
       "1993     68   95714.31        NaN           0  32.0   K1540          None\n",
       "1994     49   73319.19        NaN           0  27.0   K1207          None\n",
       "\n",
       "[1995 rows x 7 columns]"
      ]
     },
     "execution_count": 785,
     "metadata": {},
     "output_type": "execute_result"
    }
   ],
   "source": [
    "df_3 = df_3.copy()\n",
    "df_3[\"Niederlassung\"] = None\n",
    "df_3"
   ]
  },
  {
   "cell_type": "markdown",
   "id": "f29aa1bc",
   "metadata": {},
   "source": [
    "# 10 Spalte umbenennen "
   ]
  },
  {
   "cell_type": "code",
   "execution_count": 786,
   "id": "8eb53ce9",
   "metadata": {},
   "outputs": [
    {
     "data": {
      "text/plain": [
       "Alter              int64\n",
       "Einkommen        float64\n",
       "Preis            float64\n",
       "Geschlecht         int64\n",
       "Zeit             float64\n",
       "KundeNR           object\n",
       "Niederlassung     object\n",
       "dtype: object"
      ]
     },
     "execution_count": 786,
     "metadata": {},
     "output_type": "execute_result"
    }
   ],
   "source": [
    "df_3 = df_3.rename(columns={\"KundeNr\": \"KundeNR\"})\n",
    "df_3.dtypes"
   ]
  },
  {
   "cell_type": "markdown",
   "id": "39e48ad3",
   "metadata": {},
   "source": [
    "# 11 Text-Datei mit CSV mergen"
   ]
  },
  {
   "cell_type": "code",
   "execution_count": 787,
   "id": "f5643add",
   "metadata": {},
   "outputs": [
    {
     "data": {
      "text/html": [
       "<div>\n",
       "<style scoped>\n",
       "    .dataframe tbody tr th:only-of-type {\n",
       "        vertical-align: middle;\n",
       "    }\n",
       "\n",
       "    .dataframe tbody tr th {\n",
       "        vertical-align: top;\n",
       "    }\n",
       "\n",
       "    .dataframe thead th {\n",
       "        text-align: right;\n",
       "    }\n",
       "</style>\n",
       "<table border=\"1\" class=\"dataframe\">\n",
       "  <thead>\n",
       "    <tr style=\"text-align: right;\">\n",
       "      <th></th>\n",
       "      <th>Alter</th>\n",
       "      <th>Einkommen</th>\n",
       "      <th>Preis</th>\n",
       "      <th>Geschlecht</th>\n",
       "      <th>Zeit</th>\n",
       "      <th>KundeNR</th>\n",
       "      <th>Niederlassung_x</th>\n",
       "      <th>Niederlassung_y</th>\n",
       "    </tr>\n",
       "  </thead>\n",
       "  <tbody>\n",
       "    <tr>\n",
       "      <th>0</th>\n",
       "      <td>64</td>\n",
       "      <td>66894.00</td>\n",
       "      <td>88160.31</td>\n",
       "      <td>1</td>\n",
       "      <td>43.0</td>\n",
       "      <td>K0310</td>\n",
       "      <td>None</td>\n",
       "      <td>Bayern</td>\n",
       "    </tr>\n",
       "    <tr>\n",
       "      <th>1</th>\n",
       "      <td>54</td>\n",
       "      <td>77644.00</td>\n",
       "      <td>103145.70</td>\n",
       "      <td>1</td>\n",
       "      <td>40.0</td>\n",
       "      <td>K1042</td>\n",
       "      <td>None</td>\n",
       "      <td>Berlin</td>\n",
       "    </tr>\n",
       "    <tr>\n",
       "      <th>2</th>\n",
       "      <td>55</td>\n",
       "      <td>44341.00</td>\n",
       "      <td>80565.16</td>\n",
       "      <td>0</td>\n",
       "      <td>37.0</td>\n",
       "      <td>K0382</td>\n",
       "      <td>None</td>\n",
       "      <td>Baden-Württemberg</td>\n",
       "    </tr>\n",
       "    <tr>\n",
       "      <th>3</th>\n",
       "      <td>49</td>\n",
       "      <td>67271.00</td>\n",
       "      <td>83949.89</td>\n",
       "      <td>0</td>\n",
       "      <td>42.0</td>\n",
       "      <td>K0498</td>\n",
       "      <td>None</td>\n",
       "      <td>Bayern</td>\n",
       "    </tr>\n",
       "    <tr>\n",
       "      <th>4</th>\n",
       "      <td>46</td>\n",
       "      <td>49832.00</td>\n",
       "      <td>93781.58</td>\n",
       "      <td>0</td>\n",
       "      <td>41.0</td>\n",
       "      <td>K0552</td>\n",
       "      <td>None</td>\n",
       "      <td>Hessen</td>\n",
       "    </tr>\n",
       "    <tr>\n",
       "      <th>...</th>\n",
       "      <td>...</td>\n",
       "      <td>...</td>\n",
       "      <td>...</td>\n",
       "      <td>...</td>\n",
       "      <td>...</td>\n",
       "      <td>...</td>\n",
       "      <td>...</td>\n",
       "      <td>...</td>\n",
       "    </tr>\n",
       "    <tr>\n",
       "      <th>1990</th>\n",
       "      <td>32</td>\n",
       "      <td>34391.82</td>\n",
       "      <td>NaN</td>\n",
       "      <td>1</td>\n",
       "      <td>48.0</td>\n",
       "      <td>K1211</td>\n",
       "      <td>None</td>\n",
       "      <td>Hessen</td>\n",
       "    </tr>\n",
       "    <tr>\n",
       "      <th>1991</th>\n",
       "      <td>41</td>\n",
       "      <td>68516.50</td>\n",
       "      <td>NaN</td>\n",
       "      <td>0</td>\n",
       "      <td>34.0</td>\n",
       "      <td>K1375</td>\n",
       "      <td>None</td>\n",
       "      <td>Sachsen</td>\n",
       "    </tr>\n",
       "    <tr>\n",
       "      <th>1992</th>\n",
       "      <td>65</td>\n",
       "      <td>89685.33</td>\n",
       "      <td>NaN</td>\n",
       "      <td>0</td>\n",
       "      <td>23.0</td>\n",
       "      <td>K1965</td>\n",
       "      <td>None</td>\n",
       "      <td>Bayern</td>\n",
       "    </tr>\n",
       "    <tr>\n",
       "      <th>1993</th>\n",
       "      <td>68</td>\n",
       "      <td>95714.31</td>\n",
       "      <td>NaN</td>\n",
       "      <td>0</td>\n",
       "      <td>32.0</td>\n",
       "      <td>K1540</td>\n",
       "      <td>None</td>\n",
       "      <td>Bayern</td>\n",
       "    </tr>\n",
       "    <tr>\n",
       "      <th>1994</th>\n",
       "      <td>49</td>\n",
       "      <td>73319.19</td>\n",
       "      <td>NaN</td>\n",
       "      <td>0</td>\n",
       "      <td>27.0</td>\n",
       "      <td>K1207</td>\n",
       "      <td>None</td>\n",
       "      <td>Niedersachsen</td>\n",
       "    </tr>\n",
       "  </tbody>\n",
       "</table>\n",
       "<p>1995 rows × 8 columns</p>\n",
       "</div>"
      ],
      "text/plain": [
       "      Alter  Einkommen      Preis  Geschlecht  Zeit KundeNR Niederlassung_x  \\\n",
       "0        64   66894.00   88160.31           1  43.0   K0310            None   \n",
       "1        54   77644.00  103145.70           1  40.0   K1042            None   \n",
       "2        55   44341.00   80565.16           0  37.0   K0382            None   \n",
       "3        49   67271.00   83949.89           0  42.0   K0498            None   \n",
       "4        46   49832.00   93781.58           0  41.0   K0552            None   \n",
       "...     ...        ...        ...         ...   ...     ...             ...   \n",
       "1990     32   34391.82        NaN           1  48.0   K1211            None   \n",
       "1991     41   68516.50        NaN           0  34.0   K1375            None   \n",
       "1992     65   89685.33        NaN           0  23.0   K1965            None   \n",
       "1993     68   95714.31        NaN           0  32.0   K1540            None   \n",
       "1994     49   73319.19        NaN           0  27.0   K1207            None   \n",
       "\n",
       "        Niederlassung_y  \n",
       "0                Bayern  \n",
       "1                Berlin  \n",
       "2     Baden-Württemberg  \n",
       "3                Bayern  \n",
       "4                Hessen  \n",
       "...                 ...  \n",
       "1990             Hessen  \n",
       "1991            Sachsen  \n",
       "1992             Bayern  \n",
       "1993             Bayern  \n",
       "1994      Niedersachsen  \n",
       "\n",
       "[1995 rows x 8 columns]"
      ]
     },
     "execution_count": 787,
     "metadata": {},
     "output_type": "execute_result"
    }
   ],
   "source": [
    "merged_df = pd.merge(df_3, df_text[[\"KundeNR\", \"Niederlassung\"]], on=\"KundeNR\", how=\"left\")\n",
    "merged_df"
   ]
  },
  {
   "cell_type": "markdown",
   "id": "2ceb02a7",
   "metadata": {},
   "source": [
    "# 12 Spalte umbennen"
   ]
  },
  {
   "cell_type": "code",
   "execution_count": 788,
   "id": "91f0fabc",
   "metadata": {},
   "outputs": [
    {
     "data": {
      "text/html": [
       "<div>\n",
       "<style scoped>\n",
       "    .dataframe tbody tr th:only-of-type {\n",
       "        vertical-align: middle;\n",
       "    }\n",
       "\n",
       "    .dataframe tbody tr th {\n",
       "        vertical-align: top;\n",
       "    }\n",
       "\n",
       "    .dataframe thead th {\n",
       "        text-align: right;\n",
       "    }\n",
       "</style>\n",
       "<table border=\"1\" class=\"dataframe\">\n",
       "  <thead>\n",
       "    <tr style=\"text-align: right;\">\n",
       "      <th></th>\n",
       "      <th>Alter</th>\n",
       "      <th>Einkommen</th>\n",
       "      <th>Preis</th>\n",
       "      <th>Geschlecht</th>\n",
       "      <th>Zeit</th>\n",
       "      <th>KundeNR</th>\n",
       "      <th>Niederlassung</th>\n",
       "    </tr>\n",
       "  </thead>\n",
       "  <tbody>\n",
       "    <tr>\n",
       "      <th>0</th>\n",
       "      <td>64</td>\n",
       "      <td>66894.00</td>\n",
       "      <td>88160.31</td>\n",
       "      <td>1</td>\n",
       "      <td>43.0</td>\n",
       "      <td>K0310</td>\n",
       "      <td>Bayern</td>\n",
       "    </tr>\n",
       "    <tr>\n",
       "      <th>1</th>\n",
       "      <td>54</td>\n",
       "      <td>77644.00</td>\n",
       "      <td>103145.70</td>\n",
       "      <td>1</td>\n",
       "      <td>40.0</td>\n",
       "      <td>K1042</td>\n",
       "      <td>Berlin</td>\n",
       "    </tr>\n",
       "    <tr>\n",
       "      <th>2</th>\n",
       "      <td>55</td>\n",
       "      <td>44341.00</td>\n",
       "      <td>80565.16</td>\n",
       "      <td>0</td>\n",
       "      <td>37.0</td>\n",
       "      <td>K0382</td>\n",
       "      <td>Baden-Württemberg</td>\n",
       "    </tr>\n",
       "    <tr>\n",
       "      <th>3</th>\n",
       "      <td>49</td>\n",
       "      <td>67271.00</td>\n",
       "      <td>83949.89</td>\n",
       "      <td>0</td>\n",
       "      <td>42.0</td>\n",
       "      <td>K0498</td>\n",
       "      <td>Bayern</td>\n",
       "    </tr>\n",
       "    <tr>\n",
       "      <th>4</th>\n",
       "      <td>46</td>\n",
       "      <td>49832.00</td>\n",
       "      <td>93781.58</td>\n",
       "      <td>0</td>\n",
       "      <td>41.0</td>\n",
       "      <td>K0552</td>\n",
       "      <td>Hessen</td>\n",
       "    </tr>\n",
       "    <tr>\n",
       "      <th>...</th>\n",
       "      <td>...</td>\n",
       "      <td>...</td>\n",
       "      <td>...</td>\n",
       "      <td>...</td>\n",
       "      <td>...</td>\n",
       "      <td>...</td>\n",
       "      <td>...</td>\n",
       "    </tr>\n",
       "    <tr>\n",
       "      <th>1990</th>\n",
       "      <td>32</td>\n",
       "      <td>34391.82</td>\n",
       "      <td>NaN</td>\n",
       "      <td>1</td>\n",
       "      <td>48.0</td>\n",
       "      <td>K1211</td>\n",
       "      <td>Hessen</td>\n",
       "    </tr>\n",
       "    <tr>\n",
       "      <th>1991</th>\n",
       "      <td>41</td>\n",
       "      <td>68516.50</td>\n",
       "      <td>NaN</td>\n",
       "      <td>0</td>\n",
       "      <td>34.0</td>\n",
       "      <td>K1375</td>\n",
       "      <td>Sachsen</td>\n",
       "    </tr>\n",
       "    <tr>\n",
       "      <th>1992</th>\n",
       "      <td>65</td>\n",
       "      <td>89685.33</td>\n",
       "      <td>NaN</td>\n",
       "      <td>0</td>\n",
       "      <td>23.0</td>\n",
       "      <td>K1965</td>\n",
       "      <td>Bayern</td>\n",
       "    </tr>\n",
       "    <tr>\n",
       "      <th>1993</th>\n",
       "      <td>68</td>\n",
       "      <td>95714.31</td>\n",
       "      <td>NaN</td>\n",
       "      <td>0</td>\n",
       "      <td>32.0</td>\n",
       "      <td>K1540</td>\n",
       "      <td>Bayern</td>\n",
       "    </tr>\n",
       "    <tr>\n",
       "      <th>1994</th>\n",
       "      <td>49</td>\n",
       "      <td>73319.19</td>\n",
       "      <td>NaN</td>\n",
       "      <td>0</td>\n",
       "      <td>27.0</td>\n",
       "      <td>K1207</td>\n",
       "      <td>Niedersachsen</td>\n",
       "    </tr>\n",
       "  </tbody>\n",
       "</table>\n",
       "<p>1995 rows × 7 columns</p>\n",
       "</div>"
      ],
      "text/plain": [
       "      Alter  Einkommen      Preis  Geschlecht  Zeit KundeNR      Niederlassung\n",
       "0        64   66894.00   88160.31           1  43.0   K0310             Bayern\n",
       "1        54   77644.00  103145.70           1  40.0   K1042             Berlin\n",
       "2        55   44341.00   80565.16           0  37.0   K0382  Baden-Württemberg\n",
       "3        49   67271.00   83949.89           0  42.0   K0498             Bayern\n",
       "4        46   49832.00   93781.58           0  41.0   K0552             Hessen\n",
       "...     ...        ...        ...         ...   ...     ...                ...\n",
       "1990     32   34391.82        NaN           1  48.0   K1211             Hessen\n",
       "1991     41   68516.50        NaN           0  34.0   K1375            Sachsen\n",
       "1992     65   89685.33        NaN           0  23.0   K1965             Bayern\n",
       "1993     68   95714.31        NaN           0  32.0   K1540             Bayern\n",
       "1994     49   73319.19        NaN           0  27.0   K1207      Niedersachsen\n",
       "\n",
       "[1995 rows x 7 columns]"
      ]
     },
     "execution_count": 788,
     "metadata": {},
     "output_type": "execute_result"
    }
   ],
   "source": [
    "merged_df = merged_df.rename(columns={\"Niederlassung_y\": \"Niederlassung\"})\n",
    "merged_df = merged_df.drop(\"Niederlassung_x\", axis = 1)\n",
    "merged_df"
   ]
  },
  {
   "cell_type": "markdown",
   "id": "a359f58f",
   "metadata": {},
   "source": [
    "# 13 Namen der Niederlassungen anzeigen"
   ]
  },
  {
   "cell_type": "code",
   "execution_count": 789,
   "id": "b320515b",
   "metadata": {},
   "outputs": [
    {
     "data": {
      "text/plain": [
       "array(['Bayern', 'Berlin', 'Baden-Württemberg', 'Hessen', 'Thüringen',\n",
       "       'Sachsen', 'Nordrhein-Westfalen', 'BERLIN', 'Niedersachsen',\n",
       "       'Hamburg', 'Brandenburg', 'Berlin-Mitte', 'Düsseldorf', 'NRW',\n",
       "       'Berlin-Charlottenburg'], dtype=object)"
      ]
     },
     "execution_count": 789,
     "metadata": {},
     "output_type": "execute_result"
    }
   ],
   "source": [
    "merged_df[\"Niederlassung\"].unique()"
   ]
  },
  {
   "cell_type": "markdown",
   "id": "7b5ba341",
   "metadata": {},
   "source": [
    "# 14 Namen der Bundesländer fixen"
   ]
  },
  {
   "cell_type": "code",
   "execution_count": 790,
   "id": "eef6ead9",
   "metadata": {},
   "outputs": [
    {
     "data": {
      "text/html": [
       "<div>\n",
       "<style scoped>\n",
       "    .dataframe tbody tr th:only-of-type {\n",
       "        vertical-align: middle;\n",
       "    }\n",
       "\n",
       "    .dataframe tbody tr th {\n",
       "        vertical-align: top;\n",
       "    }\n",
       "\n",
       "    .dataframe thead th {\n",
       "        text-align: right;\n",
       "    }\n",
       "</style>\n",
       "<table border=\"1\" class=\"dataframe\">\n",
       "  <thead>\n",
       "    <tr style=\"text-align: right;\">\n",
       "      <th></th>\n",
       "      <th>Alter</th>\n",
       "      <th>Einkommen</th>\n",
       "      <th>Preis</th>\n",
       "      <th>Geschlecht</th>\n",
       "      <th>Zeit</th>\n",
       "      <th>KundeNR</th>\n",
       "      <th>Niederlassung</th>\n",
       "    </tr>\n",
       "  </thead>\n",
       "  <tbody>\n",
       "    <tr>\n",
       "      <th>0</th>\n",
       "      <td>64</td>\n",
       "      <td>66894.00</td>\n",
       "      <td>88160.31</td>\n",
       "      <td>1</td>\n",
       "      <td>43.0</td>\n",
       "      <td>K0310</td>\n",
       "      <td>Bayern</td>\n",
       "    </tr>\n",
       "    <tr>\n",
       "      <th>1</th>\n",
       "      <td>54</td>\n",
       "      <td>77644.00</td>\n",
       "      <td>103145.70</td>\n",
       "      <td>1</td>\n",
       "      <td>40.0</td>\n",
       "      <td>K1042</td>\n",
       "      <td>Berlin</td>\n",
       "    </tr>\n",
       "    <tr>\n",
       "      <th>2</th>\n",
       "      <td>55</td>\n",
       "      <td>44341.00</td>\n",
       "      <td>80565.16</td>\n",
       "      <td>0</td>\n",
       "      <td>37.0</td>\n",
       "      <td>K0382</td>\n",
       "      <td>Baden-Württemberg</td>\n",
       "    </tr>\n",
       "    <tr>\n",
       "      <th>3</th>\n",
       "      <td>49</td>\n",
       "      <td>67271.00</td>\n",
       "      <td>83949.89</td>\n",
       "      <td>0</td>\n",
       "      <td>42.0</td>\n",
       "      <td>K0498</td>\n",
       "      <td>Bayern</td>\n",
       "    </tr>\n",
       "    <tr>\n",
       "      <th>4</th>\n",
       "      <td>46</td>\n",
       "      <td>49832.00</td>\n",
       "      <td>93781.58</td>\n",
       "      <td>0</td>\n",
       "      <td>41.0</td>\n",
       "      <td>K0552</td>\n",
       "      <td>Hessen</td>\n",
       "    </tr>\n",
       "    <tr>\n",
       "      <th>...</th>\n",
       "      <td>...</td>\n",
       "      <td>...</td>\n",
       "      <td>...</td>\n",
       "      <td>...</td>\n",
       "      <td>...</td>\n",
       "      <td>...</td>\n",
       "      <td>...</td>\n",
       "    </tr>\n",
       "    <tr>\n",
       "      <th>1990</th>\n",
       "      <td>32</td>\n",
       "      <td>34391.82</td>\n",
       "      <td>NaN</td>\n",
       "      <td>1</td>\n",
       "      <td>48.0</td>\n",
       "      <td>K1211</td>\n",
       "      <td>Hessen</td>\n",
       "    </tr>\n",
       "    <tr>\n",
       "      <th>1991</th>\n",
       "      <td>41</td>\n",
       "      <td>68516.50</td>\n",
       "      <td>NaN</td>\n",
       "      <td>0</td>\n",
       "      <td>34.0</td>\n",
       "      <td>K1375</td>\n",
       "      <td>Sachsen</td>\n",
       "    </tr>\n",
       "    <tr>\n",
       "      <th>1992</th>\n",
       "      <td>65</td>\n",
       "      <td>89685.33</td>\n",
       "      <td>NaN</td>\n",
       "      <td>0</td>\n",
       "      <td>23.0</td>\n",
       "      <td>K1965</td>\n",
       "      <td>Bayern</td>\n",
       "    </tr>\n",
       "    <tr>\n",
       "      <th>1993</th>\n",
       "      <td>68</td>\n",
       "      <td>95714.31</td>\n",
       "      <td>NaN</td>\n",
       "      <td>0</td>\n",
       "      <td>32.0</td>\n",
       "      <td>K1540</td>\n",
       "      <td>Bayern</td>\n",
       "    </tr>\n",
       "    <tr>\n",
       "      <th>1994</th>\n",
       "      <td>49</td>\n",
       "      <td>73319.19</td>\n",
       "      <td>NaN</td>\n",
       "      <td>0</td>\n",
       "      <td>27.0</td>\n",
       "      <td>K1207</td>\n",
       "      <td>Niedersachsen</td>\n",
       "    </tr>\n",
       "  </tbody>\n",
       "</table>\n",
       "<p>1995 rows × 7 columns</p>\n",
       "</div>"
      ],
      "text/plain": [
       "      Alter  Einkommen      Preis  Geschlecht  Zeit KundeNR      Niederlassung\n",
       "0        64   66894.00   88160.31           1  43.0   K0310             Bayern\n",
       "1        54   77644.00  103145.70           1  40.0   K1042             Berlin\n",
       "2        55   44341.00   80565.16           0  37.0   K0382  Baden-Württemberg\n",
       "3        49   67271.00   83949.89           0  42.0   K0498             Bayern\n",
       "4        46   49832.00   93781.58           0  41.0   K0552             Hessen\n",
       "...     ...        ...        ...         ...   ...     ...                ...\n",
       "1990     32   34391.82        NaN           1  48.0   K1211             Hessen\n",
       "1991     41   68516.50        NaN           0  34.0   K1375            Sachsen\n",
       "1992     65   89685.33        NaN           0  23.0   K1965             Bayern\n",
       "1993     68   95714.31        NaN           0  32.0   K1540             Bayern\n",
       "1994     49   73319.19        NaN           0  27.0   K1207      Niedersachsen\n",
       "\n",
       "[1995 rows x 7 columns]"
      ]
     },
     "execution_count": 790,
     "metadata": {},
     "output_type": "execute_result"
    }
   ],
   "source": [
    "merged_df[\"Niederlassung\"] = merged_df[\"Niederlassung\"].replace(\"BERLIN\", \"Berlin\")\n",
    "merged_df[\"Niederlassung\"] = merged_df[\"Niederlassung\"].replace(\"Berlin-Mitte\", \"Berlin\")\n",
    "merged_df[\"Niederlassung\"] = merged_df[\"Niederlassung\"].replace(\"Berlin-Charlottenburg\", \"Berlin\")\n",
    "merged_df[\"Niederlassung\"] = merged_df[\"Niederlassung\"].replace(\"Düsseldorf\", \"Nordrhein-Westfalen\")\n",
    "merged_df[\"Niederlassung\"] = merged_df[\"Niederlassung\"].replace(\"NRW\", \"Nordrhein-Westfalen\")\n",
    "merged_df"
   ]
  },
  {
   "cell_type": "code",
   "execution_count": 791,
   "id": "4a016606",
   "metadata": {},
   "outputs": [
    {
     "data": {
      "text/plain": [
       "array(['Bayern', 'Berlin', 'Baden-Württemberg', 'Hessen', 'Thüringen',\n",
       "       'Sachsen', 'Nordrhein-Westfalen', 'Niedersachsen', 'Hamburg',\n",
       "       'Brandenburg'], dtype=object)"
      ]
     },
     "execution_count": 791,
     "metadata": {},
     "output_type": "execute_result"
    }
   ],
   "source": [
    "merged_df[\"Niederlassung\"].unique()"
   ]
  },
  {
   "cell_type": "markdown",
   "id": "6545b25d",
   "metadata": {},
   "source": [
    "# 16. 1 Neue Spalte namens \"Typ\" erstellen (Kunden oder Besucher)"
   ]
  },
  {
   "cell_type": "code",
   "execution_count": 792,
   "id": "1635035a",
   "metadata": {},
   "outputs": [],
   "source": [
    "merged_df[\"Typ\"] = merged_df[\"Preis\"].apply(lambda x: 'Kunde' if pd.notna(x) else 'Besucher')"
   ]
  },
  {
   "cell_type": "markdown",
   "id": "833d9cef",
   "metadata": {},
   "source": [
    "# 16.2 Spalte umpositionieren"
   ]
  },
  {
   "cell_type": "code",
   "execution_count": 793,
   "id": "daaf7faf",
   "metadata": {},
   "outputs": [
    {
     "data": {
      "text/html": [
       "<div>\n",
       "<style scoped>\n",
       "    .dataframe tbody tr th:only-of-type {\n",
       "        vertical-align: middle;\n",
       "    }\n",
       "\n",
       "    .dataframe tbody tr th {\n",
       "        vertical-align: top;\n",
       "    }\n",
       "\n",
       "    .dataframe thead th {\n",
       "        text-align: right;\n",
       "    }\n",
       "</style>\n",
       "<table border=\"1\" class=\"dataframe\">\n",
       "  <thead>\n",
       "    <tr style=\"text-align: right;\">\n",
       "      <th></th>\n",
       "      <th>Typ</th>\n",
       "      <th>Alter</th>\n",
       "      <th>Einkommen</th>\n",
       "      <th>Preis</th>\n",
       "      <th>Geschlecht</th>\n",
       "      <th>Zeit</th>\n",
       "      <th>KundeNR</th>\n",
       "      <th>Niederlassung</th>\n",
       "    </tr>\n",
       "  </thead>\n",
       "  <tbody>\n",
       "    <tr>\n",
       "      <th>0</th>\n",
       "      <td>Kunde</td>\n",
       "      <td>64</td>\n",
       "      <td>66894.00</td>\n",
       "      <td>88160.31</td>\n",
       "      <td>1</td>\n",
       "      <td>43.0</td>\n",
       "      <td>K0310</td>\n",
       "      <td>Bayern</td>\n",
       "    </tr>\n",
       "    <tr>\n",
       "      <th>1</th>\n",
       "      <td>Kunde</td>\n",
       "      <td>54</td>\n",
       "      <td>77644.00</td>\n",
       "      <td>103145.70</td>\n",
       "      <td>1</td>\n",
       "      <td>40.0</td>\n",
       "      <td>K1042</td>\n",
       "      <td>Berlin</td>\n",
       "    </tr>\n",
       "    <tr>\n",
       "      <th>2</th>\n",
       "      <td>Kunde</td>\n",
       "      <td>55</td>\n",
       "      <td>44341.00</td>\n",
       "      <td>80565.16</td>\n",
       "      <td>0</td>\n",
       "      <td>37.0</td>\n",
       "      <td>K0382</td>\n",
       "      <td>Baden-Württemberg</td>\n",
       "    </tr>\n",
       "    <tr>\n",
       "      <th>3</th>\n",
       "      <td>Kunde</td>\n",
       "      <td>49</td>\n",
       "      <td>67271.00</td>\n",
       "      <td>83949.89</td>\n",
       "      <td>0</td>\n",
       "      <td>42.0</td>\n",
       "      <td>K0498</td>\n",
       "      <td>Bayern</td>\n",
       "    </tr>\n",
       "    <tr>\n",
       "      <th>4</th>\n",
       "      <td>Kunde</td>\n",
       "      <td>46</td>\n",
       "      <td>49832.00</td>\n",
       "      <td>93781.58</td>\n",
       "      <td>0</td>\n",
       "      <td>41.0</td>\n",
       "      <td>K0552</td>\n",
       "      <td>Hessen</td>\n",
       "    </tr>\n",
       "    <tr>\n",
       "      <th>...</th>\n",
       "      <td>...</td>\n",
       "      <td>...</td>\n",
       "      <td>...</td>\n",
       "      <td>...</td>\n",
       "      <td>...</td>\n",
       "      <td>...</td>\n",
       "      <td>...</td>\n",
       "      <td>...</td>\n",
       "    </tr>\n",
       "    <tr>\n",
       "      <th>1990</th>\n",
       "      <td>Besucher</td>\n",
       "      <td>32</td>\n",
       "      <td>34391.82</td>\n",
       "      <td>NaN</td>\n",
       "      <td>1</td>\n",
       "      <td>48.0</td>\n",
       "      <td>K1211</td>\n",
       "      <td>Hessen</td>\n",
       "    </tr>\n",
       "    <tr>\n",
       "      <th>1991</th>\n",
       "      <td>Besucher</td>\n",
       "      <td>41</td>\n",
       "      <td>68516.50</td>\n",
       "      <td>NaN</td>\n",
       "      <td>0</td>\n",
       "      <td>34.0</td>\n",
       "      <td>K1375</td>\n",
       "      <td>Sachsen</td>\n",
       "    </tr>\n",
       "    <tr>\n",
       "      <th>1992</th>\n",
       "      <td>Besucher</td>\n",
       "      <td>65</td>\n",
       "      <td>89685.33</td>\n",
       "      <td>NaN</td>\n",
       "      <td>0</td>\n",
       "      <td>23.0</td>\n",
       "      <td>K1965</td>\n",
       "      <td>Bayern</td>\n",
       "    </tr>\n",
       "    <tr>\n",
       "      <th>1993</th>\n",
       "      <td>Besucher</td>\n",
       "      <td>68</td>\n",
       "      <td>95714.31</td>\n",
       "      <td>NaN</td>\n",
       "      <td>0</td>\n",
       "      <td>32.0</td>\n",
       "      <td>K1540</td>\n",
       "      <td>Bayern</td>\n",
       "    </tr>\n",
       "    <tr>\n",
       "      <th>1994</th>\n",
       "      <td>Besucher</td>\n",
       "      <td>49</td>\n",
       "      <td>73319.19</td>\n",
       "      <td>NaN</td>\n",
       "      <td>0</td>\n",
       "      <td>27.0</td>\n",
       "      <td>K1207</td>\n",
       "      <td>Niedersachsen</td>\n",
       "    </tr>\n",
       "  </tbody>\n",
       "</table>\n",
       "<p>1995 rows × 8 columns</p>\n",
       "</div>"
      ],
      "text/plain": [
       "           Typ  Alter  Einkommen      Preis  Geschlecht  Zeit KundeNR  \\\n",
       "0        Kunde     64   66894.00   88160.31           1  43.0   K0310   \n",
       "1        Kunde     54   77644.00  103145.70           1  40.0   K1042   \n",
       "2        Kunde     55   44341.00   80565.16           0  37.0   K0382   \n",
       "3        Kunde     49   67271.00   83949.89           0  42.0   K0498   \n",
       "4        Kunde     46   49832.00   93781.58           0  41.0   K0552   \n",
       "...        ...    ...        ...        ...         ...   ...     ...   \n",
       "1990  Besucher     32   34391.82        NaN           1  48.0   K1211   \n",
       "1991  Besucher     41   68516.50        NaN           0  34.0   K1375   \n",
       "1992  Besucher     65   89685.33        NaN           0  23.0   K1965   \n",
       "1993  Besucher     68   95714.31        NaN           0  32.0   K1540   \n",
       "1994  Besucher     49   73319.19        NaN           0  27.0   K1207   \n",
       "\n",
       "          Niederlassung  \n",
       "0                Bayern  \n",
       "1                Berlin  \n",
       "2     Baden-Württemberg  \n",
       "3                Bayern  \n",
       "4                Hessen  \n",
       "...                 ...  \n",
       "1990             Hessen  \n",
       "1991            Sachsen  \n",
       "1992             Bayern  \n",
       "1993             Bayern  \n",
       "1994      Niedersachsen  \n",
       "\n",
       "[1995 rows x 8 columns]"
      ]
     },
     "execution_count": 793,
     "metadata": {},
     "output_type": "execute_result"
    }
   ],
   "source": [
    "merged_df.insert(0, \"Typ\", merged_df.pop(\"Typ\"))\n",
    "merged_df"
   ]
  },
  {
   "cell_type": "code",
   "execution_count": 794,
   "id": "cbecfca5",
   "metadata": {},
   "outputs": [
    {
     "data": {
      "text/plain": [
       "1104"
      ]
     },
     "execution_count": 794,
     "metadata": {},
     "output_type": "execute_result"
    }
   ],
   "source": [
    "merged_df[\"Typ\"].value_counts().get(\"Kunde\")"
   ]
  },
  {
   "cell_type": "code",
   "execution_count": 795,
   "id": "3526f704",
   "metadata": {},
   "outputs": [
    {
     "data": {
      "text/plain": [
       "891"
      ]
     },
     "execution_count": 795,
     "metadata": {},
     "output_type": "execute_result"
    }
   ],
   "source": [
    "merged_df[\"Typ\"].value_counts().get(\"Besucher\")"
   ]
  },
  {
   "cell_type": "markdown",
   "id": "20cc1c4b",
   "metadata": {},
   "source": [
    "# 17 CSV Speichern"
   ]
  },
  {
   "cell_type": "code",
   "execution_count": 796,
   "id": "ee62cb6e",
   "metadata": {},
   "outputs": [],
   "source": [
    "merged_df.to_csv(\"data/df_final.csv\", index = False)"
   ]
  },
  {
   "cell_type": "code",
   "execution_count": 797,
   "id": "0e0b1e0f",
   "metadata": {},
   "outputs": [],
   "source": [
    "df_1.to_csv(\"data/df_1.csv\", index = False)"
   ]
  },
  {
   "cell_type": "code",
   "execution_count": 798,
   "id": "2f4d31ea",
   "metadata": {},
   "outputs": [],
   "source": [
    "df_2.to_csv(\"data/df_2.csv\", index = False)"
   ]
  },
  {
   "cell_type": "code",
   "execution_count": 799,
   "id": "bf5589df",
   "metadata": {},
   "outputs": [],
   "source": [
    "df_3.to_csv(\"data/df_3.csv\", index = False)"
   ]
  },
  {
   "cell_type": "markdown",
   "id": "1dedb656",
   "metadata": {},
   "source": [
    "# 18 Kundennummer als Index"
   ]
  },
  {
   "cell_type": "code",
   "execution_count": 800,
   "id": "d303bc0d",
   "metadata": {},
   "outputs": [
    {
     "data": {
      "text/html": [
       "<div>\n",
       "<style scoped>\n",
       "    .dataframe tbody tr th:only-of-type {\n",
       "        vertical-align: middle;\n",
       "    }\n",
       "\n",
       "    .dataframe tbody tr th {\n",
       "        vertical-align: top;\n",
       "    }\n",
       "\n",
       "    .dataframe thead th {\n",
       "        text-align: right;\n",
       "    }\n",
       "</style>\n",
       "<table border=\"1\" class=\"dataframe\">\n",
       "  <thead>\n",
       "    <tr style=\"text-align: right;\">\n",
       "      <th></th>\n",
       "      <th>Typ</th>\n",
       "      <th>Alter</th>\n",
       "      <th>Einkommen</th>\n",
       "      <th>Preis</th>\n",
       "      <th>Geschlecht</th>\n",
       "      <th>Zeit</th>\n",
       "      <th>Niederlassung</th>\n",
       "    </tr>\n",
       "    <tr>\n",
       "      <th>KundeNR</th>\n",
       "      <th></th>\n",
       "      <th></th>\n",
       "      <th></th>\n",
       "      <th></th>\n",
       "      <th></th>\n",
       "      <th></th>\n",
       "      <th></th>\n",
       "    </tr>\n",
       "  </thead>\n",
       "  <tbody>\n",
       "    <tr>\n",
       "      <th>K0310</th>\n",
       "      <td>Kunde</td>\n",
       "      <td>64</td>\n",
       "      <td>66894.00</td>\n",
       "      <td>88160.31</td>\n",
       "      <td>1</td>\n",
       "      <td>43.0</td>\n",
       "      <td>Bayern</td>\n",
       "    </tr>\n",
       "    <tr>\n",
       "      <th>K1042</th>\n",
       "      <td>Kunde</td>\n",
       "      <td>54</td>\n",
       "      <td>77644.00</td>\n",
       "      <td>103145.70</td>\n",
       "      <td>1</td>\n",
       "      <td>40.0</td>\n",
       "      <td>Berlin</td>\n",
       "    </tr>\n",
       "    <tr>\n",
       "      <th>K0382</th>\n",
       "      <td>Kunde</td>\n",
       "      <td>55</td>\n",
       "      <td>44341.00</td>\n",
       "      <td>80565.16</td>\n",
       "      <td>0</td>\n",
       "      <td>37.0</td>\n",
       "      <td>Baden-Württemberg</td>\n",
       "    </tr>\n",
       "    <tr>\n",
       "      <th>K0498</th>\n",
       "      <td>Kunde</td>\n",
       "      <td>49</td>\n",
       "      <td>67271.00</td>\n",
       "      <td>83949.89</td>\n",
       "      <td>0</td>\n",
       "      <td>42.0</td>\n",
       "      <td>Bayern</td>\n",
       "    </tr>\n",
       "    <tr>\n",
       "      <th>K0552</th>\n",
       "      <td>Kunde</td>\n",
       "      <td>46</td>\n",
       "      <td>49832.00</td>\n",
       "      <td>93781.58</td>\n",
       "      <td>0</td>\n",
       "      <td>41.0</td>\n",
       "      <td>Hessen</td>\n",
       "    </tr>\n",
       "    <tr>\n",
       "      <th>...</th>\n",
       "      <td>...</td>\n",
       "      <td>...</td>\n",
       "      <td>...</td>\n",
       "      <td>...</td>\n",
       "      <td>...</td>\n",
       "      <td>...</td>\n",
       "      <td>...</td>\n",
       "    </tr>\n",
       "    <tr>\n",
       "      <th>K1211</th>\n",
       "      <td>Besucher</td>\n",
       "      <td>32</td>\n",
       "      <td>34391.82</td>\n",
       "      <td>NaN</td>\n",
       "      <td>1</td>\n",
       "      <td>48.0</td>\n",
       "      <td>Hessen</td>\n",
       "    </tr>\n",
       "    <tr>\n",
       "      <th>K1375</th>\n",
       "      <td>Besucher</td>\n",
       "      <td>41</td>\n",
       "      <td>68516.50</td>\n",
       "      <td>NaN</td>\n",
       "      <td>0</td>\n",
       "      <td>34.0</td>\n",
       "      <td>Sachsen</td>\n",
       "    </tr>\n",
       "    <tr>\n",
       "      <th>K1965</th>\n",
       "      <td>Besucher</td>\n",
       "      <td>65</td>\n",
       "      <td>89685.33</td>\n",
       "      <td>NaN</td>\n",
       "      <td>0</td>\n",
       "      <td>23.0</td>\n",
       "      <td>Bayern</td>\n",
       "    </tr>\n",
       "    <tr>\n",
       "      <th>K1540</th>\n",
       "      <td>Besucher</td>\n",
       "      <td>68</td>\n",
       "      <td>95714.31</td>\n",
       "      <td>NaN</td>\n",
       "      <td>0</td>\n",
       "      <td>32.0</td>\n",
       "      <td>Bayern</td>\n",
       "    </tr>\n",
       "    <tr>\n",
       "      <th>K1207</th>\n",
       "      <td>Besucher</td>\n",
       "      <td>49</td>\n",
       "      <td>73319.19</td>\n",
       "      <td>NaN</td>\n",
       "      <td>0</td>\n",
       "      <td>27.0</td>\n",
       "      <td>Niedersachsen</td>\n",
       "    </tr>\n",
       "  </tbody>\n",
       "</table>\n",
       "<p>1995 rows × 7 columns</p>\n",
       "</div>"
      ],
      "text/plain": [
       "              Typ  Alter  Einkommen      Preis  Geschlecht  Zeit  \\\n",
       "KundeNR                                                            \n",
       "K0310       Kunde     64   66894.00   88160.31           1  43.0   \n",
       "K1042       Kunde     54   77644.00  103145.70           1  40.0   \n",
       "K0382       Kunde     55   44341.00   80565.16           0  37.0   \n",
       "K0498       Kunde     49   67271.00   83949.89           0  42.0   \n",
       "K0552       Kunde     46   49832.00   93781.58           0  41.0   \n",
       "...           ...    ...        ...        ...         ...   ...   \n",
       "K1211    Besucher     32   34391.82        NaN           1  48.0   \n",
       "K1375    Besucher     41   68516.50        NaN           0  34.0   \n",
       "K1965    Besucher     65   89685.33        NaN           0  23.0   \n",
       "K1540    Besucher     68   95714.31        NaN           0  32.0   \n",
       "K1207    Besucher     49   73319.19        NaN           0  27.0   \n",
       "\n",
       "             Niederlassung  \n",
       "KundeNR                     \n",
       "K0310               Bayern  \n",
       "K1042               Berlin  \n",
       "K0382    Baden-Württemberg  \n",
       "K0498               Bayern  \n",
       "K0552               Hessen  \n",
       "...                    ...  \n",
       "K1211               Hessen  \n",
       "K1375              Sachsen  \n",
       "K1965               Bayern  \n",
       "K1540               Bayern  \n",
       "K1207        Niedersachsen  \n",
       "\n",
       "[1995 rows x 7 columns]"
      ]
     },
     "execution_count": 800,
     "metadata": {},
     "output_type": "execute_result"
    }
   ],
   "source": [
    "merged_df.set_index(\"KundeNR\", inplace=True)\n",
    "merged_df\n"
   ]
  },
  {
   "cell_type": "markdown",
   "id": "7f7e393e",
   "metadata": {},
   "source": [
    "# Frage 1: Wie viele Autos wurden verkauft?"
   ]
  },
  {
   "cell_type": "code",
   "execution_count": 801,
   "id": "b7c05a24",
   "metadata": {},
   "outputs": [
    {
     "data": {
      "text/plain": [
       "1104"
      ]
     },
     "execution_count": 801,
     "metadata": {},
     "output_type": "execute_result"
    }
   ],
   "source": [
    "# Zöhle die Anzahl der Preise und gebe die Summe wieder\n",
    "Sales = merged_df[\"Preis\"].count()\n",
    "Sales"
   ]
  },
  {
   "cell_type": "code",
   "execution_count": 802,
   "id": "964a809e",
   "metadata": {},
   "outputs": [
    {
     "data": {
      "text/plain": [
       "1104"
      ]
     },
     "execution_count": 802,
     "metadata": {},
     "output_type": "execute_result"
    }
   ],
   "source": [
    "Sales_1 = df_1[\"Preis\"].count()\n",
    "Sales_1"
   ]
  },
  {
   "cell_type": "markdown",
   "id": "8ed95185",
   "metadata": {},
   "source": [
    "# Frage 2:  Was ist der Höchst-, Mindest- und Durchschnittspreis der verkauften Autos?"
   ]
  },
  {
   "cell_type": "code",
   "execution_count": 803,
   "id": "2f96f173",
   "metadata": {},
   "outputs": [],
   "source": [
    "Hoechstpreis = df_1[\"Preis\"].max()\n",
    "Mindestpreis = df_1[\"Preis\"].min()\n",
    "Durchschnittspreis = df_1[\"Preis\"].mean().round(2)"
   ]
  },
  {
   "cell_type": "code",
   "execution_count": 804,
   "id": "fc9bf9a4",
   "metadata": {},
   "outputs": [
    {
     "data": {
      "text/plain": [
       "165482.31"
      ]
     },
     "execution_count": 804,
     "metadata": {},
     "output_type": "execute_result"
    }
   ],
   "source": [
    "Hoechstpreis"
   ]
  },
  {
   "cell_type": "code",
   "execution_count": 805,
   "id": "b2692a92",
   "metadata": {},
   "outputs": [
    {
     "data": {
      "text/plain": [
       "21471.65"
      ]
     },
     "execution_count": 805,
     "metadata": {},
     "output_type": "execute_result"
    }
   ],
   "source": [
    "Mindestpreis"
   ]
  },
  {
   "cell_type": "code",
   "execution_count": 806,
   "id": "aa69d26e",
   "metadata": {},
   "outputs": [
    {
     "data": {
      "text/plain": [
       "88975.2"
      ]
     },
     "execution_count": 806,
     "metadata": {},
     "output_type": "execute_result"
    }
   ],
   "source": [
    "Durchschnittspreis"
   ]
  },
  {
   "cell_type": "markdown",
   "id": "e2eeb7ea",
   "metadata": {},
   "source": [
    "# Frage 3:  Wie hoch war der Gesamtumsatz?\n"
   ]
  },
  {
   "cell_type": "code",
   "execution_count": 807,
   "id": "a13b0bb5",
   "metadata": {},
   "outputs": [
    {
     "data": {
      "text/plain": [
       "98228619.38000001"
      ]
     },
     "execution_count": 807,
     "metadata": {},
     "output_type": "execute_result"
    }
   ],
   "source": [
    "Gesamtumsatz = merged_df[\"Preis\"].sum()\n",
    "Gesamtumsatz"
   ]
  },
  {
   "cell_type": "code",
   "execution_count": 808,
   "id": "8ea7d9cf",
   "metadata": {},
   "outputs": [
    {
     "data": {
      "text/plain": [
       "98228619.38000001"
      ]
     },
     "execution_count": 808,
     "metadata": {},
     "output_type": "execute_result"
    }
   ],
   "source": [
    "Gesamtumsatz_1 = df_1[\"Preis\"].sum()\n",
    "Gesamtumsatz_1"
   ]
  },
  {
   "cell_type": "markdown",
   "id": "e59aed5f",
   "metadata": {},
   "source": [
    "# Frage 4: Wie viele Autos wurden pro Bundesland verkauft?"
   ]
  },
  {
   "cell_type": "code",
   "execution_count": 809,
   "id": "e898ccb6",
   "metadata": {},
   "outputs": [
    {
     "data": {
      "text/plain": [
       "Niederlassung\n",
       "Baden-Württemberg      205\n",
       "Bayern                 188\n",
       "Berlin                 126\n",
       "Brandenburg             37\n",
       "Hamburg                 43\n",
       "Hessen                  96\n",
       "Niedersachsen           96\n",
       "Nordrhein-Westfalen    175\n",
       "Sachsen                 89\n",
       "Thüringen               49\n",
       "Name: Preis, dtype: int64"
      ]
     },
     "execution_count": 809,
     "metadata": {},
     "output_type": "execute_result"
    }
   ],
   "source": [
    "# Methode groupby() verwendet, um das DataFrame nach der Spalte \"Niederlassung\" zu gruppieren\n",
    "Autos_pro_Bundesland = merged_df.groupby(\"Niederlassung\")[\"Preis\"].count()\n",
    "Autos_pro_Bundesland"
   ]
  },
  {
   "cell_type": "code",
   "execution_count": 810,
   "id": "a6f5440c",
   "metadata": {
    "scrolled": false
   },
   "outputs": [
    {
     "data": {
      "image/png": "[encoded data removed]",
      "text/plain": [
       "<Figure size 640x480 with 1 Axes>"
      ]
     },
     "metadata": {},
     "output_type": "display_data"
    }
   ],
   "source": [
    "daten = {\"Bundesland\": [\"Baden-Württemberg\", \"Bayern\", \"Berlin\", \"Brandenburg\", \"Hessen\", \"Hamburg\", \"Niedersachsen\", \"Nordrhein-Westfalen\", \"Sachsen\", \"Thüringen\"],\n",
    "        \"Verkaufte_Autos\": [205, 188, 126, 37, 96, 43, 96, 175, 89, 49]}\n",
    "df_torte_daten = pd.DataFrame(daten)\n",
    "farben_palette = ['lightcoral', 'lightgreen', 'lightskyblue', 'gold', 'orange', 'lightpink', 'lightblue', 'mediumseagreen', 'lightcyan', 'plum']\n",
    "\n",
    "# Tortendiagramm erstellen\n",
    "plt.pie(df_torte_daten[\"Verkaufte_Autos\"], labels= None, autopct=\"%1.1f%%\", startangle=90, colors=farben_palette, pctdistance = 0.85)\n",
    "\n",
    "# Hinzufügen von Beschriftungen und Titel\n",
    "plt.axis(\"equal\")\n",
    "plt.title(\"Verkaufte Autos pro Bundesland\", fontsize = 16, fontweight= \"bold\")\n",
    "plt.legend(df_torte_daten[\"Bundesland\"], title=\"Bundesland\", bbox_to_anchor=(1, 0.5), loc=\"center left\")\n",
    "plt.show()"
   ]
  },
  {
   "cell_type": "markdown",
   "id": "46f6184c",
   "metadata": {},
   "source": [
    "# Frage 5:  Wie hoch war der durchschnittliche Umsatz pro Bundesland?"
   ]
  },
  {
   "cell_type": "markdown",
   "id": "6123b4aa",
   "metadata": {},
   "source": [
    "# Frage 6: Haben mehr Frauen oder mehr Männer unsere Autos gekauft?"
   ]
  },
  {
   "cell_type": "code",
   "execution_count": 811,
   "id": "90b2f0e7",
   "metadata": {},
   "outputs": [
    {
     "name": "stdout",
     "output_type": "stream",
     "text": [
      "Männer machen die Mehrheit der Kunden aus.\n"
     ]
    }
   ],
   "source": [
    "Kunden_Verteilung = merged_df[merged_df[\"Typ\"] == \"Kunde\"].groupby(\"Geschlecht\").size()\n",
    "\n",
    "if Kunden_Verteilung.get(1, 0) > Kunden_Verteilung.get(0, 0):\n",
    "    print(\"Männer machen die Mehrheit der Kunden aus.\")\n",
    "elif Kunden_Verteilung.get(1, 0) > Kunden_Verteilung.get(0, 0):\n",
    "     print(\"Frauen machen die Mehrheit der Kunden aus.\")   \n",
    "else:\n",
    "    print(\"50 % Männer und 50 % Frauen.\")\n"
   ]
  },
  {
   "cell_type": "code",
   "execution_count": 812,
   "id": "8db1a973",
   "metadata": {},
   "outputs": [
    {
     "data": {
      "image/png": "[encoded data removed]",
      "text/plain": [
       "<Figure size 640x480 with 1 Axes>"
      ]
     },
     "metadata": {},
     "output_type": "display_data"
    }
   ],
   "source": [
    "verteilung_nach_geschlecht = merged_df[merged_df[\"Typ\"] == \"Kunde\"][\"Geschlecht\"].value_counts(normalize=True) * 100\n",
    "anzahl_nach_geschlecht = merged_df[merged_df[\"Typ\"] == \"Kunde\"][\"Geschlecht\"].value_counts()\n",
    "\n",
    "# Balkendiagramm erstellen\n",
    "colors = [\"blue\", \"pink\"]\n",
    "plt.bar([\"Männlich\"], [verteilung_nach_geschlecht[1]], color=\"blue\", label=f\"Männlich ({anzahl_nach_geschlecht[1]})\\n{verteilung_nach_geschlecht[1]:.2f}%\")\n",
    "plt.bar([\"Weiblich\"], [verteilung_nach_geschlecht[0]], color=\"pink\", label=f\"Weiblich ({anzahl_nach_geschlecht[0]})\\n{verteilung_nach_geschlecht[0]:.2f}%\")\n",
    "\n",
    "\n",
    "\n",
    "plt.title(\"Verteilung der Kunden nach Geschlecht\", fontsize = 16, fontweight= \"bold\")\n",
    "plt.ylabel(\"Anteil (%)\")\n",
    "plt.legend()\n",
    "plt.show()\n"
   ]
  },
  {
   "cell_type": "code",
   "execution_count": 813,
   "id": "56c6c8b1",
   "metadata": {},
   "outputs": [],
   "source": [
    "Kunden_Verteilung_1 = df_1[\"Geschlecht\"].value_counts()"
   ]
  },
  {
   "cell_type": "markdown",
   "id": "92af46a7",
   "metadata": {},
   "source": [
    "# Frage 7: Wie hoch ist das Durchschnittsalter unserer Kunden?"
   ]
  },
  {
   "cell_type": "code",
   "execution_count": 814,
   "id": "fa73d43c",
   "metadata": {},
   "outputs": [
    {
     "data": {
      "text/plain": [
       "50.4"
      ]
     },
     "execution_count": 814,
     "metadata": {},
     "output_type": "execute_result"
    }
   ],
   "source": [
    "Durchschnittsalter_Kunden = merged_df.loc[merged_df[\"Typ\"] == \"Kunde\", \"Alter\"].mean().round(1)\n",
    "Durchschnittsalter_Kunden"
   ]
  },
  {
   "cell_type": "code",
   "execution_count": 815,
   "id": "9341aba7",
   "metadata": {},
   "outputs": [
    {
     "data": {
      "text/plain": [
       "50.4"
      ]
     },
     "execution_count": 815,
     "metadata": {},
     "output_type": "execute_result"
    }
   ],
   "source": [
    "Durchschnittsalter_Kunden_1 = df_1[\"Alter\"].mean().round(1)\n",
    "Durchschnittsalter_Kunden_1"
   ]
  },
  {
   "cell_type": "markdown",
   "id": "af60dcd4",
   "metadata": {},
   "source": [
    "# Frage 8:  Wie hoch ist das Durchschnittsalter der Besucher in unseren Showrooms?"
   ]
  },
  {
   "cell_type": "code",
   "execution_count": 816,
   "id": "b1dc025b",
   "metadata": {},
   "outputs": [
    {
     "data": {
      "text/plain": [
       "49.9"
      ]
     },
     "execution_count": 816,
     "metadata": {},
     "output_type": "execute_result"
    }
   ],
   "source": [
    "Durchschnittsalter_Kunden = merged_df.loc[merged_df[\"Typ\"] == \"Besucher\", \"Alter\"].mean().round(1)\n",
    "Durchschnittsalter_Kunden"
   ]
  },
  {
   "cell_type": "code",
   "execution_count": 817,
   "id": "4ea89fd1",
   "metadata": {},
   "outputs": [
    {
     "data": {
      "text/plain": [
       "49.9"
      ]
     },
     "execution_count": 817,
     "metadata": {},
     "output_type": "execute_result"
    }
   ],
   "source": [
    "Durchschnittsalter_Besucher_1 = df_2[\"Alter\"].mean().round(1)\n",
    "Durchschnittsalter_Besucher_1 "
   ]
  },
  {
   "cell_type": "markdown",
   "id": "453df317",
   "metadata": {},
   "source": [
    "# Frage 9: Durchschnittsalter männliche Kunden"
   ]
  },
  {
   "cell_type": "code",
   "execution_count": 818,
   "id": "19108a95",
   "metadata": {},
   "outputs": [
    {
     "data": {
      "text/plain": [
       "50.47"
      ]
     },
     "execution_count": 818,
     "metadata": {},
     "output_type": "execute_result"
    }
   ],
   "source": [
    "Bedingung = (merged_df[\"Typ\"] == \"Kunde\") & (merged_df[\"Geschlecht\"] == 1)\n",
    "Durchschnittsalter_maennlich = merged_df.loc[Bedingung, \"Alter\"].mean().round(2)\n",
    "Durchschnittsalter_maennlich"
   ]
  },
  {
   "cell_type": "markdown",
   "id": "904f3679",
   "metadata": {},
   "source": [
    "# Frage 10: Wie hoch ist das Durchschnittseinkommen unserer Kunden?"
   ]
  },
  {
   "cell_type": "code",
   "execution_count": 819,
   "id": "fd467c91",
   "metadata": {},
   "outputs": [
    {
     "data": {
      "text/plain": [
       "58895.0"
      ]
     },
     "execution_count": 819,
     "metadata": {},
     "output_type": "execute_result"
    }
   ],
   "source": [
    "Durchschnittseinkommen_Kunden = merged_df.loc[merged_df[\"Typ\"] == \"Kunde\", \"Einkommen\"].mean().round(2)\n",
    "Durchschnittseinkommen_Kunden"
   ]
  },
  {
   "cell_type": "code",
   "execution_count": 820,
   "id": "036636a5",
   "metadata": {},
   "outputs": [
    {
     "data": {
      "text/plain": [
       "58895.0"
      ]
     },
     "execution_count": 820,
     "metadata": {},
     "output_type": "execute_result"
    }
   ],
   "source": [
    "Durchschnittseinkommen_Kunden = df_1[\"Einkommen\"].mean().round(2)\n",
    "Durchschnittseinkommen_Kunden"
   ]
  },
  {
   "cell_type": "markdown",
   "id": "a77ce6e3",
   "metadata": {},
   "source": [
    "# Frage 11: Wie hoch ist die Korrelation (Pearson-Korrelation) zwischen den Variablen Alter, Einkommen, Preis und Zeit? (nur für die Kunden)"
   ]
  },
  {
   "cell_type": "markdown",
   "id": "60592bda",
   "metadata": {},
   "source": [
    "# Frage 12:  Wie ist die Variable Zeit verteilt? (Kunden und Besucher zusammen)\n"
   ]
  },
  {
   "cell_type": "code",
   "execution_count": 821,
   "id": "6048cf3c",
   "metadata": {},
   "outputs": [
    {
     "name": "stdout",
     "output_type": "stream",
     "text": [
      "Statistische Informationen zur Variable 'Zeit':\n",
      "count    1995.000000\n",
      "mean       40.262657\n",
      "std        11.621591\n",
      "min         3.000000\n",
      "25%        32.000000\n",
      "50%        40.000000\n",
      "75%        48.000000\n",
      "max        80.000000\n",
      "Name: Zeit, dtype: float64\n"
     ]
    }
   ],
   "source": [
    "print(\"Statistische Informationen zur Variable 'Zeit':\")\n",
    "print(merged_df[\"Zeit\"].describe())"
   ]
  },
  {
   "cell_type": "code",
   "execution_count": 822,
   "id": "27c7a583",
   "metadata": {},
   "outputs": [
    {
     "data": {
      "image/png": "[encoded data removed]",
      "text/plain": [
       "<Figure size 640x480 with 1 Axes>"
      ]
     },
     "metadata": {},
     "output_type": "display_data"
    }
   ],
   "source": [
    "x1 = plt.hist(merged_df[\"Zeit\"], bins=10, edgecolor=\"black\")\n",
    "plt.title(\"Verteilung der variablen Zeit\", fontsize = 16, fontweight= \"bold\")\n",
    "plt.ylabel(\"Anteil (%)\")\n",
    "plt.xlabel(\"Zeit (Minuten)\")\n",
    "plt.ylabel(\"Häufigkeit\")\n",
    "plt.show()\n"
   ]
  },
  {
   "cell_type": "code",
   "execution_count": 823,
   "id": "c72a0cc4",
   "metadata": {},
   "outputs": [],
   "source": [
    "#warnings.filterwarnings(\"ignore\")\n",
    "\n",
    "#for i in merged_df.select_dtypes(include = \"number\").columns:\n",
    "    #plt.figure(figsize=(15,6))\n",
    "    #sns.kdeplot(data=merged_df, x = i)\n",
    "    #plt.show()"
   ]
  },
  {
   "cell_type": "code",
   "execution_count": 824,
   "id": "33d95cda",
   "metadata": {},
   "outputs": [
    {
     "data": {
      "image/png": "[encoded data removed]",
      "text/plain": [
       "<Figure size 1500x600 with 1 Axes>"
      ]
     },
     "metadata": {},
     "output_type": "display_data"
    }
   ],
   "source": [
    "column_to_plot = \"Zeit\"\n",
    "\n",
    "plt.figure(figsize=(15, 6))\n",
    "sns.kdeplot(data=merged_df, x=column_to_plot)\n",
    "plt.show()"
   ]
  },
  {
   "cell_type": "code",
   "execution_count": 825,
   "id": "80acb9e2",
   "metadata": {
    "scrolled": false
   },
   "outputs": [
    {
     "data": {
      "image/png": "[encoded data removed]",
      "text/plain": [
       "<Figure size 1500x600 with 1 Axes>"
      ]
     },
     "metadata": {},
     "output_type": "display_data"
    },
    {
     "data": {
      "image/png": "[encoded data removed]",
      "text/plain": [
       "<Figure size 1500x600 with 1 Axes>"
      ]
     },
     "metadata": {},
     "output_type": "display_data"
    },
    {
     "data": {
      "image/png": "[encoded data removed]",
      "text/plain": [
       "<Figure size 1500x600 with 1 Axes>"
      ]
     },
     "metadata": {},
     "output_type": "display_data"
    },
    {
     "data": {
      "image/png": "[encoded data removed]",
      "text/plain": [
       "<Figure size 1500x600 with 1 Axes>"
      ]
     },
     "metadata": {},
     "output_type": "display_data"
    },
    {
     "data": {
      "image/png": "[encoded data removed]",
      "text/plain": [
       "<Figure size 1500x600 with 1 Axes>"
      ]
     },
     "metadata": {},
     "output_type": "display_data"
    }
   ],
   "source": [
    "for i in merged_df.select_dtypes(include = \"number\").columns:\n",
    "    plt.figure(figsize=(15,6))\n",
    "    sns.boxplot(data=merged_df, x = i)\n",
    "    plt.show()"
   ]
  },
  {
   "cell_type": "markdown",
   "id": "ffd33e75",
   "metadata": {},
   "source": [
    "# Frage 13: Wie viele Kunden haben keinen Kredit bei der Bank genommen?"
   ]
  },
  {
   "cell_type": "code",
   "execution_count": 826,
   "id": "57f92911",
   "metadata": {},
   "outputs": [
    {
     "data": {
      "text/plain": [
       "5"
      ]
     },
     "execution_count": 826,
     "metadata": {},
     "output_type": "execute_result"
    }
   ],
   "source": [
    "Kunden_ohne_Kredit_1 = df_1[df_1[\"Einkommen\"] > df_1[\"Preis\"]].shape[0]\n",
    "Kunden_ohne_Kredit_1"
   ]
  },
  {
   "cell_type": "code",
   "execution_count": 827,
   "id": "850300cd",
   "metadata": {},
   "outputs": [
    {
     "data": {
      "text/plain": [
       "5"
      ]
     },
     "execution_count": 827,
     "metadata": {},
     "output_type": "execute_result"
    }
   ],
   "source": [
    "# Kunden Jahreseinkommen > Autopreis = kein Bankkredit \n",
    "Kunden_ohne_Kredit = merged_df.loc[merged_df[\"Einkommen\"] > merged_df[\"Preis\"]].shape[0]\n",
    "Kunden_ohne_Kredit"
   ]
  },
  {
   "cell_type": "code",
   "execution_count": 828,
   "id": "34bbc3fb",
   "metadata": {},
   "outputs": [
    {
     "data": {
      "text/html": [
       "<div>\n",
       "<style scoped>\n",
       "    .dataframe tbody tr th:only-of-type {\n",
       "        vertical-align: middle;\n",
       "    }\n",
       "\n",
       "    .dataframe tbody tr th {\n",
       "        vertical-align: top;\n",
       "    }\n",
       "\n",
       "    .dataframe thead th {\n",
       "        text-align: right;\n",
       "    }\n",
       "</style>\n",
       "<table border=\"1\" class=\"dataframe\">\n",
       "  <thead>\n",
       "    <tr style=\"text-align: right;\">\n",
       "      <th></th>\n",
       "      <th>Typ</th>\n",
       "      <th>Alter</th>\n",
       "      <th>Einkommen</th>\n",
       "      <th>Preis</th>\n",
       "      <th>Geschlecht</th>\n",
       "      <th>Zeit</th>\n",
       "      <th>Niederlassung</th>\n",
       "    </tr>\n",
       "    <tr>\n",
       "      <th>KundeNR</th>\n",
       "      <th></th>\n",
       "      <th></th>\n",
       "      <th></th>\n",
       "      <th></th>\n",
       "      <th></th>\n",
       "      <th></th>\n",
       "      <th></th>\n",
       "    </tr>\n",
       "  </thead>\n",
       "  <tbody>\n",
       "    <tr>\n",
       "      <th>K0175</th>\n",
       "      <td>Kunde</td>\n",
       "      <td>32</td>\n",
       "      <td>50330.0</td>\n",
       "      <td>49540.28</td>\n",
       "      <td>1</td>\n",
       "      <td>27.0</td>\n",
       "      <td>Bayern</td>\n",
       "    </tr>\n",
       "    <tr>\n",
       "      <th>K0859</th>\n",
       "      <td>Kunde</td>\n",
       "      <td>34</td>\n",
       "      <td>24264.0</td>\n",
       "      <td>22580.44</td>\n",
       "      <td>1</td>\n",
       "      <td>19.0</td>\n",
       "      <td>Berlin</td>\n",
       "    </tr>\n",
       "    <tr>\n",
       "      <th>K0364</th>\n",
       "      <td>Kunde</td>\n",
       "      <td>37</td>\n",
       "      <td>54403.0</td>\n",
       "      <td>53690.36</td>\n",
       "      <td>0</td>\n",
       "      <td>47.0</td>\n",
       "      <td>Brandenburg</td>\n",
       "    </tr>\n",
       "    <tr>\n",
       "      <th>K0447</th>\n",
       "      <td>Kunde</td>\n",
       "      <td>32</td>\n",
       "      <td>30856.0</td>\n",
       "      <td>27934.83</td>\n",
       "      <td>1</td>\n",
       "      <td>18.0</td>\n",
       "      <td>Nordrhein-Westfalen</td>\n",
       "    </tr>\n",
       "    <tr>\n",
       "      <th>K0143</th>\n",
       "      <td>Kunde</td>\n",
       "      <td>31</td>\n",
       "      <td>36296.0</td>\n",
       "      <td>35482.61</td>\n",
       "      <td>0</td>\n",
       "      <td>31.0</td>\n",
       "      <td>Nordrhein-Westfalen</td>\n",
       "    </tr>\n",
       "  </tbody>\n",
       "</table>\n",
       "</div>"
      ],
      "text/plain": [
       "           Typ  Alter  Einkommen     Preis  Geschlecht  Zeit  \\\n",
       "KundeNR                                                        \n",
       "K0175    Kunde     32    50330.0  49540.28           1  27.0   \n",
       "K0859    Kunde     34    24264.0  22580.44           1  19.0   \n",
       "K0364    Kunde     37    54403.0  53690.36           0  47.0   \n",
       "K0447    Kunde     32    30856.0  27934.83           1  18.0   \n",
       "K0143    Kunde     31    36296.0  35482.61           0  31.0   \n",
       "\n",
       "               Niederlassung  \n",
       "KundeNR                       \n",
       "K0175                 Bayern  \n",
       "K0859                 Berlin  \n",
       "K0364            Brandenburg  \n",
       "K0447    Nordrhein-Westfalen  \n",
       "K0143    Nordrhein-Westfalen  "
      ]
     },
     "execution_count": 828,
     "metadata": {},
     "output_type": "execute_result"
    }
   ],
   "source": [
    "# Anzeigen der Kunden, die keinen Kredit genommen haben\n",
    "merged_df.loc[merged_df[\"Einkommen\"] > merged_df[\"Preis\"]]"
   ]
  },
  {
   "cell_type": "markdown",
   "id": "3b525e07",
   "metadata": {},
   "source": [
    "# Frage 14: Welches sind die sozioökonomischen Merkmale der Kunden, die den Kaufpreis beeinflussen? \n"
   ]
  },
  {
   "cell_type": "markdown",
   "id": "63d56f97",
   "metadata": {},
   "source": [
    "# Frage 15: Prognostiziere den Kaufpreis für(m, 32, 30000) & (m, 51, 54000)"
   ]
  },
  {
   "cell_type": "code",
   "execution_count": 829,
   "id": "ed7fdef5",
   "metadata": {},
   "outputs": [
    {
     "data": {
      "text/html": [
       "<div>\n",
       "<style scoped>\n",
       "    .dataframe tbody tr th:only-of-type {\n",
       "        vertical-align: middle;\n",
       "    }\n",
       "\n",
       "    .dataframe tbody tr th {\n",
       "        vertical-align: top;\n",
       "    }\n",
       "\n",
       "    .dataframe thead th {\n",
       "        text-align: right;\n",
       "    }\n",
       "</style>\n",
       "<table border=\"1\" class=\"dataframe\">\n",
       "  <thead>\n",
       "    <tr style=\"text-align: right;\">\n",
       "      <th></th>\n",
       "      <th>Alter</th>\n",
       "      <th>Einkommen</th>\n",
       "      <th>Preis</th>\n",
       "      <th>Geschlecht</th>\n",
       "    </tr>\n",
       "  </thead>\n",
       "  <tbody>\n",
       "    <tr>\n",
       "      <th>0</th>\n",
       "      <td>64</td>\n",
       "      <td>66894.0</td>\n",
       "      <td>88160.31</td>\n",
       "      <td>1</td>\n",
       "    </tr>\n",
       "    <tr>\n",
       "      <th>1</th>\n",
       "      <td>54</td>\n",
       "      <td>77644.0</td>\n",
       "      <td>103145.70</td>\n",
       "      <td>1</td>\n",
       "    </tr>\n",
       "    <tr>\n",
       "      <th>2</th>\n",
       "      <td>55</td>\n",
       "      <td>44341.0</td>\n",
       "      <td>80565.16</td>\n",
       "      <td>0</td>\n",
       "    </tr>\n",
       "    <tr>\n",
       "      <th>3</th>\n",
       "      <td>49</td>\n",
       "      <td>67271.0</td>\n",
       "      <td>83949.89</td>\n",
       "      <td>0</td>\n",
       "    </tr>\n",
       "    <tr>\n",
       "      <th>4</th>\n",
       "      <td>46</td>\n",
       "      <td>49832.0</td>\n",
       "      <td>93781.58</td>\n",
       "      <td>0</td>\n",
       "    </tr>\n",
       "    <tr>\n",
       "      <th>...</th>\n",
       "      <td>...</td>\n",
       "      <td>...</td>\n",
       "      <td>...</td>\n",
       "      <td>...</td>\n",
       "    </tr>\n",
       "    <tr>\n",
       "      <th>1099</th>\n",
       "      <td>70</td>\n",
       "      <td>69581.0</td>\n",
       "      <td>103751.58</td>\n",
       "      <td>1</td>\n",
       "    </tr>\n",
       "    <tr>\n",
       "      <th>1100</th>\n",
       "      <td>38</td>\n",
       "      <td>48301.0</td>\n",
       "      <td>64230.98</td>\n",
       "      <td>1</td>\n",
       "    </tr>\n",
       "    <tr>\n",
       "      <th>1101</th>\n",
       "      <td>67</td>\n",
       "      <td>63547.0</td>\n",
       "      <td>103123.57</td>\n",
       "      <td>1</td>\n",
       "    </tr>\n",
       "    <tr>\n",
       "      <th>1102</th>\n",
       "      <td>37</td>\n",
       "      <td>32686.0</td>\n",
       "      <td>49215.87</td>\n",
       "      <td>1</td>\n",
       "    </tr>\n",
       "    <tr>\n",
       "      <th>1103</th>\n",
       "      <td>55</td>\n",
       "      <td>71240.0</td>\n",
       "      <td>106132.59</td>\n",
       "      <td>1</td>\n",
       "    </tr>\n",
       "  </tbody>\n",
       "</table>\n",
       "<p>1104 rows × 4 columns</p>\n",
       "</div>"
      ],
      "text/plain": [
       "      Alter  Einkommen      Preis  Geschlecht\n",
       "0        64    66894.0   88160.31           1\n",
       "1        54    77644.0  103145.70           1\n",
       "2        55    44341.0   80565.16           0\n",
       "3        49    67271.0   83949.89           0\n",
       "4        46    49832.0   93781.58           0\n",
       "...     ...        ...        ...         ...\n",
       "1099     70    69581.0  103751.58           1\n",
       "1100     38    48301.0   64230.98           1\n",
       "1101     67    63547.0  103123.57           1\n",
       "1102     37    32686.0   49215.87           1\n",
       "1103     55    71240.0  106132.59           1\n",
       "\n",
       "[1104 rows x 4 columns]"
      ]
     },
     "execution_count": 829,
     "metadata": {},
     "output_type": "execute_result"
    }
   ],
   "source": [
    "df_1 = df_1[[\"Alter\", \"Einkommen\", \"Preis\", \"Geschlecht\"]]\n",
    "df_1"
   ]
  },
  {
   "cell_type": "code",
   "execution_count": 830,
   "id": "555bc5e8",
   "metadata": {},
   "outputs": [],
   "source": [
    "# Abhängige und Unanhängige Variablen\n",
    "#X = df_1[[\"Alter\", \"Einkommen\", \"Geschlecht\"]]\n",
    "#y = df_1[\"Preis\"]"
   ]
  },
  {
   "cell_type": "code",
   "execution_count": 831,
   "id": "7742556e",
   "metadata": {},
   "outputs": [],
   "source": [
    "# Datensatz in Trainings- und Testdaten aufteilen\n",
    "#X_train, X_test, y_train, y_test = train_test_split(X, y, test_size=0.2, random_state=42)"
   ]
  },
  {
   "cell_type": "code",
   "execution_count": 832,
   "id": "c05baa1c",
   "metadata": {},
   "outputs": [],
   "source": [
    "# Daten standardisieren\n",
    "#scaler = StandardScaler()\n",
    "#X_train_scaled = scaler.fit_transform(X_train)\n",
    "#X_test_scaled = scaler.transform(X_test)"
   ]
  },
  {
   "cell_type": "code",
   "execution_count": 833,
   "id": "60e6acd6",
   "metadata": {},
   "outputs": [],
   "source": [
    "# Modell erstellen und trainieren\n",
    "#model = LinearRegression()\n",
    "#model.fit(X_train_scaled, y_train)"
   ]
  },
  {
   "cell_type": "code",
   "execution_count": 834,
   "id": "9b9cf3fc",
   "metadata": {},
   "outputs": [],
   "source": [
    "# Prognosen für die gegebenen Szenarien machen\n",
    "#scenario_1 = pd.DataFrame({'Alter': [32], 'Einkommen': [30000], 'Geschlecht': [1]})\n",
    "#scenario_2 = pd.DataFrame({'Alter': [51], 'Einkommen': [54000], 'Geschlecht': [1]})"
   ]
  },
  {
   "cell_type": "code",
   "execution_count": 835,
   "id": "09009324",
   "metadata": {},
   "outputs": [],
   "source": [
    "# Daten standardisieren\n",
    "#scenario_1_scaled = scaler.transform(scenario_1)\n",
    "#scenario_2_scaled = scaler.transform(scenario_2)"
   ]
  },
  {
   "cell_type": "code",
   "execution_count": 836,
   "id": "506cfb02",
   "metadata": {},
   "outputs": [],
   "source": [
    "# Kaufpreis für die Szenarien prognostizieren\n",
    "#prediction_1 = model.predict(scenario_1_scaled)\n",
    "#prediction_2 = model.predict(scenario_2_scaled)"
   ]
  },
  {
   "cell_type": "code",
   "execution_count": 837,
   "id": "1ae43f29",
   "metadata": {},
   "outputs": [],
   "source": [
    "#prediction_1"
   ]
  },
  {
   "cell_type": "code",
   "execution_count": 838,
   "id": "25df1f27",
   "metadata": {},
   "outputs": [],
   "source": [
    "#prediction_2"
   ]
  },
  {
   "cell_type": "markdown",
   "id": "5f16624e",
   "metadata": {},
   "source": [
    "# Frage 16: Welche Variable beeinflusst den Preis des Autos am meisten?"
   ]
  },
  {
   "cell_type": "code",
   "execution_count": 839,
   "id": "abc5067f",
   "metadata": {},
   "outputs": [
    {
     "data": {
      "text/plain": [
       "Index(['Alter', 'Einkommen', 'Geschlecht'], dtype='object')"
      ]
     },
     "execution_count": 839,
     "metadata": {},
     "output_type": "execute_result"
    }
   ],
   "source": [
    "einflussfaktoren = X.columns\n",
    "einflussfaktoren"
   ]
  },
  {
   "cell_type": "code",
   "execution_count": 840,
   "id": "badf46a6",
   "metadata": {},
   "outputs": [
    {
     "data": {
      "text/plain": [
       "array([ 6059.00134136, 17290.88560121,  1211.35496531])"
      ]
     },
     "execution_count": 840,
     "metadata": {},
     "output_type": "execute_result"
    }
   ],
   "source": [
    "beta = abs(coefficients)\n",
    "beta"
   ]
  },
  {
   "cell_type": "code",
   "execution_count": 841,
   "id": "ed61cd09",
   "metadata": {},
   "outputs": [],
   "source": [
    "index_groesster_einflussfaktor = abs(coefficients).argmax()"
   ]
  },
  {
   "cell_type": "code",
   "execution_count": 842,
   "id": "9a12eda6",
   "metadata": {},
   "outputs": [],
   "source": [
    "groesster_einflussfaktor = einflussfaktoren[index_groesster_einflussfaktor]"
   ]
  },
  {
   "cell_type": "code",
   "execution_count": 843,
   "id": "09f0e31d",
   "metadata": {},
   "outputs": [
    {
     "name": "stdout",
     "output_type": "stream",
     "text": [
      "Die Variable, die den Preis am meisten beeinflusst, ist: Einkommen\n"
     ]
    }
   ],
   "source": [
    "print(f\"Die Variable, die den Preis am meisten beeinflusst, ist: {most_influential_feature}\")"
   ]
  },
  {
   "cell_type": "code",
   "execution_count": 844,
   "id": "ec61f441",
   "metadata": {
    "scrolled": false
   },
   "outputs": [
    {
     "data": {
      "image/png": "[encoded data removed]",
      "text/plain": [
       "<Figure size 640x480 with 2 Axes>"
      ]
     },
     "metadata": {},
     "output_type": "display_data"
    }
   ],
   "source": [
    "sns.heatmap(df_1.corr(), annot = True, cmap = \"coolwarm\", mask=np.triu(df_1.corr(),+1),linewidth=1.5)\n",
    "plt.title(\"Korrelationsmatrix\")\n",
    "plt.show()"
   ]
  },
  {
   "cell_type": "code",
   "execution_count": 845,
   "id": "01dc12f1",
   "metadata": {
    "scrolled": true
   },
   "outputs": [
    {
     "data": {
      "image/png": "[encoded data removed]",
      "text/plain": [
       "<Figure size 1500x600 with 1 Axes>"
      ]
     },
     "metadata": {},
     "output_type": "display_data"
    },
    {
     "data": {
      "image/png": "[encoded data removed]",
      "text/plain": [
       "<Figure size 1500x600 with 1 Axes>"
      ]
     },
     "metadata": {},
     "output_type": "display_data"
    },
    {
     "data": {
      "image/png": "[encoded data removed]",
      "text/plain": [
       "<Figure size 1500x600 with 1 Axes>"
      ]
     },
     "metadata": {},
     "output_type": "display_data"
    }
   ],
   "source": [
    "for i in [\"Alter\", \"Einkommen\", \"Geschlecht\"]:\n",
    "    plt.figure(figsize=(15,6)),\n",
    "    sns.scatterplot(data=df_1,y = \"Preis\", x = i)\n",
    "    plt.show()"
   ]
  },
  {
   "cell_type": "markdown",
   "id": "cc28e189",
   "metadata": {},
   "source": [
    "# Frage 17: Schätzen Sie eine Regression, die die Wahrscheinlichkeit des Kaufs eines Autos ermittelt."
   ]
  },
  {
   "cell_type": "markdown",
   "id": "3c1aad69",
   "metadata": {},
   "source": [
    "# Frage 18: Wie hoch ist die Wahrscheinlichkeit, dass Autokauf zustande kommt bei: (m, 32y, 30000€, 30min) & (m, 51y, 54000€, 45min)"
   ]
  },
  {
   "cell_type": "code",
   "execution_count": null,
   "id": "39b97e46",
   "metadata": {},
   "outputs": [],
   "source": []
  }
 ],
 "metadata": {
  "kernelspec": {
   "display_name": "Python 3 (ipykernel)",
   "language": "python",
   "name": "python3"
  },
  "language_info": {
   "codemirror_mode": {
    "name": "ipython",
    "version": 3
   },
   "file_extension": ".py",
   "mimetype": "text/x-python",
   "name": "python",
   "nbconvert_exporter": "python",
   "pygments_lexer": "ipython3",
   "version": "3.11.5"
  }
 },
 "nbformat": 4,
 "nbformat_minor": 5
}
