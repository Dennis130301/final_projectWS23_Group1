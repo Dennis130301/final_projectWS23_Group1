{
 "cells": [
  {
   "cell_type": "code",
   "execution_count": 32,
   "id": "96152bbe",
   "metadata": {},
   "outputs": [],
   "source": [
    "import numpy as np\n",
    "import pandas as pd\n",
    "import matplotlib.pyplot as plt \n",
    "import seaborn as sns\n",
    "from stargazer.stargazer import Stargazer\n",
    "import statsmodels.formula.api as smf\n",
    "import warnings \n",
    "%matplotlib inline\n",
    "warnings.filterwarnings('ignore')\n",
    "df_1 = pd.read_csv(\"data\\df_1.csv\")\n",
    "df_2 = pd.read_csv(\"data\\df_2.csv\")\n",
    "merged_df = pd.read_csv(\"data\\df_final.csv\")"
   ]
  },
  {
   "cell_type": "markdown",
   "id": "83961797",
   "metadata": {
    "slideshow": {
     "slide_type": "slide"
    }
   },
   "source": [
    "<html lang=\"de\">\n",
    "<head>\n",
    "  <meta charset=\"UTF-8\">\n",
    "  <meta name=\"viewport\" content=\"width=device-width, initial-scale=1.0\">\n",
    "  <title>Elektratuto AG</title>\n",
    "  <style>\n",
    "    body {\n",
    "      font-family: 'Arial', sans-serif;\n",
    "      background-color: #f4f4f4;\n",
    "      color: #333;\n",
    "      margin: 0;\n",
    "      padding: 0;\n",
    "    }\n",
    "\n",
    "    .container {\n",
    "      max-width: 800px;\n",
    "      margin: 50px auto;\n",
    "      text-align: center;\n",
    "    }\n",
    "\n",
    "    h1 {\n",
    "      font-size: 2.5em;\n",
    "      color: #007BFF;\n",
    "      margin-top: 40px; /* Vergrößert den Abstand nach oben */\n",
    "      margin-bottom: 20px; /* Vergrößert den Abstand nach unten */\n",
    "    }\n",
    "\n",
    "    .italic-text {\n",
    "      font-style: italic;\n",
    "      color: #6C757D;\n",
    "    }\n",
    "  </style>\n",
    "</head>\n",
    "<body>\n",
    "\n",
    "  <div class=\"container\">\n",
    "    <h1>Elektratuto AG</h1>\n",
    "    <p class=\"italic-text\">HWR Berlin, Wintersemester 2023-2024</p>\n",
    "    <p class=\"italic-text\">Dennis Narloch, Jakob Oetken, Paul Kupler</p>\n",
    "    <p class=\"italic-text\">05. Januar 2024</p>\n",
    "  </div>\n",
    "\n",
    "</body>\n",
    "</html>\n"
   ]
  },
  {
   "cell_type": "markdown",
   "id": "2eb9a127",
   "metadata": {
    "slideshow": {
     "slide_type": "slide"
    }
   },
   "source": [
    "<html lang=\"de\">\n",
    "<head>\n",
    "  <meta charset=\"UTF-8\">\n",
    "  <meta name=\"viewport\" content=\"width=device-width, initial-scale=1.0\">\n",
    "  <title>Umfrageergebnisse</title>\n",
    "  <style>\n",
    "    body {\n",
    "      font-family: 'Arial', sans-serif;\n",
    "      background-color: #f4f4f4;\n",
    "      color: #333;\n",
    "      margin: 0;\n",
    "      padding: 0;\n",
    "    }\n",
    "\n",
    "    .container {\n",
    "      max-width: 800px;\n",
    "      margin: 50px auto;\n",
    "      text-align: left; /* Links ausrichten für bessere Lesbarkeit */\n",
    "    }\n",
    "\n",
    "    h1 {\n",
    "      font-size: 2.5em;\n",
    "      color: #007BFF;\n",
    "      margin-bottom: 20px;\n",
    "    }\n",
    "\n",
    "    ul {\n",
    "      list-style-type: square;\n",
    "      margin-left: 20px;\n",
    "    }\n",
    "\n",
    "    .italic-text {\n",
    "      font-style: italic;\n",
    "      color: #6C757D;\n",
    "    }\n",
    "  </style>\n",
    "</head>\n",
    "<body>\n",
    "\n",
    "  <div class=\"container\">\n",
    "    <h1>Auswertung der Umfrageergebnisse</h1>\n",
    "    <ul>\n",
    "      <li>Umfrage unter allen Personen, die unser Auto ausprobiert haben</li>\n",
    "      <li>Auskunft zur Performance der Elektratuto AG</li>\n",
    "      <li>Einblick in unsere (potenzielle) Kundschaft</li>\n",
    "      <li>Veranschaulichung von Einflussvariablen</li>\n",
    "      <li>Prognosen</li>\n",
    "      <li>Ausblick</li>\n",
    "    </ul>\n",
    "  </div>\n",
    "\n",
    "</body>\n",
    "</html>\n"
   ]
  },
  {
   "cell_type": "markdown",
   "id": "a0f23ac5",
   "metadata": {
    "slideshow": {
     "slide_type": "slide"
    }
   },
   "source": [
    "# Absatzzahlen"
   ]
  },
  {
   "cell_type": "markdown",
   "id": "e440dbdd",
   "metadata": {
    "slideshow": {
     "slide_type": "subslide"
    }
   },
   "source": [
    "<font size = \"8\">F1:Anzahl der verkauften Autos?</font>\n",
    "\n",
    "<h3> Kurze Praesenz, beeindruckende Ergebnisse  </h3>\n",
    " <ul>\n",
    "  <li>Leistungsstarke Zahlen: 1104 verkaufte Autos </li>\n",
    "  <li>Durchbruch auf dem Automarkt trotz neuer Teilnahme</li>\n",
    "</ul>"
   ]
  },
  {
   "cell_type": "markdown",
   "id": "424c78d1",
   "metadata": {
    "slideshow": {
     "slide_type": "subslide"
    }
   },
   "source": [
    "<font size = \"8\">F4: Verkaufte Autos pro Bundesland?</font>\n",
    "<img src=\"images\\Frage 4.png\" >"
   ]
  },
  {
   "cell_type": "markdown",
   "id": "fe9e1517",
   "metadata": {
    "slideshow": {
     "slide_type": "subslide"
    }
   },
   "source": [
    "<img src=\"images\\Frage 4_1.png\" style=\"float: right; margin-left: 10px;\">\n"
   ]
  },
  {
   "cell_type": "markdown",
   "id": "e142e225",
   "metadata": {
    "slideshow": {
     "slide_type": "subslide"
    }
   },
   "source": [
    "<img src=\"images\\Frage 4_2.png\" >"
   ]
  },
  {
   "cell_type": "markdown",
   "id": "ee1b33c0",
   "metadata": {
    "slideshow": {
     "slide_type": "subslide"
    }
   },
   "source": [
    "<font size = \"8\">F3: Wie hoch war der Gesamtumsatz?</font>"
   ]
  },
  {
   "cell_type": "markdown",
   "id": "bee01bfc",
   "metadata": {
    "slideshow": {
     "slide_type": "fragment"
    }
   },
   "source": [
    "\n",
    "<img src=\"images\\Frage 3_1.png\" >\n",
    "\n",
    "\n",
    "   <h3> 98.228.619,38 Euro </h3>\n"
   ]
  },
  {
   "cell_type": "markdown",
   "id": "22152c8d",
   "metadata": {
    "slideshow": {
     "slide_type": "subslide"
    }
   },
   "source": [
    "<font size = \"8\">F5: Umsatz pro Auto pro Bundesland?</font>"
   ]
  },
  {
   "cell_type": "markdown",
   "id": "2d6b6eb2",
   "metadata": {
    "slideshow": {
     "slide_type": "fragment"
    }
   },
   "source": [
    "<img src=\"images\\Frage 5.png\" >\n",
    "<h3>Baden-Wuerttemberg und Thueringen > 90.000 Euro</h3>\n",
    "<h3>Hamburg und Hessen unter 86.000 Euro</h3>"
   ]
  },
  {
   "cell_type": "markdown",
   "id": "263eb435",
   "metadata": {
    "slideshow": {
     "slide_type": "subslide"
    }
   },
   "source": [
    "<font size = \"8\">F2: Hoechst- Mindest- und Durchschnittspreis?</font>"
   ]
  },
  {
   "cell_type": "markdown",
   "id": "09329338",
   "metadata": {
    "slideshow": {
     "slide_type": "fragment"
    }
   },
   "source": [
    "<img src=\"images\\Frage 2.png\" >\n"
   ]
  },
  {
   "cell_type": "markdown",
   "id": "52850656",
   "metadata": {
    "slideshow": {
     "slide_type": "subslide"
    }
   },
   "source": [
    "<font size = \"8\">F2: Hoechst- Mindest- und Durchschnittspreis?</font>\n",
    "<ul>\n",
    "  <li>Aufgrund unserer diversen Optionen welche mit Zusatzkosten verbunden sind, erzielen wir unterschiedliche Preise</li>\n",
    "  <li>Diversifizierung der Produktlinie</li>\n",
    "  <li>Kundensegmentierung: Analysieren, welche Modifikationen und Konfigurationen zu den hoeheren Preisbereichen fuehren</li>\n",
    "  <li>Marketing und Positionierung:Bandbreite der Preise nutzen, um Auto in verschiedenen Marktsegmenten zu positionieren </li>\n",
    "   <li>Einsteigermodell kann eine breitere Zielgruppe ansprechen</li>\n",
    "</ul> "
   ]
  },
  {
   "cell_type": "markdown",
   "id": "ceff4da9",
   "metadata": {
    "slideshow": {
     "slide_type": "slide"
    }
   },
   "source": [
    "# Informationen über Kunden und Besucher?"
   ]
  },
  {
   "cell_type": "markdown",
   "id": "10a21781",
   "metadata": {
    "slideshow": {
     "slide_type": "subslide"
    }
   },
   "source": [
    "<font size = \"8\">F6: Mehr Maenner oder Frauen als Kunden?</font>"
   ]
  },
  {
   "cell_type": "markdown",
   "id": "0d296151",
   "metadata": {
    "slideshow": {
     "slide_type": "fragment"
    }
   },
   "source": [
    "<img src=\"images\\Frage 6_1.png\" >\n",
    "<img src=\"images\\Frage 6_2.png\" >"
   ]
  },
  {
   "cell_type": "markdown",
   "id": "c0d69045",
   "metadata": {
    "slideshow": {
     "slide_type": "subslide"
    }
   },
   "source": [
    "<img src=\"images\\Frage 6_3.png\" >"
   ]
  },
  {
   "cell_type": "markdown",
   "id": "1c857d4e",
   "metadata": {
    "slideshow": {
     "slide_type": "subslide"
    }
   },
   "source": [
    "<font size = \"8\">F7: Durchschnittsalter unserer Kunden?</font>"
   ]
  },
  {
   "cell_type": "markdown",
   "id": "ed6b8483",
   "metadata": {
    "slideshow": {
     "slide_type": "fragment"
    }
   },
   "source": [
    "<img src=\"images\\Frage 7_1.png\" >\n"
   ]
  },
  {
   "cell_type": "markdown",
   "id": "9ad3ecb4",
   "metadata": {
    "slideshow": {
     "slide_type": "subslide"
    }
   },
   "source": [
    "<font size = \"8\">F7: Durchschnittsalter unserer Kunden?</font>\n",
    "<img src=\"images\\Frage 7_2.png\" >"
   ]
  },
  {
   "cell_type": "markdown",
   "id": "7c917fa0",
   "metadata": {
    "slideshow": {
     "slide_type": "subslide"
    }
   },
   "source": [
    "<font size = \"8\">F7: Durchschnittsalter unserer Kunden?</font>\n",
    "<ul>\n",
    "  <li>Schlussfolgerungen und Handlungsempfehlungen </li>\n",
    "  <li>Kommunikation und Marketing: Kommunikationskanaele, die bei dieser Altersgruppe beliebt sind.</li>\n",
    "  <li>traditionelle Medien wie Fernsehen, Radio und Printmedien, aber auch digitale Plattformen (Facebook)</li>\n",
    "  <li>Kundenservice und Support: Beduerfnisse aelterer Menschen zugeschnitten </li>\n",
    "  <li>laengere Erreichbarkeitszeiten, leicht verstaendliche Kommunikation, Unterstuetzung bei der Nutzung von Technologien  </li>\n",
    "</ul>"
   ]
  },
  {
   "cell_type": "markdown",
   "id": "275fb438",
   "metadata": {
    "slideshow": {
     "slide_type": "subslide"
    }
   },
   "source": [
    "<font size = \"8\">F9: Durchschnittsalter Kunden Maenner?</font>"
   ]
  },
  {
   "cell_type": "markdown",
   "id": "0dc45118",
   "metadata": {
    "slideshow": {
     "slide_type": "fragment"
    }
   },
   "source": [
    "<img src=\"images\\Frage 9_1.png\" >"
   ]
  },
  {
   "cell_type": "markdown",
   "id": "6a08d3ab",
   "metadata": {
    "slideshow": {
     "slide_type": "subslide"
    }
   },
   "source": [
    "<font size = \"8\">F10: Durchschnittseinkommen Kunden?</font>"
   ]
  },
  {
   "cell_type": "markdown",
   "id": "31709cd0",
   "metadata": {
    "slideshow": {
     "slide_type": "fragment"
    }
   },
   "source": [
    "<h5> Durchschnittseinkommen unserer Kunden liegt bei 58895 Euro </h5>\n"
   ]
  },
  {
   "cell_type": "code",
   "execution_count": 33,
   "id": "95e540e2",
   "metadata": {
    "slideshow": {
     "slide_type": "fragment"
    }
   },
   "outputs": [
    {
     "data": {
      "image/png": "[encoded data removed]",
      "text/plain": [
       "<Figure size 640x480 with 1 Axes>"
      ]
     },
     "metadata": {},
     "output_type": "display_data"
    }
   ],
   "source": [
    "Durchschnittseinkommen_Kunden = 58895\n",
    "plt.hist(df_1[\"Einkommen\"], bins=50, color= \"skyblue\", edgecolor=\"black\")\n",
    "plt.axvline(x=Durchschnittseinkommen_Kunden, color='red', linestyle='--', label='Durchschnittseinkommen')\n",
    "plt.xlabel('Einkommen')\n",
    "plt.ylabel('Anzahl der Kunden')\n",
    "plt.title('Verteilung des Einkommens')\n",
    "plt.legend()\n",
    "plt.show()"
   ]
  },
  {
   "cell_type": "markdown",
   "id": "1a171779",
   "metadata": {
    "slideshow": {
     "slide_type": "subslide"
    }
   },
   "source": [
    "<font size = \"8\">F13: Wie viele Kunden haben KEINEN Kredit genommen?</font>"
   ]
  },
  {
   "cell_type": "markdown",
   "id": "b10be1b7",
   "metadata": {
    "slideshow": {
     "slide_type": "fragment"
    }
   },
   "source": [
    "<img src=\"images\\Frage 13.png\" >\n",
    "\n",
    "<h3> 5 aus 1104 haben keinen Kredit genommen: 0,5 % </h3>"
   ]
  },
  {
   "cell_type": "markdown",
   "id": "22b3ec48",
   "metadata": {
    "slideshow": {
     "slide_type": "subslide"
    }
   },
   "source": [
    "<font size = \"8\">F11: Pearson-Korrelation zwischen Alter, Einkommen, Preis und Zeit bei Kunden?</font>"
   ]
  },
  {
   "cell_type": "markdown",
   "id": "ca1d4e44",
   "metadata": {
    "slideshow": {
     "slide_type": "fragment"
    }
   },
   "source": [
    "<ul>\n",
    "  <li>Dataframe mit den relevanten Daten erstellen</li>\n",
    "  <li>df_11 = df_1[[\"Alter\", \"Einkommen\", \"Zeit\", \"Preis\"]].</li>\n",
    "  <li>Heatmap mit Seaborn erstellen, Korrelation zwischen verschiedenen Variablen oder Merkmalen darstellen</li>\n",
    "</ul>\n"
   ]
  },
  {
   "cell_type": "markdown",
   "id": "8bf45f51",
   "metadata": {
    "slideshow": {
     "slide_type": "subslide"
    }
   },
   "source": [
    "<img src=\"images\\Frage 11.png\" >"
   ]
  },
  {
   "cell_type": "markdown",
   "id": "b697eb48",
   "metadata": {
    "slideshow": {
     "slide_type": "subslide"
    }
   },
   "source": [
    "<font size = \"8\">F8: Durchschnittsalter Besucher?</font>"
   ]
  },
  {
   "cell_type": "markdown",
   "id": "28d02b87",
   "metadata": {
    "slideshow": {
     "slide_type": "fragment"
    }
   },
   "source": [
    "<img src=\"images\\Frage 8.png\" >"
   ]
  },
  {
   "cell_type": "markdown",
   "id": "48230b40",
   "metadata": {
    "slideshow": {
     "slide_type": "subslide"
    }
   },
   "source": [
    "<font size = \"8\">F12: Verteilung: Variabler Zeit Kunden und Besucher?</font>"
   ]
  },
  {
   "cell_type": "markdown",
   "id": "2fcc632e",
   "metadata": {
    "slideshow": {
     "slide_type": "fragment"
    }
   },
   "source": [
    "<img src=\"images\\Frage 12_1.png\" >"
   ]
  },
  {
   "cell_type": "markdown",
   "id": "5769be9c",
   "metadata": {
    "slideshow": {
     "slide_type": "subslide"
    }
   },
   "source": [
    "<img src=\"images\\Frage 12_2.png\" >\n",
    "\n"
   ]
  },
  {
   "cell_type": "markdown",
   "id": "24cef840",
   "metadata": {
    "slideshow": {
     "slide_type": "subslide"
    }
   },
   "source": [
    " <h3> Verteilung der variablen Zeit deutet auf Normalverteilung hin </h3>\n",
    "\n",
    "<img src=\"images\\Frage 12_3.png\" >"
   ]
  },
  {
   "cell_type": "markdown",
   "id": "78b973c6",
   "metadata": {
    "slideshow": {
     "slide_type": "slide"
    }
   },
   "source": [
    "# Einflussvariablen "
   ]
  },
  {
   "cell_type": "markdown",
   "id": "1af680a2",
   "metadata": {
    "slideshow": {
     "slide_type": "subslide"
    }
   },
   "source": [
    "<font size = \"8\">F14: Welche sozio.oek. Merkmale der Kunden beeinflussen den Kaufpreis?</font>"
   ]
  },
  {
   "cell_type": "markdown",
   "id": "f937068c",
   "metadata": {
    "slideshow": {
     "slide_type": "fragment"
    }
   },
   "source": [
    "<img src=\"images\\Frage 14.png\" >"
   ]
  },
  {
   "cell_type": "markdown",
   "id": "9ddcf894",
   "metadata": {
    "slideshow": {
     "slide_type": "subslide"
    }
   },
   "source": [
    "<font size = \"8\">F16: Welche Variable beeinflusst den Kaufpreis am meisten (Std.Beta-Wert)?</font>"
   ]
  },
  {
   "cell_type": "markdown",
   "id": "eb9592a5",
   "metadata": {
    "slideshow": {
     "slide_type": "fragment"
    }
   },
   "source": [
    "<ul>\n",
    "  <li>Unabhaengig/Ursache: Alter, Einkommen, Geschlecht</li>\n",
    "  <li>Abhaengige/Wirkung: Preis</li>\n",
    "  <li>Standardisierter Beta Koeffizient = Regressionskoeffizient * (std_unabhaengig / std_abhaengig)</li>\n",
    "  <li>Vergleicht die Staerke der Wirkung jeder einzelnen unabhaengigen Variable auf die abhaengige Variable.</li>\n",
    "</ul>\n",
    "\n",
    "<img src=\"images\\Frage 16.png\" >"
   ]
  },
  {
   "cell_type": "markdown",
   "id": "c92e99e9",
   "metadata": {
    "slideshow": {
     "slide_type": "subslide"
    }
   },
   "source": [
    "<h2> Das Einkommen beeinflusst den Kaufpreis am meisten</h2>\n",
    "\n",
    "<img src=\"images\\Frage 16_1.png\" >\n",
    "\n",
    "<h3> 1. Einkommen\n",
    "     2. Alter\n",
    "     3. Geschlecht </h3>"
   ]
  },
  {
   "cell_type": "markdown",
   "id": "7ec69c66",
   "metadata": {
    "slideshow": {
     "slide_type": "slide"
    }
   },
   "source": [
    "# Prognosen"
   ]
  },
  {
   "cell_type": "markdown",
   "id": "05850d1d",
   "metadata": {
    "slideshow": {
     "slide_type": "subslide"
    }
   },
   "source": [
    "<font size = \"8\">F15: Kaufpreisprognose K1[M, 32, 30000]  \n",
    "    K2[M, 51, 54000]</font>"
   ]
  },
  {
   "cell_type": "markdown",
   "id": "75ccd8e0",
   "metadata": {
    "slideshow": {
     "slide_type": "fragment"
    }
   },
   "source": [
    "<img src=\"images\\Frage 15.png\" >"
   ]
  },
  {
   "cell_type": "markdown",
   "id": "868a5122",
   "metadata": {
    "slideshow": {
     "slide_type": "subslide"
    }
   },
   "source": [
    "<h3> Kunde 1 = 50.244,71 Euro </h3>\n",
    "<h3> Kunde 2 = 84.845,68 Euro </h3>\n",
    "<img src=\"images\\Frage 15_1.png\" >\n",
    "\n"
   ]
  },
  {
   "cell_type": "markdown",
   "id": "46160496",
   "metadata": {
    "slideshow": {
     "slide_type": "subslide"
    }
   },
   "source": [
    "<font size = \"8\">F17: Regression schaetzen, die die W.keit des Kaufs ermittelt</font>"
   ]
  },
  {
   "cell_type": "markdown",
   "id": "be1d761e",
   "metadata": {
    "slideshow": {
     "slide_type": "fragment"
    }
   },
   "source": [
    "<img src=\"images\\Frage 17.png\" >"
   ]
  },
  {
   "cell_type": "code",
   "execution_count": 34,
   "id": "9cbfac6c",
   "metadata": {
    "slideshow": {
     "slide_type": "skip"
    }
   },
   "outputs": [
    {
     "name": "stdout",
     "output_type": "stream",
     "text": [
      "Optimization terminated successfully.\n",
      "         Current function value: 0.578993\n",
      "         Iterations 6\n"
     ]
    }
   ],
   "source": [
    "reg1 = smf.logit(\"Kunde ~ Alter + Einkommen + Geschlecht + Zeit\", data = merged_df).fit()"
   ]
  },
  {
   "cell_type": "code",
   "execution_count": 35,
   "id": "dfd58644",
   "metadata": {
    "slideshow": {
     "slide_type": "subslide"
    }
   },
   "outputs": [
    {
     "data": {
      "text/html": [
       "<table class=\"simpletable\">\n",
       "<caption>Logit Regression Results</caption>\n",
       "<tr>\n",
       "  <th>Dep. Variable:</th>         <td>Kunde</td>      <th>  No. Observations:  </th>  <td>  1995</td>  \n",
       "</tr>\n",
       "<tr>\n",
       "  <th>Model:</th>                 <td>Logit</td>      <th>  Df Residuals:      </th>  <td>  1990</td>  \n",
       "</tr>\n",
       "<tr>\n",
       "  <th>Method:</th>                 <td>MLE</td>       <th>  Df Model:          </th>  <td>     4</td>  \n",
       "</tr>\n",
       "<tr>\n",
       "  <th>Date:</th>            <td>Tue, 02 Jan 2024</td> <th>  Pseudo R-squ.:     </th>  <td>0.1578</td>  \n",
       "</tr>\n",
       "<tr>\n",
       "  <th>Time:</th>                <td>11:24:26</td>     <th>  Log-Likelihood:    </th> <td> -1155.1</td> \n",
       "</tr>\n",
       "<tr>\n",
       "  <th>converged:</th>             <td>True</td>       <th>  LL-Null:           </th> <td> -1371.4</td> \n",
       "</tr>\n",
       "<tr>\n",
       "  <th>Covariance Type:</th>     <td>nonrobust</td>    <th>  LLR p-value:       </th> <td>2.395e-92</td>\n",
       "</tr>\n",
       "</table>\n",
       "<table class=\"simpletable\">\n",
       "<tr>\n",
       "       <td></td>         <th>coef</th>     <th>std err</th>      <th>z</th>      <th>P>|z|</th>  <th>[0.025</th>    <th>0.975]</th>  \n",
       "</tr>\n",
       "<tr>\n",
       "  <th>Intercept</th>  <td>   -2.4436</td> <td>    0.263</td> <td>   -9.275</td> <td> 0.000</td> <td>   -2.960</td> <td>   -1.927</td>\n",
       "</tr>\n",
       "<tr>\n",
       "  <th>Alter</th>      <td>    0.0181</td> <td>    0.007</td> <td>    2.641</td> <td> 0.008</td> <td>    0.005</td> <td>    0.032</td>\n",
       "</tr>\n",
       "<tr>\n",
       "  <th>Einkommen</th>  <td>-4.218e-05</td> <td> 5.43e-06</td> <td>   -7.768</td> <td> 0.000</td> <td>-5.28e-05</td> <td>-3.15e-05</td>\n",
       "</tr>\n",
       "<tr>\n",
       "  <th>Geschlecht</th> <td>    0.2467</td> <td>    0.103</td> <td>    2.395</td> <td> 0.017</td> <td>    0.045</td> <td>    0.449</td>\n",
       "</tr>\n",
       "<tr>\n",
       "  <th>Zeit</th>       <td>    0.1022</td> <td>    0.006</td> <td>   17.531</td> <td> 0.000</td> <td>    0.091</td> <td>    0.114</td>\n",
       "</tr>\n",
       "</table>"
      ],
      "text/latex": [
       "\\begin{center}\n",
       "\\begin{tabular}{lclc}\n",
       "\\toprule\n",
       "\\textbf{Dep. Variable:}   &      Kunde       & \\textbf{  No. Observations:  } &     1995    \\\\\n",
       "\\textbf{Model:}           &      Logit       & \\textbf{  Df Residuals:      } &     1990    \\\\\n",
       "\\textbf{Method:}          &       MLE        & \\textbf{  Df Model:          } &        4    \\\\\n",
       "\\textbf{Date:}            & Tue, 02 Jan 2024 & \\textbf{  Pseudo R-squ.:     } &   0.1578    \\\\\n",
       "\\textbf{Time:}            &     11:24:26     & \\textbf{  Log-Likelihood:    } &   -1155.1   \\\\\n",
       "\\textbf{converged:}       &       True       & \\textbf{  LL-Null:           } &   -1371.4   \\\\\n",
       "\\textbf{Covariance Type:} &    nonrobust     & \\textbf{  LLR p-value:       } & 2.395e-92   \\\\\n",
       "\\bottomrule\n",
       "\\end{tabular}\n",
       "\\begin{tabular}{lcccccc}\n",
       "                    & \\textbf{coef} & \\textbf{std err} & \\textbf{z} & \\textbf{P$> |$z$|$} & \\textbf{[0.025} & \\textbf{0.975]}  \\\\\n",
       "\\midrule\n",
       "\\textbf{Intercept}  &      -2.4436  &        0.263     &    -9.275  &         0.000        &       -2.960    &       -1.927     \\\\\n",
       "\\textbf{Alter}      &       0.0181  &        0.007     &     2.641  &         0.008        &        0.005    &        0.032     \\\\\n",
       "\\textbf{Einkommen}  &   -4.218e-05  &     5.43e-06     &    -7.768  &         0.000        &    -5.28e-05    &    -3.15e-05     \\\\\n",
       "\\textbf{Geschlecht} &       0.2467  &        0.103     &     2.395  &         0.017        &        0.045    &        0.449     \\\\\n",
       "\\textbf{Zeit}       &       0.1022  &        0.006     &    17.531  &         0.000        &        0.091    &        0.114     \\\\\n",
       "\\bottomrule\n",
       "\\end{tabular}\n",
       "%\\caption{Logit Regression Results}\n",
       "\\end{center}"
      ],
      "text/plain": [
       "<class 'statsmodels.iolib.summary.Summary'>\n",
       "\"\"\"\n",
       "                           Logit Regression Results                           \n",
       "==============================================================================\n",
       "Dep. Variable:                  Kunde   No. Observations:                 1995\n",
       "Model:                          Logit   Df Residuals:                     1990\n",
       "Method:                           MLE   Df Model:                            4\n",
       "Date:                Tue, 02 Jan 2024   Pseudo R-squ.:                  0.1578\n",
       "Time:                        11:24:26   Log-Likelihood:                -1155.1\n",
       "converged:                       True   LL-Null:                       -1371.4\n",
       "Covariance Type:            nonrobust   LLR p-value:                 2.395e-92\n",
       "==============================================================================\n",
       "                 coef    std err          z      P>|z|      [0.025      0.975]\n",
       "------------------------------------------------------------------------------\n",
       "Intercept     -2.4436      0.263     -9.275      0.000      -2.960      -1.927\n",
       "Alter          0.0181      0.007      2.641      0.008       0.005       0.032\n",
       "Einkommen  -4.218e-05   5.43e-06     -7.768      0.000   -5.28e-05   -3.15e-05\n",
       "Geschlecht     0.2467      0.103      2.395      0.017       0.045       0.449\n",
       "Zeit           0.1022      0.006     17.531      0.000       0.091       0.114\n",
       "==============================================================================\n",
       "\"\"\""
      ]
     },
     "execution_count": 35,
     "metadata": {},
     "output_type": "execute_result"
    }
   ],
   "source": [
    "reg1.summary()"
   ]
  },
  {
   "cell_type": "markdown",
   "id": "33cdfa85",
   "metadata": {
    "slideshow": {
     "slide_type": "subslide"
    }
   },
   "source": [
    "<font size = \"8\">F18: Wie hoch W.keit, dass P1[M, 32, 30000, 30min] ein Auto kauft?  </font>"
   ]
  },
  {
   "cell_type": "markdown",
   "id": "05e3cc63",
   "metadata": {
    "slideshow": {
     "slide_type": "fragment"
    }
   },
   "source": [
    "<img src=\"images\\Frage 18_1.png\" >\n",
    "\n",
    "<h3> Die Wahrscheinlichkeit liegt bei 54,57 %</h3>"
   ]
  },
  {
   "cell_type": "markdown",
   "id": "91702fea",
   "metadata": {
    "slideshow": {
     "slide_type": "subslide"
    }
   },
   "source": [
    "<font size = \"8\">F18: Wie hoch W.keit, dass P2[M, 51, 54000, 45min] ein Auto kauft?</font>\n",
    "\n",
    "<img src=\"images\\Frage 18_2.png\" >\n",
    "\n",
    "<h3> Die Wahrscheinlichkeit liegt bei 74,04 %</h3>"
   ]
  },
  {
   "cell_type": "markdown",
   "id": "391dccde",
   "metadata": {
    "slideshow": {
     "slide_type": "slide"
    }
   },
   "source": [
    "# Unsere Daten"
   ]
  },
  {
   "cell_type": "markdown",
   "id": "0dc21b96",
   "metadata": {
    "slideshow": {
     "slide_type": "subslide"
    }
   },
   "source": [
    "<font size = \"8\">F19: Probleme beim Mergen beider CSV und TXT Datei</font>\n",
    "\n",
    "<ul>\n",
    "  <li>Problem 1: Es fehlen Daten</li>\n",
    "  <li>Problem 2: Behandlung fehlender Daten und Ausreissern</li>\n",
    "  <li>Problem 3: Die Datentypen sind unterschiedlich</li>\n",
    "  <li>Problem 4: Bundeslaender nicht einheitlich --> falsche Schreibweise, Stadt, Bezirk</li>\n",
    "</ul>"
   ]
  },
  {
   "cell_type": "markdown",
   "id": "1e8f8d5e",
   "metadata": {
    "slideshow": {
     "slide_type": "subslide"
    }
   },
   "source": [
    "<h3>P1: Die Spalte Geschlecht hat leere Zellen</h3>\n"
   ]
  },
  {
   "cell_type": "markdown",
   "id": "35236fa7",
   "metadata": {
    "slideshow": {
     "slide_type": "fragment"
    }
   },
   "source": [
    "<img src=\"images\\Frage 19_1.png\" >\n",
    "<h3> 5 fehlende Werte. Es ist nicht klar, ob unser Kunde Mann oder Frau war </h3>"
   ]
  },
  {
   "cell_type": "markdown",
   "id": "57e499f1",
   "metadata": {
    "slideshow": {
     "slide_type": "subslide"
    }
   },
   "source": [
    "<ul>\n",
    "  <li>Um das Problem zu beheben, haben wir die fehlenden Werte mit \"1\" aufgefuellt</li>\n",
    "  <li>Warum 1? --> Weil Grossteil unserer Kunden Maenner sind. Deshalb wurde die Annahme getroffen</li>\n",
    "  <li>Annahme: Kunden ohne angegebenes Geschlecht sind maennlich</li>\n",
    "</ul>"
   ]
  },
  {
   "cell_type": "markdown",
   "id": "9f51fa49",
   "metadata": {
    "slideshow": {
     "slide_type": "fragment"
    }
   },
   "source": [
    "<img src=\"images\\Geschlecht.png\" >"
   ]
  },
  {
   "cell_type": "markdown",
   "id": "45af3935",
   "metadata": {
    "slideshow": {
     "slide_type": "subslide"
    }
   },
   "source": [
    "<h1> Ansehen der Daten um Ausreisser zu erkennen <h1>\n",
    "    <h4> Kunden </h4>\n",
    "    <img src=\"images\\df_1.png\" >\n",
    "    \n",
    "<h3> Ausreisser im Einkommen und Alter</h3>"
   ]
  },
  {
   "cell_type": "markdown",
   "id": "2f2c4bc1",
   "metadata": {
    "slideshow": {
     "slide_type": "subslide"
    }
   },
   "source": [
    "<h1> Ansehen der Daten um Ausreisser zu erkennen </h1>\n",
    "<h4> Besucher </h4>\n",
    "    <img src=\"images\\df_2.png\" >\n",
    "    \n",
    "<h3> keine Ausreisser </h3>"
   ]
  },
  {
   "cell_type": "markdown",
   "id": "fe69317b",
   "metadata": {
    "slideshow": {
     "slide_type": "subslide"
    }
   },
   "source": [
    "<h3>P2: Behandlung von Ausreissern mit Modalwert und Median</h3>\n",
    "<ul>\n",
    "  <li>Hohes Einkommen macht Mittelwert anfaellig</li>\n",
    "  <li>Deshalb fuer Median entschieden. Ist robuster</li>\n",
    "  <li>Alter von 100 und 120 wurden mit dem Modalwert 55 ersetzt</li>\n",
    "</ul>"
   ]
  },
  {
   "cell_type": "markdown",
   "id": "37630a64",
   "metadata": {
    "slideshow": {
     "slide_type": "fragment"
    }
   },
   "source": [
    "<img src=\"images\\Modalwert_Alter.png\" >"
   ]
  },
  {
   "cell_type": "markdown",
   "id": "61b5b511",
   "metadata": {
    "slideshow": {
     "slide_type": "subslide"
    }
   },
   "source": [
    "<h3> Einkommen: Mittelwert schlechte Wahl Median deutlich bessere</h3>\n",
    "<ul>\n",
    "    <li>Mittelwert = 964.474,82 Euro</li>\n",
    "    <li>Median = 59.013 Euro</li>"
   ]
  },
  {
   "cell_type": "markdown",
   "id": "17f1c413",
   "metadata": {
    "slideshow": {
     "slide_type": "fragment"
    }
   },
   "source": [
    "<img src=\"images\\Median_EK.png\" >"
   ]
  },
  {
   "cell_type": "markdown",
   "id": "cc82191f",
   "metadata": {
    "slideshow": {
     "slide_type": "subslide"
    }
   },
   "source": [
    "<ul>\n",
    "  <li>Problem 3: Die Datentypen sind unterschiedlich</li>\n",
    "  <li>Antwort 3: Umformen von Zeit, Geschlecht, Einkommen in die richtigen Typen</li>\n",
    "  <li>Problem 4: Bundeslaender nicht einheitlich --> falsche Schreibweise, Stadt, Bezirk</li>\n",
    "  <li>Antwort 4: Rename, Ergebnis sind 10 Bundeslaender </li>\n",
    "</ul>"
   ]
  },
  {
   "cell_type": "markdown",
   "id": "82ff28e9",
   "metadata": {
    "slideshow": {
     "slide_type": "subslide"
    }
   },
   "source": [
    "<h6> Veranschaulichung und Behebung Problem 4: </h6>\n",
    "\n",
    "<img src=\"images\\Frage 19_4.png\" >"
   ]
  },
  {
   "cell_type": "markdown",
   "id": "22a7f551",
   "metadata": {
    "slideshow": {
     "slide_type": "slide"
    }
   },
   "source": [
    "# Für die Zukunft"
   ]
  },
  {
   "cell_type": "markdown",
   "id": "b98a4f5e",
   "metadata": {
    "slideshow": {
     "slide_type": "subslide"
    }
   },
   "source": [
    "<font size = \"8\">F20: Welche neuen Infos bei der naechsten Umfrage sammeln?</font>\n",
    "<h3> Vorschlag 1: Kaufverhalten und Praeferenzen </h3>\n",
    "<ul>\n",
    "  <li>Welche Faktoren beeinflussen ihre Entscheidung beim Kauf?</li>\n",
    "  <li>Wie wichtig sind bestimmte Produktmerkmale fuer sie?</li>\n",
    "  <li>Welche Kriterien sind bei der Auswahl eines Produkts am entscheidendsten?</li>\n",
    "</ul>\n",
    "<p> </p>\n",
    "<h3> Vorschlag 2: Werbung und Marketingkommunikation </h3>\n",
    "<ul>\n",
    "    <li>Welche Werbekanaele sprechen sie am meisten an?</li>\n",
    "    <li>Wie beeinflusst Werbung ihre Wahrnehmung und Kaufentscheidung?</li>\n",
    "    "
   ]
  },
  {
   "cell_type": "markdown",
   "id": "65c873fc",
   "metadata": {
    "slideshow": {
     "slide_type": "slide"
    }
   },
   "source": [
    "# Vielen Dank für Ihre Aufmerksamkeit"
   ]
  },
  {
   "cell_type": "code",
   "execution_count": null,
   "id": "a05dd706",
   "metadata": {},
   "outputs": [],
   "source": []
  }
 ],
 "metadata": {
  "celltoolbar": "Slideshow",
  "kernelspec": {
   "display_name": "Python 3 (ipykernel)",
   "language": "python",
   "name": "python3"
  },
  "language_info": {
   "codemirror_mode": {
    "name": "ipython",
    "version": 3
   },
   "file_extension": ".py",
   "mimetype": "text/x-python",
   "name": "python",
   "nbconvert_exporter": "python",
   "pygments_lexer": "ipython3",
   "version": "3.11.5"
  }
 },
 "nbformat": 4,
 "nbformat_minor": 5
}
