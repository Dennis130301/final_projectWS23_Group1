{
 "cells": [
  {
   "cell_type": "code",
   "execution_count": 81,
   "id": "96152bbe",
   "metadata": {},
   "outputs": [],
   "source": [
    "import numpy as np\n",
    "import pandas as pd\n",
    "import matplotlib.pyplot as plt \n",
    "import seaborn as sns\n",
    "from stargazer.stargazer import Stargazer\n",
    "import statsmodels.formula.api as smf\n",
    "import warnings \n",
    "%matplotlib inline\n",
    "warnings.filterwarnings('ignore')\n",
    "df_1 = pd.read_csv(\"data\\df_1.csv\")\n",
    "df_2 = pd.read_csv(\"data\\df_2.csv\")\n",
    "merged_df = pd.read_csv(\"data\\df_final.csv\")"
   ]
  },
  {
   "cell_type": "markdown",
   "id": "83961797",
   "metadata": {
    "slideshow": {
     "slide_type": "slide"
    }
   },
   "source": [
    "<html lang=\"de\">\n",
    "<head>\n",
    "  <meta charset=\"UTF-8\">\n",
    "  <meta name=\"viewport\" content=\"width=device-width, initial-scale=1.0\">\n",
    "  <title>Elektratuto AG</title>\n",
    "  <style>\n",
    "    body {\n",
    "      font-family: 'Arial', sans-serif;\n",
    "      background-color: #f4f4f4;\n",
    "      color: #333;\n",
    "      margin: 0;\n",
    "      padding: 0;\n",
    "    }\n",
    "\n",
    "    .container {\n",
    "      max-width: 800px;\n",
    "      margin: 50px auto;\n",
    "      text-align: center;\n",
    "    }\n",
    "\n",
    "    h1 {\n",
    "      font-size: 2.5em;\n",
    "      color: #007BFF;\n",
    "      margin-top: 40px; /* Vergrößert den Abstand nach oben */\n",
    "      margin-bottom: 20px; /* Vergrößert den Abstand nach unten */\n",
    "    }\n",
    "\n",
    "    .italic-text {\n",
    "      font-style: italic;\n",
    "      color: #6C757D;\n",
    "    }\n",
    "  </style>\n",
    "</head>\n",
    "<body>\n",
    "\n",
    "  <div class=\"container\">\n",
    "    <h1>Elektratuto AG</h1>\n",
    "    <p class=\"italic-text\">HWR Berlin, Wintersemester 2023-2024</p>\n",
    "    <p class=\"italic-text\">Dennis Narloch, Jakob Oetken, Paul Kupler</p>\n",
    "    <p class=\"italic-text\">05. Januar 2024</p>\n",
    "  </div>\n",
    "\n",
    "</body>\n",
    "</html>\n"
   ]
  },
  {
   "cell_type": "markdown",
   "id": "2eb9a127",
   "metadata": {
    "slideshow": {
     "slide_type": "slide"
    }
   },
   "source": [
    "<html lang=\"de\">\n",
    "<head>\n",
    "  <meta charset=\"UTF-8\">\n",
    "  <meta name=\"viewport\" content=\"width=device-width, initial-scale=1.0\">\n",
    "  <title>Umfrageergebnisse</title>\n",
    "  <style>\n",
    "    body {\n",
    "      font-family: 'Arial', sans-serif;\n",
    "      background-color: #f4f4f4;\n",
    "      color: #333;\n",
    "      margin: 0;\n",
    "      padding: 0;\n",
    "    }\n",
    "\n",
    "    .container {\n",
    "      max-width: 800px;\n",
    "      margin: 50px auto;\n",
    "      text-align: left; /* Links ausrichten für bessere Lesbarkeit */\n",
    "    }\n",
    "\n",
    "    h1 {\n",
    "      font-size: 2.5em;\n",
    "      color: #007BFF;\n",
    "      margin-bottom: 20px;\n",
    "    }\n",
    "\n",
    "    ul {\n",
    "      list-style-type: square;\n",
    "      margin-left: 20px;\n",
    "    }\n",
    "\n",
    "    .italic-text {\n",
    "      font-style: italic;\n",
    "      color: #6C757D;\n",
    "    }\n",
    "  </style>\n",
    "</head>\n",
    "<body>\n",
    "\n",
    "  <div class=\"container\">\n",
    "    <h1>Umfrageergebnisse</h1>\n",
    "    <ul>\n",
    "      <li>Umfrage unter allen Personen, die unser Auto ausprobiert haben</li>\n",
    "      <li>Auskunft zur Performance der Elektratuto AG</li>\n",
    "      <li>Einblick in unsere (potenzielle) Kundschaft</li>\n",
    "      <li>Veranschaulichung von Einflussvariablen</li>\n",
    "      <li>Prognosen</li>\n",
    "      <li>Ausblick</li>\n",
    "    </ul>\n",
    "  </div>\n",
    "\n",
    "</body>\n",
    "</html>\n"
   ]
  },
  {
   "cell_type": "markdown",
   "id": "a0f23ac5",
   "metadata": {
    "slideshow": {
     "slide_type": "slide"
    }
   },
   "source": [
    "# Absatzzahlen"
   ]
  },
  {
   "cell_type": "markdown",
   "id": "e440dbdd",
   "metadata": {
    "slideshow": {
     "slide_type": "subslide"
    }
   },
   "source": [
    "<font size = \"8\">F1:Anzahl Verkaufte Autos?</font>\n",
    "\n",
    "<table style=\"width:100%;\">\n",
    "  <tr>\n",
    "    <td style=\"font-size: 16px; text-align: center;\">Kunden</td>\n",
    "    <td style=\"font-size: 16px; text-align: center;\">1104</td>\n",
    "  </tr>\n",
    "</table>\n"
   ]
  },
  {
   "cell_type": "markdown",
   "id": "424c78d1",
   "metadata": {
    "slideshow": {
     "slide_type": "subslide"
    }
   },
   "source": [
    "<font size = \"8\">F4: Verkaufte Autos pro Bundesland?</font>\n",
    "<img src=\"images\\Frage 4.png\" >"
   ]
  },
  {
   "cell_type": "markdown",
   "id": "fe9e1517",
   "metadata": {
    "slideshow": {
     "slide_type": "subslide"
    }
   },
   "source": [
    "<img src=\"images\\Frage 4_1.png\" style=\"float: right; margin-left: 10px;\">\n"
   ]
  },
  {
   "cell_type": "markdown",
   "id": "e142e225",
   "metadata": {
    "slideshow": {
     "slide_type": "subslide"
    }
   },
   "source": [
    "<img src=\"images\\Frage 4_2.png\" >"
   ]
  },
  {
   "cell_type": "markdown",
   "id": "ee1b33c0",
   "metadata": {
    "slideshow": {
     "slide_type": "subslide"
    }
   },
   "source": [
    "<font size = \"8\">F3: Wie hoch war der Gesamtumsatz?</font>"
   ]
  },
  {
   "cell_type": "markdown",
   "id": "bee01bfc",
   "metadata": {
    "slideshow": {
     "slide_type": "fragment"
    }
   },
   "source": [
    "\n",
    "<img src=\"images\\Frage 3_1.png\" >\n",
    "\n",
    "\n",
    "   <h3> 98.228.619,38 Euro </h3>\n"
   ]
  },
  {
   "cell_type": "markdown",
   "id": "22152c8d",
   "metadata": {
    "slideshow": {
     "slide_type": "subslide"
    }
   },
   "source": [
    "<font size = \"8\">F5: Umsatz pro Auto pro Bundesland?</font>"
   ]
  },
  {
   "cell_type": "markdown",
   "id": "2d6b6eb2",
   "metadata": {
    "slideshow": {
     "slide_type": "fragment"
    }
   },
   "source": [
    "<img src=\"images\\Frage 5.png\" >\n",
    "<h3>Baden-Wuerttemberg und Thueringen > 90.000 Euro</h3>\n",
    "<h3>Hamburg und Hessen unter 86.000 Euro</h3>"
   ]
  },
  {
   "cell_type": "markdown",
   "id": "263eb435",
   "metadata": {
    "slideshow": {
     "slide_type": "subslide"
    }
   },
   "source": [
    "<font size = \"8\">F2: Hoechst- Mindest- und Durchschnittspreis?</font>"
   ]
  },
  {
   "cell_type": "markdown",
   "id": "09329338",
   "metadata": {
    "slideshow": {
     "slide_type": "fragment"
    }
   },
   "source": [
    "<ul>\n",
    "  <li>Aufgrund unserer diversen Optionen welche mit Zusatzkosten verbunden sind, erzielen wir unterschiedliche Preise</li>\n",
    "  <li>Diversifizierung der Produktlinie</li>\n",
    "  <li>Kundensegmentierung: Analysieren, welche Modifikationen und Konfigurationen zu den hoeheren Preisbereichen fuehren</li>\n",
    "  <li>Marketing und Positionierung:Bandbreite der Preise nutzen, um Auto in verschiedenen Marktsegmenten zu positionieren </li>\n",
    "   <li>Einsteigermodell kann eine breitere Zielgruppe ansprechen</li>\n",
    "</ul> <img src=\"images\\Frage 2.png\" >"
   ]
  },
  {
   "cell_type": "markdown",
   "id": "ceff4da9",
   "metadata": {
    "slideshow": {
     "slide_type": "slide"
    }
   },
   "source": [
    "# Informationen ueber Kunden und Besucher (potenzielle Kunden?)"
   ]
  },
  {
   "cell_type": "markdown",
   "id": "10a21781",
   "metadata": {
    "slideshow": {
     "slide_type": "subslide"
    }
   },
   "source": [
    "<font size = \"8\">F6: Mehr Maenner oder Frauen als Kunden?</font>"
   ]
  },
  {
   "cell_type": "markdown",
   "id": "0d296151",
   "metadata": {
    "slideshow": {
     "slide_type": "fragment"
    }
   },
   "source": [
    "<img src=\"images\\Frage 6_1.png\" >\n",
    "<img src=\"images\\Frage 6_2.png\" >"
   ]
  },
  {
   "cell_type": "markdown",
   "id": "c0d69045",
   "metadata": {
    "slideshow": {
     "slide_type": "subslide"
    }
   },
   "source": [
    "<img src=\"images\\Frage 6_3.png\" >"
   ]
  },
  {
   "cell_type": "markdown",
   "id": "1c857d4e",
   "metadata": {
    "slideshow": {
     "slide_type": "subslide"
    }
   },
   "source": [
    "<font size = \"8\">F7: Durchschnittsalter unserer Kunden?</font>"
   ]
  },
  {
   "cell_type": "markdown",
   "id": "ed6b8483",
   "metadata": {
    "slideshow": {
     "slide_type": "fragment"
    }
   },
   "source": [
    "<img src=\"images\\Frage 7_1.png\" >\n",
    "<img src=\"images\\Frage 7_2.png\" >"
   ]
  },
  {
   "cell_type": "markdown",
   "id": "7c917fa0",
   "metadata": {
    "slideshow": {
     "slide_type": "subslide"
    }
   },
   "source": [
    "<font size = \"8\">F7: Durchschnittsalter unserer Kunden?</font>\n",
    "<ul>\n",
    "  <li>Schlussfolgerungen und Handlungsempfehlungen </li>\n",
    "  <li>Kommunikation und Marketing: Kommunikationskanaele, die bei dieser Altersgruppe beliebt sind.</li>\n",
    "  <li>traditionelle Medien wie Fernsehen, Radio und Printmedien, aber auch digitale Plattformen (Facebook)</li>\n",
    "  <li>Kundenservice und Support: Beduerfnisse aelterer Menschen zugeschnitten </li>\n",
    "  <li>laengere Erreichbarkeitszeiten, leicht verstaendliche Kommunikation, Unterstuetzung bei der Nutzung von Technologien  </li>\n",
    "</ul>"
   ]
  },
  {
   "cell_type": "markdown",
   "id": "275fb438",
   "metadata": {
    "slideshow": {
     "slide_type": "subslide"
    }
   },
   "source": [
    "<font size = \"8\">F9: Durchschnittsalter Kunden Maenner?</font>"
   ]
  },
  {
   "cell_type": "markdown",
   "id": "0dc45118",
   "metadata": {
    "slideshow": {
     "slide_type": "fragment"
    }
   },
   "source": [
    "<img src=\"images\\Frage 9_1.png\" >"
   ]
  },
  {
   "cell_type": "markdown",
   "id": "6a08d3ab",
   "metadata": {
    "slideshow": {
     "slide_type": "subslide"
    }
   },
   "source": [
    "<font size = \"8\">F10: Durchschnittseinkommen Kunden?</font>"
   ]
  },
  {
   "cell_type": "markdown",
   "id": "31709cd0",
   "metadata": {
    "slideshow": {
     "slide_type": "fragment"
    }
   },
   "source": [
    "<img src=\"images\\Frage 10.png\" >"
   ]
  },
  {
   "cell_type": "markdown",
   "id": "1a171779",
   "metadata": {
    "slideshow": {
     "slide_type": "subslide"
    }
   },
   "source": [
    "<font size = \"8\">F13: Wie viele Kunden haben KEINEN Kredit genommen?</font>"
   ]
  },
  {
   "cell_type": "markdown",
   "id": "b10be1b7",
   "metadata": {
    "slideshow": {
     "slide_type": "fragment"
    }
   },
   "source": [
    "<img src=\"images\\Frage 13.png\" >\n",
    "\n",
    "<h3> 5 aus 1104 haben keinen Kredit genommen, 0,5 % </h3>"
   ]
  },
  {
   "cell_type": "markdown",
   "id": "22b3ec48",
   "metadata": {
    "slideshow": {
     "slide_type": "subslide"
    }
   },
   "source": [
    "<font size = \"8\">F11: Pearson-Korrelation zwischen Alter, Einkommen, Preis und Zeit bei Kunden?</font>"
   ]
  },
  {
   "cell_type": "markdown",
   "id": "ca1d4e44",
   "metadata": {
    "slideshow": {
     "slide_type": "fragment"
    }
   },
   "source": [
    "<ul>\n",
    "  <li>Dataframe mit den relevanten Daten erstellen</li>\n",
    "  <li>df_11 = df_1[[\"Alter\", \"Einkommen\", \"Zeit\", \"Preis\"]].</li>\n",
    "  <li>Heatmap mit Seaborn erstellen, Korrelation zwischen verschiedenen Variablen oder Merkmalen darstellen</li>\n",
    "</ul>\n"
   ]
  },
  {
   "cell_type": "markdown",
   "id": "8bf45f51",
   "metadata": {
    "slideshow": {
     "slide_type": "subslide"
    }
   },
   "source": [
    "<img src=\"images\\Frage 11.png\" >"
   ]
  },
  {
   "cell_type": "markdown",
   "id": "b697eb48",
   "metadata": {
    "slideshow": {
     "slide_type": "subslide"
    }
   },
   "source": [
    "<font size = \"8\">F8: Durchschnittsalter Besucher?</font>"
   ]
  },
  {
   "cell_type": "markdown",
   "id": "28d02b87",
   "metadata": {
    "slideshow": {
     "slide_type": "fragment"
    }
   },
   "source": [
    "<img src=\"images\\Frage 8.png\" >"
   ]
  },
  {
   "cell_type": "markdown",
   "id": "48230b40",
   "metadata": {
    "slideshow": {
     "slide_type": "subslide"
    }
   },
   "source": [
    "<font size = \"8\">F12: Verteilung: Variabler Zeit Kunden und Besucher?</font>"
   ]
  },
  {
   "cell_type": "markdown",
   "id": "2fcc632e",
   "metadata": {
    "slideshow": {
     "slide_type": "fragment"
    }
   },
   "source": [
    "<img src=\"images\\Frage 12_1.png\" >"
   ]
  },
  {
   "cell_type": "markdown",
   "id": "5769be9c",
   "metadata": {
    "slideshow": {
     "slide_type": "subslide"
    }
   },
   "source": [
    "<img src=\"images\\Frage 12_2.png\" >\n",
    "\n"
   ]
  },
  {
   "cell_type": "markdown",
   "id": "24cef840",
   "metadata": {
    "slideshow": {
     "slide_type": "subslide"
    }
   },
   "source": [
    " <h3> Verteilung der variablen Zeit deutet auf Normalverteilung hin </h3>\n",
    "\n",
    "<img src=\"images\\Frage 12_3.png\" >"
   ]
  },
  {
   "cell_type": "markdown",
   "id": "78b973c6",
   "metadata": {
    "slideshow": {
     "slide_type": "slide"
    }
   },
   "source": [
    "# Einflussvariablen "
   ]
  },
  {
   "cell_type": "markdown",
   "id": "1af680a2",
   "metadata": {
    "slideshow": {
     "slide_type": "subslide"
    }
   },
   "source": [
    "<font size = \"8\">F14: Welche sozio.oek. Merkmale der Kunden beeinflussen den Kaufpreis?</font>"
   ]
  },
  {
   "cell_type": "markdown",
   "id": "f937068c",
   "metadata": {
    "slideshow": {
     "slide_type": "fragment"
    }
   },
   "source": [
    "<img src=\"images\\Frage 14.png\" >"
   ]
  },
  {
   "cell_type": "markdown",
   "id": "9ddcf894",
   "metadata": {
    "slideshow": {
     "slide_type": "subslide"
    }
   },
   "source": [
    "<font size = \"8\">F16: Welche Variable beeinflusst den Kaufpreis am meisten (Std.Beta-Wert)?</font>"
   ]
  },
  {
   "cell_type": "markdown",
   "id": "eb9592a5",
   "metadata": {
    "slideshow": {
     "slide_type": "fragment"
    }
   },
   "source": [
    "<ul>\n",
    "  <li>Unabhaengig/Ursache: Alter, Einkommen, Geschlecht</li>\n",
    "  <li>Abhaengige/Wirkung: Preis</li>\n",
    "  <li>Standardisierter Beta Koeffizient = Regressionskoeffizient * (std_unabhaengig / std_abhaengig)</li>\n",
    "  <li>Vergleicht die Staerke der Wirkung jeder einzelnen unabhaengigen Variable auf die abhaengige Variable.</li>\n",
    "</ul>\n",
    "\n",
    "<img src=\"images\\Frage 16.png\" >"
   ]
  },
  {
   "cell_type": "markdown",
   "id": "c92e99e9",
   "metadata": {
    "slideshow": {
     "slide_type": "subslide"
    }
   },
   "source": [
    "<h2> Das Einkommen beeinflusst den Kaufpreis am meisten</h2>\n",
    "\n",
    "<img src=\"images\\Frage 16_1.png\" >\n",
    "\n",
    "<h3> 1. Einkommen\n",
    "     2. Alter\n",
    "     3. Geschlecht </h3>"
   ]
  },
  {
   "cell_type": "markdown",
   "id": "7ec69c66",
   "metadata": {
    "slideshow": {
     "slide_type": "slide"
    }
   },
   "source": [
    "# Prognosen"
   ]
  },
  {
   "cell_type": "markdown",
   "id": "05850d1d",
   "metadata": {
    "slideshow": {
     "slide_type": "subslide"
    }
   },
   "source": [
    "<font size = \"8\">F15: Kaufpreisprognose K1[M, 32, 30000]  \n",
    "    K2[M, 51, 54000]</font>"
   ]
  },
  {
   "cell_type": "markdown",
   "id": "75ccd8e0",
   "metadata": {
    "slideshow": {
     "slide_type": "fragment"
    }
   },
   "source": [
    "<img src=\"images\\Frage 15.png\" >"
   ]
  },
  {
   "attachments": {},
   "cell_type": "markdown",
   "id": "868a5122",
   "metadata": {
    "slideshow": {
     "slide_type": "subslide"
    }
   },
   "source": [
    "<h3> Kunde 1 = 50.244,71 Euro </h3>\n",
    "<h3> Kunde 2 = 84.845,68 Euro </h3>\n",
    "<img src=\"images\\Frage 15_1.png\" >\n",
    "\n"
   ]
  },
  {
   "cell_type": "markdown",
   "id": "46160496",
   "metadata": {
    "slideshow": {
     "slide_type": "subslide"
    }
   },
   "source": [
    "<font size = \"8\">F17: Regression schaetzen, die die W.keit des Kaufs ermittelt</font>"
   ]
  },
  {
   "cell_type": "markdown",
   "id": "33cdfa85",
   "metadata": {
    "slideshow": {
     "slide_type": "subslide"
    }
   },
   "source": [
    "<font size = \"8\">F18: Wie hoch W.keit, dass P1[M, 32, 30000, 30min] \n",
    "    P2[M, 51, 54000, 45min] ein Auto kauft?  </font>"
   ]
  },
  {
   "cell_type": "markdown",
   "id": "05e3cc63",
   "metadata": {
    "slideshow": {
     "slide_type": "fragment"
    }
   },
   "source": [
    "<img src=\"images\\Frage 18.png\" >"
   ]
  },
  {
   "cell_type": "markdown",
   "id": "91702fea",
   "metadata": {
    "slideshow": {
     "slide_type": "subslide"
    }
   },
   "source": [
    "\n",
    "  <h2>Die Wahrscheinlichkeiten, dass Person 1 oder 2 ein Auto kauft ist gering</h2>\n",
    "  \n",
    "  <h3> Person 1: 0,69 % </h3>\n",
    "  <h3> Person 2: 27,76 % </h3>\n",
    "\n",
    "<img src=\"images\\Frage 18_1.png\" >\n"
   ]
  },
  {
   "cell_type": "markdown",
   "id": "0dc21b96",
   "metadata": {
    "slideshow": {
     "slide_type": "slide"
    }
   },
   "source": [
    "<font size = \"8\">F19: Probleme beim Mergen beider CSV und TXT Datei</font>\n",
    "\n",
    "<ul>\n",
    "  <li>Problem 1: Es fehlen Daten</li>\n",
    "  <li>Problem 2: Behandlung fehlender Daten und Ausreissern</li>\n",
    "  <li>Problem 3: Die Datentypen sind unterschiedlich</li>\n",
    "  <li>Problem 4: Bundeslaender nicht einheitlich --> falsche Schreibweise, Stadt, Bezirk</li>\n",
    "</ul>"
   ]
  },
  {
   "cell_type": "markdown",
   "id": "1e8f8d5e",
   "metadata": {
    "slideshow": {
     "slide_type": "subslide"
    }
   },
   "source": [
    "<h3>P1: Die Spalte Geschlecht hat leere Zellen</h3>\n"
   ]
  },
  {
   "cell_type": "markdown",
   "id": "35236fa7",
   "metadata": {
    "slideshow": {
     "slide_type": "fragment"
    }
   },
   "source": [
    "<img src=\"images\\Frage 19_1.png\" >\n",
    "<h3> 5 fehlende Werte. Es ist nicht klar, ob unser Kunde Mann oder Frau war </h3>"
   ]
  },
  {
   "cell_type": "markdown",
   "id": "57e499f1",
   "metadata": {
    "slideshow": {
     "slide_type": "subslide"
    }
   },
   "source": [
    "<ul>\n",
    "  <li>Um das Problem zu beheben, haben wir die fehlenden Werte mit \"1\" aufgefuellt</li>\n",
    "  <li>Warum 1? --> Weil Grossteil unserer Kunden Maenner sind. Deshalb wurde die Annahme getroffen</li>\n",
    "  <li>Annahme: Kunden ohne angegebenes Geschlecht sind maennlich</li>\n",
    "</ul>"
   ]
  },
  {
   "cell_type": "markdown",
   "id": "9f51fa49",
   "metadata": {
    "slideshow": {
     "slide_type": "fragment"
    }
   },
   "source": [
    "<img src=\"images\\Geschlecht.png\" >"
   ]
  },
  {
   "cell_type": "markdown",
   "id": "45af3935",
   "metadata": {
    "slideshow": {
     "slide_type": "subslide"
    }
   },
   "source": [
    "<h1> Ansehen der Daten um Ausreisser zu erkennen <h1>\n",
    "    <h4> Kunden </h4>\n",
    "    <img src=\"images\\df_1.png\" >"
   ]
  },
  {
   "cell_type": "markdown",
   "id": "2f2c4bc1",
   "metadata": {
    "slideshow": {
     "slide_type": "subslide"
    }
   },
   "source": [
    "<h1> Ansehen der Daten um Ausreisser zu erkennen </h1>\n",
    "<h4> Besucher </h4>\n",
    "    <img src=\"images\\df_2.png\" >"
   ]
  },
  {
   "cell_type": "markdown",
   "id": "fe69317b",
   "metadata": {
    "slideshow": {
     "slide_type": "subslide"
    }
   },
   "source": [
    "<h3>P2: Behandlung von Ausreissern mit Modalwert und Median</h3>\n",
    "<ul>\n",
    "  <li>Hohes Einkommen macht Mittelwert anfaellig</li>\n",
    "  <li>Deshalb fuer Median entschieden. Ist robuster</li>\n",
    "  <li>Alter von 100 und 120 wurden mit dem Modalwert 55 ersetzt</li>\n",
    "</ul>"
   ]
  },
  {
   "cell_type": "markdown",
   "id": "37630a64",
   "metadata": {
    "slideshow": {
     "slide_type": "fragment"
    }
   },
   "source": [
    "<img src=\"images\\Modalwert_Alter.png\" >"
   ]
  },
  {
   "cell_type": "markdown",
   "id": "61b5b511",
   "metadata": {
    "slideshow": {
     "slide_type": "subslide"
    }
   },
   "source": [
    "<h3> Einkommen: Mittelwert schlechte Wahl Median deutlich bessere</h3>\n",
    "<ul>\n",
    "    <li>Mittelwert = 964.474,82 Euro</li>\n",
    "    <li>Median = 59.013 Euro</li>"
   ]
  },
  {
   "cell_type": "markdown",
   "id": "17f1c413",
   "metadata": {
    "slideshow": {
     "slide_type": "fragment"
    }
   },
   "source": [
    "<img src=\"images\\Median_EK.png\" >"
   ]
  },
  {
   "cell_type": "markdown",
   "id": "cc82191f",
   "metadata": {
    "slideshow": {
     "slide_type": "subslide"
    }
   },
   "source": [
    "<ul>\n",
    "  <li>Problem 3:Die Datentypen sind unterschiedlich</li>\n",
    "  <li>Antwort 3:Umformen von Zeit, Geschlecht, Einkommen in die richtigen Typen</li>\n",
    "  <li>Problem 4:Bundeslaender nicht einheitlich --> falsche Schreibweise, Stadt, Bezirk</li>\n",
    "  <li>Antwort 4:Rename, Ergebnis sind 10 Bundeslaender </li>\n",
    "</ul>"
   ]
  },
  {
   "cell_type": "markdown",
   "id": "82ff28e9",
   "metadata": {
    "slideshow": {
     "slide_type": "subslide"
    }
   },
   "source": [
    "<h6> Veranschaulichung und Behebung Problem 4: </h6>\n",
    "\n",
    "<img src=\"images\\Frage 19_4.png\" >"
   ]
  },
  {
   "cell_type": "markdown",
   "id": "b98a4f5e",
   "metadata": {
    "slideshow": {
     "slide_type": "slide"
    }
   },
   "source": [
    "<font size = \"8\">F20: Welche neuen Infos bei der naechsten Umfrage sammeln?</font>\n",
    "<h3> Vorschlag 1: Kaufverhalten und Praeferenzen </h3>\n",
    "<ul>\n",
    "  <li>Welche Faktoren beeinflussen ihre Entscheidung beim Kauf?</li>\n",
    "  <li>Wie wichtig sind bestimmte Produktmerkmale fuer sie?</li>\n",
    "  <li>Welche Kriterien sind bei der Auswahl eines Produkts am entscheidendsten?</li>\n",
    "</ul>\n",
    "<p> </p>\n",
    "<h3> Vorschlag 2: Werbung und Marketingkommunikation </h3>\n",
    "<ul>\n",
    "    <li>Welche Werbekanaele sprechen sie am meisten an?</li>\n",
    "    <li>Wie beeinflusst Werbung ihre Wahrnehmung und Kaufentscheidung?</li>\n",
    "    "
   ]
  },
  {
   "cell_type": "code",
   "execution_count": null,
   "id": "8b13564a",
   "metadata": {},
   "outputs": [],
   "source": []
  }
 ],
 "metadata": {
  "celltoolbar": "Slideshow",
  "kernelspec": {
   "display_name": "Python 3 (ipykernel)",
   "language": "python",
   "name": "python3"
  },
  "language_info": {
   "codemirror_mode": {
    "name": "ipython",
    "version": 3
   },
   "file_extension": ".py",
   "mimetype": "text/x-python",
   "name": "python",
   "nbconvert_exporter": "python",
   "pygments_lexer": "ipython3",
   "version": "3.11.5"
  }
 },
 "nbformat": 4,
 "nbformat_minor": 5
}
