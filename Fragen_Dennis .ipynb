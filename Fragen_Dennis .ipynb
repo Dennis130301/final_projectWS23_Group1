{
 "cells": [
  {
   "cell_type": "markdown",
   "id": "2decdeed",
   "metadata": {},
   "source": [
    "# Frage 19: Auf welche Probleme sind Sie bei der Zusammenführung des Datensatzes gestoßen? "
   ]
  },
  {
   "cell_type": "markdown",
   "id": "729015d6",
   "metadata": {},
   "source": [
    "Problem 1: Es fehlen Daten"
   ]
  },
  {
   "cell_type": "code",
   "execution_count": 19,
   "id": "438633ae",
   "metadata": {},
   "outputs": [],
   "source": [
    "#CSV Kunden\n",
    "\n",
    "#Alter         0\n",
    "#Einkommen     0\n",
    "#Preis         0\n",
    "#Geschlecht    5\n",
    "#Zeit          0\n",
    "#KundeNr       0"
   ]
  },
  {
   "cell_type": "markdown",
   "id": "364dc093",
   "metadata": {},
   "source": [
    "Problem 2: Behandlung fehlender Daten und Ausreißern"
   ]
  },
  {
   "cell_type": "markdown",
   "id": "a6c0e171",
   "metadata": {},
   "source": [
    "Spalte \"Geschlecht\" --> 5 fehlende Werte"
   ]
  },
  {
   "cell_type": "code",
   "execution_count": 20,
   "id": "f3e387b0",
   "metadata": {},
   "outputs": [],
   "source": [
    "# df_1[\"Geschlecht\"] = df_1[\"Geschlecht\"].fillna(1) # Für 1 (Männlich) entschieden, da die meisten Ausprägungen 1 waren"
   ]
  },
  {
   "cell_type": "markdown",
   "id": "b126323c",
   "metadata": {},
   "source": [
    "Spalte \"Einkommen\" --> Positive/Negative Ausreißer und Wert von 0"
   ]
  },
  {
   "cell_type": "code",
   "execution_count": 21,
   "id": "d6ba6a08",
   "metadata": {},
   "outputs": [],
   "source": [
    "#df_1[\"Einkommen\"].mean() --> 964474.8175955408 NICHT GEEIGNET; Mittelwert sehr empfindlich ggü. Ausreißern"
   ]
  },
  {
   "cell_type": "code",
   "execution_count": 22,
   "id": "3c785c53",
   "metadata": {},
   "outputs": [],
   "source": [
    "#df_1[\"Einkommen\"].median() --> 59013; Median ist robuster ggü. Ausreißern"
   ]
  },
  {
   "cell_type": "code",
   "execution_count": 23,
   "id": "116a971b",
   "metadata": {},
   "outputs": [],
   "source": [
    "#df_1[\"Einkommen\"] = df_1[\"Einkommen\"].apply(lambda x: median_einkommen if x <= 0 or x >= 1000000 else x)"
   ]
  },
  {
   "cell_type": "markdown",
   "id": "985571de",
   "metadata": {},
   "source": [
    "Spalte \"Alter\" --> Werte von 100 und 120"
   ]
  },
  {
   "cell_type": "code",
   "execution_count": 24,
   "id": "1a2a8412",
   "metadata": {},
   "outputs": [],
   "source": [
    "#df_1[\"Alter\"].value_counts()"
   ]
  },
  {
   "cell_type": "code",
   "execution_count": 25,
   "id": "e408147e",
   "metadata": {},
   "outputs": [],
   "source": [
    "#Alter\n",
    "#55     41\n",
    "#62     39\n",
    "#57     34\n",
    "#66     33\n",
    "#64     32\n",
    "#30     32\n",
    "#34     31\n",
    "#69     30\n",
    "#37     30\n",
    "#31     30\n",
    "#52     29\n",
    "#54     29\n",
    "#58     29\n",
    "#65     29\n",
    "#53     29\n",
    "#61     29\n",
    "#68     29\n",
    "#59     28\n",
    "#35     27\n",
    "#51     27\n",
    "#41     26\n",
    "#40     26\n",
    "#43     26\n",
    "#32     26\n",
    "#46     26\n",
    "#39     24\n",
    "#48     24\n",
    "#38     24\n",
    "#33     24\n",
    "#44     23\n",
    "#50     23\n",
    "#67     23\n",
    "#42     22\n",
    "#70     22\n",
    "#56     22\n",
    "#45     22\n",
    "#49     22\n",
    "#63     21\n",
    "#60     20\n",
    "#47     20\n",
    "#36     19\n",
    "#100     1\n",
    "#120     1"
   ]
  },
  {
   "cell_type": "markdown",
   "id": "ddb135aa",
   "metadata": {},
   "source": [
    "klare Tendenz, dass bestimmte Altersgruppen besonders häufig auftreten --> deutliche Dominanz einer Altersgruppe erkennbar "
   ]
  },
  {
   "cell_type": "markdown",
   "id": "71e656bf",
   "metadata": {},
   "source": [
    "Daher Entschedung für Modus und gegen Median"
   ]
  },
  {
   "cell_type": "code",
   "execution_count": 26,
   "id": "84190778",
   "metadata": {},
   "outputs": [],
   "source": [
    "#df_1[\"Alter\"].mode()[0]"
   ]
  },
  {
   "cell_type": "code",
   "execution_count": 27,
   "id": "ac40adc7",
   "metadata": {},
   "outputs": [],
   "source": [
    "#df_1[\"Alter\"] = df_1[\"Alter\"].apply(lambda x: modalwert_alter if x >= 100 else x)"
   ]
  },
  {
   "cell_type": "markdown",
   "id": "51d0b081",
   "metadata": {},
   "source": [
    "Problem 3: Die Datentypen sind unterschiedlich"
   ]
  },
  {
   "cell_type": "code",
   "execution_count": 28,
   "id": "075df67f",
   "metadata": {},
   "outputs": [],
   "source": [
    "#Datentyp CSV Kunden:\n",
    "\n",
    "#Alter           int64\n",
    "#Einkommen     float64\n",
    "#Preis         float64\n",
    "#Geschlecht    float64\n",
    "#Zeit          float64\n",
    "#KundeNr        object"
   ]
  },
  {
   "cell_type": "code",
   "execution_count": 29,
   "id": "4d4d136f",
   "metadata": {},
   "outputs": [],
   "source": [
    "#Datentyp CSV Besucher:\n",
    "\n",
    "#Alter          int64\n",
    "#Einkommen     object\n",
    "#Geschlecht     int64\n",
    "#Zeit          object\n",
    "#KundeNr       object"
   ]
  },
  {
   "cell_type": "markdown",
   "id": "e85ed9f9",
   "metadata": {},
   "source": [
    "Probleme: Datenverlust, Unerwartetes Verhalten"
   ]
  },
  {
   "cell_type": "markdown",
   "id": "bc452dba",
   "metadata": {},
   "source": [
    "Sicherstellen, dass die Datentypen in den gemeinsamen Spalten zwischen den beiden CSV-Dateien konsistent sind"
   ]
  },
  {
   "cell_type": "code",
   "execution_count": 30,
   "id": "dabc3c87",
   "metadata": {},
   "outputs": [],
   "source": [
    "#df_1[\"Geschlecht\"] = df_1[\"Geschlecht\"].astype(\"int64\")"
   ]
  },
  {
   "cell_type": "code",
   "execution_count": 31,
   "id": "04a9e5a5",
   "metadata": {},
   "outputs": [],
   "source": [
    "#Datentyp CSV Kunden:\n",
    "\n",
    "#Alter           int64\n",
    "#Einkommen     float64\n",
    "#Preis         float64\n",
    "#Geschlecht      int64\n",
    "#Zeit          float64\n",
    "#KundeNr        object"
   ]
  },
  {
   "cell_type": "code",
   "execution_count": 32,
   "id": "e86fcc25",
   "metadata": {},
   "outputs": [],
   "source": [
    "#df_2[\"Einkommen\"] = pd.to_numeric(df_2[\"Einkommen\"].str.replace(',', '.'), errors=\"coerce\")"
   ]
  },
  {
   "cell_type": "markdown",
   "id": "c0519f6a",
   "metadata": {},
   "source": [
    "\"coerce\": anstelle einer Fehlermeldung wird der Wert NaNfür diejenigen Elemente verwendet\n",
    "die nicht erfolgreich in numerische Werte umgewandelt werden können"
   ]
  },
  {
   "cell_type": "code",
   "execution_count": 34,
   "id": "80175182",
   "metadata": {},
   "outputs": [],
   "source": [
    "#df_2[\"Zeit\"] = pd.to_numeric(df_2[\"Zeit\"].str.replace(',', '.'), errors=\"coerce\")"
   ]
  },
  {
   "cell_type": "code",
   "execution_count": 35,
   "id": "eb8a5180",
   "metadata": {},
   "outputs": [],
   "source": [
    "#Datentyp CSV Besucher:\n",
    "\n",
    "#Alter           int64\n",
    "#Einkommen     float64\n",
    "#Geschlecht      int64\n",
    "#Zeit          float64\n",
    "#KundeNr        object"
   ]
  },
  {
   "cell_type": "markdown",
   "id": "5ce89035",
   "metadata": {},
   "source": [
    "Problem 4: Bundesländer nicht einheitlich --> falsche Schreibweise, Stadt, Bezirk"
   ]
  },
  {
   "cell_type": "code",
   "execution_count": 36,
   "id": "d1ae810f",
   "metadata": {},
   "outputs": [],
   "source": [
    "#merged_df[\"Niederlassung\"].unique()"
   ]
  },
  {
   "cell_type": "code",
   "execution_count": 37,
   "id": "b8ca1c53",
   "metadata": {},
   "outputs": [],
   "source": [
    "#array(['Bayern', 'Berlin', 'Baden-Württemberg', 'Hessen', 'Thüringen',\n",
    "#       'Sachsen', 'Nordrhein-Westfalen', 'BERLIN', 'Niedersachsen',\n",
    "#       'Hamburg', 'Brandenburg', 'Berlin-Mitte', 'Düsseldorf', 'NRW',\n",
    "#       'Berlin-Charlottenburg'], dtype=object)"
   ]
  },
  {
   "cell_type": "markdown",
   "id": "02e02fd0",
   "metadata": {},
   "source": [
    "Zu beheben sind: BERLIN,NRW, Düsseldorf, Berlin-Mitte, Berlin-Charlottenburg"
   ]
  },
  {
   "cell_type": "code",
   "execution_count": 38,
   "id": "9b2afdf7",
   "metadata": {},
   "outputs": [],
   "source": [
    "#merged_df[\"Niederlassung\"] = merged_df[\"Niederlassung\"].replace(\"BERLIN\", \"Berlin\")\n",
    "#merged_df[\"Niederlassung\"] = merged_df[\"Niederlassung\"].replace(\"Berlin-Mitte\", \"Berlin\")\n",
    "#merged_df[\"Niederlassung\"] = merged_df[\"Niederlassung\"].replace(\"Berlin-Charlottenburg\", \"Berlin\")\n",
    "#merged_df[\"Niederlassung\"] = merged_df[\"Niederlassung\"].replace(\"Düsseldorf\", \"Nordrhein-Westfalen\")\n",
    "#merged_df[\"Niederlassung\"] = merged_df[\"Niederlassung\"].replace(\"NRW\", \"Nordrhein-Westfalen\")"
   ]
  },
  {
   "cell_type": "code",
   "execution_count": 1,
   "id": "d2b098f5",
   "metadata": {},
   "outputs": [],
   "source": [
    "#merged_df[\"Niederlassung\"].unique()"
   ]
  },
  {
   "cell_type": "code",
   "execution_count": null,
   "id": "08a60161",
   "metadata": {},
   "outputs": [],
   "source": [
    "#array(['Bayern', 'Berlin', 'Baden-Württemberg', 'Hessen', 'Thüringen',\n",
    "#       'Sachsen', 'Nordrhein-Westfalen', 'Niedersachsen', 'Hamburg',\n",
    "#      'Brandenburg'], dtype=object)"
   ]
  }
 ],
 "metadata": {
  "kernelspec": {
   "display_name": "Python 3 (ipykernel)",
   "language": "python",
   "name": "python3"
  },
  "language_info": {
   "codemirror_mode": {
    "name": "ipython",
    "version": 3
   },
   "file_extension": ".py",
   "mimetype": "text/x-python",
   "name": "python",
   "nbconvert_exporter": "python",
   "pygments_lexer": "ipython3",
   "version": "3.11.5"
  }
 },
 "nbformat": 4,
 "nbformat_minor": 5
}
